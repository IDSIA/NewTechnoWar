{
 "cells": [
  {
   "cell_type": "markdown",
   "metadata": {},
   "source": [
    "# Analisi univariata e bivariata\n"
   ]
  },
  {
   "cell_type": "code",
   "execution_count": 1,
   "metadata": {},
   "outputs": [],
   "source": [
    "from sklearn.model_selection import train_test_split\n",
    "from sklearn.ensemble import RandomForestClassifier\n",
    "import pandas as pd\n",
    "from sklearn.metrics import classification_report, confusion_matrix\n",
    "from sklearn import metrics\n",
    "import seaborn as sns\n",
    "import numpy as np\n",
    "from sklearn import preprocessing\n",
    "import matplotlib.pyplot as plt\n",
    "from boruta import BorutaPy\n",
    "from sklearn.ensemble import RandomForestRegressor\n",
    "from sklearn.svm import SVC\n",
    "from sklearn.svm import LinearSVC\n",
    "from sklearn.naive_bayes import GaussianNB\n",
    "from sklearn.preprocessing import OneHotEncoder\n",
    "\n"
   ]
  },
  {
   "cell_type": "code",
   "execution_count": 2,
   "metadata": {},
   "outputs": [],
   "source": [
    "df=pd.read_csv('../docs/csv/csvscenarioJunctionExo.csv',index_col=0)"
   ]
  },
  {
   "cell_type": "code",
   "execution_count": 12,
   "metadata": {},
   "outputs": [
    {
     "data": {
      "text/plain": [
       "0       0\n",
       "1       3\n",
       "2       3\n",
       "3       3\n",
       "4       3\n",
       "       ..\n",
       "8120   -1\n",
       "8121   -1\n",
       "8122   -1\n",
       "8123   -1\n",
       "8124   -1\n",
       "Name: stat-value_red_rTank3, Length: 8125, dtype: int64"
      ]
     },
     "execution_count": 12,
     "metadata": {},
     "output_type": "execute_result"
    }
   ],
   "source": [
    "df['stat-value_red_rTank3']"
   ]
  },
  {
   "cell_type": "code",
   "execution_count": 8,
   "metadata": {},
   "outputs": [
    {
     "data": {
      "text/plain": [
       "Index(['team_red_rTank3', 'name_red_rTank3', 'index_red_rTank3',\n",
       "       'kind_red_rTank3', 'move_red_rTank3', 'load_red_rTank3',\n",
       "       'hp_red_rTank3', 'hp_max_red_rTank3', 'int_atk_red_rTank3',\n",
       "       'int-def_red_rTank3',\n",
       "       ...\n",
       "       'defense_antitank_blue_bExo2', 'weapon_CA_blue_bExo2',\n",
       "       'weapon_AR_blue_bExo2', 'weapon_MG_blue_bExo2', 'weapon_AT_blue_bExo2',\n",
       "       'weapon_MT_blue_bExo2', 'weapon_GR_blue_bExo2', 'weapon_SM_blue_bExo2',\n",
       "       'weapon_SR_blue_bExo2', 'win'],\n",
       "      dtype='object', length=241)"
      ]
     },
     "execution_count": 8,
     "metadata": {},
     "output_type": "execute_result"
    }
   ],
   "source": [
    "df.columns"
   ]
  },
  {
   "cell_type": "code",
   "execution_count": null,
   "metadata": {},
   "outputs": [],
   "source": [
    "c=df.select_dtypes(include='object').columns.tolist()\n"
   ]
  },
  {
   "cell_type": "code",
   "execution_count": null,
   "metadata": {},
   "outputs": [],
   "source": [
    "le_df=df\n",
    "le = preprocessing.LabelEncoder()\n",
    "le_df[c] = df[c].apply(lambda col: le.fit_transform(col))"
   ]
  },
  {
   "cell_type": "code",
   "execution_count": null,
   "metadata": {},
   "outputs": [],
   "source": [
    "x=le_df.columns\n",
    "y=le_df['win']"
   ]
  },
  {
   "cell_type": "code",
   "execution_count": null,
   "metadata": {},
   "outputs": [],
   "source": [
    "for i in x:\n",
    "    sns.FacetGrid(le_df,hue='win',size=5).map(sns.distplot,i).add_legend()"
   ]
  },
  {
   "cell_type": "code",
   "execution_count": null,
   "metadata": {},
   "outputs": [],
   "source": [
    "for i in range(len(x)):\n",
    "    plt.figure()\n",
    "    plt.plot(df[x[i]],y)\n",
    "    # Show/save figure as desired.\n",
    "    plt.show()"
   ]
  },
  {
   "cell_type": "code",
   "execution_count": null,
   "metadata": {},
   "outputs": [],
   "source": [
    "x=le_df.columns\n",
    "y=le_df['win']\n",
    "for i in range(len(x)):\n",
    "    plt.scatter(df.index,df[x[i]])\n",
    "    plt.show()"
   ]
  },
  {
   "cell_type": "code",
   "execution_count": null,
   "metadata": {},
   "outputs": [],
   "source": [
    "x=le_df.columns\n",
    "y=le_df['win']\n",
    "for i in range(len(x)):\n",
    "    plt.hist(le_df[x[i]])\n",
    "    plt.show()"
   ]
  },
  {
   "cell_type": "code",
   "execution_count": null,
   "metadata": {},
   "outputs": [],
   "source": [
    "df['stat-name_red_Tank1'].value_counts().plot.bar()\n"
   ]
  },
  {
   "cell_type": "code",
   "execution_count": null,
   "metadata": {},
   "outputs": [],
   "source": [
    "df['hp_red_Tank1'].value_counts().sort_index().plot.line()"
   ]
  },
  {
   "cell_type": "code",
   "execution_count": null,
   "metadata": {},
   "outputs": [],
   "source": [
    "\n",
    "df['hp_red_Tank1'].plot.hist()"
   ]
  },
  {
   "cell_type": "code",
   "execution_count": null,
   "metadata": {},
   "outputs": [],
   "source": [
    "le_df.plot.scatter(x='move_red_Tank1', y='win')"
   ]
  },
  {
   "cell_type": "code",
   "execution_count": null,
   "metadata": {},
   "outputs": [],
   "source": [
    "for i in range(len(x)):\n",
    "    sns.boxplot(x=x[i],y='win',data=le_df)\n",
    "    plt.show()"
   ]
  },
  {
   "cell_type": "markdown",
   "metadata": {},
   "source": [
    "# Analisi game\n"
   ]
  },
  {
   "cell_type": "code",
   "execution_count": 1,
   "metadata": {},
   "outputs": [],
   "source": [
    "from agents.matchmanager import MatchManager\n",
    "\n",
    "from itertools import product\n",
    "\n",
    "from agents import GreedyAgent, AlphaBetaAgent, RandomAgent\n",
    "from scenarios import scenarioJunction, scenarioJunctionExo, scenarioTest1v1, scenarioTest2v2\n",
    "from core.const import RED, BLUE\n",
    "from agents.ml.simple import SimpleMLAgent\n",
    "import json\n",
    "import pandas as pd\n",
    "import matplotlib\n",
    "from matplotlib import pyplot as plt\n",
    "import seaborn as sns\n"
   ]
  },
  {
   "cell_type": "code",
   "execution_count": null,
   "metadata": {},
   "outputs": [],
   "source": [
    "#metti un titolo+introduzione sopra ogni \"grafico\" per capire cosa stai facendo vedere"
   ]
  },
  {
   "cell_type": "code",
   "execution_count": 2,
   "metadata": {},
   "outputs": [],
   "source": [
    "agents = ['RandomAgent','SimpleML','GreedyAgent']\n",
    "scenarios = ['Test1v1', 'Test2v2', 'Junction']"
   ]
  },
  {
   "cell_type": "code",
   "execution_count": 3,
   "metadata": {},
   "outputs": [],
   "source": [
    "all_json=[]\n",
    "for i in range(0, 100):\n",
    "    for s in scenarios:\n",
    "        for agentRed, agentBlue in product(agents, agents):\n",
    "            file_name=f'output/{agentRed}_{agentBlue}_{s}_{i}.json'\n",
    "            data=json.load(open(file_name))\n",
    "            all_json.append(data)            "
   ]
  },
  {
   "cell_type": "code",
   "execution_count": null,
   "metadata": {},
   "outputs": [],
   "source": [
    "#importa tar gz e faccio loop su quello"
   ]
  },
  {
   "cell_type": "code",
   "execution_count": 4,
   "metadata": {},
   "outputs": [],
   "source": [
    "iniziale=pd.DataFrame(all_json)"
   ]
  },
  {
   "cell_type": "code",
   "execution_count": 5,
   "metadata": {},
   "outputs": [],
   "source": [
    "df=pd.DataFrame(all_json)"
   ]
  },
  {
   "cell_type": "code",
   "execution_count": 14,
   "metadata": {},
   "outputs": [
    {
     "data": {
      "text/html": [
       "<div>\n",
       "<style scoped>\n",
       "    .dataframe tbody tr th:only-of-type {\n",
       "        vertical-align: middle;\n",
       "    }\n",
       "\n",
       "    .dataframe tbody tr th {\n",
       "        vertical-align: top;\n",
       "    }\n",
       "\n",
       "    .dataframe thead th {\n",
       "        text-align: right;\n",
       "    }\n",
       "</style>\n",
       "<table border=\"1\" class=\"dataframe\">\n",
       "  <thead>\n",
       "    <tr style=\"text-align: right;\">\n",
       "      <th></th>\n",
       "      <th>scenario</th>\n",
       "      <th>seed</th>\n",
       "      <th>teamRed</th>\n",
       "      <th>teamBlue</th>\n",
       "      <th>winner</th>\n",
       "    </tr>\n",
       "  </thead>\n",
       "  <tbody>\n",
       "    <tr>\n",
       "      <th>0</th>\n",
       "      <td>Test1v1</td>\n",
       "      <td>42</td>\n",
       "      <td>RandomAgent</td>\n",
       "      <td>RandomAgent</td>\n",
       "      <td>RandomAgent</td>\n",
       "    </tr>\n",
       "    <tr>\n",
       "      <th>1</th>\n",
       "      <td>Test1v1</td>\n",
       "      <td>42</td>\n",
       "      <td>RandomAgent</td>\n",
       "      <td>SimpleML</td>\n",
       "      <td>SimpleML</td>\n",
       "    </tr>\n",
       "    <tr>\n",
       "      <th>2</th>\n",
       "      <td>Test1v1</td>\n",
       "      <td>42</td>\n",
       "      <td>RandomAgent</td>\n",
       "      <td>GreedyAgent</td>\n",
       "      <td>GreedyAgent</td>\n",
       "    </tr>\n",
       "    <tr>\n",
       "      <th>3</th>\n",
       "      <td>Test1v1</td>\n",
       "      <td>42</td>\n",
       "      <td>SimpleML</td>\n",
       "      <td>RandomAgent</td>\n",
       "      <td>RandomAgent</td>\n",
       "    </tr>\n",
       "    <tr>\n",
       "      <th>4</th>\n",
       "      <td>Test1v1</td>\n",
       "      <td>42</td>\n",
       "      <td>SimpleML</td>\n",
       "      <td>SimpleML</td>\n",
       "      <td>SimpleML</td>\n",
       "    </tr>\n",
       "    <tr>\n",
       "      <th>...</th>\n",
       "      <td>...</td>\n",
       "      <td>...</td>\n",
       "      <td>...</td>\n",
       "      <td>...</td>\n",
       "      <td>...</td>\n",
       "    </tr>\n",
       "    <tr>\n",
       "      <th>2695</th>\n",
       "      <td>Junction</td>\n",
       "      <td>141</td>\n",
       "      <td>SimpleML</td>\n",
       "      <td>SimpleML</td>\n",
       "      <td>SimpleML</td>\n",
       "    </tr>\n",
       "    <tr>\n",
       "      <th>2696</th>\n",
       "      <td>Junction</td>\n",
       "      <td>141</td>\n",
       "      <td>SimpleML</td>\n",
       "      <td>GreedyAgent</td>\n",
       "      <td>GreedyAgent</td>\n",
       "    </tr>\n",
       "    <tr>\n",
       "      <th>2697</th>\n",
       "      <td>Junction</td>\n",
       "      <td>141</td>\n",
       "      <td>GreedyAgent</td>\n",
       "      <td>RandomAgent</td>\n",
       "      <td>GreedyAgent</td>\n",
       "    </tr>\n",
       "    <tr>\n",
       "      <th>2698</th>\n",
       "      <td>Junction</td>\n",
       "      <td>141</td>\n",
       "      <td>GreedyAgent</td>\n",
       "      <td>SimpleML</td>\n",
       "      <td>GreedyAgent</td>\n",
       "    </tr>\n",
       "    <tr>\n",
       "      <th>2699</th>\n",
       "      <td>Junction</td>\n",
       "      <td>141</td>\n",
       "      <td>GreedyAgent</td>\n",
       "      <td>GreedyAgent</td>\n",
       "      <td>GreedyAgent</td>\n",
       "    </tr>\n",
       "  </tbody>\n",
       "</table>\n",
       "<p>2700 rows × 5 columns</p>\n",
       "</div>"
      ],
      "text/plain": [
       "      scenario  seed      teamRed     teamBlue       winner\n",
       "0      Test1v1    42  RandomAgent  RandomAgent  RandomAgent\n",
       "1      Test1v1    42  RandomAgent     SimpleML     SimpleML\n",
       "2      Test1v1    42  RandomAgent  GreedyAgent  GreedyAgent\n",
       "3      Test1v1    42     SimpleML  RandomAgent  RandomAgent\n",
       "4      Test1v1    42     SimpleML     SimpleML     SimpleML\n",
       "...        ...   ...          ...          ...          ...\n",
       "2695  Junction   141     SimpleML     SimpleML     SimpleML\n",
       "2696  Junction   141     SimpleML  GreedyAgent  GreedyAgent\n",
       "2697  Junction   141  GreedyAgent  RandomAgent  GreedyAgent\n",
       "2698  Junction   141  GreedyAgent     SimpleML  GreedyAgent\n",
       "2699  Junction   141  GreedyAgent  GreedyAgent  GreedyAgent\n",
       "\n",
       "[2700 rows x 5 columns]"
      ]
     },
     "execution_count": 14,
     "metadata": {},
     "output_type": "execute_result"
    }
   ],
   "source": [
    "df"
   ]
  },
  {
   "cell_type": "code",
   "execution_count": 6,
   "metadata": {},
   "outputs": [],
   "source": [
    "df.loc[(((df.teamRed == \"SimpleML\") & (df.winner==\"red\")) | ((df.teamBlue == \"SimpleML\") & (df.winner==\"blue\"))), \"winner\"] = \"SimpleML\"\n",
    "df.loc[(((df.teamRed == \"RandomAgent\") & (df.winner==\"red\")) | ((df.teamBlue == \"RandomAgent\") & (df.winner==\"blue\"))), \"winner\"] = \"RandomAgent\"\n",
    "df.loc[(((df.teamRed == \"GreedyAgent\") & (df.winner==\"red\")) | ((df.teamBlue == \"GreedyAgent\") & (df.winner==\"blue\"))), \"winner\"] = \"GreedyAgent\"\n"
   ]
  },
  {
   "cell_type": "code",
   "execution_count": null,
   "metadata": {},
   "outputs": [],
   "source": [
    "#aggiungo colonna"
   ]
  },
  {
   "cell_type": "code",
   "execution_count": null,
   "metadata": {
    "scrolled": false,
    "slideshow": {
     "slide_type": "-"
    }
   },
   "outputs": [],
   "source": [
    "departments=df['scenario'].unique()\n",
    "fig, ax = plt.subplots(len(departments), figsize=(8,15))\n",
    "for i,name in enumerate(departments):\n",
    "    sns.barplot(y=df[(df.scenario == name)]['winner'].value_counts(),x=df['winner'].unique() ,ax=ax[i])\n",
    "    ax[i].set_title('scenario - {}'.format(name), fontsize=10)\n",
    "plt.plot()  \n",
    "\n",
    "#pensa a sistemarli con percntuali ecc"
   ]
  },
  {
   "cell_type": "code",
   "execution_count": null,
   "metadata": {},
   "outputs": [],
   "source": [
    "#fagli vedere l'evoluzione-> sistemo tutto in delle funzioni così cambio solo il dataframe passato"
   ]
  },
  {
   "cell_type": "code",
   "execution_count": 7,
   "metadata": {
    "slideshow": {
     "slide_type": "slide"
    }
   },
   "outputs": [
    {
     "name": "stdout",
     "output_type": "stream",
     "text": [
      "Percentuale vincita SimpleML: 0.2896296296296296\n",
      "Percentuale vincita RandomAgent: 0.2803703703703704\n",
      "Percentuale vincita GreedyAgent: 0.43\n"
     ]
    },
    {
     "data": {
      "image/png": "[encoded data removed]",
      "text/plain": [
       "<Figure size 432x288 with 1 Axes>"
      ]
     },
     "metadata": {
      "needs_background": "light"
     },
     "output_type": "display_data"
    }
   ],
   "source": [
    "df['winner'].value_counts().plot.bar(title='Winner for agent')\n",
    "print('Percentuale vincita SimpleML:',len(df[df['winner']==\"SimpleML\"])/len(df))\n",
    "print('Percentuale vincita RandomAgent:',len(df[df['winner']==\"RandomAgent\"])/len(df))\n",
    "print('Percentuale vincita GreedyAgent:',len(df[df['winner']==\"GreedyAgent\"])/len(df))"
   ]
  },
  {
   "cell_type": "code",
   "execution_count": 15,
   "metadata": {
    "slideshow": {
     "slide_type": "slide"
    }
   },
   "outputs": [
    {
     "data": {
      "text/plain": [
       "<AxesSubplot:title={'center':'Winner for agent simpleML vs simpleML'}>"
      ]
     },
     "execution_count": 15,
     "metadata": {},
     "output_type": "execute_result"
    },
    {
     "data": {
      "image/png": "[encoded data removed]",
      "text/plain": [
       "<Figure size 432x288 with 1 Axes>"
      ]
     },
     "metadata": {
      "needs_background": "light"
     },
     "output_type": "display_data"
    }
   ],
   "source": [
    "mask=iniziale.loc[(((iniziale.teamRed == \"SimpleML\") & (iniziale.teamBlue == \"SimpleML\")))]\n",
    "mask['winner'].value_counts().plot.bar(title='Winner for agent simpleML vs simpleML')\n",
    "#metti solo Junction"
   ]
  },
  {
   "cell_type": "code",
   "execution_count": 8,
   "metadata": {
    "slideshow": {
     "slide_type": "slide"
    }
   },
   "outputs": [
    {
     "name": "stdout",
     "output_type": "stream",
     "text": [
      "Percentuale vincita SimpleML su RandomAgent: 0.5033333333333333\n",
      "Percentuale vincita SimpleML su Random su scenario: Test1v1 0.555\n",
      "Percentuale vincita SimpleML su Random su scenario: Test2v2 0.455\n",
      "Percentuale vincita SimpleML su Random su scenario: Junction 0.5\n"
     ]
    },
    {
     "data": {
      "text/plain": [
       "[]"
      ]
     },
     "execution_count": 8,
     "metadata": {},
     "output_type": "execute_result"
    },
    {
     "data": {
      "image/png": "[encoded data removed]",
      "text/plain": [
       "<Figure size 432x288 with 1 Axes>"
      ]
     },
     "metadata": {
      "needs_background": "light"
     },
     "output_type": "display_data"
    },
    {
     "data": {
      "image/png": "[encoded data removed]",
      "text/plain": [
       "<Figure size 576x1080 with 3 Axes>"
      ]
     },
     "metadata": {
      "needs_background": "light"
     },
     "output_type": "display_data"
    }
   ],
   "source": [
    "mask=df.loc[((df.teamRed == \"SimpleML\") & (df.teamBlue == \"RandomAgent\"))|((df.teamRed == \"RandomAgent\") & (df.teamBlue == \"SimpleML\"))]\n",
    "mask['winner'].value_counts().plot.bar(title='SimpleML vs RandomAgent')\n",
    "print('Percentuale vincita SimpleML su RandomAgent:',len(mask[mask['winner']==\"SimpleML\"])/len(mask))\n",
    "departments=mask['scenario'].unique()\n",
    "\n",
    "fig, ax = plt.subplots(len(departments), figsize=(8,15))\n",
    "for i,name in enumerate(departments):\n",
    "    dd=mask[(mask.scenario == name)]\n",
    "    #devi fare groupby su colonna winner, poi fai il count e dividi sul totale\n",
    "    sns.barplot(y=dd['winner'].value_counts(),x=dd['winner'].unique() ,ax=ax[i])\n",
    "    ax[i].set_title('scenario - {}'.format(name), fontsize=10)\n",
    "    print('Percentuale vincita SimpleML su Random su scenario:',name,len(dd[dd['winner']==\"SimpleML\"])/len(dd))\n",
    "\n",
    "plt.plot() \n",
    "#plotta percentuali-> fai solo scenario junction (nel caso junctionexo)\n"
   ]
  },
  {
   "cell_type": "code",
   "execution_count": 9,
   "metadata": {
    "scrolled": false,
    "slideshow": {
     "slide_type": "slide"
    }
   },
   "outputs": [
    {
     "name": "stdout",
     "output_type": "stream",
     "text": [
      "Percentuale vincita SimpleML su GreedyAgent: 0.3\n",
      "Percentuale vincita SimpleML su Greedy su scenario: Test1v1 0.37\n",
      "Percentuale vincita SimpleML su Greedy su scenario: Test2v2 0.36\n",
      "Percentuale vincita SimpleML su Greedy su scenario: Junction 0.17\n"
     ]
    },
    {
     "data": {
      "text/plain": [
       "[]"
      ]
     },
     "execution_count": 9,
     "metadata": {},
     "output_type": "execute_result"
    },
    {
     "data": {
      "image/png": "[encoded data removed]",
      "text/plain": [
       "<Figure size 432x288 with 1 Axes>"
      ]
     },
     "metadata": {
      "needs_background": "light"
     },
     "output_type": "display_data"
    },
    {
     "data": {
      "image/png": "[encoded data removed]",
      "text/plain": [
       "<Figure size 576x1080 with 3 Axes>"
      ]
     },
     "metadata": {
      "needs_background": "light"
     },
     "output_type": "display_data"
    }
   ],
   "source": [
    "mask=df.loc[((df.teamRed == \"GreedyAgent\") & (df.teamBlue == \"SimpleML\")) | ((df.teamRed == \"SimpleML\") & (df.teamBlue == \"GreedyAgent\"))]\n",
    "mask['winner'].value_counts().plot.bar(title='SimpleML vs Greedy')\n",
    "print('Percentuale vincita SimpleML su GreedyAgent:',len(mask[mask['winner']==\"SimpleML\"])/len(mask))\n",
    "#departments=['Junction','Test2v2']\n",
    "departments=mask['scenario'].unique()\n",
    "fig, ax = plt.subplots(len(departments), figsize=(8,15))\n",
    "for i,name in enumerate(departments):\n",
    "    dd=mask[(mask.scenario == name)]\n",
    "    sns.barplot(y=dd['winner'].value_counts(),x=dd['winner'].unique() ,ax=ax[i])\n",
    "    ax[i].set_title('scenario - {}'.format(name), fontsize=10)\n",
    "    print('Percentuale vincita SimpleML su Greedy su scenario:',name,len(dd[dd['winner']==\"SimpleML\"])/len(dd))\n",
    "\n",
    "plt.plot() \n",
    "\n",
    "#sistema grafico facendo vedere la percentuale\n",
    "\n",
    "#plottare i grafici uno a fianco all'altro"
   ]
  },
  {
   "cell_type": "code",
   "execution_count": 16,
   "metadata": {},
   "outputs": [
    {
     "name": "stdout",
     "output_type": "stream",
     "text": [
      "Percentuale vincita SimpleML Red su RandomAgent Blue: 0.16666666666666666\n",
      "Percentuale vincita SimpleML Red su Random Blue su scenario: Test1v1 0.42\n",
      "Percentuale vincita SimpleML Red su Random Blue su scenario: Test2v2 0.03\n",
      "Percentuale vincita SimpleML Red su Random Blue su scenario: Junction 0.05\n"
     ]
    },
    {
     "data": {
      "text/plain": [
       "[]"
      ]
     },
     "execution_count": 16,
     "metadata": {},
     "output_type": "execute_result"
    },
    {
     "data": {
      "image/png": "[encoded data removed]",
      "text/plain": [
       "<Figure size 576x1080 with 3 Axes>"
      ]
     },
     "metadata": {
      "needs_background": "light"
     },
     "output_type": "display_data"
    }
   ],
   "source": [
    "mask=iniziale.loc[((iniziale.teamRed == \"SimpleML\") & (iniziale.teamBlue == \"RandomAgent\"))]\n",
    "print('Percentuale vincita SimpleML Red su RandomAgent Blue:',len(mask[mask['winner']==\"red\"])/len(mask))\n",
    "departments=mask['scenario'].unique()\n",
    "\n",
    "fig, ax = plt.subplots(len(departments), figsize=(8,15))\n",
    "for i,name in enumerate(departments):\n",
    "    dd=mask[(mask.scenario == name)]\n",
    "    sns.barplot(y=dd['winner'].value_counts(),x=dd['winner'].unique() ,ax=ax[i])\n",
    "    ax[i].set_title('scenario - {}'.format(name), fontsize=10)\n",
    "    print('Percentuale vincita SimpleML Red su Random Blue su scenario:',name,len(dd[dd['winner']==\"red\"])/len(dd))\n",
    "\n",
    "plt.plot() \n",
    "#metti perncetuale per ogni scenario\n",
    "\n"
   ]
  },
  {
   "cell_type": "code",
   "execution_count": 11,
   "metadata": {},
   "outputs": [
    {
     "name": "stdout",
     "output_type": "stream",
     "text": [
      "Percentuale vincita SimpleML Blue su RandomAgent Red: 0.84\n",
      "Percentuale vincita SimpleML Blue su Random Red su scenario: Test1v1 0.69\n",
      "Percentuale vincita SimpleML Blue su Random Red su scenario: Test2v2 0.88\n",
      "Percentuale vincita SimpleML Blue su Random Red su scenario: Junction 0.95\n"
     ]
    },
    {
     "data": {
      "text/plain": [
       "[]"
      ]
     },
     "execution_count": 11,
     "metadata": {},
     "output_type": "execute_result"
    },
    {
     "data": {
      "image/png": "[encoded data removed]",
      "text/plain": [
       "<Figure size 576x1080 with 3 Axes>"
      ]
     },
     "metadata": {
      "needs_background": "light"
     },
     "output_type": "display_data"
    }
   ],
   "source": [
    "mask=iniziale.loc[((iniziale.teamRed == \"RandomAgent\") & (iniziale.teamBlue == \"SimpleML\"))]\n",
    "print('Percentuale vincita SimpleML Blue su RandomAgent Red:',len(mask[mask['winner']==\"blue\"])/len(mask))\n",
    "departments=mask['scenario'].unique()\n",
    "\n",
    "fig, ax = plt.subplots(len(departments), figsize=(8,15))\n",
    "for i,name in enumerate(departments):\n",
    "    dd=mask[(mask.scenario == name)]\n",
    "    sns.barplot(y=dd['winner'].value_counts(),x=dd['winner'].unique() ,ax=ax[i])\n",
    "    ax[i].set_title('scenario - {}'.format(name), fontsize=10)\n",
    "    print('Percentuale vincita SimpleML Blue su Random Red su scenario:',name,len(dd[dd['winner']==\"blue\"])/len(dd))\n",
    "\n",
    "plt.plot() \n",
    "#metti perncetuale per ogni scenario"
   ]
  },
  {
   "cell_type": "code",
   "execution_count": 12,
   "metadata": {},
   "outputs": [
    {
     "name": "stdout",
     "output_type": "stream",
     "text": [
      "Percentuale vincita SimpleML Blue su GreedyAgent Red: 0.5866666666666667\n",
      "Percentuale vincita SimpleML Blue su Greedy Red su scenario: Test1v1 0.74\n",
      "Percentuale vincita SimpleML Blue su Greedy Red su scenario: Test2v2 0.72\n",
      "Percentuale vincita SimpleML Blue su Greedy Red su scenario: Junction 0.3\n"
     ]
    },
    {
     "data": {
      "text/plain": [
       "[]"
      ]
     },
     "execution_count": 12,
     "metadata": {},
     "output_type": "execute_result"
    },
    {
     "data": {
      "image/png": "[encoded data removed]",
      "text/plain": [
       "<Figure size 576x1080 with 3 Axes>"
      ]
     },
     "metadata": {
      "needs_background": "light"
     },
     "output_type": "display_data"
    }
   ],
   "source": [
    "mask=iniziale.loc[((iniziale.teamRed == \"GreedyAgent\") & (iniziale.teamBlue == \"SimpleML\"))]\n",
    "print('Percentuale vincita SimpleML Blue su GreedyAgent Red:',len(mask[mask['winner']==\"blue\"])/len(mask))\n",
    "departments=mask['scenario'].unique()\n",
    "\n",
    "fig, ax = plt.subplots(len(departments), figsize=(8,15))\n",
    "for i,name in enumerate(departments):\n",
    "    dd=mask[(mask.scenario == name)]\n",
    "    sns.barplot(y=dd['winner'].value_counts(),x=dd['winner'].unique() ,ax=ax[i])\n",
    "    ax[i].set_title('scenario - {}'.format(name), fontsize=10)\n",
    "    print('Percentuale vincita SimpleML Blue su Greedy Red su scenario:',name,len(dd[dd['winner']==\"blue\"])/len(dd))\n",
    "\n",
    "plt.plot() \n",
    "#metti perncetuale per ogni scenario"
   ]
  },
  {
   "cell_type": "code",
   "execution_count": 13,
   "metadata": {},
   "outputs": [
    {
     "name": "stdout",
     "output_type": "stream",
     "text": [
      "Percentuale vincita SimpleML Red su GreedyAgent Blue: 0.013333333333333334\n",
      "Percentuale vincita SimpleML Red su Greedy Blue su scenario: Test1v1 0.0\n",
      "Percentuale vincita SimpleML Red su Greedy Blue su scenario: Test2v2 0.0\n",
      "Percentuale vincita SimpleML Red su Greedy Blue su scenario: Junction 0.04\n"
     ]
    },
    {
     "data": {
      "text/plain": [
       "[]"
      ]
     },
     "execution_count": 13,
     "metadata": {},
     "output_type": "execute_result"
    },
    {
     "data": {
      "image/png": "[encoded data removed]",
      "text/plain": [
       "<Figure size 576x1080 with 3 Axes>"
      ]
     },
     "metadata": {
      "needs_background": "light"
     },
     "output_type": "display_data"
    }
   ],
   "source": [
    "mask=iniziale.loc[((iniziale.teamRed == \"SimpleML\") & (iniziale.teamBlue == \"GreedyAgent\"))]\n",
    "print('Percentuale vincita SimpleML Red su GreedyAgent Blue:',len(mask[mask['winner']==\"red\"])/len(mask))\n",
    "departments=mask['scenario'].unique()\n",
    "\n",
    "fig, ax = plt.subplots(len(departments), figsize=(8,15))\n",
    "for i,name in enumerate(departments):\n",
    "    dd=mask[(mask.scenario == name)]\n",
    "    sns.barplot(y=dd['winner'].value_counts(),x=dd['winner'].unique() ,ax=ax[i])\n",
    "    ax[i].set_title('scenario - {}'.format(name), fontsize=10)\n",
    "    print('Percentuale vincita SimpleML Red su Greedy Blue su scenario:',name,len(dd[dd['winner']==\"red\"])/len(dd))\n",
    "\n",
    "plt.plot() \n",
    "#metti perncetuale per ogni scenario"
   ]
  }
 ],
 "metadata": {
  "celltoolbar": "Slideshow",
  "kernelspec": {
   "display_name": "Python 3",
   "language": "python",
   "name": "python3"
  },
  "language_info": {
   "codemirror_mode": {
    "name": "ipython",
    "version": 3
   },
   "file_extension": ".py",
   "mimetype": "text/x-python",
   "name": "python",
   "nbconvert_exporter": "python",
   "pygments_lexer": "ipython3",
   "version": "3.7.3"
  }
 },
 "nbformat": 4,
 "nbformat_minor": 2
}
