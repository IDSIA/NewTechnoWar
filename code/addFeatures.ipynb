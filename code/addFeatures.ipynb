{
 "cells": [
  {
   "cell_type": "code",
   "execution_count": 1,
   "metadata": {},
   "outputs": [],
   "source": [
    "import os\n",
    "\n",
    "import numpy as np\n",
    "import pandas as pd\n",
    "import random\n",
    "\n",
    "from agents.matchmanager import buildMatchManager\n",
    "\n",
    "from datetime import datetime\n",
    "from multiprocessing import Pool\n",
    "from core.actions import Action,Attack,Response,Pass,Move\n",
    "from core.actions.basics import ActionFigure"
   ]
  },
  {
   "cell_type": "code",
   "execution_count": 15,
   "metadata": {},
   "outputs": [],
   "source": [
    "from sklearn.model_selection import train_test_split\n",
    "from sklearn.ensemble import RandomForestClassifier\n",
    "import pandas as pd\n",
    "from sklearn.metrics import classification_report, confusion_matrix\n",
    "from sklearn import metrics\n",
    "import seaborn as sns\n",
    "import numpy as np\n",
    "from sklearn import preprocessing\n",
    "import matplotlib.pyplot as plt\n",
    "from boruta import BorutaPy\n",
    "from sklearn.ensemble import RandomForestRegressor\n",
    "from sklearn.svm import SVC\n",
    "from sklearn.svm import LinearSVC\n",
    "from sklearn.naive_bayes import GaussianNB\n",
    "from sklearn_pandas import DataFrameMapper\n",
    "from sklearn.preprocessing import LabelEncoder\n",
    "from sklearn.pipeline import Pipeline\n",
    "from sklearn.impute import SimpleImputer\n",
    "from sklearn.preprocessing import StandardScaler, OneHotEncoder\n",
    "from sklearn.compose import ColumnTransformer\n",
    "from sklearn.metrics import accuracy_score, log_loss\n",
    "from sklearn.neighbors import KNeighborsClassifier\n",
    "from sklearn.svm import SVC, LinearSVC, NuSVC\n",
    "from sklearn.tree import DecisionTreeClassifier\n",
    "from sklearn.ensemble import RandomForestClassifier, AdaBoostClassifier, GradientBoostingClassifier\n",
    "from sklearn.discriminant_analysis import LinearDiscriminantAnalysis\n",
    "from sklearn.discriminant_analysis import QuadraticDiscriminantAnalysis\n",
    "import joblib\n"
   ]
  },
  {
   "cell_type": "code",
   "execution_count": 2,
   "metadata": {},
   "outputs": [],
   "source": [
    "prova=  pd.read_pickle('C:\\\\Users\\\\Nicol\\\\Documents\\\\Master\\\\SecondoProgetto\\\\data.2021-01-28.scenarioJunction.pkl.gz')\n"
   ]
  },
  {
   "cell_type": "code",
   "execution_count": null,
   "metadata": {},
   "outputs": [],
   "source": [
    "prova"
   ]
  },
  {
   "cell_type": "code",
   "execution_count": 3,
   "metadata": {},
   "outputs": [],
   "source": [
    "players=['RandomAgent','GreedyAgent']\n",
    "#scenarios=['scenarioTest1v1', 'scenarioTest2v2', 'scenarioTest3v1','scenarioJunction', 'scenarioJunctionExo', 'scenarioRoadblock', 'scenarioBridgeHead']\n",
    "scenarios=['scenarioJunction']"
   ]
  },
  {
   "cell_type": "code",
   "execution_count": null,
   "metadata": {},
   "outputs": [],
   "source": [
    "import inspect\n",
    "miserve=[]\n",
    "def attributiAzioni(action):\n",
    "    if action:\n",
    "        attributes = inspect.getmembers(action.__class__, lambda a:not(inspect.isroutine(a)))\n",
    "        miserve.append([a for a in attributes if not(a[0].startswith('__') and a[0].endswith('__'))])\n",
    "        return miserve"
   ]
  },
  {
   "cell_type": "code",
   "execution_count": null,
   "metadata": {},
   "outputs": [],
   "source": [
    "def props(cls):   \n",
    "    return [i for i in cls.__dict__.keys() if i[:1] != '_']\n",
    "\n"
   ]
  },
  {
   "cell_type": "code",
   "execution_count": null,
   "metadata": {},
   "outputs": [],
   "source": [
    "def creaAzione(a):\n",
    "    classAction=a.__class__\n",
    "    response=False\n",
    "    action_figureid,action_figurename,action_team,action_type,action_destination_x,action_destination_y,action_destination_z,action_path,action_guard_id,action_guard_name,action_lof,action_los,action_target_id,action_target_name,action_target_team,action_weapon_id,action_weapon_name=[-1]*17\n",
    "    if a:\n",
    "        action_type=classAction.__name__\n",
    "        action_team=a.team\n",
    "    if(issubclass(classAction,Move)):\n",
    "        action_figureid=a.figure_id \n",
    "        action_figurename=a.figure_name #ridondante fai colonne Bool\n",
    "        action_destination_x=a.destination.x # dividi x,y,z\n",
    "        action_destination_y=a.destination.y # dividi x,y,z\n",
    "        action_destination_z=a.destination.z # dividi x,y,z\n",
    "        action_path=len(a.path) #lunghezza spostamento\n",
    "    if(issubclass(classAction,Attack)):\n",
    "        action_figureid=a.figure_id \n",
    "        action_figurename=a.figure_name #ridondante fai colonne Bool\n",
    "        action_guard_id=a.guard_id #colonne bool\n",
    "        action_guard_name=a.guard_name\n",
    "        action_lof=len(a.lof)#direct line of fire on target (from the attacker)\n",
    "        action_los=len(a.los)#direct line of sight on target (from who can see it)\n",
    "        action_target_id=a.target_id #colonne bool\n",
    "        action_target_name=a.target_name\n",
    "        action_target_team=a.target_team\n",
    "        action_weapon_id=a.weapon_id\n",
    "        action_weapon_name=a.weapon_name\n",
    "    if(issubclass(classAction,Response)):\n",
    "        response=True\n",
    "    data=[action_figureid,action_figurename,action_team,action_type,action_destination_x,action_destination_y,action_destination_z,action_path,action_guard_id,action_guard_name,action_lof,action_los,action_target_id,action_target_name,action_target_team,action_weapon_id,action_weapon_name]\n",
    "    return data\n",
    "        \n"
   ]
  },
  {
   "cell_type": "code",
   "execution_count": null,
   "metadata": {},
   "outputs": [],
   "source": [
    "def actionInfo():\n",
    "    return ['action_figureid','action_figurename','action_team','action_type','action_destination_x','action_destination_y','action_destination_z','action_path','action_guard_id','action_guard_name','action_lof','action_los','action_target_id','action_target_name','action_target_team','action_weapon_id','action_weapon_name','response']"
   ]
  },
  {
   "cell_type": "code",
   "execution_count": 4,
   "metadata": {},
   "outputs": [],
   "source": [
    "for scenario in scenarios:\n",
    "    vectors=[]\n",
    "    winners=[]\n",
    "    seed=random.randint(0,10000)\n",
    "    for i in range(1):\n",
    "        for red in players:\n",
    "            for blue in players:\n",
    "\n",
    "                mm = buildMatchManager('', scenario, red, blue, seed=seed)\n",
    "\n",
    "                while not mm.end:\n",
    "                    mm.nextStep()\n",
    "                for state,action in zip(mm.states_history,mm.actions_history):\n",
    "                    vectors.append(list(state.vector())+[mm.winner, red, blue, seed])\n",
    "                    #vectors.append(list(state.vector())+[mm.winner, red, blue, seed])\n",
    "                    \n",
    "\n",
    "                    #devo fare un vector per le azione \n",
    "\n",
    "                #cols = list(mm.states_history[0].vectorInfo()) +actionInfo()+ ['winner', 'meta_p_red', 'meta_p_blue', 'meta_seed']\n",
    "                cols = list(mm.states_history[0].vectorInfo()) + ['winner', 'meta_p_red', 'meta_p_blue', 'meta_seed']\n",
    "\n",
    "\n",
    "                df = pd.DataFrame(data=vectors, columns=cols)\n",
    "                df.to_pickle('C:\\\\Users\\\\Nicol\\\\Documents\\\\Master\\\\SecondoProgetto\\\\dataframeProva\\\\data.csv')\n"
   ]
  },
  {
   "cell_type": "code",
   "execution_count": null,
   "metadata": {},
   "outputs": [],
   "source": [
    "issubclass(mm.actions_history[16].__class__,Move)"
   ]
  },
  {
   "cell_type": "code",
   "execution_count": null,
   "metadata": {},
   "outputs": [],
   "source": [
    "mm.actions_history[4].los"
   ]
  },
  {
   "cell_type": "code",
   "execution_count": null,
   "metadata": {},
   "outputs": [],
   "source": [
    "df"
   ]
  },
  {
   "cell_type": "code",
   "execution_count": null,
   "metadata": {},
   "outputs": [],
   "source": [
    "for i in df.columns:\n",
    "    print(i)"
   ]
  },
  {
   "cell_type": "code",
   "execution_count": null,
   "metadata": {},
   "outputs": [],
   "source": [
    "len(mm.states_history[0].figures.get(\"red\"))"
   ]
  },
  {
   "cell_type": "code",
   "execution_count": null,
   "metadata": {},
   "outputs": [],
   "source": [
    "len(mm.states_history[0].figuresDistance.get(\"red\").keys())"
   ]
  },
  {
   "cell_type": "code",
   "execution_count": null,
   "metadata": {},
   "outputs": [],
   "source": [
    "mm.states_history[0].figures.get(\"red\")"
   ]
  },
  {
   "cell_type": "code",
   "execution_count": null,
   "metadata": {},
   "outputs": [],
   "source": [
    "mm.states_history[0].figuresDistance.get(\"red\")"
   ]
  },
  {
   "cell_type": "code",
   "execution_count": null,
   "metadata": {},
   "outputs": [],
   "source": [
    "for i in range(len(mm.states_history[0].figures.get(\"red\"))):\n",
    "    for m in range(len(mm.states_history[0].figuresLOS.get(\"red\").keys())):\n",
    "        print(len(mm.states_history[0].figuresLOS.get(\"red\")[m][i]) - 1)"
   ]
  },
  {
   "cell_type": "code",
   "execution_count": null,
   "metadata": {},
   "outputs": [],
   "source": [
    "mm.states_history[0].figuresLOS.get(\"red\")"
   ]
  },
  {
   "cell_type": "code",
   "execution_count": null,
   "metadata": {},
   "outputs": [],
   "source": [
    "distances"
   ]
  },
  {
   "cell_type": "code",
   "execution_count": null,
   "metadata": {},
   "outputs": [],
   "source": [
    "for i in mm.states_history[0].figures.get(\"red\"):\n",
    "    print(i)\n"
   ]
  },
  {
   "cell_type": "code",
   "execution_count": null,
   "metadata": {},
   "outputs": [],
   "source": [
    "mm.states_history[0].figuresDistance.get(\"red\").keys()"
   ]
  },
  {
   "cell_type": "code",
   "execution_count": null,
   "metadata": {},
   "outputs": [],
   "source": [
    "distances"
   ]
  },
  {
   "cell_type": "code",
   "execution_count": null,
   "metadata": {},
   "outputs": [],
   "source": [
    "mm.states_history[0].figuresDistance.get(\"red\")[0][2]"
   ]
  },
  {
   "cell_type": "code",
   "execution_count": null,
   "metadata": {},
   "outputs": [],
   "source": [
    "df"
   ]
  },
  {
   "cell_type": "code",
   "execution_count": null,
   "metadata": {},
   "outputs": [],
   "source": [
    "for scenario in scenarios:\n",
    "    vectors=[]\n",
    "    winners=[]\n",
    "    seed=random.randint(0,10000)\n",
    "    for i in range(1):\n",
    "        for red in players:\n",
    "            for blue in players:\n",
    "                #output = f'../data/{scenario}.{red}.{blue}.{seed}.pkl.gz'\n",
    "\n",
    "                #if os.path.exists(output):\n",
    "                    #return\n",
    "\n",
    "                mm = buildMatchManager('', scenario, red, blue, seed=seed)\n",
    "\n",
    "                while not mm.end:\n",
    "                    mm.nextStep()\n",
    "                    #v = list(mm.state.vector())\n",
    "                for state,action in zip(mm.states_history,mm.actions_history):\n",
    "                    action1=creaAzione(action)\n",
    "                    #print(state)\n",
    "                    vectors.append(list(state.vector())+action1+[mm.winner, scenario, red, blue, seed])\n",
    "                    #devo fare un vector per le azione \n",
    "                    \n",
    "                    \n",
    "\n",
    "                #for v in vectors:\n",
    "                    #v += [mm.winner, scenario, red, blue, seed]\n",
    "                \n",
    "                    \n",
    "\n",
    "                #cols = list(mm.states_history[0].vectorInfo()) +list(mm.actions_history[0].vectorInfo()) ['winner', 'meta_scenario', 'meta_p_red', 'meta_p_blue', 'meta_seed']\n",
    "\n",
    "                df = pd.DataFrame(data=vectors)#, columns=cols)\n",
    "                #df.to_pickle(output, compression='gzip')\n"
   ]
  },
  {
   "cell_type": "code",
   "execution_count": null,
   "metadata": {},
   "outputs": [],
   "source": [
    "df"
   ]
  },
  {
   "cell_type": "code",
   "execution_count": null,
   "metadata": {},
   "outputs": [],
   "source": [
    "df.sample(1)"
   ]
  },
  {
   "cell_type": "code",
   "execution_count": null,
   "metadata": {},
   "outputs": [],
   "source": []
  }
 ],
 "metadata": {
  "kernelspec": {
   "display_name": "Python 3",
   "language": "python",
   "name": "python3"
  },
  "language_info": {
   "codemirror_mode": {
    "name": "ipython",
    "version": 3
   },
   "file_extension": ".py",
   "mimetype": "text/x-python",
   "name": "python",
   "nbconvert_exporter": "python",
   "pygments_lexer": "ipython3",
   "version": "3.7.3"
  }
 },
 "nbformat": 4,
 "nbformat_minor": 2
}
