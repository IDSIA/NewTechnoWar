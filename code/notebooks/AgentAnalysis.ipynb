{
 "cells": [
  {
   "cell_type": "code",
   "execution_count": 1,
   "metadata": {},
   "outputs": [],
   "source": [
    "import sys\n",
    "sys.path.append(\"../\")"
   ]
  },
  {
   "cell_type": "code",
   "execution_count": 2,
   "metadata": {
    "slideshow": {
     "slide_type": "skip"
    }
   },
   "outputs": [],
   "source": [
    "from agents.matchmanager import MatchManager\n",
    "\n",
    "from itertools import product\n",
    "\n",
    "from agents import GreedyAgent, AlphaBetaAgent, RandomAgent\n",
    "from scenarios import scenarioJunction, scenarioJunctionExo, scenarioTest1v1, scenarioTest2v2\n",
    "from core.const import RED, BLUE\n",
    "import json\n",
    "import pandas as pd\n",
    "import matplotlib\n",
    "from matplotlib import pyplot as plt\n",
    "import seaborn as sns\n",
    "import numpy as np\n",
    "\n",
    "from sklearn.metrics import confusion_matrix\n",
    "\n"
   ]
  },
  {
   "cell_type": "code",
   "execution_count": 3,
   "metadata": {
    "slideshow": {
     "slide_type": "skip"
    }
   },
   "outputs": [],
   "source": [
    "def createDf(output):\n",
    "    agents = ['RandomAgent','RegressorAgent','ClassifierAgent','GreedyAgent','RegressorMultiAgent']\n",
    "    scenarios = ['Junction']\n",
    "    all_json=[]\n",
    "    for i in range(1000):\n",
    "        for s in scenarios:\n",
    "            for agentRed, agentBlue in product(agents, agents):\n",
    "                file_name=f'../{output}/{agentRed}_{agentBlue}_{s}_{i}.json'\n",
    "                data=json.load(open(file_name))\n",
    "                all_json.append(data)  \n",
    "    df=pd.DataFrame(all_json)\n",
    "    return df"
   ]
  },
  {
   "cell_type": "code",
   "execution_count": 17,
   "metadata": {},
   "outputs": [],
   "source": [
    "def make_confusion_matrix(cf,group_names=None,categories='auto',count=True,percent=True,cbar=True,\n",
    "                          xyticks=True,\n",
    "                          xyplotlabels=True,\n",
    "                          sum_stats=True,\n",
    "                          figsize=None,\n",
    "                          cmap='Blues',\n",
    "                          title=None,ax=None):\n",
    "\n",
    "\n",
    "    # CODE TO GENERATE TEXT INSIDE EACH SQUARE\n",
    "    blanks = ['' for i in range(cf.size)]\n",
    "\n",
    "    if group_names and len(group_names)==cf.size:\n",
    "        group_labels = [\"{}\\n\".format(value) for value in group_names]\n",
    "    else:\n",
    "        group_labels = blanks\n",
    "\n",
    "    if count:\n",
    "        group_counts = [\"{0:0.0f}\\n\".format(value) for value in cf.flatten()]\n",
    "    else:\n",
    "        group_counts = blanks\n",
    "\n",
    "    if percent:\n",
    "        group_percentages = [\"{0:.2%}\".format(value) for value in cf.flatten()/np.sum(cf)]\n",
    "    else:\n",
    "        group_percentages = blanks\n",
    "\n",
    "    box_labels = [f\"{v1}{v2}{v3}\".strip() for v1, v2, v3 in zip(group_labels,group_counts,group_percentages)]\n",
    "    box_labels = np.asarray(box_labels).reshape(cf.shape[0],cf.shape[1])\n",
    "\n",
    "    # SET FIGURE PARAMETERS ACCORDING TO OTHER ARGUMENTS\n",
    "    if figsize==None:\n",
    "        #Get default figure size if not set\n",
    "        figsize = plt.rcParams.get('figure.figsize')\n",
    "\n",
    "    if xyticks==False:\n",
    "        #Do not show categories if xyticks is False\n",
    "        categories=False\n",
    "\n",
    "\n",
    "    # MAKE THE HEATMAP VISUALIZATION\n",
    "    plt.figure(figsize=figsize)\n",
    "    g=sns.heatmap(cf,annot=box_labels,cmap=cmap,cbar=cbar,xticklabels=categories,yticklabels=categories,ax=ax,annot_kws={\"fontsize\":25})\n",
    "    if xyplotlabels:\n",
    "        ax.set_ylabel('Winner',fontsize=20)\n",
    "        ax.set_xlabel('Max score',fontsize=20)\n",
    "    else:\n",
    "        ax.set_xlabel('pippo')\n",
    "    \n",
    "    if title:\n",
    "        ax.set_title(title,fontsize=15)"
   ]
  },
  {
   "cell_type": "code",
   "execution_count": 13,
   "metadata": {},
   "outputs": [],
   "source": [
    "def confusionMatrix(df):\n",
    "    agents = ['RandomAgent','RegressorAgent','ClassifierAgent','GreedyAgent','RegressorMultiAgent']\n",
    "    fig_c, axs = plt.subplots(ncols=len(agents),nrows=len(agents),figsize=(30,20))\n",
    "    for i,name in enumerate(agents):\n",
    "        labels = ['True Neg','False Pos','False Neg','True Pos']\n",
    "        categories = df['winner'].unique()\n",
    "        for n in range(len(agents)):\n",
    "            df_plot=df.loc[((df['teamRed'] == name)&(df['teamBlue'] == agents[n]))].copy()\n",
    "            y_win=df_plot['winner'].values\n",
    "            y_score = df_plot['playerWithMaxScore'].values\n",
    "            cf_matrix = confusion_matrix(y_win, y_score)\n",
    "            make_confusion_matrix(cf_matrix,categories=categories, title=f'{name} vs {agents[n]}',ax=axs[i][n])\n",
    "    fig_c.tight_layout()    "
   ]
  },
  {
   "cell_type": "code",
   "execution_count": 6,
   "metadata": {},
   "outputs": [],
   "source": [
    "def heatmap(data, row_labels, col_labels, ax=None,\n",
    "            cbar_kw={}, cbarlabel=\"\", **kwargs):\n",
    "\n",
    "    if not ax:\n",
    "        ax = plt.gca()\n",
    "\n",
    "    # Plot the heatmap\n",
    "    im = ax.imshow(data, **kwargs)\n",
    "\n",
    "    # Create colorbar\n",
    "    cbar = ax.figure.colorbar(im, ax=ax, **cbar_kw)\n",
    "    cbar.ax.set_ylabel(cbarlabel, rotation=-90, va=\"bottom\")\n",
    "\n",
    "    # We want to show all ticks...\n",
    "    ax.set_xticks(np.arange(data.shape[1]))\n",
    "    ax.set_yticks(np.arange(data.shape[0]))\n",
    "    # ... and label them with the respective list entries.\n",
    "    ax.set_xticklabels(col_labels)\n",
    "    ax.set_yticklabels(row_labels)\n",
    "\n",
    "    # Let the horizontal axes labeling appear on top.\n",
    "    ax.tick_params(top=True, bottom=False,\n",
    "                   labeltop=True, labelbottom=False)\n",
    "\n",
    "    # Rotate the tick labels and set their alignment.\n",
    "    plt.setp(ax.get_xticklabels(), rotation=-30, ha=\"right\",\n",
    "             rotation_mode=\"anchor\")\n",
    "\n",
    "    # Turn spines off and create white grid.\n",
    "    for edge, spine in ax.spines.items():\n",
    "        spine.set_visible(False)\n",
    "\n",
    "    ax.set_xticks(np.arange(data.shape[1]+1)-.5, minor=True)\n",
    "    ax.set_yticks(np.arange(data.shape[0]+1)-.5, minor=True)\n",
    "    ax.grid(which=\"minor\", color=\"w\", linestyle='-', linewidth=3)\n",
    "    ax.tick_params(which=\"minor\", bottom=False, left=False)\n",
    "\n",
    "    return im, cbar\n",
    "\n",
    "\n",
    "def annotate_heatmap(im, data=None, valfmt=\"{x:.2f}\",\n",
    "                     textcolors=(\"white\", \"black\"),\n",
    "                     threshold=None, **textkw):\n",
    "\n",
    "\n",
    "\n",
    "    if not isinstance(data, (list, np.ndarray)):\n",
    "        data = im.get_array()\n",
    "\n",
    "    # Normalize the threshold to the images color range.\n",
    "    if threshold is not None:\n",
    "        threshold = im.norm(threshold)\n",
    "    else:\n",
    "        threshold = im.norm(data.max())/2.\n",
    "\n",
    "    # Set default alignment to center, but allow it to be\n",
    "    # overwritten by textkw.\n",
    "    kw = dict(horizontalalignment=\"center\",\n",
    "              verticalalignment=\"center\")\n",
    "    kw.update(textkw)\n",
    "\n",
    "    # Get the formatter in case a string is supplied\n",
    "    if isinstance(valfmt, str):\n",
    "        valfmt = matplotlib.ticker.StrMethodFormatter(valfmt)\n",
    "\n",
    "    # Loop over the data and create a `Text` for each \"pixel\".\n",
    "    # Change the text's color depending on the data.\n",
    "    texts = []\n",
    "    for i in range(data.shape[0]):\n",
    "        for j in range(data.shape[1]):\n",
    "            kw.update(color=textcolors[int(im.norm(data[i, j]) > threshold)])\n",
    "            text = im.axes.text(j, i, valfmt(data[i, j], None), **kw)\n",
    "            texts.append(text)\n",
    "\n",
    "    return texts"
   ]
  },
  {
   "cell_type": "code",
   "execution_count": 7,
   "metadata": {},
   "outputs": [],
   "source": [
    "def makeHeatmap(df):\n",
    "    agents = ['RandomAgent','RegressorAgent','ClassifierAgent','GreedyAgent','RegressorMultiAgent']\n",
    "    listoflist=[]\n",
    "    for a in agents:\n",
    "        win=[]\n",
    "        for i in agents:\n",
    "            df_b=df.loc[((df['teamRed'] == a)&(df['teamBlue'] == i))].copy()\n",
    "            count_winner=df_b[df_b['winner']=='red'].count()['winner']\n",
    "            win.append(count_winner/len(df_b))\n",
    "        listoflist.append(win)\n",
    "    fig, ax = plt.subplots(figsize=(10,5))\n",
    "\n",
    "    im, cbar = heatmap(np.array(listoflist), agents, agents, ax=ax,cmap=\"bwr\", cbarlabel=\"winner [red/total]\")\n",
    "    texts = annotate_heatmap(im, valfmt=\"{x:.2f}%\")\n",
    "\n",
    "    fig.tight_layout()\n",
    "    plt.show()\n",
    "\n",
    "        \n",
    "    "
   ]
  },
  {
   "cell_type": "code",
   "execution_count": 8,
   "metadata": {},
   "outputs": [],
   "source": [
    "dfAll=createDf(\"output\")\n",
    "\n"
   ]
  },
  {
   "cell_type": "code",
   "execution_count": null,
   "metadata": {},
   "outputs": [],
   "source": [
    "makeHeatmap(dfAll)"
   ]
  },
  {
   "cell_type": "code",
   "execution_count": 18,
   "metadata": {},
   "outputs": [
    {
     "ename": "ValueError",
     "evalue": "Unknown format code 'g' for object of type 'numpy.str_'",
     "output_type": "error",
     "traceback": [
      "\u001b[0;31m---------------------------------------------------------------------------\u001b[0m",
      "\u001b[0;31mValueError\u001b[0m                                Traceback (most recent call last)",
      "\u001b[0;32m<ipython-input-18-d11be916ecca>\u001b[0m in \u001b[0;36m<module>\u001b[0;34m\u001b[0m\n\u001b[0;32m----> 1\u001b[0;31m \u001b[0mconfusionMatrix\u001b[0m\u001b[0;34m(\u001b[0m\u001b[0mdfAll\u001b[0m\u001b[0;34m)\u001b[0m\u001b[0;34m\u001b[0m\u001b[0;34m\u001b[0m\u001b[0m\n\u001b[0m",
      "\u001b[0;32m<ipython-input-13-7627fc074404>\u001b[0m in \u001b[0;36mconfusionMatrix\u001b[0;34m(df)\u001b[0m\n\u001b[1;32m     10\u001b[0m             \u001b[0my_score\u001b[0m \u001b[0;34m=\u001b[0m \u001b[0mdf_plot\u001b[0m\u001b[0;34m[\u001b[0m\u001b[0;34m'playerWithMaxScore'\u001b[0m\u001b[0;34m]\u001b[0m\u001b[0;34m.\u001b[0m\u001b[0mvalues\u001b[0m\u001b[0;34m\u001b[0m\u001b[0;34m\u001b[0m\u001b[0m\n\u001b[1;32m     11\u001b[0m             \u001b[0mcf_matrix\u001b[0m \u001b[0;34m=\u001b[0m \u001b[0mconfusion_matrix\u001b[0m\u001b[0;34m(\u001b[0m\u001b[0my_win\u001b[0m\u001b[0;34m,\u001b[0m \u001b[0my_score\u001b[0m\u001b[0;34m)\u001b[0m\u001b[0;34m\u001b[0m\u001b[0;34m\u001b[0m\u001b[0m\n\u001b[0;32m---> 12\u001b[0;31m             \u001b[0mmake_confusion_matrix\u001b[0m\u001b[0;34m(\u001b[0m\u001b[0mcf_matrix\u001b[0m\u001b[0;34m,\u001b[0m\u001b[0mcategories\u001b[0m\u001b[0;34m=\u001b[0m\u001b[0mcategories\u001b[0m\u001b[0;34m,\u001b[0m \u001b[0mtitle\u001b[0m\u001b[0;34m=\u001b[0m\u001b[0;34mf'{name} vs {agents[n]}'\u001b[0m\u001b[0;34m,\u001b[0m\u001b[0max\u001b[0m\u001b[0;34m=\u001b[0m\u001b[0maxs\u001b[0m\u001b[0;34m[\u001b[0m\u001b[0mi\u001b[0m\u001b[0;34m]\u001b[0m\u001b[0;34m[\u001b[0m\u001b[0mn\u001b[0m\u001b[0;34m]\u001b[0m\u001b[0;34m)\u001b[0m\u001b[0;34m\u001b[0m\u001b[0;34m\u001b[0m\u001b[0m\n\u001b[0m\u001b[1;32m     13\u001b[0m     \u001b[0mfig_c\u001b[0m\u001b[0;34m.\u001b[0m\u001b[0mtight_layout\u001b[0m\u001b[0;34m(\u001b[0m\u001b[0;34m)\u001b[0m\u001b[0;34m\u001b[0m\u001b[0;34m\u001b[0m\u001b[0m\n",
      "\u001b[0;32m<ipython-input-17-acb0f8d07294>\u001b[0m in \u001b[0;36mmake_confusion_matrix\u001b[0;34m(cf, group_names, categories, count, percent, cbar, xyticks, xyplotlabels, sum_stats, figsize, cmap, title, ax)\u001b[0m\n\u001b[1;32m     41\u001b[0m     \u001b[0;31m# MAKE THE HEATMAP VISUALIZATION\u001b[0m\u001b[0;34m\u001b[0m\u001b[0;34m\u001b[0m\u001b[0;34m\u001b[0m\u001b[0m\n\u001b[1;32m     42\u001b[0m     \u001b[0mplt\u001b[0m\u001b[0;34m.\u001b[0m\u001b[0mfigure\u001b[0m\u001b[0;34m(\u001b[0m\u001b[0mfigsize\u001b[0m\u001b[0;34m=\u001b[0m\u001b[0mfigsize\u001b[0m\u001b[0;34m)\u001b[0m\u001b[0;34m\u001b[0m\u001b[0;34m\u001b[0m\u001b[0m\n\u001b[0;32m---> 43\u001b[0;31m     \u001b[0mg\u001b[0m\u001b[0;34m=\u001b[0m\u001b[0msns\u001b[0m\u001b[0;34m.\u001b[0m\u001b[0mheatmap\u001b[0m\u001b[0;34m(\u001b[0m\u001b[0mcf\u001b[0m\u001b[0;34m,\u001b[0m\u001b[0mannot\u001b[0m\u001b[0;34m=\u001b[0m\u001b[0mbox_labels\u001b[0m\u001b[0;34m,\u001b[0m\u001b[0mcmap\u001b[0m\u001b[0;34m=\u001b[0m\u001b[0mcmap\u001b[0m\u001b[0;34m,\u001b[0m\u001b[0mcbar\u001b[0m\u001b[0;34m=\u001b[0m\u001b[0mcbar\u001b[0m\u001b[0;34m,\u001b[0m\u001b[0mxticklabels\u001b[0m\u001b[0;34m=\u001b[0m\u001b[0mcategories\u001b[0m\u001b[0;34m,\u001b[0m\u001b[0myticklabels\u001b[0m\u001b[0;34m=\u001b[0m\u001b[0mcategories\u001b[0m\u001b[0;34m,\u001b[0m\u001b[0max\u001b[0m\u001b[0;34m=\u001b[0m\u001b[0max\u001b[0m\u001b[0;34m,\u001b[0m\u001b[0mannot_kws\u001b[0m\u001b[0;34m=\u001b[0m\u001b[0;34m{\u001b[0m\u001b[0;34m\"fontsize\"\u001b[0m\u001b[0;34m:\u001b[0m\u001b[0;36m25\u001b[0m\u001b[0;34m}\u001b[0m\u001b[0;34m)\u001b[0m\u001b[0;34m\u001b[0m\u001b[0;34m\u001b[0m\u001b[0m\n\u001b[0m\u001b[1;32m     44\u001b[0m     \u001b[0mg\u001b[0m\u001b[0;34m.\u001b[0m\u001b[0max_heatmap\u001b[0m\u001b[0;34m.\u001b[0m\u001b[0mset_xticklabels\u001b[0m\u001b[0;34m(\u001b[0m\u001b[0mfontsize\u001b[0m \u001b[0;34m=\u001b[0m \u001b[0;36m15\u001b[0m\u001b[0;34m)\u001b[0m\u001b[0;34m\u001b[0m\u001b[0;34m\u001b[0m\u001b[0m\n\u001b[1;32m     45\u001b[0m     \u001b[0;32mif\u001b[0m \u001b[0mxyplotlabels\u001b[0m\u001b[0;34m:\u001b[0m\u001b[0;34m\u001b[0m\u001b[0;34m\u001b[0m\u001b[0m\n",
      "\u001b[0;32m/opt/conda/lib/python3.7/site-packages/seaborn/matrix.py\u001b[0m in \u001b[0;36mheatmap\u001b[0;34m(data, vmin, vmax, cmap, center, robust, annot, fmt, annot_kws, linewidths, linecolor, cbar, cbar_kws, cbar_ax, square, xticklabels, yticklabels, mask, ax, **kwargs)\u001b[0m\n\u001b[1;32m    546\u001b[0m     \u001b[0;32mif\u001b[0m \u001b[0msquare\u001b[0m\u001b[0;34m:\u001b[0m\u001b[0;34m\u001b[0m\u001b[0;34m\u001b[0m\u001b[0m\n\u001b[1;32m    547\u001b[0m         \u001b[0max\u001b[0m\u001b[0;34m.\u001b[0m\u001b[0mset_aspect\u001b[0m\u001b[0;34m(\u001b[0m\u001b[0;34m\"equal\"\u001b[0m\u001b[0;34m)\u001b[0m\u001b[0;34m\u001b[0m\u001b[0;34m\u001b[0m\u001b[0m\n\u001b[0;32m--> 548\u001b[0;31m     \u001b[0mplotter\u001b[0m\u001b[0;34m.\u001b[0m\u001b[0mplot\u001b[0m\u001b[0;34m(\u001b[0m\u001b[0max\u001b[0m\u001b[0;34m,\u001b[0m \u001b[0mcbar_ax\u001b[0m\u001b[0;34m,\u001b[0m \u001b[0mkwargs\u001b[0m\u001b[0;34m)\u001b[0m\u001b[0;34m\u001b[0m\u001b[0;34m\u001b[0m\u001b[0m\n\u001b[0m\u001b[1;32m    549\u001b[0m     \u001b[0;32mreturn\u001b[0m \u001b[0max\u001b[0m\u001b[0;34m\u001b[0m\u001b[0;34m\u001b[0m\u001b[0m\n\u001b[1;32m    550\u001b[0m \u001b[0;34m\u001b[0m\u001b[0m\n",
      "\u001b[0;32m/opt/conda/lib/python3.7/site-packages/seaborn/matrix.py\u001b[0m in \u001b[0;36mplot\u001b[0;34m(self, ax, cax, kws)\u001b[0m\n\u001b[1;32m    345\u001b[0m         \u001b[0;31m# Annotate the cells with the formatted values\u001b[0m\u001b[0;34m\u001b[0m\u001b[0;34m\u001b[0m\u001b[0;34m\u001b[0m\u001b[0m\n\u001b[1;32m    346\u001b[0m         \u001b[0;32mif\u001b[0m \u001b[0mself\u001b[0m\u001b[0;34m.\u001b[0m\u001b[0mannot\u001b[0m\u001b[0;34m:\u001b[0m\u001b[0;34m\u001b[0m\u001b[0;34m\u001b[0m\u001b[0m\n\u001b[0;32m--> 347\u001b[0;31m             \u001b[0mself\u001b[0m\u001b[0;34m.\u001b[0m\u001b[0m_annotate_heatmap\u001b[0m\u001b[0;34m(\u001b[0m\u001b[0max\u001b[0m\u001b[0;34m,\u001b[0m \u001b[0mmesh\u001b[0m\u001b[0;34m)\u001b[0m\u001b[0;34m\u001b[0m\u001b[0;34m\u001b[0m\u001b[0m\n\u001b[0m\u001b[1;32m    348\u001b[0m \u001b[0;34m\u001b[0m\u001b[0m\n\u001b[1;32m    349\u001b[0m \u001b[0;34m\u001b[0m\u001b[0m\n",
      "\u001b[0;32m/opt/conda/lib/python3.7/site-packages/seaborn/matrix.py\u001b[0m in \u001b[0;36m_annotate_heatmap\u001b[0;34m(self, ax, mesh)\u001b[0m\n\u001b[1;32m    259\u001b[0m                 \u001b[0mlum\u001b[0m \u001b[0;34m=\u001b[0m \u001b[0mrelative_luminance\u001b[0m\u001b[0;34m(\u001b[0m\u001b[0mcolor\u001b[0m\u001b[0;34m)\u001b[0m\u001b[0;34m\u001b[0m\u001b[0;34m\u001b[0m\u001b[0m\n\u001b[1;32m    260\u001b[0m                 \u001b[0mtext_color\u001b[0m \u001b[0;34m=\u001b[0m \u001b[0;34m\".15\"\u001b[0m \u001b[0;32mif\u001b[0m \u001b[0mlum\u001b[0m \u001b[0;34m>\u001b[0m \u001b[0;36m.408\u001b[0m \u001b[0;32melse\u001b[0m \u001b[0;34m\"w\"\u001b[0m\u001b[0;34m\u001b[0m\u001b[0;34m\u001b[0m\u001b[0m\n\u001b[0;32m--> 261\u001b[0;31m                 \u001b[0mannotation\u001b[0m \u001b[0;34m=\u001b[0m \u001b[0;34m(\u001b[0m\u001b[0;34m\"{:\"\u001b[0m \u001b[0;34m+\u001b[0m \u001b[0mself\u001b[0m\u001b[0;34m.\u001b[0m\u001b[0mfmt\u001b[0m \u001b[0;34m+\u001b[0m \u001b[0;34m\"}\"\u001b[0m\u001b[0;34m)\u001b[0m\u001b[0;34m.\u001b[0m\u001b[0mformat\u001b[0m\u001b[0;34m(\u001b[0m\u001b[0mval\u001b[0m\u001b[0;34m)\u001b[0m\u001b[0;34m\u001b[0m\u001b[0;34m\u001b[0m\u001b[0m\n\u001b[0m\u001b[1;32m    262\u001b[0m                 \u001b[0mtext_kwargs\u001b[0m \u001b[0;34m=\u001b[0m \u001b[0mdict\u001b[0m\u001b[0;34m(\u001b[0m\u001b[0mcolor\u001b[0m\u001b[0;34m=\u001b[0m\u001b[0mtext_color\u001b[0m\u001b[0;34m,\u001b[0m \u001b[0mha\u001b[0m\u001b[0;34m=\u001b[0m\u001b[0;34m\"center\"\u001b[0m\u001b[0;34m,\u001b[0m \u001b[0mva\u001b[0m\u001b[0;34m=\u001b[0m\u001b[0;34m\"center\"\u001b[0m\u001b[0;34m)\u001b[0m\u001b[0;34m\u001b[0m\u001b[0;34m\u001b[0m\u001b[0m\n\u001b[1;32m    263\u001b[0m                 \u001b[0mtext_kwargs\u001b[0m\u001b[0;34m.\u001b[0m\u001b[0mupdate\u001b[0m\u001b[0;34m(\u001b[0m\u001b[0mself\u001b[0m\u001b[0;34m.\u001b[0m\u001b[0mannot_kws\u001b[0m\u001b[0;34m)\u001b[0m\u001b[0;34m\u001b[0m\u001b[0;34m\u001b[0m\u001b[0m\n",
      "\u001b[0;31mValueError\u001b[0m: Unknown format code 'g' for object of type 'numpy.str_'"
     ]
    },
    {
     "data": {
      "image/png": "[encoded data removed]",
      "text/plain": [
       "<Figure size 2160x1440 with 26 Axes>"
      ]
     },
     "metadata": {
      "needs_background": "light"
     },
     "output_type": "display_data"
    },
    {
     "data": {
      "text/plain": [
       "<Figure size 432x288 with 0 Axes>"
      ]
     },
     "metadata": {},
     "output_type": "display_data"
    }
   ],
   "source": [
    "confusionMatrix(dfAll)"
   ]
  },
  {
   "cell_type": "markdown",
   "metadata": {},
   "source": [
    "def agentVSagentColor(df,agent1,agent2,coloragent1):\n",
    "    print(\"AGENTE VS AGENTE PER COLORE\")\n",
    "    if (coloragent1==\"red\"):\n",
    "        mask=df.loc[((df.teamRed == agent1) & (df.teamBlue == agent2))]\n",
    "        print(f'Percentage {agent1} Red on {agent2} Blue:',len(mask[mask['winner']==coloragent1])/len(mask))\n",
    "        title=f'Percentage {agent1} Red on {agent2} Blue on scenario '\n",
    "    else:\n",
    "        mask=df.loc[((df.teamRed == agent2) & (df.teamBlue == agent1))]\n",
    "        print(f'Percentage {agent1} Blue on {agent2} Red:',len(mask[mask['winner']==coloragent1])/len(mask))\n",
    "        title=f'Percentage {agent1} Blue on {agent2} Red on scenario '\n",
    "\n",
    "        \n",
    "    departments=mask['scenario'].unique()\n",
    "\n",
    "    fig, ax = plt.subplots(ncols=len(departments),nrows=1, figsize=(16,8))\n",
    "    for i,name in enumerate(departments):\n",
    "        dd=mask[(mask.scenario == name)]\n",
    "        sns.barplot(y=((dd['winner'].value_counts())/len(dd))*100,x=dd['winner'].unique() ,ax=ax)\n",
    "        ax.set_ylabel('Percentuale vittoria')\n",
    "        ax.set(ylim=(0, 100))\n",
    "        #print(title,name,len(dd[dd['winner']==coloragent1])/len(dd))\n",
    "        title=f'Scenario->{name}. Agent red {agent1} and agent blue {agent2}'\n",
    "        ax.set_title(title, fontsize=10)\n",
    "        print(title,name,len(dd[dd['winner']==coloragent1])/len(dd))\n",
    "\n",
    "    plt.plot() \n",
    "    #metti perncetuale per ogni scenario\n",
    "\n"
   ]
  },
  {
   "cell_type": "markdown",
   "metadata": {
    "slideshow": {
     "slide_type": "skip"
    }
   },
   "source": [
    "def agentVSagentMoreScenario(df,agent1,agent2):\n",
    "    print(\"AGENTE VS AGENTE\")\n",
    "    mask=df.loc[((df.teamRed == agent1) & (df.teamBlue == agent2))|((df.teamRed == agent2) & (df.teamBlue == agent1))]\n",
    "    #mask['winnerAgent'].value_counts().plot.bar(title=f'Vincita {agent1} on {agent2}')\n",
    "    print(f'Percentage {agent1} on {agent2}:',len(mask[mask['winnerAgent']==agent1])/len(mask))\n",
    "    departments=mask['scenario'].unique()\n",
    "\n",
    "    fig, ax = plt.subplots(ncols=len(departments),nrows=1, figsize=(16,8))\n",
    "    for i,name in enumerate(departments):\n",
    "        dd=mask[(mask.scenario == name)]\n",
    "        #devi fare groupby su colonna winner, poi fai il count e dividi sul totale\n",
    "        sns.barplot(y=((dd['winnerAgent'].value_counts())/len(dd))*100,x=dd['winnerAgent'].unique() ,ax=ax[i])\n",
    "        ax[i].set_ylabel('Percentuale vittoria')\n",
    "        ax[i].set(ylim=(0, 100))\n",
    "        ax[i].set_title('scenario - {}'.format(name), fontsize=10)\n",
    "        print(f'Percentage {agent1} on {agent2} on scenario {name}:',len(dd[dd['winnerAgent']==agent1])/len(dd))\n",
    "\n",
    "    plt.plot() \n",
    "    #plotta percentuali-> fai solo scenario junction (nel caso junctionexo)\n"
   ]
  },
  {
   "cell_type": "markdown",
   "metadata": {},
   "source": [
    "def agentVSagent(df,agent1,agent2):\n",
    "    print(\"AGENT VS AGENT\")\n",
    "    mask=df.loc[((df.teamRed == agent1) & (df.teamBlue == agent2))|((df.teamRed == agent2) & (df.teamBlue == agent1))]\n",
    "    #mask['winnerAgent'].value_counts().plot.bar(title=f'Vincita {agent1} on {agent2}')\n",
    "    print(f'Percentage {agent1} on {agent2}:',len(mask[mask['winnerAgent']==agent1])/len(mask))\n",
    "    departments=mask['scenario'].unique()\n",
    "\n",
    "    fig, ax = plt.subplots(ncols=len(departments),nrows=1, figsize=(16,8))\n",
    "    for i,name in enumerate(departments):\n",
    "        dd=mask[(mask.scenario == name)]\n",
    "        #devi fare groupby su colonna winner, poi fai il count e dividi sul totale\n",
    "        sns.barplot(y=((dd['winnerAgent'].value_counts())/len(dd))*100,x=dd['winnerAgent'].unique() ,ax=ax)\n",
    "        ax.set_ylabel('Percentuale vittoria')\n",
    "        ax.set(ylim=(0, 100))\n",
    "        ax.set_title('scenario - {}'.format(name), fontsize=10)\n",
    "        #print(f'Percentage {agent1} on {agent2} on scenario {name}:',len(dd[dd['winnerAgent']==agent1])/len(dd))\n",
    "\n",
    "    plt.plot() \n",
    "    #plotta percentuali-> fai solo scenario junction (nel caso junctionexo)\n"
   ]
  },
  {
   "cell_type": "markdown",
   "metadata": {
    "slideshow": {
     "slide_type": "skip"
    }
   },
   "source": [
    "def agentVSagentColorMoreScenario(df,agent1,agent2,coloragent1):\n",
    "    print(\"AGENTE VS AGENTE PER COLORE\")\n",
    "    if (coloragent1==\"red\"):\n",
    "        mask=df.loc[((df.teamRed == agent1) & (df.teamBlue == agent2))]\n",
    "        print(f'Percentage {agent1} Red on {agent2} Blue:',len(mask[mask['winner']==coloragent1])/len(mask))\n",
    "        title=f'Percentage {agent1} Red on {agent2} Blue on scenario '\n",
    "    else:\n",
    "        mask=df.loc[((df.teamRed == agent2) & (df.teamBlue == agent1))]\n",
    "        print(f'Percentage {agent1} Blue on {agent2} Red:',len(mask[mask['winner']==coloragent1])/len(mask))\n",
    "        title=f'Percentage {agent1} Blue on {agent2} Red on scenario '\n",
    "\n",
    "        \n",
    "    departments=mask['scenario'].unique()\n",
    "\n",
    "    fig, ax = plt.subplots(ncols=len(departments),nrows=1, figsize=(16,8))\n",
    "    for i,name in enumerate(departments):\n",
    "        dd=mask[(mask.scenario == name)]\n",
    "        sns.barplot(y=((dd['winner'].value_counts())/len(dd))*100,x=dd['winner'].unique() ,ax=ax[i])\n",
    "        ax[i].set_ylabel('Percentuale vittoria')\n",
    "        ax[i].set(ylim=(0, 100))\n",
    "        title=f'Scenario->{name}. Agent red {agent1} and agent blue {agent2}'\n",
    "        ax[i].set_title(title, fontsize=10)\n",
    "        print(title,name,len(dd[dd['winner']==coloragent1])/len(dd))\n",
    "\n",
    "    plt.plot() \n",
    "    #metti perncetuale per ogni scenario\n",
    "\n"
   ]
  },
  {
   "cell_type": "markdown",
   "metadata": {
    "slideshow": {
     "slide_type": "skip"
    }
   },
   "source": [
    "def addWinnerColumn(df):\n",
    "    winner_agent=[]\n",
    "    for i in range(len(df)):\n",
    "        if ((df[\"teamRed\"][i] == \"RegressorAgent\") & (df[\"winner\"][i]==\"red\")) | ((df[\"teamBlue\"][i] == \"RegressorAgent\") & (df[\"winner\"][i]==\"blue\")):\n",
    "            winner_agent.append(\"RegressorAgent\")\n",
    "        elif ((df[\"teamRed\"][i] == \"ClassifierAgent\") & (df[\"winner\"][i]==\"red\")) | ((df[\"teamBlue\"][i] == \"ClassifierAgent\") & (df[\"winner\"][i]==\"blue\")):\n",
    "            winner_agent.append(\"ClassifierAgent\")\n",
    "        elif ((df[\"teamRed\"][i] == \"RandomAgent\") & (df[\"winner\"][i]==\"red\")) | ((df[\"teamBlue\"][i] == \"RandomAgent\") & (df[\"winner\"][i]==\"blue\")):\n",
    "            winner_agent.append(\"RandomAgent\")\n",
    "        elif ((df[\"teamRed\"][i] == \"GreedyAgent\") & (df[\"winner\"][i]==\"red\")) | ((df[\"teamBlue\"][i] == \"GreedyAgent\") & (df[\"winner\"][i]==\"blue\")):\n",
    "            winner_agent.append(\"GreedyAgent\")\n",
    "        elif ((df[\"teamRed\"][i] == \"RegressorMultiAgent\") & (df[\"winner\"][i]==\"red\")) | ((df[\"teamBlue\"][i] == \"RegressorMultiAgent\") & (df[\"winner\"][i]==\"blue\")):\n",
    "            winner_agent.append(\"RegressorMultiAgent\")\n",
    "    return winner_agent\n"
   ]
  },
  {
   "cell_type": "markdown",
   "metadata": {
    "slideshow": {
     "slide_type": "skip"
    }
   },
   "source": [
    "def matchesWonForEachAgent(df):\n",
    "    print(\"General percentages\")\n",
    "    df['winnerAgent'].value_counts().plot.bar(title='games won for each agent')\n",
    "    print('Percentage Regressor:',len(df[df['winnerAgent']==\"RegressorAgent\"])/len(df))\n",
    "    print('Percentage Classifier:',len(df[df['winnerAgent']==\"ClassifierAgent\"])/len(df))\n",
    "    print('Percentage RandomAgent:',len(df[df['winnerAgent']==\"RandomAgent\"])/len(df))\n",
    "    print('Percentage GreedyAgent:',len(df[df['winnerAgent']==\"GreedyAgent\"])/len(df))\n",
    "    print('Percentage RegressorMulti:',len(df[df['winnerAgent']==\"RegressorMultiAgent\"])/len(df))"
   ]
  },
  {
   "cell_type": "markdown",
   "metadata": {},
   "source": [
    "def agentVs(df,agent):\n",
    "    print(\"AGENT VS AGENT\")\n",
    "    agents = ['RegressorAgent','RandomAgent','ClassifierAgent','GreedyAgent','RegressorMultiAgent']\n",
    "    agents.remove(agent)\n",
    "    fig, ax = plt.subplots(ncols=2,nrows=2, figsize=(16,8))\n",
    "    ax = ax.ravel()\n",
    "    for i,a in enumerate(agents):\n",
    "\n",
    "        mask=df.loc[((df.teamRed == agent) & (df.teamBlue == a))|((df.teamRed == a) & (df.teamBlue == agent))]\n",
    "        print(f'Percentage {agent} on {a}:',len(mask[mask['winnerAgent']==agent])/len(mask))\n",
    "        values=list(set(mask['winnerAgent']))\n",
    "        height=(((mask['winnerAgent'].value_counts())/len(mask))*100)\n",
    "        #ax[i].bar(x,height)\n",
    "        clrs = ['blue' if (x == agent) else 'red' for x in values]\n",
    "\n",
    "        sns.barplot(values,height,ax=ax[i],palette=clrs)\n",
    "\n",
    "        ax[i].set_ylabel('Percentuale vittoria')\n",
    "        ax[i].set(ylim=(0, 100))\n",
    "        ax[i].set_title('scenario - Junction', fontsize=10)\n",
    "\n",
    "    plt.plot() \n",
    "    #plotta percentuali-> fai solo scenario junction (nel caso junctionexo)\n"
   ]
  },
  {
   "cell_type": "markdown",
   "metadata": {},
   "source": [
    "def agentVsColor(df,agent):\n",
    "    print(\"AGENT VS AGENT FOR COLOR\")\n",
    "    agents = ['RegressorAgent','RandomAgent','ClassifierAgent','GreedyAgent','RegressorMultiAgent']\n",
    "    colors=['red','blue']\n",
    "    agents.remove(agent)\n",
    "    fig, ax = plt.subplots(ncols=4,nrows=2, figsize=(20,10))\n",
    "    ax = ax.ravel()\n",
    "    for i,a in enumerate(product(colors,agents)):\n",
    "        if a[0]=='red':\n",
    "            mask=df.loc[((df.teamRed == agent) & (df.teamBlue == a[1]))]\n",
    "            print(f'Percentage {agent} Red on {a[1]} Blue:',len(mask[mask['winner']=='red'])/len(mask))\n",
    "            title=f'blue->{a[1]}'\n",
    "\n",
    "        elif a[0]=='blue':\n",
    "            mask=df.loc[((df.teamRed == a[1]) & (df.teamBlue == agent))]\n",
    "            print(f'Percentage {a[1]} Red on {agent} Blue:',len(mask[mask['winner']=='blue'])/len(mask))\n",
    "            title=f'Red->{a[1]}'\n",
    "        values=['blue','red']\n",
    "        height=(((mask['winner'].value_counts())/len(mask))*100)\n",
    "        #ax[i].bar(x,height)\n",
    "        clrs = ['blue' if (x == 'blue') else 'red' for x in values]\n",
    "\n",
    "        sns.barplot(values,height,ax=ax[i],palette=clrs)\n",
    "        ax[i].set_ylabel('Percentuale vittoria')\n",
    "        ax[i].set(ylim=(0, 100))\n",
    "        ax[i].set_title(title)\n",
    "\n",
    "\n",
    "    fig.suptitle(f'Graph for {agent}, first row red and second blue', fontsize=14)\n",
    "\n",
    "\n",
    "    plt.plot() \n",
    "   "
   ]
  }
 ],
 "metadata": {
  "celltoolbar": "Slideshow",
  "kernelspec": {
   "display_name": "Python 3",
   "language": "python",
   "name": "python3"
  },
  "language_info": {
   "codemirror_mode": {
    "name": "ipython",
    "version": 3
   },
   "file_extension": ".py",
   "mimetype": "text/x-python",
   "name": "python",
   "nbconvert_exporter": "python",
   "pygments_lexer": "ipython3",
   "version": "3.7.6"
  }
 },
 "nbformat": 4,
 "nbformat_minor": 4
}
