{
 "cells": [
  {
   "cell_type": "code",
   "execution_count": 16,
   "metadata": {},
   "outputs": [],
   "source": [
    "import sys\n",
    "sys.path.append(\"../\")"
   ]
  },
  {
   "cell_type": "code",
   "execution_count": 17,
   "metadata": {},
   "outputs": [],
   "source": [
    "import os.path as op\n",
    "import random\n",
    "\n",
    "import matplotlib.pyplot as plt\n",
    "from matplotlib.lines import Line2D\n",
    "from matplotlib.legend_handler import HandlerTuple\n",
    "\n",
    "\n",
    "import pandas as pd\n",
    "import yaml\n",
    "\n",
    "from agents import GreedyAgent,RandomAgent\n",
    "from agents.matchmanager import MatchManager\n",
    "from agents.ml.classifier import ClassifierAgent\n",
    "from agents.ml.regression import RegressionAgent\n",
    "from agents.ml.regressionMulti import RegressionMultiAgent\n",
    "\n",
    "from core.const import RED, BLUE\n",
    "from core.game import GameBoard, GameState, vectorState, vectorStateInfo\n",
    "from core.vectors import vectorAction, vectorActionInfo, vectorBoard, vectorBoardInfo\n",
    "from scenarios import scenarioJunction,scenarioJunctionExo\n",
    "import warnings\n",
    "import datetime\n",
    "\n",
    "from sklearn import preprocessing\n",
    "\n",
    "from multiprocessing import Pool\n",
    "import pickle\n",
    "\n",
    "from itertools import product\n",
    "import json\n",
    "\n",
    "import os\n",
    "from utils.setup_logging import setup_logging\n",
    "import joblib\n",
    "import numpy as np\n",
    "\n",
    "\n",
    "\n",
    "\n",
    "%matplotlib inline\n",
    "plt.rcParams['figure.dpi']=100\n",
    "plt.rcParams['figure.figsize'] = (12,4)\n"
   ]
  },
  {
   "cell_type": "code",
   "execution_count": 18,
   "metadata": {},
   "outputs": [],
   "source": [
    "def player(team:str, data:tuple, seed:int):\n",
    "    if data[0] == 'gre':\n",
    "        #print(f'{team:5}-> GreedyAgent')\n",
    "        return GreedyAgent(team, seed=seed)\n",
    "    if data[0] == 'cls':\n",
    "        #print(f'{team:5}-> ClassifierAgent')\n",
    "        return ClassifierAgent(team, data[1], seed=seed)\n",
    "    if data[0] == 'reg':\n",
    "        #print(f'{team:5}-> RegressionAgent')\n",
    "        return RegressionAgent(team, data[1], seed=seed)\n",
    "    if data[0]=='ran':\n",
    "        #print(f'{team:5}-> RandomAgent')\n",
    "        return RandomAgent(team, seed=seed)\n",
    "    if data[0]=='regMulti':\n",
    "        #print(f'{team:5}-> RegressionAgentMulti')\n",
    "        return RegressionMultiAgent(team,data[1],data[2],data[3],seed=seed)\n",
    "\n",
    "\n",
    "    \n",
    "    return None"
   ]
  },
  {
   "cell_type": "code",
   "execution_count": 19,
   "metadata": {},
   "outputs": [],
   "source": [
    "def game(scenario,seed:int, red:tuple, blue:tuple) -> MatchManager:\n",
    "    board, state = scenario()\n",
    "\n",
    "    #print('seed:   ', seed)\n",
    "\n",
    "    playerRed = player(RED, red, seed)\n",
    "    playerBlue = player(BLUE, blue, seed)\n",
    "\n",
    "    mm = MatchManager(' ', playerRed, playerBlue, board, state, seed=seed)\n",
    "    while not mm.end:\n",
    "        mm.nextStep()\n",
    "    #print('winner: ', mm.winner)\n",
    "\n",
    "    return mm,board.name,playerRed,playerBlue"
   ]
  },
  {
   "cell_type": "code",
   "execution_count": 20,
   "metadata": {},
   "outputs": [],
   "source": [
    "def prepareDataFrames(mm:MatchManager):\n",
    "    df_states = pd.DataFrame(\n",
    "        columns=vectorStateInfo(),\n",
    "        data=[vectorState(x) for x in mm.states_history]\n",
    "    )\n",
    "\n",
    "    df_actions = pd.DataFrame(\n",
    "        columns=vectorActionInfo(),\n",
    "        data=[vectorAction(x) for x in mm.actions_history]\n",
    "    )\n",
    "\n",
    "    df_board=pd.DataFrame(\n",
    "        columns=vectorBoardInfo(),\n",
    "        data=[vectorBoard(mm.board,x) for x in mm.states_history]\n",
    "    )\n",
    "    df_concat=pd.concat([df_states,df_actions,df_board],axis=1)\n",
    "    df_concat.dropna(axis=1, how='all',inplace=True)\n",
    "    \n",
    "    df_red =pd.concat([mm.red.createDataFrame().reset_index(drop=True),df_concat[df_concat['action_team'] == 'red'].copy().drop('action_team', axis=1).reset_index(drop=True)],axis=1)\n",
    "\n",
    "    df_blue =pd.concat([mm.blue.createDataFrame().reset_index(drop=True),df_concat[df_concat['action_team'] == 'blue'].copy().drop('action_team', axis=1).reset_index(drop=True)],axis=1)\n",
    "\n",
    "    df_red['winner']=mm.winner\n",
    "    df_blue['winner']=mm.winner\n",
    "    \n",
    "\n",
    "\n",
    "    return df_red, df_blue"
   ]
  },
  {
   "cell_type": "code",
   "execution_count": 21,
   "metadata": {},
   "outputs": [],
   "source": [
    "def shiftMarker(df,winner):\n",
    "    df_repl=df.tail(1)\n",
    "    #action='Winner' if (df_repl.iloc[0]['team']=='red' and winner=='red') else 'Loser'\n",
    "    #action='Winner' if (df_repl.iloc[0]['team']=='blue' and winner=='blue') else 'Loser'\n",
    "    df_repl.index += 1\n",
    "    \n",
    "    df=df.append(df_repl)\n",
    "    delta=datetime.timedelta(milliseconds=400)\n",
    "    turn=(datetime.datetime.combine(datetime.date(1,1,1),df.iloc[-1]['time']) + delta).time()\n",
    "    df.at[df.index[-1], 'time'] = turn\n",
    "    if df.iloc[-1]['team']=='red':\n",
    "        if df.iloc[-1]['winner']=='red':\n",
    "            action='Winner'\n",
    "        else:\n",
    "            action='Loser'\n",
    "    else:\n",
    "        if df.iloc[-1]['winner']=='blue':\n",
    "            action='Winner'\n",
    "        else:\n",
    "            action='Loser'\n",
    "    df.at[df.index[-1], 'action'] = action\n",
    "    df['score']=df['score'].shift(periods=1,fill_value=0)\n",
    "    \n",
    "    return df\n",
    "    \n"
   ]
  },
  {
   "cell_type": "code",
   "execution_count": 22,
   "metadata": {},
   "outputs": [],
   "source": [
    "def setTime(df,winner):\n",
    "\n",
    "    df['time'] = pd.to_datetime(df['time'],errors='coerce')\n",
    "    df['time']=df['time'].dt.time\n",
    "    #df= df.reset_index()\n",
    "    df=shiftMarker(df,winner)\n",
    "    x=df['time'].tolist()\n",
    "    y=df['score'].tolist()\n",
    "    df= df.set_index('time')\n",
    "    return df,x,y\n"
   ]
  },
  {
   "cell_type": "code",
   "execution_count": 23,
   "metadata": {},
   "outputs": [],
   "source": [
    "def setScore(df,model_path):\n",
    "    model=joblib.load(os.path.join(os.getcwd(), model_path[1]))\n",
    "    df= df.reset_index()\n",
    "    df['score']=model.predict(df.drop(['meta_scenario', 'meta_p_red', 'meta_p_blue', 'meta_seed','meta_id','count','time','team','seed','score','action','entropy','standard_deviation','n_scores','scores','actions','winner','random_choice','n_choices','index','count'], axis=1, errors=\"ignore\"))\n",
    "    return df"
   ]
  },
  {
   "cell_type": "code",
   "execution_count": 24,
   "metadata": {},
   "outputs": [],
   "source": [
    "def separateAction(df):\n",
    "    df_move=df.loc[(df['action'] == 'Move')].copy()\n",
    "    df_attack=df.loc[(df['action'] == 'Attack')].copy()\n",
    "    df_attackground=df.loc[(df['action'] == 'AttackGround')].copy()\n",
    "    df_moveloadinto=df.loc[(df['action'] == 'MoveLoadInto')].copy()\n",
    "    df_passfigure=df.loc[(df['action'] == 'PassFigure')].copy()\n",
    "    df_pass=df.loc[(df['action'] == 'Pass')].copy()\n",
    "    df_passteam=df.loc[(df['action'] == 'PassTeam')].copy()\n",
    "    df_attackrespond=df.loc[(df['action'] == 'AttackRespond')].copy()\n",
    "    df_passrespond=df.loc[(df['action'] == 'PassRespond')].copy()\n",
    "    \n",
    "    \n",
    "    return df_move,df_attack,df_attackground,df_moveloadinto,df_passfigure,df_pass,df_passteam,df_attackrespond,df_passrespond\n",
    "\n",
    "\n",
    "    \n",
    "\n",
    "    "
   ]
  },
  {
   "cell_type": "code",
   "execution_count": 25,
   "metadata": {},
   "outputs": [],
   "source": [
    "def plotEntropyTime(df_red,df_blue,red_data,blue_data,winner,scenario,model_path):\n",
    "    df_red.dropna(inplace=True)\n",
    "    df_blue.dropna(inplace=True)\n",
    "    position=[]\n",
    "    labels=df_red['turn'].unique().tolist()\n",
    "    labels_legend=['Score','Entropy']\n",
    "    loser='blue' if winner == 'red' else 'red'\n",
    "    \n",
    "\n",
    "    df_red=setScore(df_red,model_path)\n",
    "    df_blue=setScore(df_blue,model_path)\n",
    "\n",
    "\n",
    "    df_red,x_red,y_red=setTime(df_red,winner)\n",
    "    df_blue,x_blue,y_blue=setTime(df_blue,winner)\n",
    "    \n",
    "    \n",
    "    if(red_data[0]=='ran'):\n",
    "        df_red['standard_deviation']=0\n",
    "    if(blue_data[0]=='ran'):\n",
    "        df_blue['standard_deviation']=0\n",
    "        \n",
    "    df_red['standard_deviation']=df_red['standard_deviation'].mul(-1)\n",
    "\n",
    "\n",
    "    fig, ax = plt.subplots()\n",
    "    df_move_r,df_attack_r,df_attackground_r,df_moveloadinto_r,df_passfigure_r,df_pass_r,df_passteam_r,df_attackrespond_r,df_passrespond_r=separateAction(df_red)\n",
    "    df_move_b,df_attack_b,df_attackground_b,df_moveloadinto_b,df_passfigure_b,df_pass_b,df_passteam_b,df_attackrespond_b,df_passrespond_b=separateAction(df_blue)\n",
    "\n",
    "    df_red.score.plot(color='red',legend=False,ax=ax,label='_nolegend_')\n",
    "    df_blue.score.plot(color='blue',legend=False,ax=ax,label='_nolegend_')\n",
    "    df_red.standard_deviation.plot(color='red',legend=False,ax=ax,style='--',linewidth=0.5,label='_nolegend_')\n",
    "    df_blue.standard_deviation.plot(color='blue',legend=False,ax=ax,style='--',linewidth=0.5,label='_nolegend_')\n",
    "    \n",
    "    df_move_r.score.plot(color='red',marker='D',linestyle='None',label='_nolegend_',legend=False)\n",
    "    df_move_b.score.plot(color='blue',marker='D',linestyle='None',label='_nolegend_',legend=False)\n",
    "\n",
    "\n",
    "    df_attack_r.score.plot(color='red',marker='o',linestyle='None',label='_nolegend_',legend=False)\n",
    "    df_attack_b.score.plot(color='blue',marker='o',linestyle='None',label='_nolegend_',legend=False)\n",
    "\n",
    "    \n",
    "    df_attackground_r.score.plot(color='red',marker='p',linestyle='None',label='_nolegend_',legend=False)\n",
    "    df_attackground_b.score.plot(color='blue',marker='p',linestyle='None',label='_nolegend_',legend=False)\n",
    "\n",
    "    \n",
    "    df_moveloadinto_r.score.plot(color='red',marker='*',linestyle='None',label='_nolegend_',legend=False)\n",
    "    df_moveloadinto_b.score.plot(color='blue',marker='*',linestyle='None',label='_nolegend_',legend=False)\n",
    "\n",
    "    \n",
    "    df_passfigure_r.score.plot(color='red',marker='v',linestyle='None',label='_nolegend_',legend=False)\n",
    "    df_passfigure_b.score.plot(color='blue',marker='v',linestyle='None',label='_nolegend_',legend=False)\n",
    "\n",
    "    \n",
    "    df_pass_r.score.plot(color='red',marker='P',linestyle='None',label='_nolegend_',legend=False)\n",
    "    df_pass_b.score.plot(color='blue',marker='P',linestyle='None',label='_nolegend_',legend=False)\n",
    "\n",
    "    \n",
    "    df_passteam_r.score.plot(color='red',marker='<',linestyle='None',label='_nolegend_',legend=False)\n",
    "    df_passteam_b.score.plot(color='blue',marker='<',linestyle='None',label='_nolegend_',legend=False)\n",
    "\n",
    "    \n",
    "    df_attackrespond_r.score.plot(color='red',marker='X',linestyle='None',label='_nolegend_',legend=False)\n",
    "    df_attackrespond_b.score.plot(color='blue',marker='X',linestyle='None',label='_nolegend_',legend=False)\n",
    "\n",
    "    \n",
    "    df_passrespond_r.score.plot(color='red',marker='s',linestyle='None',label='_nolegend_',legend=False)\n",
    "    df_passrespond_b.score.plot(color='blue',marker='s',linestyle='None',label='_nolegend_',legend=False)\n",
    "    \n",
    "    \n",
    "    list_graphs = [child for child in ax.get_children() if isinstance(child, Line2D)]\n",
    "    \n",
    "    lists_legend=[(list_graphs[0],list_graphs[1]),(list_graphs[2],list_graphs[3])]\n",
    "    dict_df={\n",
    "            'Move':(df_move_r,df_move_b,list_graphs[4],list_graphs[5]),\n",
    "             'Attack':(df_attack_r,df_attack_b,list_graphs[6],list_graphs[7]),\n",
    "            'AttackGround':(df_attackground_r,df_attackground_b,list_graphs[8],list_graphs[9]),\n",
    "            'MoveLoadInto':(df_moveloadinto_r,df_moveloadinto_b,list_graphs[10],list_graphs[11]),\n",
    "             'PassFigure':(df_passfigure_r,df_passfigure_b,list_graphs[12],list_graphs[13]),\n",
    "             'Pass':(df_pass_r,df_pass_b,list_graphs[14],list_graphs[15]),\n",
    "             'PassTeam':(df_passteam_r,df_passteam_b,list_graphs[16],list_graphs[17]),\n",
    "             'AttackRespond':(df_attackrespond_r,df_attackrespond_b,list_graphs[18],list_graphs[19]),\n",
    "             'PassRespond':(df_passrespond_r,df_passrespond_b,list_graphs[20],list_graphs[21]),\n",
    "            }\n",
    "    \n",
    "    for key in dict_df:\n",
    "        if not dict_df[key][0].empty or not dict_df[key][1].empty:\n",
    "            labels_legend.append(key)\n",
    "            if not dict_df[key][0].empty and dict_df[key][1].empty:\n",
    "                lists_legend.append(dict_df[key][2])\n",
    "            elif dict_df[key][0].empty and not dict_df[key][1].empty:\n",
    "                lists_legend.append(dict_df[key][3])\n",
    "            else:\n",
    "                lists_legend.append((dict_df[key][2],dict_df[key][3]))\n",
    "\n",
    "    if df_red.iloc[-1]['action']=='Winner':\n",
    "        df_red.loc[(df_red['action'] == 'Winner')].score.plot(color='red',marker='o',linestyle='None',fillstyle='none',label='Winner',legend=False)\n",
    "        labels_legend.append('Winner')\n",
    "    else:\n",
    "        df_red.loc[(df_red['action'] == 'Loser')].score.plot(color='red',marker='x',linestyle='None',fillstyle='none',label='Loser',legend=False)\n",
    "        labels_legend.append('Loser')\n",
    "\n",
    "    if df_blue.iloc[-1]['action']=='Winner':\n",
    "        df_blue.loc[(df_blue['action'] == 'Winner')].score.plot(color='blue',marker='o',linestyle='None',fillstyle='none',label='Winner',legend=False)\n",
    "        labels_legend.append('Winner')\n",
    "        \n",
    "    else:\n",
    "        df_blue.loc[(df_blue['action'] == 'Loser')].score.plot(color='blue',marker='x',linestyle='None',fillstyle='none',label='Loser',legend=False)\n",
    "        labels_legend.append('Loser')\n",
    "        \n",
    "    list_graphs = [child for child in ax.get_children() if isinstance(child, Line2D)]\n",
    "\n",
    "    lists_legend.append(list_graphs[22])\n",
    "    lists_legend.append(list_graphs[23])\n",
    "\n",
    "    \n",
    "    for x in df_red[['turn']].reset_index().groupby('turn').min().values.tolist():\n",
    "        delta=datetime.timedelta(milliseconds=20)\n",
    "        turn=(datetime.datetime.combine(datetime.date(1,1,1),x[0]) - delta).time()\n",
    "        ax.axvline(x=turn, color='black',linewidth=0.7)\n",
    "        position.append(turn)\n",
    "\n",
    "    ax.vlines(x_red, -1, y_red, linestyle=':',linewidth=0.5,color='red',alpha=0.5)\n",
    "    ax.vlines(x_blue, -1, y_blue, linestyle=':',linewidth=0.5,color='blue',alpha=0.5)\n",
    "    ax.axhline(color='black',linewidth=0.5)\n",
    "    \n",
    "    position.append((datetime.datetime.combine(datetime.date(1,1,1),max(x_blue)) +datetime.timedelta(milliseconds=15)).time())\n",
    "    labels.append('Game Over')\n",
    "    labels[0]='Game Starts'\n",
    "    plt.xticks(position, labels)\n",
    "    plt.yticks([-1,0,1], ['likely to win','neutral','likely to lose'])\n",
    "\n",
    "    legend_elements = [Line2D([0], [0], color='red', label=f'Attacker ({red_data[0]})'),\n",
    "                   Line2D([0], [0], color='blue', label=f'Defender ({blue_data[0]})')]\n",
    "\n",
    "    leg1 = ax.legend(lists_legend, labels_legend,bbox_to_anchor=(1,1), loc=\"upper left\",\n",
    "               handler_map={tuple: HandlerTuple(ndivide=None)})    \n",
    "    leg2 = ax.legend(handles=legend_elements, loc='upper left')\n",
    "    ax.add_artist(leg1)\n",
    "    ax.set_ylim(-1,+1)\n",
    "    ax.set_xlim(right=(datetime.datetime.combine(datetime.date(1,1,1),max(x_blue)) +datetime.timedelta(milliseconds=15)).time())\n",
    "    ax.set_xlabel('Turn')\n",
    "    title=f'Scenario {scenario} - Winner {winner.capitalize()}, Loser {loser.capitalize()} '\n",
    "    ax.set_title(title)\n",
    "    return df_red,df_blue\n"
   ]
  },
  {
   "cell_type": "markdown",
   "metadata": {},
   "source": [
    "def plotContrast(df):\n",
    "    df[df['team']=='red']['entropy'].plot(color='red'), df[df['team']=='blue']['entropy'].plot(color='blue')"
   ]
  },
  {
   "cell_type": "code",
   "execution_count": 26,
   "metadata": {},
   "outputs": [],
   "source": [
    "def playAndAnalyzeTime(scenario,seed:int, red_data, blue_data,model_path):\n",
    "    mm,scenario,_,_ = game(scenario,seed, red_data, blue_data)\n",
    "       \n",
    "    df_red, df_blue= prepareDataFrames(mm)\n",
    "\n",
    "    plotEntropyTime(df_red,df_blue,red_data,blue_data,mm.winner,scenario,model_path)\n",
    "    \n",
    "    plt.show()\n",
    "    \n",
    "    return df_red, df_blue"
   ]
  },
  {
   "cell_type": "code",
   "execution_count": 27,
   "metadata": {},
   "outputs": [],
   "source": [
    "red_models = [\n",
    "    ('gre', ''),\n",
    "    ('ran',''),\n",
    "    #('cls', '../models/Junction_RandomForestClassifier_red_20210301.joblib'),\n",
    "    ('cls', '../models/Junction_RandomForestClassifier_20210301.joblib'),\n",
    "    #('reg', '../models/Junction_RandomForestRegressor_red_20210301.joblib'),\n",
    "    ('reg', '../models/Junction_RandomForestRegressor_20210301.joblib'),\n",
    "    ('regMulti','../models/Junction_RandomForestRegressor_red_attack_20210301.joblib','../models/Junction_RandomForestRegressor_red_move_20210301.joblib','../models/Junction_RandomForestRegressor_red_pass_20210301.joblib')\n",
    "\n",
    "]\n",
    "blue_models = [\n",
    "    ('gre', ''),\n",
    "    ('ran',''),\n",
    "    #('cls', '../models/Junction_RandomForestClassifier_blue_20210301.joblib'),\n",
    "    ('cls', '../models/Junction_RandomForestClassifier_20210301.joblib'),\n",
    "    #('reg', '../models/Junction_RandomForestRegressor_blue_20210301.joblib'),\n",
    "    ('reg', '../models/Junction_RandomForestRegressor_20210301.joblib'),\n",
    "    ('regMulti','../models/Junction_RandomForestRegressor_blue_attack_20210301.joblib','../models/Junction_RandomForestRegressor_blue_move_20210301.joblib','../models/Junction_RandomForestRegressor_blue_pass_20210301.joblib')\n",
    "]"
   ]
  },
  {
   "cell_type": "code",
   "execution_count": 28,
   "metadata": {},
   "outputs": [],
   "source": [
    "def play(args):\n",
    "    scenario,seed,red_data,blue_data,model_path=args\n",
    "    mm,scenario,playerRed,playerBlue = game(scenario,seed, red_data, blue_data)\n",
    "\n",
    "    \n",
    "    df_red, df_blue= prepareDataFrames(mm)\n",
    "\n",
    "    df_r,df_b=plotEntropyTime(df_red,df_blue,red_data,blue_data,mm.winner,scenario,model_path)\n",
    "    max_score= 'red' if df_r.iloc[-1]['score']>df_b.iloc[-1]['score'] else 'blue'\n",
    "\n",
    "    save={\n",
    "        'scenario':scenario,\n",
    "        'seed':seed,\n",
    "        'teamRed':playerRed.name,\n",
    "        'teamBlue':playerBlue.name,\n",
    "        'winner':mm.winner,\n",
    "        'playerWithMaxScore':max_score\n",
    "    }\n",
    "    file_name=f'../output/{playerRed.name}_{playerBlue.name}_{scenario}_{seed}.json'\n",
    "    #print(file_name)\n",
    "    with open(file_name, 'w') as json_file:\n",
    "        json.dump(save, json_file)\n",
    "    \n",
    "    #plt.show()\n",
    "    file_name=f'../graphs/{playerRed.name}_{playerBlue.name}_{scenario}_{seed}.png'\n",
    "    plt.savefig(file_name)\n",
    "\n",
    "    #df_red.to_csv('df_red.csv')\n",
    "    #df_blue.to_csv('df_blue.csv')\n",
    "    \n",
    "    return df_red, df_blue"
   ]
  },
  {
   "cell_type": "code",
   "execution_count": null,
   "metadata": {},
   "outputs": [],
   "source": [
    "args=[]\n",
    "#scenarios = [scenarioJunction,scenarioJunctionExo]\n",
    "scenarios = [scenarioJunction]\n",
    "\n",
    "for i in range(1000):\n",
    "    for scenario in scenarios:\n",
    "        for agentRed, agentBlue in product(red_models, blue_models):\n",
    "            args.append((scenario,i,agentRed,agentBlue,red_models[3]))"
   ]
  },
  {
   "cell_type": "code",
   "execution_count": null,
   "metadata": {},
   "outputs": [],
   "source": [
    "with Pool(64) as p:\n",
    "    p.map(play, args)"
   ]
  },
  {
   "cell_type": "code",
   "execution_count": null,
   "metadata": {},
   "outputs": [],
   "source": []
  },
  {
   "cell_type": "code",
   "execution_count": 29,
   "metadata": {},
   "outputs": [
    {
     "data": {
      "image/png": "[encoded data removed]",
      "text/plain": [
       "<Figure size 1200x400 with 1 Axes>"
      ]
     },
     "metadata": {
      "needs_background": "light"
     },
     "output_type": "display_data"
    }
   ],
   "source": [
    "d_r,d_b=playAndAnalyzeTime(scenarioJunction,122340, red_models[1], blue_models[3],red_models[3])\n"
   ]
  },
  {
   "cell_type": "code",
   "execution_count": null,
   "metadata": {},
   "outputs": [],
   "source": [
    "d_r,d_b=playAndAnalyzeTime(122340, red_models[0], blue_models[3],red_models[3])\n"
   ]
  },
  {
   "cell_type": "markdown",
   "metadata": {},
   "source": [
    "setup_logging()\n"
   ]
  },
  {
   "cell_type": "code",
   "execution_count": null,
   "metadata": {},
   "outputs": [],
   "source": [
    "df_red,df_blue=playAndAnalyzeTime(1200, red_models[0], blue_models[1],red_models[5])\n"
   ]
  },
  {
   "cell_type": "code",
   "execution_count": null,
   "metadata": {},
   "outputs": [],
   "source": [
    "plotEntropyTime(df_r,df_b,('reg', ''),('cls', ''),mm.winner,'Junction',('reg', '../models/Junction_RandomForestRegressor_20210301.joblib'))"
   ]
  },
  {
   "cell_type": "markdown",
   "metadata": {},
   "source": [
    "## Tourney "
   ]
  },
  {
   "cell_type": "code",
   "execution_count": null,
   "metadata": {},
   "outputs": [],
   "source": [
    "dfs=[]\n",
    "for i in range(3):\n",
    "    s = random.randint(0, 1000000)\n",
    "    r = random.randint(0, len(red_models)-1)\n",
    "    b = random.randint(0, len(blue_models)-1)\n",
    "    df_red,df_blue=playAndAnalyzeTime(s, red_models[r], blue_models[b])\n",
    "    dfs.append(df_red)\n",
    "    dfs.append(df_blue)\n",
    "df=pd.concat(dfs).reset_index()"
   ]
  },
  {
   "cell_type": "markdown",
   "metadata": {},
   "source": [
    "## Entropy regressor"
   ]
  },
  {
   "cell_type": "markdown",
   "metadata": {},
   "source": [
    "entropyAndScore(df,'scatter')"
   ]
  },
  {
   "cell_type": "markdown",
   "metadata": {},
   "source": [
    "entropyAndScore(df,'line')"
   ]
  },
  {
   "cell_type": "markdown",
   "metadata": {},
   "source": [
    "fig, axes = plt.subplots(1,len(df['seed'].unique()), figsize=(15,5))\n",
    "for (joinGroup, group), ax in zip(df.groupby(['seed']), axes.flatten()):\n",
    "    win=group['winner'].unique()\n",
    "    title=f'{joinGroup}-> winner:{win}'\n",
    "    group.plot(x=['count'], y=['score'], kind='scatter', ax=ax,title=title,ylim=[-1,1],c='team')\n"
   ]
  },
  {
   "cell_type": "markdown",
   "metadata": {},
   "source": [
    "plot=df.groupby(['team','seed']).plot.bar(y='entropy')"
   ]
  },
  {
   "cell_type": "markdown",
   "metadata": {},
   "source": [
    "boxplot=df.boxplot(column=['score', 'entropy'],by='team')\n"
   ]
  },
  {
   "cell_type": "markdown",
   "metadata": {},
   "source": [
    "boxplot=df.boxplot(column=['score', 'entropy'],by='seed')"
   ]
  },
  {
   "cell_type": "markdown",
   "metadata": {},
   "source": [
    "boxplot=df.boxplot(column=['score', 'entropy'],by=['seed','team'])"
   ]
  },
  {
   "cell_type": "markdown",
   "metadata": {},
   "source": [
    "plot=df.groupby('team').plot.scatter(x='count',y='entropy',c='team')"
   ]
  },
  {
   "cell_type": "markdown",
   "metadata": {},
   "source": [
    "plot=df.groupby('team').plot.scatter(x='count',y='score',c='team')"
   ]
  },
  {
   "cell_type": "markdown",
   "metadata": {},
   "source": [
    "def plotEntropy(df, color:str,data,winner,ax):\n",
    "    df.score.plot(color=color, marker='.',ax=ax)\n",
    "    df.entropy.plot(color='purple',ax=ax)\n",
    "    df.standard_deviation.plot(color='green',ax=ax)\n",
    "\n",
    "    for i, row in df[['score','action']].reset_index().iterrows():\n",
    "        dy, ha, va = (-0, 'center', 'top') if 'Respond' in row.action else (10, 'center', 'bottom')\n",
    "        ax.annotate(row.action, (row['count'], row.score), ha=ha, va=va, rotation=90, textcoords=\"offset points\", xytext=(0,dy))\n",
    "        \n",
    "    for x in df[['turn']].reset_index().groupby('turn').max().values.tolist():\n",
    "        ax.axvline(x=x[0]+0.5, color='orange')\n",
    "    ax.legend(framealpha=1, frameon=True,loc='center left',bbox_to_anchor=(1,0.5))\n",
    "    title=f'Entropy and Score for agent->{data[0]}. Winner:{winner} '\n",
    "\n",
    "    ax.set_title(title)\n",
    "\n",
    "\n",
    "    "
   ]
  },
  {
   "cell_type": "markdown",
   "metadata": {},
   "source": [
    "def playAndAnalyze(seed:int, red_data, blue_data):  \n",
    "    mm,scenario = game(seed, red_data, blue_data)\n",
    "        \n",
    "    df_red, df_blue, _, _ = prepareDataFrames(mm)\n",
    "    \n",
    "    fig,(ax1,ax2)=plt.subplots(nrows=2,ncols=1,figsize=(12,12))\n",
    "    plotEntropy(df_red, 'red',red_data,mm.winner,ax1)\n",
    "    plotEntropy(df_blue, 'blue',blue_data,mm.winner,ax2)\n",
    "    \n",
    "    plt.show()\n",
    "    \n",
    "    return df_red, df_blue"
   ]
  }
 ],
 "metadata": {
  "kernelspec": {
   "display_name": "Python 3",
   "language": "python",
   "name": "python3"
  },
  "language_info": {
   "codemirror_mode": {
    "name": "ipython",
    "version": 3
   },
   "file_extension": ".py",
   "mimetype": "text/x-python",
   "name": "python",
   "nbconvert_exporter": "python",
   "pygments_lexer": "ipython3",
   "version": "3.7.6"
  }
 },
 "nbformat": 4,
 "nbformat_minor": 4
}
