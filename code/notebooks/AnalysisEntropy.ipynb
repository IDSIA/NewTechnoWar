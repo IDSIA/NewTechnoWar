{
 "cells": [
  {
   "cell_type": "code",
   "execution_count": null,
   "metadata": {},
   "outputs": [],
   "source": [
    "import sys\n",
    "sys.path.append(\"../\")"
   ]
  },
  {
   "cell_type": "code",
   "execution_count": null,
   "metadata": {},
   "outputs": [],
   "source": [
    "import os.path as op\n",
    "import random\n",
    "\n",
    "import matplotlib.pyplot as plt\n",
    "import pandas as pd\n",
    "import yaml\n",
    "\n",
    "from agents import GreedyAgent,RandomAgent\n",
    "from agents.matchmanager import MatchManager\n",
    "from agents.ml.classifier import ClassifierAgent\n",
    "from agents.ml.regression import RegressionAgent\n",
    "from agents.ml.regressionMulti import RegressionMultiAgent\n",
    "\n",
    "from core.const import RED, BLUE\n",
    "from core.game import GameBoard, GameState, vectorState, vectorStateInfo\n",
    "from core.vectors import vectorAction, vectorActionInfo, vectorBoard, vectorBoardInfo\n",
    "from scenarios import scenarioJunction\n",
    "import warnings\n",
    "\n",
    "from multiprocessing import Pool\n",
    "\n",
    "from itertools import product\n",
    "import json\n",
    "\n",
    "import os\n",
    "\n",
    "\n",
    "%matplotlib inline\n",
    "plt.rcParams['figure.figsize'] = (12,4)\n"
   ]
  },
  {
   "cell_type": "code",
   "execution_count": null,
   "metadata": {},
   "outputs": [],
   "source": [
    "def player(team:str, data:tuple, seed:int):\n",
    "    if data[0] == 'gre':\n",
    "        print(f'{team:5}-> GreedyAgent')\n",
    "        return GreedyAgent(team, seed=seed)\n",
    "    if data[0] == 'cls':\n",
    "        print(f'{team:5}-> ClassifierAgent')\n",
    "        return ClassifierAgent(team, data[1], seed=seed)\n",
    "    if data[0] == 'reg':\n",
    "        print(f'{team:5}-> RegressionAgent')\n",
    "        return RegressionAgent(team, data[1], seed=seed)\n",
    "    if data[0]=='ran':\n",
    "        print(f'{team:5}-> RandomAgent')\n",
    "        return RandomAgent(team, seed=seed)\n",
    "    if data[0]=='regMulti':\n",
    "        print(f'{team:5}-> RegressionAgentMulti')\n",
    "\n",
    "\n",
    "        return RegressionMultiAgent(team,data[1],data[2],data[3],seed=seed)\n",
    "\n",
    "\n",
    "    \n",
    "    return None"
   ]
  },
  {
   "cell_type": "code",
   "execution_count": null,
   "metadata": {},
   "outputs": [],
   "source": [
    "def gameJunction(seed:int, red:tuple, blue:tuple) -> MatchManager:\n",
    "    board, state = scenarioJunction()\n",
    "    \n",
    "    print('seed:   ', seed)\n",
    "    \n",
    "    playerRed = player(RED, red, seed)\n",
    "    playerBlue = player(BLUE, blue, seed)\n",
    "\n",
    "    mm = MatchManager(' ', playerRed, playerBlue, board, state, seed=seed)\n",
    "    while not mm.end:\n",
    "        mm.nextStep()\n",
    "    \n",
    "    print('winner: ', mm.winner)\n",
    "\n",
    "    return mm"
   ]
  },
  {
   "cell_type": "code",
   "execution_count": null,
   "metadata": {},
   "outputs": [],
   "source": [
    "def prepareDataFrames(mm:MatchManager):\n",
    "    df_states = pd.DataFrame(\n",
    "        columns=vectorStateInfo(),\n",
    "        data=[vectorState(x) for x in mm.states_history]\n",
    "    )\n",
    "\n",
    "    df_actions = pd.DataFrame(\n",
    "        columns=vectorActionInfo(),\n",
    "        data=[vectorAction(x) for x in mm.actions_history]\n",
    "    )\n",
    "    df_red = mm.red.createDataFrame()\n",
    "    df_blue = mm.blue.createDataFrame()\n",
    "    df_red['winner']=mm.winner\n",
    "    df_blue['winner']=mm.winner\n",
    "    \n",
    "    df_red = df_red.set_index('count')\n",
    "    df_blue = df_blue.set_index('count')\n",
    "\n",
    "    return df_red, df_blue, df_states, df_actions"
   ]
  },
  {
   "cell_type": "code",
   "execution_count": null,
   "metadata": {},
   "outputs": [],
   "source": [
    "def plotEntropy(df, color:str):\n",
    "    plt.figure()\n",
    "    df.score.plot(color=color, marker='.')\n",
    "    df.entropy.plot(color='purple')\n",
    "\n",
    "    for i, row in df[['score','action']].reset_index().iterrows():\n",
    "        dy, ha, va = (-0, 'center', 'top') if 'Respond' in row.action else (10, 'center', 'bottom')\n",
    "        plt.annotate(row.action, (row['count'], row.score), ha=ha, va=va, rotation=90, textcoords=\"offset points\", xytext=(0,dy))\n",
    "        \n",
    "    for x in df[['turn']].reset_index().groupby('turn').max().values.tolist():\n",
    "        plt.axvline(x=x[0]+0.5, color='orange')"
   ]
  },
  {
   "cell_type": "code",
   "execution_count": null,
   "metadata": {},
   "outputs": [],
   "source": [
    "def plotContrast(df):\n",
    "    df[df['team']=='red']['entropy'].plot(color='red'), df[df['team']=='blue']['entropy'].plot(color='blue')"
   ]
  },
  {
   "cell_type": "code",
   "execution_count": null,
   "metadata": {},
   "outputs": [],
   "source": [
    "def playAndAnalyze(seed:int, red_data, blue_data):  \n",
    "    mm = gameJunction(seed, red_data, blue_data)\n",
    "        \n",
    "    df_red, df_blue, _, _ = prepareDataFrames(mm)\n",
    "    \n",
    "    plotEntropy(df_red, 'red')\n",
    "    plotEntropy(df_blue, 'blue')\n",
    "    \n",
    "    return df_red, df_blue"
   ]
  },
  {
   "cell_type": "code",
   "execution_count": null,
   "metadata": {},
   "outputs": [],
   "source": [
    "def play(seed:int, red_data, blue_data):  \n",
    "    mm = gameJunction(seed, red_data, blue_data)\n",
    "        \n",
    "    df_red, df_blue, _, _ = prepareDataFrames(mm)\n",
    "    \n",
    "    return df_red, df_blue"
   ]
  },
  {
   "cell_type": "code",
   "execution_count": null,
   "metadata": {},
   "outputs": [],
   "source": [
    "red_models = [\n",
    "    ('gre', ''),\n",
    "    ('cls', '../models/Junction_RandomForestClassifier_red_20210227.joblib'),\n",
    "    ('cls', '../models/Junction_RandomForestClassifier_20210227.joblib'),\n",
    "    ('reg', '../models/Junction_RandomForestRegressor_red_20210227.joblib'),\n",
    "    ('reg', '../models/Junction_RandomForestRegressor_20210227.joblib'),\n",
    "    ('regMulti','../models/Junction_RandomForestRegressor_red_attack_20210227.joblib','../models/Junction_RandomForestRegressor_red_move_20210227.joblib','../models/Junction_RandomForestRegressor_red_pass_20210227.joblib')\n",
    "\n",
    "]\n",
    "blue_models = [\n",
    "    ('gre', ''),\n",
    "    ('cls', '../models/Junction_RandomForestClassifier_blue_2021027.joblib'),\n",
    "    ('cls', '../models/Junction_RandomForestClassifier_20210227.joblib'),\n",
    "    ('reg', '../models/Junction_RandomForestRegressor_blue_20210227.joblib'),\n",
    "    ('reg', '../models/Junction_RandomForestRegressor_20210227.joblib'),\n",
    "    ('regMulti','../models/Junction_RandomForestRegressor_blue_attack_20210227.joblib','../models/Junction_RandomForestRegressor_blue_move_20210227.joblib','../models/Junction_RandomForestRegressor_blue_pass_20210227.joblib')\n",
    "\n",
    "\n",
    "]"
   ]
  },
  {
   "cell_type": "code",
   "execution_count": null,
   "metadata": {},
   "outputs": [],
   "source": [
    "seed=51"
   ]
  },
  {
   "cell_type": "markdown",
   "metadata": {},
   "source": [
    "## Tourney "
   ]
  },
  {
   "cell_type": "code",
   "execution_count": null,
   "metadata": {},
   "outputs": [],
   "source": [
    "dfs=[]\n",
    "for i in range(3):\n",
    "    s = random.randint(0, 1000000)\n",
    "    r = random.randint(0, len(red_models)-1)\n",
    "    b = random.randint(0, len(blue_models)-1)\n",
    "    df_red,df_blue=playAndAnalyze(s, red_models[r], blue_models[b])\n",
    "    dfs.append(df_red)\n",
    "    dfs.append(df_blue)\n",
    "df=pd.concat(dfs).reset_index()"
   ]
  },
  {
   "cell_type": "markdown",
   "metadata": {},
   "source": [
    "## Entropy regressor"
   ]
  },
  {
   "cell_type": "code",
   "execution_count": null,
   "metadata": {},
   "outputs": [],
   "source": [
    "def plotgroupAgentePartita(df,value_y,kind):\n",
    "    fig, axes = plt.subplots(len(df['team'].unique()),len(df['seed'].unique()), figsize=(15,10))\n",
    "    for (joinGroup, group), ax in zip(df.groupby(['team','seed']), axes.flatten()):\n",
    "        win=group['winner'].unique()\n",
    "        title=f'{joinGroup}-> winner:{win}'\n",
    "        group.plot(x='count', y=value_y, kind=kind,style='-o' ,ax=ax,title=title,ylim=[-1,1])"
   ]
  },
  {
   "cell_type": "code",
   "execution_count": null,
   "metadata": {},
   "outputs": [],
   "source": [
    "plotgroupAgentePartita(df,'score','bar')"
   ]
  },
  {
   "cell_type": "code",
   "execution_count": null,
   "metadata": {},
   "outputs": [],
   "source": [
    "plotgroupAgentePartita(df,'entropy','bar')"
   ]
  },
  {
   "cell_type": "markdown",
   "metadata": {},
   "source": [
    "plotgroupAgentePartita(df,'Score','scatter')"
   ]
  },
  {
   "cell_type": "markdown",
   "metadata": {},
   "source": [
    "plotgroupAgentePartita(df,'Entropia','scatter')"
   ]
  },
  {
   "cell_type": "markdown",
   "metadata": {},
   "source": [
    "plotgroupAgentePartita(df,'Score','line')"
   ]
  },
  {
   "cell_type": "markdown",
   "metadata": {},
   "source": [
    "plotgroupAgentePartita(df,'Entropia','line')"
   ]
  },
  {
   "cell_type": "markdown",
   "metadata": {},
   "source": [
    "plotgroupAgentePartita(df,'Score','box')"
   ]
  },
  {
   "cell_type": "markdown",
   "metadata": {},
   "source": [
    "plotgroupAgentePartita(df,'Entropia','box')"
   ]
  },
  {
   "cell_type": "code",
   "execution_count": null,
   "metadata": {},
   "outputs": [],
   "source": [
    "def entropyAndScore(df,kind):\n",
    "    fig, axes = plt.subplots(len(df['team'].unique()),len(df['seed'].unique()), figsize=(15,10))\n",
    "    for (joinGroup, group), ax in zip(df.groupby(['team','seed']), axes.flatten()):\n",
    "        win=group['winner'].unique()\n",
    "        title=f'{joinGroup}-> winner:{win}'\n",
    "        group.plot(x='count', y=['score'], kind=kind,style='-o', ax=ax,title=title,ylim=[-1,1],color='r')\n",
    "        group.plot(x='count', y=['entropy'], kind=kind,style='-o', ax=ax,title=title,ylim=[-1,1],color='b')"
   ]
  },
  {
   "cell_type": "code",
   "execution_count": null,
   "metadata": {},
   "outputs": [],
   "source": [
    "entropyAndScore(df,'scatter')"
   ]
  },
  {
   "cell_type": "markdown",
   "metadata": {},
   "source": [
    "entropyAndScore(df,'line')"
   ]
  },
  {
   "cell_type": "markdown",
   "metadata": {},
   "source": [
    "fig, axes = plt.subplots(1,len(df['seed'].unique()), figsize=(15,5))\n",
    "for (joinGroup, group), ax in zip(df.groupby(['seed']), axes.flatten()):\n",
    "    win=group['winner'].unique()\n",
    "    title=f'{joinGroup}-> winner:{win}'\n",
    "    group.plot(x=['count'], y=['score'], kind='scatter', ax=ax,title=title,ylim=[-1,1],c='team')\n"
   ]
  },
  {
   "cell_type": "markdown",
   "metadata": {},
   "source": [
    "plot=df.groupby(['team','seed']).plot.bar(y='entropy')"
   ]
  },
  {
   "cell_type": "markdown",
   "metadata": {},
   "source": [
    "boxplot=df.boxplot(column=['score', 'entropy'],by='team')\n"
   ]
  },
  {
   "cell_type": "markdown",
   "metadata": {},
   "source": [
    "boxplot=df.boxplot(column=['score', 'entropy'],by='seed')"
   ]
  },
  {
   "cell_type": "markdown",
   "metadata": {},
   "source": [
    "boxplot=df.boxplot(column=['score', 'entropy'],by=['seed','team'])"
   ]
  },
  {
   "cell_type": "markdown",
   "metadata": {},
   "source": [
    "plot=df.groupby('team').plot.scatter(x='count',y='entropy',c='team')"
   ]
  },
  {
   "cell_type": "markdown",
   "metadata": {},
   "source": [
    "plot=df.groupby('team').plot.scatter(x='count',y='score',c='team')"
   ]
  }
 ],
 "metadata": {
  "kernelspec": {
   "display_name": "Python 3",
   "language": "python",
   "name": "python3"
  },
  "language_info": {
   "codemirror_mode": {
    "name": "ipython",
    "version": 3
   },
   "file_extension": ".py",
   "mimetype": "text/x-python",
   "name": "python",
   "nbconvert_exporter": "python",
   "pygments_lexer": "ipython3",
   "version": "3.7.6"
  }
 },
 "nbformat": 4,
 "nbformat_minor": 4
}
