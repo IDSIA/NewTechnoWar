{
 "cells": [
  {
   "cell_type": "code",
   "execution_count": 1,
   "metadata": {},
   "outputs": [],
   "source": [
    "import sys\n",
    "sys.path.append(\"../\")"
   ]
  },
  {
   "cell_type": "code",
   "execution_count": 2,
   "metadata": {},
   "outputs": [],
   "source": [
    "import os.path as op\n",
    "import random\n",
    "\n",
    "import matplotlib.pyplot as plt\n",
    "from matplotlib.lines import Line2D\n",
    "from matplotlib.legend_handler import HandlerTuple\n",
    "\n",
    "\n",
    "import pandas as pd\n",
    "import yaml\n",
    "\n",
    "from agents import GreedyAgent,RandomAgent\n",
    "from agents.matchmanager import MatchManager\n",
    "from agents.ml.classifier import ClassifierAgent\n",
    "from agents.ml.regression import RegressionAgent\n",
    "from agents.ml.regressionMulti import RegressionMultiAgent\n",
    "\n",
    "from core.const import RED, BLUE\n",
    "from core.game import GameBoard, GameState, vectorState, vectorStateInfo\n",
    "from core.vectors import vectorAction, vectorActionInfo, vectorBoard, vectorBoardInfo\n",
    "from scenarios import scenarioJunction\n",
    "import warnings\n",
    "import datetime\n",
    "\n",
    "from sklearn import preprocessing\n",
    "\n",
    "from multiprocessing import Pool\n",
    "\n",
    "from itertools import product\n",
    "import json\n",
    "\n",
    "import os\n",
    "from utils.setup_logging import setup_logging\n",
    "import joblib\n",
    "\n",
    "\n",
    "\n",
    "\n",
    "%matplotlib inline\n",
    "plt.rcParams['figure.dpi']=100\n",
    "plt.rcParams['figure.figsize'] = (12,4)\n"
   ]
  },
  {
   "cell_type": "code",
   "execution_count": 3,
   "metadata": {},
   "outputs": [],
   "source": [
    "def player(team:str, data:tuple, seed:int):\n",
    "    if data[0] == 'gre':\n",
    "        print(f'{team:5}-> GreedyAgent')\n",
    "        return GreedyAgent(team, seed=seed)\n",
    "    if data[0] == 'cls':\n",
    "        print(f'{team:5}-> ClassifierAgent')\n",
    "        return ClassifierAgent(team, data[1], seed=seed)\n",
    "    if data[0] == 'reg':\n",
    "        print(f'{team:5}-> RegressionAgent')\n",
    "        return RegressionAgent(team, data[1], seed=seed)\n",
    "    if data[0]=='ran':\n",
    "        print(f'{team:5}-> RandomAgent')\n",
    "        return RandomAgent(team, seed=seed)\n",
    "    if data[0]=='regMulti':\n",
    "        print(f'{team:5}-> RegressionAgentMulti')\n",
    "        return RegressionMultiAgent(team,data[1],data[2],data[3],seed=seed)\n",
    "\n",
    "\n",
    "    \n",
    "    return None"
   ]
  },
  {
   "cell_type": "code",
   "execution_count": 4,
   "metadata": {},
   "outputs": [],
   "source": [
    "def game(seed:int, red:tuple, blue:tuple) -> MatchManager:\n",
    "    scenarios=[scenarioJunction]\n",
    "    for s in scenarios:\n",
    "        board, state = s()\n",
    "\n",
    "        print('seed:   ', seed)\n",
    "\n",
    "        playerRed = player(RED, red, seed)\n",
    "        playerBlue = player(BLUE, blue, seed)\n",
    "\n",
    "        mm = MatchManager(' ', playerRed, playerBlue, board, state, seed=seed)\n",
    "        while not mm.end:\n",
    "            mm.nextStep()\n",
    "\n",
    "        print('winner: ', mm.winner)\n",
    "\n",
    "        return mm,board.name"
   ]
  },
  {
   "cell_type": "code",
   "execution_count": 5,
   "metadata": {},
   "outputs": [],
   "source": [
    "def prepareDataFrames(mm:MatchManager):\n",
    "    df_states = pd.DataFrame(\n",
    "        columns=vectorStateInfo(),\n",
    "        data=[vectorState(x) for x in mm.states_history]\n",
    "    )\n",
    "\n",
    "    df_actions = pd.DataFrame(\n",
    "        columns=vectorActionInfo(),\n",
    "        data=[vectorAction(x) for x in mm.actions_history]\n",
    "    )\n",
    "\n",
    "    df_board=pd.DataFrame(\n",
    "        columns=vectorBoardInfo(),\n",
    "        data=[vectorBoard(mm.board,x) for x in mm.states_history]\n",
    "    )\n",
    "    df_concat=pd.concat([df_states,df_actions,df_board],axis=1)\n",
    "    df_concat.dropna(axis=1, how='all',inplace=True)\n",
    "    \n",
    "    df_red =pd.concat([mm.red.createDataFrame().reset_index(drop=True),df_concat[df_concat['action_team'] == 'red'].copy().drop('action_team', axis=1).reset_index(drop=True)],axis=1)\n",
    "\n",
    "    df_blue =pd.concat([mm.blue.createDataFrame().reset_index(drop=True),df_concat[df_concat['action_team'] == 'blue'].copy().drop('action_team', axis=1).reset_index(drop=True)],axis=1)\n",
    "\n",
    "    df_red['winner']=mm.winner\n",
    "    df_blue['winner']=mm.winner\n",
    "    \n",
    "    df_red = df_red.set_index('count')\n",
    "    df_blue = df_blue.set_index('count')\n",
    "\n",
    "    return df_red, df_blue"
   ]
  },
  {
   "cell_type": "markdown",
   "metadata": {},
   "source": [
    "def plotEntropy(df, color:str,data,winner,ax):\n",
    "    df.score.plot(color=color, marker='.',ax=ax)\n",
    "    df.entropy.plot(color='purple',ax=ax)\n",
    "    df.standard_deviation.plot(color='green',ax=ax)\n",
    "\n",
    "    for i, row in df[['score','action']].reset_index().iterrows():\n",
    "        dy, ha, va = (-0, 'center', 'top') if 'Respond' in row.action else (10, 'center', 'bottom')\n",
    "        ax.annotate(row.action, (row['count'], row.score), ha=ha, va=va, rotation=90, textcoords=\"offset points\", xytext=(0,dy))\n",
    "        \n",
    "    for x in df[['turn']].reset_index().groupby('turn').max().values.tolist():\n",
    "        ax.axvline(x=x[0]+0.5, color='orange')\n",
    "    ax.legend(framealpha=1, frameon=True,loc='center left',bbox_to_anchor=(1,0.5))\n",
    "    title=f'Entropy and Score for agent->{data[0]}. Winner:{winner} '\n",
    "\n",
    "    ax.set_title(title)\n",
    "\n",
    "\n",
    "    "
   ]
  },
  {
   "cell_type": "code",
   "execution_count": 6,
   "metadata": {},
   "outputs": [],
   "source": [
    "def setTime(df):\n",
    "    df['time'] = pd.to_datetime(df['time'],errors='coerce')\n",
    "    df['time']=df['time'].dt.time\n",
    "    df= df.reset_index()\n",
    "    x=df['time'].tolist()\n",
    "    y=df['score'].tolist()\n",
    "    df= df.set_index('time')\n",
    "    return df,x,y\n"
   ]
  },
  {
   "cell_type": "code",
   "execution_count": 7,
   "metadata": {},
   "outputs": [],
   "source": [
    "def setScore(df,model_path):\n",
    "    model=joblib.load(os.path.join(os.getcwd(), model_path[1]))\n",
    "    df= df.reset_index()\n",
    "    df['score']=model.predict(df.drop(['meta_scenario', 'meta_p_red', 'meta_p_blue', 'meta_seed','meta_id','count','time','team','seed','score','action','entropy','standard_deviation','n_scores','scores','actions','winner','random_choice','n_choices'], axis=1, errors=\"ignore\"))\n",
    "    return df"
   ]
  },
  {
   "cell_type": "code",
   "execution_count": 8,
   "metadata": {},
   "outputs": [],
   "source": [
    "def plotEntropyTime(df_red,df_blue,red_data,blue_data,winner,scenario,model_path):\n",
    "    df_red.dropna(inplace=True)\n",
    "    df_blue.dropna(inplace=True)\n",
    "    position=[]\n",
    "    labels=df_red['turn'].unique()\n",
    "    loser='blue' if winner == 'red' else 'red'\n",
    "    \n",
    "    markers={'Attack':'o',\n",
    "             'AttackGround':'p',\n",
    "             'Move':'D',\n",
    "            'MoveLoadInto':'*',\n",
    "            'PassFigure':'v',\n",
    "             'Pass':'P',\n",
    "             'PassTeam':'<',\n",
    "             'AttackRespond':'X',\n",
    "             'PassRespond':'s',\n",
    "            }\n",
    "    df_red=setScore(df_red,model_path)\n",
    "    df_blue=setScore(df_blue,model_path)\n",
    "\n",
    "\n",
    "    df_red,x_red,y_red=setTime(df_red)\n",
    "    df_blue,x_blue,y_blue=setTime(df_blue)\n",
    "    df_red['standard_deviation']=df_red['standard_deviation'].mul(-1)\n",
    "    dataframes={'red':df_red,\n",
    "               'blue':df_blue}\n",
    "\n",
    "\n",
    "\n",
    "    fig, ax = plt.subplots()\n",
    "    '''for i in dataframes:\n",
    "        dataframes[i].score.plot(color=i,legend=False,ax=ax)\n",
    "        dataframes[i].standard_deviation.plot(color=i,ax=ax,style='--',linewidth=0.5,label='entropy',legend=False)\n",
    "        for a in dataframes[i]['action'].unique():\n",
    "            dataframes[i].loc[dataframes[i][\"action\"] == a].score.plot(color=i,marker=markers[a],linestyle='None',label=a,legend=False)\n",
    "    lista = [child for child in ax.get_children() if isinstance(child, Line2D)]'''\n",
    "    \n",
    "     \n",
    "    df_red.score.plot(color='red',legend=False,ax=ax,label='_nolegend_')\n",
    "    df_blue.score.plot(color='blue',legend=False,ax=ax,label='_nolegend_')\n",
    "    df_red.standard_deviation.plot(color='red',legend=False,ax=ax,style='--',linewidth=0.5,label='_nolegend_')\n",
    "    df_blue.standard_deviation.plot(color='blue',legend=False,ax=ax,style='--',linewidth=0.5,label='_nolegend_')\n",
    "    p1,p2,p3,p4 = [child for child in ax.get_children() if isinstance(child, Line2D)]\n",
    "    \n",
    "    for i in dataframes:\n",
    "        for a in dataframes[i]['action'].unique():\n",
    "            dataframes[i].loc[dataframes[i][\"action\"] == a].score.plot(color=i,marker=markers[a],linestyle='None',label=a,legend=False)\n",
    "\n",
    "    for x in df_red[['turn']].reset_index().groupby('turn').min().values.tolist():\n",
    "        delta=datetime.timedelta(milliseconds=20)\n",
    "        turn=(datetime.datetime.combine(datetime.date(1,1,1),x[0]) - delta).time()\n",
    "        ax.axvline(x=turn, color='black',linewidth=0.7)\n",
    "        position.append(turn)\n",
    "\n",
    "    ax.vlines(x_red, -1, y_red, linestyle=':',linewidth=0.5,color='magenta')\n",
    "    ax.vlines(x_blue, -1, y_blue, linestyle=':',linewidth=0.5,color='cyan')\n",
    "    ax.axhline(color='black',linewidth=0.5)\n",
    "\n",
    "        \n",
    "    plt.xticks(position, labels)\n",
    "    plt.yticks([-1,0,1], ['likely to win','neutral','likely to lose'])\n",
    "\n",
    "    legend_elements = [Line2D([0], [0], color='red', label=f'Attacker ->{red_data[0]}'),\n",
    "                   Line2D([0], [0], color='blue', label=f'Defender ->{blue_data[0]}')]\n",
    "\n",
    "    leg0=ax.legend(bbox_to_anchor=(1.04, 0), loc='lower left')\n",
    "    leg1 = ax.legend([(p1, p2), (p3,p4)], ['score', 'entropy'],bbox_to_anchor=(1.04,1), loc=\"upper left\",\n",
    "               handler_map={tuple: HandlerTuple(ndivide=None)})    \n",
    "    leg2 = ax.legend(handles=legend_elements, loc='upper left')\n",
    "    ax.add_artist(leg1)\n",
    "    ax.add_artist(leg0)\n",
    "    ax.set_ylim(-1,+1)\n",
    "    ax.set_xlabel('Turn')\n",
    "    title=f'Scenario: {scenario}. Winner: {winner}. Loser: {loser} '\n",
    "\n",
    "    ax.set_title(title)\n",
    "\n"
   ]
  },
  {
   "cell_type": "markdown",
   "metadata": {},
   "source": [
    "def plotContrast(df):\n",
    "    df[df['team']=='red']['entropy'].plot(color='red'), df[df['team']=='blue']['entropy'].plot(color='blue')"
   ]
  },
  {
   "cell_type": "code",
   "execution_count": 9,
   "metadata": {},
   "outputs": [],
   "source": [
    "def playAndAnalyzeTime(seed:int, red_data, blue_data,model_path):  \n",
    "    mm,scenario = game(seed, red_data, blue_data)\n",
    "        \n",
    "    df_red, df_blue= prepareDataFrames(mm)\n",
    "\n",
    "    plotEntropyTime(df_red,df_blue,red_data,blue_data,mm.winner,scenario,model_path)\n",
    "    \n",
    "    plt.show()\n",
    "    \n",
    "    return df_red, df_blue"
   ]
  },
  {
   "cell_type": "markdown",
   "metadata": {},
   "source": [
    "def playAndAnalyze(seed:int, red_data, blue_data):  \n",
    "    mm,scenario = game(seed, red_data, blue_data)\n",
    "        \n",
    "    df_red, df_blue, _, _ = prepareDataFrames(mm)\n",
    "    \n",
    "    fig,(ax1,ax2)=plt.subplots(nrows=2,ncols=1,figsize=(12,12))\n",
    "    plotEntropy(df_red, 'red',red_data,mm.winner,ax1)\n",
    "    plotEntropy(df_blue, 'blue',blue_data,mm.winner,ax2)\n",
    "    \n",
    "    plt.show()\n",
    "    \n",
    "    return df_red, df_blue"
   ]
  },
  {
   "cell_type": "code",
   "execution_count": 10,
   "metadata": {},
   "outputs": [],
   "source": [
    "red_models = [\n",
    "    ('gre', ''),\n",
    "    ('ran',''),\n",
    "    ('cls', '../models/Junction_RandomForestClassifier_red_20210301.joblib'),\n",
    "    ('cls', '../models/Junction_RandomForestClassifier_20210301.joblib'),\n",
    "    ('reg', '../models/Junction_RandomForestRegressor_red_20210301.joblib'),\n",
    "    ('reg', '../models/Junction_RandomForestRegressor_20210301.joblib'),\n",
    "    ('regMulti','../models/Junction_RandomForestRegressor_red_attack_20210301.joblib','../models/Junction_RandomForestRegressor_red_move_20210301.joblib','../models/Junction_RandomForestRegressor_red_pass_20210301.joblib')\n",
    "\n",
    "]\n",
    "blue_models = [\n",
    "    ('gre', ''),\n",
    "    ('ran',''),\n",
    "    ('cls', '../models/Junction_RandomForestClassifier_blue_20210301.joblib'),\n",
    "    ('cls', '../models/Junction_RandomForestClassifier_20210301.joblib'),\n",
    "    ('reg', '../models/Junction_RandomForestRegressor_blue_20210301.joblib'),\n",
    "    ('reg', '../models/Junction_RandomForestRegressor_20210301.joblib'),\n",
    "    ('regMulti','../models/Junction_RandomForestRegressor_blue_attack_20210301.joblib','../models/Junction_RandomForestRegressor_blue_move_20210301.joblib','../models/Junction_RandomForestRegressor_blue_pass_20210301.joblib')\n",
    "]"
   ]
  },
  {
   "cell_type": "markdown",
   "metadata": {},
   "source": [
    "setup_logging()\n"
   ]
  },
  {
   "cell_type": "code",
   "execution_count": 11,
   "metadata": {},
   "outputs": [],
   "source": [
    "s=51"
   ]
  },
  {
   "cell_type": "code",
   "execution_count": null,
   "metadata": {},
   "outputs": [
    {
     "name": "stdout",
     "output_type": "stream",
     "text": [
      "seed:    51\n",
      "red  -> RegressionAgent\n",
      "blue -> ClassifierAgent\n"
     ]
    },
    {
     "name": "stderr",
     "output_type": "stream",
     "text": [
      "No actions available: no response given\n",
      "No actions available: no response given\n",
      "No actions available: no response given\n",
      "No actions available: no response given\n",
      "No actions available: no response given\n",
      "No actions available: no response given\n",
      "No actions available: no response given\n",
      "No actions available: no response given\n",
      "No actions available: no response given\n",
      "No actions available: no response given\n",
      "No actions available: no response given\n",
      "No actions available: no response given\n",
      "No actions available: no response given\n",
      "No actions available: no response given\n",
      "No actions available: no response given\n"
     ]
    },
    {
     "name": "stdout",
     "output_type": "stream",
     "text": [
      "winner:  blue\n"
     ]
    }
   ],
   "source": [
    "df_red,df_blue=playAndAnalyzeTime(51, red_models[5], blue_models[3],red_models[5])\n"
   ]
  },
  {
   "cell_type": "code",
   "execution_count": null,
   "metadata": {},
   "outputs": [],
   "source": [
    "df_red,df_blue=playAndAnalyzeTime(s, red_models[0], blue_models[1],red_models[5])\n"
   ]
  },
  {
   "cell_type": "markdown",
   "metadata": {},
   "source": [
    "## Tourney "
   ]
  },
  {
   "cell_type": "code",
   "execution_count": null,
   "metadata": {},
   "outputs": [],
   "source": [
    "dfs=[]\n",
    "for i in range(3):\n",
    "    s = random.randint(0, 1000000)\n",
    "    r = random.randint(0, len(red_models)-1)\n",
    "    b = random.randint(0, len(blue_models)-1)\n",
    "    df_red,df_blue=playAndAnalyzeTime(s, red_models[r], blue_models[b])\n",
    "    dfs.append(df_red)\n",
    "    dfs.append(df_blue)\n",
    "df=pd.concat(dfs).reset_index()"
   ]
  },
  {
   "cell_type": "markdown",
   "metadata": {},
   "source": [
    "## Entropy regressor"
   ]
  },
  {
   "cell_type": "code",
   "execution_count": null,
   "metadata": {},
   "outputs": [],
   "source": [
    "def plotgroupAgentePartita(df,value_y,kind):\n",
    "    fig, axes = plt.subplots(len(df['team'].unique()),len(df['seed'].unique()), figsize=(15,10))\n",
    "    for (joinGroup, group), ax in zip(df.groupby(['team','seed']), axes.flatten()):\n",
    "        win=group['winner'].unique()\n",
    "        title=f'{joinGroup}-> winner:{win}'\n",
    "        group.plot(x='count', y=value_y, kind=kind,style='-o' ,ax=ax,title=title,ylim=[-1,1])"
   ]
  },
  {
   "cell_type": "code",
   "execution_count": null,
   "metadata": {},
   "outputs": [],
   "source": [
    "plotgroupAgentePartita(df,'score','bar')"
   ]
  },
  {
   "cell_type": "code",
   "execution_count": null,
   "metadata": {},
   "outputs": [],
   "source": [
    "plotgroupAgentePartita(df,'entropy','bar')"
   ]
  },
  {
   "cell_type": "markdown",
   "metadata": {},
   "source": [
    "plotgroupAgentePartita(df,'Score','scatter')"
   ]
  },
  {
   "cell_type": "markdown",
   "metadata": {},
   "source": [
    "plotgroupAgentePartita(df,'Entropia','scatter')"
   ]
  },
  {
   "cell_type": "markdown",
   "metadata": {},
   "source": [
    "plotgroupAgentePartita(df,'Score','line')"
   ]
  },
  {
   "cell_type": "markdown",
   "metadata": {},
   "source": [
    "plotgroupAgentePartita(df,'Entropia','line')"
   ]
  },
  {
   "cell_type": "markdown",
   "metadata": {},
   "source": [
    "plotgroupAgentePartita(df,'Score','box')"
   ]
  },
  {
   "cell_type": "markdown",
   "metadata": {},
   "source": [
    "plotgroupAgentePartita(df,'Entropia','box')"
   ]
  },
  {
   "cell_type": "code",
   "execution_count": null,
   "metadata": {},
   "outputs": [],
   "source": [
    "def entropyAndScore(df,kind):\n",
    "    fig, axes = plt.subplots(len(df['team'].unique()),len(df['seed'].unique()), figsize=(15,10))\n",
    "    for (joinGroup, group), ax in zip(df.groupby(['team','seed']), axes.flatten()):\n",
    "        win=group['winner'].unique()\n",
    "        title=f'{joinGroup}-> winner:{win}'\n",
    "        group.plot(x='count', y=['score'], kind=kind,style='-o', ax=ax,title=title,ylim=[-1,1],color='r')\n",
    "        group.plot(x='count', y=['entropy'], kind=kind,style='-o', ax=ax,title=title,ylim=[-1,1],color='b')"
   ]
  },
  {
   "cell_type": "code",
   "execution_count": null,
   "metadata": {},
   "outputs": [],
   "source": [
    "entropyAndScore(df,'scatter')"
   ]
  },
  {
   "cell_type": "markdown",
   "metadata": {},
   "source": [
    "entropyAndScore(df,'line')"
   ]
  },
  {
   "cell_type": "markdown",
   "metadata": {},
   "source": [
    "fig, axes = plt.subplots(1,len(df['seed'].unique()), figsize=(15,5))\n",
    "for (joinGroup, group), ax in zip(df.groupby(['seed']), axes.flatten()):\n",
    "    win=group['winner'].unique()\n",
    "    title=f'{joinGroup}-> winner:{win}'\n",
    "    group.plot(x=['count'], y=['score'], kind='scatter', ax=ax,title=title,ylim=[-1,1],c='team')\n"
   ]
  },
  {
   "cell_type": "markdown",
   "metadata": {},
   "source": [
    "plot=df.groupby(['team','seed']).plot.bar(y='entropy')"
   ]
  },
  {
   "cell_type": "markdown",
   "metadata": {},
   "source": [
    "boxplot=df.boxplot(column=['score', 'entropy'],by='team')\n"
   ]
  },
  {
   "cell_type": "markdown",
   "metadata": {},
   "source": [
    "boxplot=df.boxplot(column=['score', 'entropy'],by='seed')"
   ]
  },
  {
   "cell_type": "markdown",
   "metadata": {},
   "source": [
    "boxplot=df.boxplot(column=['score', 'entropy'],by=['seed','team'])"
   ]
  },
  {
   "cell_type": "markdown",
   "metadata": {},
   "source": [
    "plot=df.groupby('team').plot.scatter(x='count',y='entropy',c='team')"
   ]
  },
  {
   "cell_type": "markdown",
   "metadata": {},
   "source": [
    "plot=df.groupby('team').plot.scatter(x='count',y='score',c='team')"
   ]
  }
 ],
 "metadata": {
  "kernelspec": {
   "display_name": "Python 3",
   "language": "python",
   "name": "python3"
  },
  "language_info": {
   "codemirror_mode": {
    "name": "ipython",
    "version": 3
   },
   "file_extension": ".py",
   "mimetype": "text/x-python",
   "name": "python",
   "nbconvert_exporter": "python",
   "pygments_lexer": "ipython3",
   "version": "3.7.6"
  }
 },
 "nbformat": 4,
 "nbformat_minor": 4
}
