{
 "cells": [
  {
   "cell_type": "code",
   "execution_count": 1,
   "metadata": {},
   "outputs": [],
   "source": [
    "import sys\n",
    "sys.path.append(\"../\")"
   ]
  },
  {
   "cell_type": "code",
   "execution_count": 2,
   "metadata": {},
   "outputs": [],
   "source": [
    "import os.path as op\n",
    "import random\n",
    "\n",
    "import matplotlib.pyplot as plt\n",
    "from matplotlib.lines import Line2D\n",
    "from matplotlib.legend_handler import HandlerTuple\n",
    "\n",
    "\n",
    "import pandas as pd\n",
    "import yaml\n",
    "\n",
    "from agents import GreedyAgent,RandomAgent\n",
    "from agents.matchmanager import MatchManager\n",
    "from agents.ml.classifier import ClassifierAgent\n",
    "from agents.ml.regression import RegressionAgent\n",
    "from agents.ml.regressionMulti import RegressionMultiAgent\n",
    "\n",
    "from core.const import RED, BLUE\n",
    "from core.game import GameBoard, GameState, vectorState, vectorStateInfo\n",
    "from core.vectors import vectorAction, vectorActionInfo, vectorBoard, vectorBoardInfo\n",
    "from scenarios import scenarioJunction\n",
    "import warnings\n",
    "import datetime\n",
    "\n",
    "from sklearn import preprocessing\n",
    "\n",
    "from multiprocessing import Pool\n",
    "import pickle\n",
    "\n",
    "from itertools import product\n",
    "import json\n",
    "\n",
    "import os\n",
    "from utils.setup_logging import setup_logging\n",
    "import joblib\n",
    "import numpy as np\n",
    "\n",
    "\n",
    "\n",
    "\n",
    "%matplotlib inline\n",
    "plt.rcParams['figure.dpi']=100\n",
    "plt.rcParams['figure.figsize'] = (12,4)\n"
   ]
  },
  {
   "cell_type": "code",
   "execution_count": 3,
   "metadata": {},
   "outputs": [],
   "source": [
    "def player(team:str, data:tuple, seed:int):\n",
    "    if data[0] == 'gre':\n",
    "        print(f'{team:5}-> GreedyAgent')\n",
    "        return GreedyAgent(team, seed=seed)\n",
    "    if data[0] == 'cls':\n",
    "        print(f'{team:5}-> ClassifierAgent')\n",
    "        return ClassifierAgent(team, data[1], seed=seed)\n",
    "    if data[0] == 'reg':\n",
    "        print(f'{team:5}-> RegressionAgent')\n",
    "        return RegressionAgent(team, data[1], seed=seed)\n",
    "    if data[0]=='ran':\n",
    "        print(f'{team:5}-> RandomAgent')\n",
    "        return RandomAgent(team, seed=seed)\n",
    "    if data[0]=='regMulti':\n",
    "        print(f'{team:5}-> RegressionAgentMulti')\n",
    "        return RegressionMultiAgent(team,data[1],data[2],data[3],seed=seed)\n",
    "\n",
    "\n",
    "    \n",
    "    return None"
   ]
  },
  {
   "cell_type": "code",
   "execution_count": 4,
   "metadata": {},
   "outputs": [],
   "source": [
    "def game(seed:int, red:tuple, blue:tuple) -> MatchManager:\n",
    "    scenarios=[scenarioJunction]\n",
    "    for s in scenarios:\n",
    "        board, state = s()\n",
    "\n",
    "        print('seed:   ', seed)\n",
    "\n",
    "        playerRed = player(RED, red, seed)\n",
    "        playerBlue = player(BLUE, blue, seed)\n",
    "\n",
    "        mm = MatchManager(' ', playerRed, playerBlue, board, state, seed=seed)\n",
    "        while not mm.end:\n",
    "            mm.nextStep()\n",
    "\n",
    "        print('winner: ', mm.winner)\n",
    "\n",
    "        return mm,board.name"
   ]
  },
  {
   "cell_type": "code",
   "execution_count": 5,
   "metadata": {},
   "outputs": [],
   "source": [
    "def prepareDataFrames(mm:MatchManager):\n",
    "    df_states = pd.DataFrame(\n",
    "        columns=vectorStateInfo(),\n",
    "        data=[vectorState(x) for x in mm.states_history]\n",
    "    )\n",
    "\n",
    "    df_actions = pd.DataFrame(\n",
    "        columns=vectorActionInfo(),\n",
    "        data=[vectorAction(x) for x in mm.actions_history]\n",
    "    )\n",
    "\n",
    "    df_board=pd.DataFrame(\n",
    "        columns=vectorBoardInfo(),\n",
    "        data=[vectorBoard(mm.board,x) for x in mm.states_history]\n",
    "    )\n",
    "    df_concat=pd.concat([df_states,df_actions,df_board],axis=1)\n",
    "    df_concat.dropna(axis=1, how='all',inplace=True)\n",
    "    \n",
    "    df_red =pd.concat([mm.red.createDataFrame().reset_index(drop=True),df_concat[df_concat['action_team'] == 'red'].copy().drop('action_team', axis=1).reset_index(drop=True)],axis=1)\n",
    "\n",
    "    df_blue =pd.concat([mm.blue.createDataFrame().reset_index(drop=True),df_concat[df_concat['action_team'] == 'blue'].copy().drop('action_team', axis=1).reset_index(drop=True)],axis=1)\n",
    "\n",
    "    df_red['winner']=mm.winner\n",
    "    df_blue['winner']=mm.winner\n",
    "    \n",
    "    df_red = df_red.set_index('count')\n",
    "    df_blue = df_blue.set_index('count')\n",
    "\n",
    "    return df_red, df_blue"
   ]
  },
  {
   "cell_type": "markdown",
   "metadata": {},
   "source": [
    "def plotEntropy(df, color:str,data,winner,ax):\n",
    "    df.score.plot(color=color, marker='.',ax=ax)\n",
    "    df.entropy.plot(color='purple',ax=ax)\n",
    "    df.standard_deviation.plot(color='green',ax=ax)\n",
    "\n",
    "    for i, row in df[['score','action']].reset_index().iterrows():\n",
    "        dy, ha, va = (-0, 'center', 'top') if 'Respond' in row.action else (10, 'center', 'bottom')\n",
    "        ax.annotate(row.action, (row['count'], row.score), ha=ha, va=va, rotation=90, textcoords=\"offset points\", xytext=(0,dy))\n",
    "        \n",
    "    for x in df[['turn']].reset_index().groupby('turn').max().values.tolist():\n",
    "        ax.axvline(x=x[0]+0.5, color='orange')\n",
    "    ax.legend(framealpha=1, frameon=True,loc='center left',bbox_to_anchor=(1,0.5))\n",
    "    title=f'Entropy and Score for agent->{data[0]}. Winner:{winner} '\n",
    "\n",
    "    ax.set_title(title)\n",
    "\n",
    "\n",
    "    "
   ]
  },
  {
   "cell_type": "code",
   "execution_count": 6,
   "metadata": {},
   "outputs": [],
   "source": [
    "def shiftMarker(df,winner):\n",
    "    df_repl=df.tail(1)\n",
    "    #action='Winner' if (df_repl.iloc[0]['team']=='red' and winner=='red') else 'Loser'\n",
    "    #action='Winner' if (df_repl.iloc[0]['team']=='blue' and winner=='blue') else 'Loser'\n",
    "    df_repl.index += 1\n",
    "    \n",
    "    df=df.append(df_repl)\n",
    "    delta=datetime.timedelta(milliseconds=400)\n",
    "    turn=(datetime.datetime.combine(datetime.date(1,1,1),df.iloc[-1]['time']) + delta).time()\n",
    "    df.at[df.index[-1], 'time'] = turn\n",
    "    if df.iloc[-1]['team']=='red':\n",
    "        if df.iloc[-1]['winner']=='red':\n",
    "            action='Winner'\n",
    "        else:\n",
    "            action='Loser'\n",
    "    else:\n",
    "        if df.iloc[-1]['winner']=='blue':\n",
    "            action='Winner'\n",
    "        else:\n",
    "            action='Loser'\n",
    "    df.at[df.index[-1], 'action'] = action\n",
    "    df['score']=df['score'].shift(periods=1,fill_value=0)\n",
    "    \n",
    "    return df\n",
    "    \n"
   ]
  },
  {
   "cell_type": "code",
   "execution_count": 7,
   "metadata": {},
   "outputs": [],
   "source": [
    "def setTime(df,winner):\n",
    "\n",
    "    df['time'] = pd.to_datetime(df['time'],errors='coerce')\n",
    "    df['time']=df['time'].dt.time\n",
    "    df= df.reset_index()\n",
    "    df=shiftMarker(df,winner)\n",
    "    x=df['time'].tolist()\n",
    "    y=df['score'].tolist()\n",
    "    df= df.set_index('time')\n",
    "    return df,x,y\n"
   ]
  },
  {
   "cell_type": "code",
   "execution_count": 8,
   "metadata": {},
   "outputs": [],
   "source": [
    "def setScore(df,model_path):\n",
    "    model=joblib.load(os.path.join(os.getcwd(), model_path[1]))\n",
    "    df= df.reset_index()\n",
    "    df['score']=model.predict(df.drop(['meta_scenario', 'meta_p_red', 'meta_p_blue', 'meta_seed','meta_id','count','time','team','seed','score','action','entropy','standard_deviation','n_scores','scores','actions','winner','random_choice','n_choices','index'], axis=1, errors=\"ignore\"))\n",
    "    return df"
   ]
  },
  {
   "cell_type": "code",
   "execution_count": 9,
   "metadata": {},
   "outputs": [],
   "source": [
    "def separateAction(df):\n",
    "    df_move=df.loc[(df['action'] == 'Move')].copy()\n",
    "    df_attack=df.loc[(df['action'] == 'Attack')].copy()\n",
    "    df_attackground=df.loc[(df['action'] == 'AttackGround')].copy()\n",
    "    df_moveloadinto=df.loc[(df['action'] == 'MoveLoadInto')].copy()\n",
    "    df_passfigure=df.loc[(df['action'] == 'PassFigure')].copy()\n",
    "    df_pass=df.loc[(df['action'] == 'Pass')].copy()\n",
    "    df_passteam=df.loc[(df['action'] == 'PassTeam')].copy()\n",
    "    df_attackrespond=df.loc[(df['action'] == 'AttackRespond')].copy()\n",
    "    df_passrespond=df.loc[(df['action'] == 'PassRespond')].copy()\n",
    "    \n",
    "    \n",
    "    return df_move,df_attack,df_attackground,df_moveloadinto,df_passfigure,df_pass,df_passteam,df_attackrespond,df_passrespond\n",
    "\n",
    "\n",
    "    \n",
    "\n",
    "    "
   ]
  },
  {
   "cell_type": "code",
   "execution_count": 17,
   "metadata": {},
   "outputs": [],
   "source": [
    "def plotEntropyTime(df_red,df_blue,red_data,blue_data,winner,scenario,model_path):\n",
    "    df_red.dropna(inplace=True)\n",
    "    df_blue.dropna(inplace=True)\n",
    "    position=[]\n",
    "    labels=df_red['turn'].unique().tolist()\n",
    "    loser='blue' if winner == 'red' else 'red'\n",
    "    \n",
    "\n",
    "    df_red=setScore(df_red,model_path)\n",
    "    df_blue=setScore(df_blue,model_path)\n",
    "\n",
    "\n",
    "    df_red,x_red,y_red=setTime(df_red,winner)\n",
    "    df_blue,x_blue,y_blue=setTime(df_blue,winner)\n",
    "    \n",
    "    \n",
    "    if(red_data[0]=='ran'):\n",
    "        df_red['standard_deviation']=0\n",
    "    if(blue_data[0]=='ran'):\n",
    "        df_blue['standard_deviation']=0\n",
    "        \n",
    "    df_red['standard_deviation']=df_red['standard_deviation'].mul(-1)\n",
    "\n",
    "\n",
    "    fig, ax = plt.subplots()\n",
    "    df_move_r,df_attack_r,df_attackground_r,df_moveloadinto_r,df_passfigure_r,df_pass_r,df_passteam_r,df_attackrespond_r,df_passrespond_r=separateAction(df_red)\n",
    "    df_move_b,df_attack_b,df_attackground_b,df_moveloadinto_b,df_passfigure_b,df_pass_b,df_passteam_b,df_attackrespond_b,df_passrespond_b=separateAction(df_blue)\n",
    "\n",
    "\n",
    "     \n",
    "    df_red.score.plot(color='red',legend=False,ax=ax,label='_nolegend_')\n",
    "    df_blue.score.plot(color='blue',legend=False,ax=ax,label='_nolegend_')\n",
    "    df_red.standard_deviation.plot(color='red',legend=False,ax=ax,style='--',linewidth=0.5,label='_nolegend_')\n",
    "    df_blue.standard_deviation.plot(color='blue',legend=False,ax=ax,style='--',linewidth=0.5,label='_nolegend_')\n",
    "    \n",
    "    df_move_r.score.plot(color='red',marker='D',linestyle='None',label='_nolegend_',legend=False)\n",
    "    df_move_b.score.plot(color='blue',marker='D',linestyle='None',label='_nolegend_',legend=False)\n",
    "\n",
    "    df_attack_r.score.plot(color='red',marker='o',linestyle='None',label='_nolegend_',legend=False)\n",
    "    df_attack_b.score.plot(color='blue',marker='o',linestyle='None',label='_nolegend_',legend=False)\n",
    "    \n",
    "    df_attackground_r.score.plot(color='red',marker='p',linestyle='None',label='_nolegend_',legend=False)\n",
    "    df_attackground_b.score.plot(color='blue',marker='p',linestyle='None',label='_nolegend_',legend=False)\n",
    "    \n",
    "    df_moveloadinto_r.score.plot(color='red',marker='*',linestyle='None',label='_nolegend_',legend=False)\n",
    "    df_moveloadinto_b.score.plot(color='blue',marker='*',linestyle='None',label='_nolegend_',legend=False)\n",
    "    \n",
    "    df_passfigure_r.score.plot(color='red',marker='v',linestyle='None',label='_nolegend_',legend=False)\n",
    "    df_passfigure_b.score.plot(color='blue',marker='v',linestyle='None',label='_nolegend_',legend=False)\n",
    "    \n",
    "    df_pass_r.score.plot(color='red',marker='P',linestyle='None',label='_nolegend_',legend=False)\n",
    "    df_pass_b.score.plot(color='blue',marker='P',linestyle='None',label='_nolegend_',legend=False)\n",
    "    \n",
    "    df_passteam_r.score.plot(color='red',marker='<',linestyle='None',label='_nolegend_',legend=False)\n",
    "    df_passteam_b.score.plot(color='blue',marker='<',linestyle='None',label='_nolegend_',legend=False)\n",
    "    \n",
    "    df_attackrespond_r.score.plot(color='red',marker='X',linestyle='None',label='_nolegend_',legend=False)\n",
    "    df_attackrespond_b.score.plot(color='blue',marker='X',linestyle='None',label='_nolegend_',legend=False)\n",
    "    \n",
    "    df_passrespond_r.score.plot(color='red',marker='s',linestyle='None',label='_nolegend_',legend=False)\n",
    "    df_passrespond_b.score.plot(color='blue',marker='s',linestyle='None',label='_nolegend_',legend=False)\n",
    "    \n",
    "    p1,p2,p3,p4,p5,p6,p7,p8,p9,p10,p11,p12,p13,p14,p15,p16,p17,p18,p19,p20,p21,p22 = [child for child in ax.get_children() if isinstance(child, Line2D)]\n",
    "    \n",
    "    if df_red.iloc[-1]['action']=='Winner':\n",
    "        df_red.loc[(df_red['action'] == 'Winner')].score.plot(color='red',marker='o',linestyle='None',fillstyle='none',label='Winner',legend=False)\n",
    "    else:\n",
    "        df_red.loc[(df_red['action'] == 'Loser')].score.plot(color='red',marker='x',linestyle='None',fillstyle='none',label='Loser',legend=False)\n",
    "    \n",
    "    if df_blue.iloc[-1]['action']=='Winner':\n",
    "        df_blue.loc[(df_blue['action'] == 'Winner')].score.plot(color='blue',marker='o',linestyle='None',fillstyle='none',label='Winner',legend=False)\n",
    "    else:\n",
    "        df_blue.loc[(df_blue['action'] == 'Loser')].score.plot(color='blue',marker='x',linestyle='None',fillstyle='none',label='Loser',legend=False)\n",
    "\n",
    "    \n",
    "    '''\n",
    "        markers={'Attack':('o','full'),\n",
    "             'AttackGround':('p','full'),\n",
    "             'Move':('D','full'),\n",
    "            'MoveLoadInto':('*','full'),\n",
    "            'PassFigure':('v','full'),\n",
    "             'Pass':('P','full'),\n",
    "             'PassTeam':('<','full'),\n",
    "             'AttackRespond':('X','full'),\n",
    "             'PassRespond':('s','full'),\n",
    "             'Winner':('o','none'),\n",
    "             'Loser':('x','none'),\n",
    "            }\n",
    "    dataframes={'red':df_red,\n",
    "           'blue':df_blue}\n",
    "    for i in dataframes:\n",
    "        for a in dataframes[i]['action'].unique():\n",
    "            dataframes[i].loc[dataframes[i][\"action\"] == a].score.plot(color=i,marker=markers[a][0],fillstyle=markers[a][1],linestyle='None',label=a,legend=False)'''\n",
    "\n",
    "    for x in df_red[['turn']].reset_index().groupby('turn').min().values.tolist():\n",
    "        delta=datetime.timedelta(milliseconds=20)\n",
    "        turn=(datetime.datetime.combine(datetime.date(1,1,1),x[0]) - delta).time()\n",
    "        ax.axvline(x=turn, color='black',linewidth=0.7)\n",
    "        position.append(turn)\n",
    "\n",
    "    ax.vlines(x_red, -1, y_red, linestyle=':',linewidth=0.5,color='red',alpha=0.5)\n",
    "    ax.vlines(x_blue, -1, y_blue, linestyle=':',linewidth=0.5,color='blue',alpha=0.5)\n",
    "    ax.axhline(color='black',linewidth=0.5)\n",
    "    \n",
    "    position.append((datetime.datetime.combine(datetime.date(1,1,1),max(x_blue)) +datetime.timedelta(milliseconds=15)).time())\n",
    "    labels.append('Game Over')\n",
    "    plt.xticks(position, labels)\n",
    "    plt.yticks([-1,0,1], ['likely to win','neutral','likely to lose'])\n",
    "\n",
    "    legend_elements = [Line2D([0], [0], color='red', label=f'Attacker ({red_data[0]})'),\n",
    "                   Line2D([0], [0], color='blue', label=f'Defender ({blue_data[0]})')]\n",
    "\n",
    "    leg0=ax.legend(bbox_to_anchor=(1, 0), loc='lower left')\n",
    "    leg1 = ax.legend([(p1, p2), (p3,p4),(p5,p6),(p7,p8),(p9,p10),(p11,p12),(p13,p14),(p15,p16),(p17,p18),(p19,p20),(p21,p22)], ['Score', 'Entropy','Move','Attack','AttackGround','MoveLoadInto','PassFigure','Pass','PassTeam','AttackRespond','PassRespond'],bbox_to_anchor=(1,1), loc=\"upper left\",\n",
    "               handler_map={tuple: HandlerTuple(ndivide=None)})    \n",
    "    leg2 = ax.legend(handles=legend_elements, loc='upper left')\n",
    "    ax.add_artist(leg1)\n",
    "    ax.add_artist(leg0)\n",
    "    ax.set_ylim(-1,+1)\n",
    "    ax.set_xlim(right=(datetime.datetime.combine(datetime.date(1,1,1),max(x_blue)) +datetime.timedelta(milliseconds=15)).time())\n",
    "    ax.set_xlabel('Turn')\n",
    "    title=f'Scenario: {scenario}. Winner: {winner}. Loser: {loser} '\n",
    "\n",
    "    ax.set_title(title)\n",
    "\n"
   ]
  },
  {
   "cell_type": "markdown",
   "metadata": {},
   "source": [
    "def plotContrast(df):\n",
    "    df[df['team']=='red']['entropy'].plot(color='red'), df[df['team']=='blue']['entropy'].plot(color='blue')"
   ]
  },
  {
   "cell_type": "code",
   "execution_count": 11,
   "metadata": {},
   "outputs": [],
   "source": [
    "def playAndAnalyzeTime(seed:int, red_data, blue_data,model_path):\n",
    "    with open('MatchManager.pkl', 'wb') as output:\n",
    "        mm,scenario = game(seed, red_data, blue_data)\n",
    "        pickle.dump(mm, output, pickle.HIGHEST_PROTOCOL)\n",
    "\n",
    "        \n",
    "    df_red, df_blue= prepareDataFrames(mm)\n",
    "\n",
    "    plotEntropyTime(df_red,df_blue,red_data,blue_data,mm.winner,scenario,model_path)\n",
    "    \n",
    "    plt.show()\n",
    "    #file_name=f'../graphs/{red_data[0]}_{blue_data[0]}_Junction_{seed}.png'\n",
    "    #plt.savefig(file_name)\n",
    "\n",
    "    #df_red.to_csv('df_red.csv')\n",
    "    #df_blue.to_csv('df_blue.csv')\n",
    "    \n",
    "    return df_red, df_blue"
   ]
  },
  {
   "cell_type": "markdown",
   "metadata": {},
   "source": [
    "def playAndAnalyze(seed:int, red_data, blue_data):  \n",
    "    mm,scenario = game(seed, red_data, blue_data)\n",
    "        \n",
    "    df_red, df_blue, _, _ = prepareDataFrames(mm)\n",
    "    \n",
    "    fig,(ax1,ax2)=plt.subplots(nrows=2,ncols=1,figsize=(12,12))\n",
    "    plotEntropy(df_red, 'red',red_data,mm.winner,ax1)\n",
    "    plotEntropy(df_blue, 'blue',blue_data,mm.winner,ax2)\n",
    "    \n",
    "    plt.show()\n",
    "    \n",
    "    return df_red, df_blue"
   ]
  },
  {
   "cell_type": "code",
   "execution_count": 12,
   "metadata": {},
   "outputs": [],
   "source": [
    "red_models = [\n",
    "    ('gre', ''),\n",
    "    ('ran',''),\n",
    "    #('cls', '../models/Junction_RandomForestClassifier_red_20210301.joblib'),\n",
    "    ('cls', '../models/Junction_RandomForestClassifier_20210301.joblib'),\n",
    "    #('reg', '../models/Junction_RandomForestRegressor_red_20210301.joblib'),\n",
    "    ('reg', '../models/Junction_RandomForestRegressor_20210301.joblib'),\n",
    "    ('regMulti','../models/Junction_RandomForestRegressor_red_attack_20210301.joblib','../models/Junction_RandomForestRegressor_red_move_20210301.joblib','../models/Junction_RandomForestRegressor_red_pass_20210301.joblib')\n",
    "\n",
    "]\n",
    "blue_models = [\n",
    "    ('gre', ''),\n",
    "    ('ran',''),\n",
    "    #('cls', '../models/Junction_RandomForestClassifier_blue_20210301.joblib'),\n",
    "    ('cls', '../models/Junction_RandomForestClassifier_20210301.joblib'),\n",
    "    #('reg', '../models/Junction_RandomForestRegressor_blue_20210301.joblib'),\n",
    "    ('reg', '../models/Junction_RandomForestRegressor_20210301.joblib'),\n",
    "    ('regMulti','../models/Junction_RandomForestRegressor_blue_attack_20210301.joblib','../models/Junction_RandomForestRegressor_blue_move_20210301.joblib','../models/Junction_RandomForestRegressor_blue_pass_20210301.joblib')\n",
    "]"
   ]
  },
  {
   "cell_type": "code",
   "execution_count": 20,
   "metadata": {},
   "outputs": [],
   "source": [
    "def play(args):\n",
    "    seed,red_data,blue_data,model_path=args\n",
    "    mm,scenario = game(seed, red_data, blue_data)\n",
    "\n",
    "    \n",
    "    df_red, df_blue= prepareDataFrames(mm)\n",
    "\n",
    "    plotEntropyTime(df_red,df_blue,red_data,blue_data,mm.winner,scenario,model_path)\n",
    "    \n",
    "    #plt.show()\n",
    "    file_name=f'../graphs/{red_data[0]}_{blue_data[0]}_Junction_{seed}.png'\n",
    "    plt.savefig(file_name)\n",
    "\n",
    "    #df_red.to_csv('df_red.csv')\n",
    "    #df_blue.to_csv('df_blue.csv')\n",
    "    \n",
    "    return df_red, df_blue"
   ]
  },
  {
   "cell_type": "code",
   "execution_count": 21,
   "metadata": {},
   "outputs": [],
   "source": [
    "args=[]\n",
    "for i in range(0, 2):\n",
    "    for agentRed, agentBlue in product(red_models, blue_models):\n",
    "        args.append((i,agentRed,agentBlue,red_models[3]))"
   ]
  },
  {
   "cell_type": "code",
   "execution_count": 22,
   "metadata": {},
   "outputs": [
    {
     "name": "stdout",
     "output_type": "stream",
     "text": [
      "seed:    0\n",
      "red  -> GreedyAgent\n",
      "seed:    0\n",
      "blue -> RegressionAgentMulti\n",
      "red  -> GreedyAgent\n",
      "seed:    0\n",
      "blue -> ClassifierAgent\n",
      "red  -> RegressionAgent\n",
      "seed:    0\n",
      "seed:    0\n",
      "seed:    0\n",
      "red  -> GreedyAgent\n",
      "red  -> RegressionAgentMulti\n",
      "seed:    0\n",
      "red  -> RandomAgent\n",
      "blue -> RandomAgent\n",
      "seed:    0\n",
      "seed:    0\n",
      "seed:    0\n",
      "seed:    0\n",
      "seed:    1\n",
      "seed:    1\n",
      "red  -> RandomAgent\n",
      "seed:    1\n",
      "seed:    1\n",
      "blue -> GreedyAgent\n",
      "seed:    1\n",
      "red  -> RegressionAgent\n",
      "red  -> RegressionAgentMulti\n",
      "red  -> RegressionAgentMulti\n",
      "red  -> RegressionAgentMulti\n",
      "red  -> GreedyAgent\n",
      "red  -> GreedyAgent\n",
      "blue -> RandomAgent\n",
      "red  -> RandomAgent\n",
      "red  -> GreedyAgent\n",
      "seed:    0\n",
      "red  -> RandomAgent\n",
      "blue -> RandomAgent\n",
      "blue -> GreedyAgent\n",
      "blue -> ClassifierAgent\n",
      "blue -> ClassifierAgent\n",
      "red  -> GreedyAgent\n",
      "seed:    0\n",
      "seed:    1\n",
      "blue -> GreedyAgent\n",
      "red  -> ClassifierAgent\n",
      "seed:    1\n",
      "seed:    1\n",
      "red  -> GreedyAgent\n",
      "seed:    1\n",
      "seed:    1\n",
      "blue -> GreedyAgent\n",
      "seed:    0\n",
      "seed:    1\n",
      "seed:    0\n",
      "red  -> RegressionAgentMulti\n",
      "red  -> GreedyAgent\n",
      "red  -> ClassifierAgent\n",
      "seed:    0\n",
      "blue -> RegressionAgent\n",
      "red  -> RegressionAgentMulti\n",
      "seed:    1\n",
      "red  -> RandomAgent\n",
      "seed:    0\n",
      "blue -> RegressionAgent\n",
      "seed:    0\n",
      "seed:    0\n",
      "seed:    0\n",
      "red  -> RegressionAgentMulti\n",
      "seed:    1\n",
      "red  -> RandomAgent\n",
      "red  -> RegressionAgent\n",
      "seed:    1\n",
      "seed:    0\n",
      "blue -> ClassifierAgent\n",
      "red  -> RegressionAgent\n",
      "seed:    1\n",
      "seed:    1\n",
      "red  -> RegressionAgent\n",
      "seed:    1\n",
      "red  -> ClassifierAgent\n",
      "red  -> ClassifierAgent\n",
      "red  -> RandomAgent\n",
      "blue -> RegressionAgentMulti\n",
      "seed:    1\n",
      "red  -> ClassifierAgent\n",
      "red  -> RandomAgent\n",
      "red  -> ClassifierAgent\n",
      "red  -> RegressionAgentMulti\n",
      "blue -> RegressionAgent\n",
      "seed:    0\n",
      "red  -> ClassifierAgent\n",
      "red  -> RegressionAgent\n",
      "seed:    0\n",
      "seed:    1\n",
      "red  -> RandomAgent\n",
      "seed:    0\n",
      "red  -> ClassifierAgent\n",
      "blue -> RandomAgent\n",
      "red  -> GreedyAgent\n",
      "red  -> RegressionAgentMulti\n",
      "blue -> RegressionAgentMulti\n",
      "red  -> ClassifierAgent\n",
      "blue -> RegressionAgentMulti\n",
      "seed:    1\n",
      "seed:    0\n",
      "red  -> RegressionAgentMulti\n",
      "red  -> RegressionAgent\n",
      "seed:    1\n",
      "seed:    1\n",
      "red  -> RegressionAgent\n",
      "seed:    1\n",
      "red  -> ClassifierAgent\n",
      "red  -> RegressionAgent\n",
      "seed:    1\n",
      "seed:    1\n",
      "red  -> RegressionAgent\n",
      "red  -> RandomAgent\n",
      "blue -> RegressionAgent\n",
      "blue -> GreedyAgent\n",
      "blue -> ClassifierAgent\n",
      "blue -> RegressionAgent\n",
      "blue -> RegressionAgentMulti\n",
      "blue -> ClassifierAgent\n",
      "blue -> RegressionAgentMulti\n",
      "blue -> RandomAgent\n",
      "blue -> RegressionAgent\n",
      "blue -> GreedyAgent\n",
      "blue -> RandomAgent\n",
      "blue -> RegressionAgentMulti\n",
      "blue -> RegressionAgent\n",
      "blue -> GreedyAgent\n",
      "blue -> RandomAgent\n",
      "blue -> GreedyAgent\n",
      "blue -> GreedyAgent\n",
      "blue -> RandomAgent\n",
      "blue -> RegressionAgentMulti\n",
      "blue -> ClassifierAgent\n",
      "blue -> RandomAgent\n",
      "blue -> ClassifierAgent\n",
      "blue -> ClassifierAgent\n",
      "blue -> ClassifierAgent\n",
      "blue -> RegressionAgent\n",
      "blue -> RegressionAgent\n",
      "blue -> GreedyAgent\n",
      "blue -> RegressionAgent\n",
      "blue -> RegressionAgentMulti\n",
      "blue -> RegressionAgentMulti\n",
      "blue -> RandomAgent\n"
     ]
    },
    {
     "name": "stderr",
     "output_type": "stream",
     "text": [
      "Entropy out of range: 3.032140773294549\n",
      "[-0.1, 0.04, 0.04, 0.08, 0.0, 0.22, 0.26, -0.02, -0.04, 0.22, 0.06, 0.02, -0.06, 0.22, 0.22, 0.22, -0.02, 0.04, 0.08, 0.22, 0.02, 0.22, 0.02, 0.02, 0.04, 0.28, 0.22, 0.06, 0.02, 0.22, 0.26, 0.02, 0.08, 0.02, -0.06, 0.02, 0.22, -0.06, 0.22, 0.08, 0.0, 0.06, 0.26, 0.22, 0.08, 0.0, 0.22, 0.22, 0.08, 0.0, 0.22, 0.26, -0.02, 0.22, 0.02, 0.08, 0.22, 0.04, 0.22, 0.22, 0.22, 0.06, 0.0, -0.04, 0.06, 0.22, 0.22, 0.22, -0.04, -0.02, 0.22, 0.28, 0.02, 0.08, -0.1, 0.06, 0.06, 0.1, 0.02, 0.08, 0.0, 0.0, 0.06, 0.1, 0.08, 0.04, 0.12, 0.04, 0.06, 0.06, 0.08, 0.04, 0.1, 0.04, 0.1, 0.04, 0.1, 0.1, 0.08, 0.02, 0.1, 0.12, 0.02, 0.1, 0.04, 0.0, 0.0, 0.04, 0.02, 0.06, 0.06, 0.12, 0.1, -0.1, 0.12, 0.12, 0.16, 0.08, 0.14, 0.0, 0.0, 0.12, 0.16, 0.14, 0.1, 0.18, 0.1, 0.12, 0.12, 0.14, 0.1, 0.16, 0.1, 0.16, 0.1, 0.16, 0.16, 0.14, 0.08, 0.16, 0.18, 0.08, 0.16, 0.1, 0.0, 0.0, 0.1, 0.08, 0.12, 0.12, 0.18, 0.16]\n"
     ]
    },
    {
     "name": "stdout",
     "output_type": "stream",
     "text": [
      "winner:  blue\n"
     ]
    },
    {
     "name": "stderr",
     "output_type": "stream",
     "text": [
      "No actions available: no response given\n",
      "No actions available: no response given\n"
     ]
    },
    {
     "name": "stdout",
     "output_type": "stream",
     "text": [
      "winner:  blue\n"
     ]
    },
    {
     "name": "stderr",
     "output_type": "stream",
     "text": [
      "No actions available: no response given\n",
      "No actions available: no response given\n",
      "No actions available: no response given\n",
      "No actions available: no response given\n",
      "No actions available: no response given\n",
      "Entropy out of range: 3.032140773294549\n",
      "[-0.1, 0.04, 0.04, 0.08, 0.0, 0.22, 0.26, -0.02, -0.04, 0.22, 0.06, 0.02, -0.06, 0.22, 0.22, 0.22, -0.02, 0.04, 0.08, 0.22, 0.02, 0.22, 0.02, 0.02, 0.04, 0.28, 0.22, 0.06, 0.02, 0.22, 0.26, 0.02, 0.08, 0.02, -0.06, 0.02, 0.22, -0.06, 0.22, 0.08, 0.0, 0.06, 0.26, 0.22, 0.08, 0.0, 0.22, 0.22, 0.08, 0.0, 0.22, 0.26, -0.02, 0.22, 0.02, 0.08, 0.22, 0.04, 0.22, 0.22, 0.22, 0.06, 0.0, -0.04, 0.06, 0.22, 0.22, 0.22, -0.04, -0.02, 0.22, 0.28, 0.02, 0.08, -0.1, 0.06, 0.06, 0.1, 0.02, 0.08, 0.0, 0.0, 0.06, 0.1, 0.08, 0.04, 0.12, 0.04, 0.06, 0.06, 0.08, 0.04, 0.1, 0.04, 0.1, 0.04, 0.1, 0.1, 0.08, 0.02, 0.1, 0.12, 0.02, 0.1, 0.04, 0.0, 0.0, 0.04, 0.02, 0.06, 0.06, 0.12, 0.1, -0.1, 0.12, 0.12, 0.16, 0.08, 0.14, 0.0, 0.0, 0.12, 0.16, 0.14, 0.1, 0.18, 0.1, 0.12, 0.12, 0.14, 0.1, 0.16, 0.1, 0.16, 0.1, 0.16, 0.16, 0.14, 0.08, 0.16, 0.18, 0.08, 0.16, 0.1, 0.0, 0.0, 0.1, 0.08, 0.12, 0.12, 0.18, 0.16]\n",
      "Entropy out of range: 3.032140773294549\n",
      "[-0.1, 0.04, 0.04, 0.08, 0.0, 0.22, 0.26, -0.02, -0.04, 0.22, 0.06, 0.02, -0.06, 0.22, 0.22, 0.22, -0.02, 0.04, 0.08, 0.22, 0.02, 0.22, 0.02, 0.02, 0.04, 0.28, 0.22, 0.06, 0.02, 0.22, 0.26, 0.02, 0.08, 0.02, -0.06, 0.02, 0.22, -0.06, 0.22, 0.08, 0.0, 0.06, 0.26, 0.22, 0.08, 0.0, 0.22, 0.22, 0.08, 0.0, 0.22, 0.26, -0.02, 0.22, 0.02, 0.08, 0.22, 0.04, 0.22, 0.22, 0.22, 0.06, 0.0, -0.04, 0.06, 0.22, 0.22, 0.22, -0.04, -0.02, 0.22, 0.28, 0.02, 0.08, -0.1, 0.06, 0.06, 0.1, 0.02, 0.08, 0.0, 0.0, 0.06, 0.1, 0.08, 0.04, 0.12, 0.04, 0.06, 0.06, 0.08, 0.04, 0.1, 0.04, 0.1, 0.04, 0.1, 0.1, 0.08, 0.02, 0.1, 0.12, 0.02, 0.1, 0.04, 0.0, 0.0, 0.04, 0.02, 0.06, 0.06, 0.12, 0.1, -0.1, 0.12, 0.12, 0.16, 0.08, 0.14, 0.0, 0.0, 0.12, 0.16, 0.14, 0.1, 0.18, 0.1, 0.12, 0.12, 0.14, 0.1, 0.16, 0.1, 0.16, 0.1, 0.16, 0.16, 0.14, 0.08, 0.16, 0.18, 0.08, 0.16, 0.1, 0.0, 0.0, 0.1, 0.08, 0.12, 0.12, 0.18, 0.16]\n",
      "Entropy out of range: 3.032140773294549\n",
      "[-0.1, 0.04, 0.04, 0.08, 0.0, 0.22, 0.26, -0.02, -0.04, 0.22, 0.06, 0.02, -0.06, 0.22, 0.22, 0.22, -0.02, 0.04, 0.08, 0.22, 0.02, 0.22, 0.02, 0.02, 0.04, 0.28, 0.22, 0.06, 0.02, 0.22, 0.26, 0.02, 0.08, 0.02, -0.06, 0.02, 0.22, -0.06, 0.22, 0.08, 0.0, 0.06, 0.26, 0.22, 0.08, 0.0, 0.22, 0.22, 0.08, 0.0, 0.22, 0.26, -0.02, 0.22, 0.02, 0.08, 0.22, 0.04, 0.22, 0.22, 0.22, 0.06, 0.0, -0.04, 0.06, 0.22, 0.22, 0.22, -0.04, -0.02, 0.22, 0.28, 0.02, 0.08, -0.1, 0.06, 0.06, 0.1, 0.02, 0.08, 0.0, 0.0, 0.06, 0.1, 0.08, 0.04, 0.12, 0.04, 0.06, 0.06, 0.08, 0.04, 0.1, 0.04, 0.1, 0.04, 0.1, 0.1, 0.08, 0.02, 0.1, 0.12, 0.02, 0.1, 0.04, 0.0, 0.0, 0.04, 0.02, 0.06, 0.06, 0.12, 0.1, -0.1, 0.12, 0.12, 0.16, 0.08, 0.14, 0.0, 0.0, 0.12, 0.16, 0.14, 0.1, 0.18, 0.1, 0.12, 0.12, 0.14, 0.1, 0.16, 0.1, 0.16, 0.1, 0.16, 0.16, 0.14, 0.08, 0.16, 0.18, 0.08, 0.16, 0.1, 0.0, 0.0, 0.1, 0.08, 0.12, 0.12, 0.18, 0.16]\n",
      "Entropy out of range: 3.032140773294549\n",
      "[-0.1, 0.04, 0.04, 0.08, 0.0, 0.22, 0.26, -0.02, -0.04, 0.22, 0.06, 0.02, -0.06, 0.22, 0.22, 0.22, -0.02, 0.04, 0.08, 0.22, 0.02, 0.22, 0.02, 0.02, 0.04, 0.28, 0.22, 0.06, 0.02, 0.22, 0.26, 0.02, 0.08, 0.02, -0.06, 0.02, 0.22, -0.06, 0.22, 0.08, 0.0, 0.06, 0.26, 0.22, 0.08, 0.0, 0.22, 0.22, 0.08, 0.0, 0.22, 0.26, -0.02, 0.22, 0.02, 0.08, 0.22, 0.04, 0.22, 0.22, 0.22, 0.06, 0.0, -0.04, 0.06, 0.22, 0.22, 0.22, -0.04, -0.02, 0.22, 0.28, 0.02, 0.08, -0.1, 0.06, 0.06, 0.1, 0.02, 0.08, 0.0, 0.0, 0.06, 0.1, 0.08, 0.04, 0.12, 0.04, 0.06, 0.06, 0.08, 0.04, 0.1, 0.04, 0.1, 0.04, 0.1, 0.1, 0.08, 0.02, 0.1, 0.12, 0.02, 0.1, 0.04, 0.0, 0.0, 0.04, 0.02, 0.06, 0.06, 0.12, 0.1, -0.1, 0.12, 0.12, 0.16, 0.08, 0.14, 0.0, 0.0, 0.12, 0.16, 0.14, 0.1, 0.18, 0.1, 0.12, 0.12, 0.14, 0.1, 0.16, 0.1, 0.16, 0.1, 0.16, 0.16, 0.14, 0.08, 0.16, 0.18, 0.08, 0.16, 0.1, 0.0, 0.0, 0.1, 0.08, 0.12, 0.12, 0.18, 0.16]\n",
      "No actions available: no response given\n",
      "No actions available: no response given\n",
      "No actions available: no response given\n",
      "No actions available: no response given\n",
      "No actions available: no response given\n",
      "No actions available: no response given\n"
     ]
    },
    {
     "name": "stdout",
     "output_type": "stream",
     "text": [
      "winner:  red\n"
     ]
    },
    {
     "name": "stderr",
     "output_type": "stream",
     "text": [
      "No actions available: no response given\n",
      "No actions available: no response given\n",
      "No actions available: no response given\n",
      "No actions available: no response given\n",
      "No actions available: no response given\n"
     ]
    },
    {
     "name": "stdout",
     "output_type": "stream",
     "text": [
      "winner:  red\n"
     ]
    },
    {
     "name": "stderr",
     "output_type": "stream",
     "text": [
      "No actions available: no response given\n",
      "No actions available: no response given\n",
      "No actions available: no response given\n",
      "No actions available: no response given\n",
      "No actions available: no response given\n",
      "No actions available: no response given\n",
      "No actions available: no response given\n",
      "Entropy out of range: 3.652838416545343\n",
      "[-0.08, 0.02, 0.22, 0.08, 0.06, 0.1, -0.04, 0.22, -0.02, 0.22, -0.06, 0.02, 0.06, 0.22, -0.02, 0.02, 0.06, 0.22, 0.1, 0.02, 0.02, 0.22, -0.06, 0.26, 0.06, 0.02, 0.08, 0.02, 0.22, 0.22, 0.22, -0.04, -0.06, 0.26, 0.26, 0.06, 0.02, 0.06, -0.04, 0.08, 0.02, -0.04, 0.28, 0.22, 0.22, 0.1, -0.02, 0.26, -0.02, 0.08, -0.04, -0.04, 0.02, 0.22, 0.08, 0.22, -0.06, -0.02, 0.02, 0.0, 0.22, 0.02, 0.26, -0.02, 0.08, -0.04, -0.06, 0.22, 0.08, 0.28, 0.22, 0.22, -0.06, -0.04, 0.22, -0.06, -0.04, -0.04, 0.1, 0.22, 0.22, 0.06, 0.02, 0.26, 0.02, -0.04, -0.04, 0.22, 0.08, 0.08, 0.26, 0.22, 0.02, -0.02, -0.06, 0.22, -0.08, 0.1, 0.06, 0.08, 0.06, 0.04, 0.14, 0.04, 0.12, 0.06, 0.12, 0.12, 0.08, 0.1, 0.06, 0.06, 0.08, 0.08, 0.06, 0.04, 0.04, 0.1, 0.06, 0.06, 0.06, 0.12, 0.04, 0.06, 0.14, 0.12, 0.08, 0.1, 0.12, 0.04, 0.06, 0.06, 0.14, -0.08, 0.16, 0.14, 0.16, 0.16, 0.14, 0.0, 0.02, 0.18, 0.18, 0.0, 0.02, 0.18, 0.16, 0.16, 0.02, 0.14, 0.02, 0.0, 0.1, 0.02, 0.0, 0.1, 0.16, 0.14, 0.02, 0.16, 0.02, 0.18, 0.1, 0.16, 0.16, 0.1, 0.0, 0.0, 0.02]\n",
      "Entropy out of range: 3.652838416545343\n",
      "[-0.08, 0.02, 0.22, 0.08, 0.06, 0.1, -0.04, 0.22, -0.02, 0.22, -0.06, 0.02, 0.06, 0.22, -0.02, 0.02, 0.06, 0.22, 0.1, 0.02, 0.02, 0.22, -0.06, 0.26, 0.06, 0.02, 0.08, 0.02, 0.22, 0.22, 0.22, -0.04, -0.06, 0.26, 0.26, 0.06, 0.02, 0.06, -0.04, 0.08, 0.02, -0.04, 0.28, 0.22, 0.22, 0.1, -0.02, 0.26, -0.02, 0.08, -0.04, -0.04, 0.02, 0.22, 0.08, 0.22, -0.06, -0.02, 0.02, 0.0, 0.22, 0.02, 0.26, -0.02, 0.08, -0.04, -0.06, 0.22, 0.08, 0.28, 0.22, 0.22, -0.06, -0.04, 0.22, -0.06, -0.04, -0.04, 0.1, 0.22, 0.22, 0.06, 0.02, 0.26, 0.02, -0.04, -0.04, 0.22, 0.08, 0.08, 0.26, 0.22, 0.02, -0.02, -0.06, 0.22, -0.08, 0.1, 0.06, 0.08, 0.06, 0.04, 0.14, 0.04, 0.12, 0.06, 0.12, 0.12, 0.08, 0.1, 0.06, 0.06, 0.08, 0.08, 0.06, 0.04, 0.04, 0.1, 0.06, 0.06, 0.06, 0.12, 0.04, 0.06, 0.14, 0.12, 0.08, 0.1, 0.12, 0.04, 0.06, 0.06, 0.14, -0.08, 0.16, 0.14, 0.16, 0.16, 0.14, 0.0, 0.02, 0.18, 0.18, 0.0, 0.02, 0.18, 0.16, 0.16, 0.02, 0.14, 0.02, 0.0, 0.1, 0.02, 0.0, 0.1, 0.16, 0.14, 0.02, 0.16, 0.02, 0.18, 0.1, 0.16, 0.16, 0.1, 0.0, 0.0, 0.02]\n",
      "No actions available: no response given\n",
      "No actions available: no response given\n",
      "No actions available: no response given\n",
      "No actions available: no response given\n",
      "No actions available: no response given\n",
      "Entropy out of range: 2.158698772054174\n",
      "No actions available: no response given\n",
      "[-0.16, -0.04, 0.26, 0.26, 0.26, 0.22, -0.04, 0.22, 0.32, 0.26, -0.04, -0.04, 0.26, -0.04, 0.26, 0.26, 0.26, 0.26, 0.26, 0.22, 0.22, -0.04, 0.26, 0.26, 0.26, 0.32, 0.22, 0.26, -0.04, 0.32, 0.26, -0.04, 0.32, 0.22, 0.26, -0.04, -0.16, 0.02, 0.26, 0.26, 0.22, 0.26, 0.02, 0.32, 0.26, 0.02, 0.26, 0.02, 0.26, 0.22, 0.26, 0.22, 0.26, 0.02, 0.26, 0.02, 0.26, 0.26, 0.22, 0.26, 0.32, 0.02, 0.22, 0.26, 0.02, 0.32, 0.26, 0.22, 0.26, 0.02, 0.26, 0.32]\n",
      "No actions available: no response given\n",
      "No actions available: no response given\n",
      "No actions available: no response given\n",
      "No actions available: no response given\n",
      "No actions available: no response given\n",
      "No actions available: no response given\n",
      "No actions available: no response given\n",
      "No actions available: no response given\n",
      "No actions available: no response given\n"
     ]
    },
    {
     "name": "stdout",
     "output_type": "stream",
     "text": [
      "winner:  red\n"
     ]
    },
    {
     "name": "stderr",
     "output_type": "stream",
     "text": [
      "Entropy out of range: 1.9782875281420615\n",
      "[-0.12, 0.06, 0.06, 0.06, 0.04, 0.02, 0.06, 0.04, 0.04, 0.06, 0.04, 0.06, 0.02, 0.06, 0.06, 0.06, 0.06, 0.06, 0.06, 0.06, 0.06, 0.06, 0.06, 0.06, 0.06, 0.06, 0.06, 0.06, 0.06, 0.06, 0.06, 0.02, 0.06, 0.06, 0.02, 0.04, 0.06, -0.12, 0.18, 0.18, 0.18, 0.18, 0.18, 0.18, 0.18, 0.18, 0.18, 0.18, 0.18, 0.18, 0.18, 0.18, 0.18, 0.18, 0.18, 0.18, 0.18, 0.18, 0.18, 0.18, 0.18, 0.18, 0.18, 0.18, 0.18, 0.18, 0.18, 0.18, 0.18, 0.18, 0.18, 0.18, 0.18, 0.18]\n",
      "No actions available: no response given\n"
     ]
    },
    {
     "name": "stdout",
     "output_type": "stream",
     "text": [
      "winner:  blue\n"
     ]
    },
    {
     "name": "stderr",
     "output_type": "stream",
     "text": [
      "No actions available: no response given\n",
      "No actions available: no response given\n",
      "No actions available: no response given\n"
     ]
    },
    {
     "name": "stdout",
     "output_type": "stream",
     "text": [
      "winner:  red\n"
     ]
    },
    {
     "name": "stderr",
     "output_type": "stream",
     "text": [
      "No actions available: no response given\n",
      "No actions available: no response given\n",
      "Entropy out of range: 1.9440353746875305\n",
      "[-0.2, 0.18, 0.12, 0.2, 0.22, 0.18, 0.18, 0.2, 0.18, 0.18, 0.38, 0.2, 0.32, 0.18, 0.4, 0.32, 0.24, 0.18, 0.12, 0.16, 0.24, 0.24, 0.18, 0.2, 0.4, 0.32, 0.32, 0.12, 0.18, 0.18, 0.14, 0.16, 0.16, 0.42, 0.38, 0.12, 0.18, 0.32, 0.32, 0.24, 0.32, 0.38, 0.2, 0.18, 0.16, 0.16, 0.18, 0.2, 0.2, 0.24, 0.32, 0.24, 0.32, 0.18, 0.12, 0.38, 0.12, 0.32, 0.22, 0.16, 0.38, 0.4, 0.32, 0.2, 0.18, 0.16, 0.2, 0.2, 0.32, 0.2, 0.16, 0.32, 0.16, 0.18, 0.24, 0.24, 0.32, 0.18, 0.16, 0.12, 0.38, 0.32, 0.14, 0.12, 0.16, 0.2, 0.32, 0.16, 0.32, 0.2, 0.16, 0.18, 0.38, 0.14, 0.12, 0.32, 0.18, 0.18, 0.32, 0.14, 0.18, 0.2, 0.16, 0.16, 0.18, 0.2, 0.32, 0.2, 0.22, 0.18, 0.18, 0.32, 0.2, 0.18, 0.18, 0.12, 0.18, 0.32, 0.18, 0.38, 0.22, 0.16, 0.32, 0.12, 0.16, 0.16, 0.2, -0.2, 0.16, 0.18, 0.18, 0.18, 0.16, 0.2, 0.18, 0.26, 0.18, 0.18, 0.18, 0.16, 0.16, 0.2, 0.2, 0.16, 0.18, 0.18, 0.16, 0.16, 0.16, 0.18, 0.18, 0.18, 0.26, 0.18, 0.2, 0.2, 0.26, 0.16, 0.16, 0.26, 0.16, 0.18, 0.2, 0.2, -0.2, 0.2, 0.2, 0.16, 0.16, 0.22, 0.2, 0.26, 0.2, 0.26, 0.22, 0.2, 0.2, 0.2, 0.18, 0.2, 0.2, 0.22, 0.22, 0.22, 0.18, 0.2, 0.22, 0.24, 0.24, 0.18, 0.16, 0.18, 0.22, 0.24, 0.24, 0.18, 0.2, 0.2, 0.2, 0.22, 0.16]\n"
     ]
    },
    {
     "name": "stdout",
     "output_type": "stream",
     "text": [
      "winner:  red\n"
     ]
    },
    {
     "name": "stderr",
     "output_type": "stream",
     "text": [
      "No actions available: no response given\n",
      "No actions available: no response given\n",
      "No actions available: no response given\n"
     ]
    },
    {
     "name": "stdout",
     "output_type": "stream",
     "text": [
      "winner:  red\n"
     ]
    },
    {
     "name": "stderr",
     "output_type": "stream",
     "text": [
      "No actions available: no response given\n",
      "No actions available: no response given\n",
      "No actions available: no response given\n",
      "No actions available: no response given\n"
     ]
    },
    {
     "name": "stdout",
     "output_type": "stream",
     "text": [
      "winner:  blue\n"
     ]
    },
    {
     "name": "stderr",
     "output_type": "stream",
     "text": [
      "No actions available: no response given\n",
      "No actions available: no response given\n",
      "No actions available: no response given\n"
     ]
    },
    {
     "name": "stdout",
     "output_type": "stream",
     "text": [
      "winner:  red\n"
     ]
    },
    {
     "name": "stderr",
     "output_type": "stream",
     "text": [
      "No actions available: no response given\n",
      "No actions available: no response given\n"
     ]
    },
    {
     "name": "stdout",
     "output_type": "stream",
     "text": [
      "winner:  red\n"
     ]
    },
    {
     "name": "stderr",
     "output_type": "stream",
     "text": [
      "No actions available: no response given\n",
      "No actions available: no response given\n",
      "No actions available: no response given\n",
      "No actions available: no response given\n",
      "No actions available: no response given\n",
      "No actions available: no response given\n",
      "No actions available: no response given\n",
      "No actions available: no response given\n",
      "No actions available: no response given\n",
      "No actions available: no response given\n",
      "No actions available: no response given\n",
      "No actions available: no response given\n",
      "No actions available: no response given\n",
      "No actions available: no response given\n",
      "No actions available: no response given\n",
      "No actions available: no response given\n",
      "No actions available: no response given\n",
      "No actions available: no response given\n",
      "No actions available: no response given\n",
      "No actions available: no response given\n",
      "No actions available: no response given\n",
      "No actions available: no response given\n"
     ]
    },
    {
     "name": "stdout",
     "output_type": "stream",
     "text": [
      "winner:  red\n"
     ]
    },
    {
     "name": "stderr",
     "output_type": "stream",
     "text": [
      "No actions available: no response given\n",
      "No actions available: no response given\n",
      "No actions available: no response given\n",
      "No actions available: no response given\n",
      "No actions available: no response given\n",
      "No actions available: no response given\n"
     ]
    },
    {
     "name": "stdout",
     "output_type": "stream",
     "text": [
      "winner:  blue\n"
     ]
    },
    {
     "name": "stderr",
     "output_type": "stream",
     "text": [
      "No actions available: no response given\n",
      "No actions available: no response given\n",
      "No actions available: no response given\n",
      "No actions available: no response given\n"
     ]
    },
    {
     "name": "stdout",
     "output_type": "stream",
     "text": [
      "winner:  blue\n"
     ]
    },
    {
     "name": "stderr",
     "output_type": "stream",
     "text": [
      "No actions available: no response given\n",
      "No actions available: no response given\n",
      "No actions available: no response given\n",
      "Entropy out of range: 2.5047260600790833\n",
      "[-0.18, 0.1, 0.06, 0.12, 0.16, 0.12, 0.16, 0.12, 0.1, 0.16, 0.32, 0.18, 0.28, 0.2, 0.34, 0.28, 0.24, 0.12, 0.06, 0.18, 0.24, 0.24, 0.16, 0.14, 0.34, 0.28, 0.28, 0.06, 0.1, 0.2, 0.12, 0.18, 0.12, 0.34, 0.32, 0.06, 0.1, 0.28, 0.28, 0.24, 0.28, 0.32, 0.18, 0.16, 0.12, 0.12, 0.16, 0.12, 0.12, 0.24, 0.28, 0.24, 0.28, 0.16, 0.06, 0.32, 0.06, 0.28, 0.14, 0.16, 0.32, 0.34, 0.28, 0.18, 0.16, 0.12, 0.14, 0.18, 0.28, 0.12, 0.16, 0.28, 0.12, 0.16, 0.24, 0.24, 0.28, 0.16, 0.18, 0.06, 0.32, 0.28, 0.12, 0.06, 0.18, 0.18, 0.28, 0.18, 0.28, 0.12, 0.16, 0.16, 0.32, 0.12, 0.06, 0.28, 0.16, 0.12, 0.28, 0.12, 0.16, 0.18, 0.12, 0.12, 0.16, 0.14, 0.28, 0.12, 0.14, 0.16, 0.12, 0.28, 0.12, 0.16, 0.16, 0.06, 0.16, 0.28, 0.16, 0.32, 0.16, 0.18, 0.28, 0.18, 0.12, 0.18, -0.18, 0.24, 0.22, 0.24, 0.24, 0.24, 0.24, 0.3, 0.24, 0.22, 0.24, 0.24, 0.24, 0.24, 0.24, 0.24, 0.24, 0.24, 0.24, 0.22, 0.24, 0.22, 0.24, 0.3, 0.22, 0.3, 0.3, 0.24, 0.22, 0.3, 0.22, 0.24, 0.22, 0.24, 0.22, 0.24, 0.3, -0.18, 0.14, 0.2, 0.14, 0.12, 0.12, 0.16, 0.2, 0.2, 0.2, 0.14, 0.16, 0.2, 0.12, 0.2, 0.12, 0.16, 0.14, 0.2, 0.14, 0.18, 0.12, 0.18, 0.14, 0.16, 0.2, 0.2, 0.14, 0.16, 0.16, 0.2, 0.14, 0.14, 0.12, 0.18, 0.16, 0.14]\n",
      "No actions available: no response given\n",
      "No actions available: no response given\n",
      "No actions available: no response given\n",
      "No actions available: no response given\n",
      "Entropy out of range: 2.0592352769726143\n",
      "[-0.04, 0.16, 0.2, 0.18, 0.3, -0.14, 0.48, 0.16, 0.3, 0.12, 0.16, 0.5, 0.14, -0.14, 0.04, 0.24, 0.3, 0.28, 0.08, 0.52, 0.2, 0.5, 0.48, 0.46, 0.28, 0.2, 0.18, 0.3, 0.48, 0.5, -0.22, 0.16, 0.2, 0.28, 0.28, 0.2, 0.5, 0.5, 0.36, 0.22, 0.2, 0.3, 0.16, 0.12, 0.3, 0.02, 0.2, 0.12, 0.52, 0.08, 0.2, 0.3, 0.28, 0.52, 0.22, 0.48, 0.5, 0.2, 0.14, 0.2, 0.2, 0.2, 0.2, 0.46, 0.2, 0.3, 0.22, 0.24, 0.04, 0.2, 0.2, 0.12, 0.3, 0.24, 0.2, 0.28, 0.26, 0.48, 0.3, 0.28, 0.2, 0.04, 0.16, 0.48, 0.22, 0.12, 0.22, 0.2, 0.2, 0.2, 0.32, 0.26, 0.22, 0.26, 0.0, 0.2, 0.24, 0.26, 0.28, 0.3, 0.22, 0.04, 0.0, 0.2, 0.16, 0.0, 0.3, 0.18, 0.3, 0.2, 0.2, 0.16, 0.22, 0.2, 0.16, 0.24, 0.26, 0.3, 0.32, 0.0, 0.28, 0.24, 0.26, -0.06, 0.3, 0.2, 0.24, 0.2, -0.04, 0.12, 0.12, 0.12, 0.12, 0.14, 0.14, 0.14, 0.14, 0.14, 0.12, 0.16, 0.12, 0.14, 0.14, 0.12, 0.14, 0.16, 0.14, 0.12, 0.12, 0.12, 0.14, 0.14, 0.12, 0.12, 0.16, 0.12, 0.14, 0.14, 0.14, 0.12, 0.12, 0.12, 0.12, 0.14, 0.16, -0.04, 0.2, 0.18, 0.16, 0.18, 0.18, 0.18, 0.2, 0.22, 0.22, 0.22, 0.18, 0.2, 0.2, 0.2, 0.16, 0.2, 0.2, 0.2, 0.2, 0.2, 0.24, 0.22, 0.22, 0.2, 0.22, 0.2, 0.16, 0.18, 0.2, 0.2, 0.18, 0.22, 0.18, 0.2, 0.18]\n"
     ]
    },
    {
     "name": "stdout",
     "output_type": "stream",
     "text": [
      "winner:  blue\n"
     ]
    },
    {
     "name": "stderr",
     "output_type": "stream",
     "text": [
      "No actions available: no response given\n"
     ]
    },
    {
     "name": "stdout",
     "output_type": "stream",
     "text": [
      "winner:  blue\n",
      "winner:  blue\n"
     ]
    },
    {
     "name": "stderr",
     "output_type": "stream",
     "text": [
      "Entropy out of range: 2.5047260600790833\n",
      "[-0.18, 0.1, 0.06, 0.12, 0.16, 0.12, 0.16, 0.12, 0.1, 0.16, 0.32, 0.18, 0.28, 0.2, 0.34, 0.28, 0.24, 0.12, 0.06, 0.18, 0.24, 0.24, 0.16, 0.14, 0.34, 0.28, 0.28, 0.06, 0.1, 0.2, 0.12, 0.18, 0.12, 0.34, 0.32, 0.06, 0.1, 0.28, 0.28, 0.24, 0.28, 0.32, 0.18, 0.16, 0.12, 0.12, 0.16, 0.12, 0.12, 0.24, 0.28, 0.24, 0.28, 0.16, 0.06, 0.32, 0.06, 0.28, 0.14, 0.16, 0.32, 0.34, 0.28, 0.18, 0.16, 0.12, 0.14, 0.18, 0.28, 0.12, 0.16, 0.28, 0.12, 0.16, 0.24, 0.24, 0.28, 0.16, 0.18, 0.06, 0.32, 0.28, 0.12, 0.06, 0.18, 0.18, 0.28, 0.18, 0.28, 0.12, 0.16, 0.16, 0.32, 0.12, 0.06, 0.28, 0.16, 0.12, 0.28, 0.12, 0.16, 0.18, 0.12, 0.12, 0.16, 0.14, 0.28, 0.12, 0.14, 0.16, 0.12, 0.28, 0.12, 0.16, 0.16, 0.06, 0.16, 0.28, 0.16, 0.32, 0.16, 0.18, 0.28, 0.18, 0.12, 0.18, -0.18, 0.24, 0.22, 0.24, 0.24, 0.24, 0.24, 0.3, 0.24, 0.22, 0.24, 0.24, 0.24, 0.24, 0.24, 0.24, 0.24, 0.24, 0.24, 0.22, 0.24, 0.22, 0.24, 0.3, 0.22, 0.3, 0.3, 0.24, 0.22, 0.3, 0.22, 0.24, 0.22, 0.24, 0.22, 0.24, 0.3, -0.18, 0.14, 0.2, 0.14, 0.12, 0.12, 0.16, 0.2, 0.2, 0.2, 0.14, 0.16, 0.2, 0.12, 0.2, 0.12, 0.16, 0.14, 0.2, 0.14, 0.18, 0.12, 0.18, 0.14, 0.16, 0.2, 0.2, 0.14, 0.16, 0.16, 0.2, 0.14, 0.14, 0.12, 0.18, 0.16, 0.14]\n",
      "No actions available: no response given\n",
      "No actions available: no response given\n",
      "No actions available: no response given\n",
      "No actions available: no response given\n"
     ]
    },
    {
     "name": "stdout",
     "output_type": "stream",
     "text": [
      "winner:  blue\n"
     ]
    },
    {
     "name": "stderr",
     "output_type": "stream",
     "text": [
      "No actions available: no response given\n",
      "No actions available: no response given\n"
     ]
    },
    {
     "name": "stdout",
     "output_type": "stream",
     "text": [
      "winner:  blue\n"
     ]
    },
    {
     "name": "stderr",
     "output_type": "stream",
     "text": [
      "No actions available: no response given\n",
      "No actions available: no response given\n",
      "No actions available: no response given\n",
      "No actions available: no response given\n",
      "No actions available: no response given\n",
      "No actions available: no response given\n",
      "No actions available: no response given\n"
     ]
    },
    {
     "name": "stdout",
     "output_type": "stream",
     "text": [
      "winner:  blue\n",
      "winner:  blue\n"
     ]
    },
    {
     "name": "stderr",
     "output_type": "stream",
     "text": [
      "No actions available: no response given\n",
      "No actions available: no response given\n",
      "No actions available: no response given\n"
     ]
    },
    {
     "name": "stdout",
     "output_type": "stream",
     "text": [
      "winner:  blue\n"
     ]
    },
    {
     "name": "stderr",
     "output_type": "stream",
     "text": [
      "No actions available: no response given\n",
      "No actions available: no response given\n"
     ]
    },
    {
     "name": "stdout",
     "output_type": "stream",
     "text": [
      "winner:  blue\n"
     ]
    },
    {
     "name": "stderr",
     "output_type": "stream",
     "text": [
      "No actions available: no response given\n",
      "No actions available: no response given\n",
      "No actions available: no response given\n",
      "No actions available: no response given\n",
      "No actions available: no response given\n",
      "No actions available: no response given\n"
     ]
    },
    {
     "name": "stdout",
     "output_type": "stream",
     "text": [
      "winner:  blue\n"
     ]
    },
    {
     "name": "stderr",
     "output_type": "stream",
     "text": [
      "Entropy out of range: 2.4908737287940417\n",
      "[-0.1, -0.04, 0.12, 0.12, 0.12, 0.06, 0.08, 0.12, 0.0, 0.14, 0.08, 0.12, 0.12, 0.12, 0.12, 0.08, 0.1, 0.06, 0.1, 0.08, 0.08, 0.14, 0.12, 0.12, 0.12, 0.14, 0.12, 0.08, 0.12, 0.12, 0.12, 0.06, 0.08, 0.08, 0.06, 0.1, 0.12, 0.12, 0.12, 0.12, 0.12, 0.08, 0.14, 0.12, 0.12, 0.06, 0.08, 0.08, 0.12, 0.12, 0.06, 0.08, 0.12, 0.12, 0.14, 0.12, 0.12, 0.12, 0.06, 0.1, 0.12, 0.08, 0.1, 0.14, 0.08, 0.14, 0.12, 0.08, 0.12, 0.08, 0.08, 0.08, 0.14, 0.12, 0.12, 0.08, 0.06, 0.1, 0.12, 0.08, 0.12, 0.12, 0.12, 0.08, 0.14, 0.08, 0.08, 0.12, 0.12, 0.08, 0.08, 0.08, 0.08, 0.12, 0.08, 0.06, 0.08, 0.08, 0.12, 0.12, 0.08, 0.08, 0.14, 0.12]\n",
      "Entropy out of range: 3.0407764375322217\n",
      "[-0.28, 0.1, -0.12, 0.4, 0.14, 0.24, 0.3, 0.04, -0.1, 0.42, 0.32, -0.12, 0.02, 0.22, 0.44, 0.14, 0.44, 0.1, 0.44, 0.08, -0.1, 0.14, 0.36, 0.38, 0.12, 0.3, 0.42, 0.18, 0.44, 0.1, 0.3, 0.26, 0.42, -0.12, 0.14, 0.34, 0.44, 0.14, 0.42, -0.1, 0.28, 0.42, 0.08, -0.12, -0.08, 0.44, 0.14, 0.42, -0.12, 0.0, 0.32, -0.04, 0.44, 0.14, -0.04, 0.44, 0.42, 0.4, 0.06, 0.2, 0.42, 0.14, 0.3, 0.32, 0.24, 0.46, -0.04, 0.38, 0.42, -0.1, 0.3, 0.44, 0.06, 0.46, 0.36, -0.1, 0.3, 0.42, 0.46, -0.1, 0.06, 0.0, 0.42, 0.38, 0.46, 0.28, 0.0, 0.12, 0.44, 0.06, -0.12, 0.46, 0.44, -0.08, 0.12, 0.34, 0.06, 0.46, 0.34, 0.36, 0.46, 0.42, 0.28, 0.44, 0.42, 0.0, 0.08, 0.42, 0.08, 0.44, 0.0, 0.44, 0.44, -0.12, 0.42, -0.08, 0.14, 0.42, 0.4, 0.08, 0.42, 0.28, 0.42, 0.24, 0.26, 0.42, 0.38, 0.06, -0.28, 0.36, 0.38, 0.36, 0.36, 0.38, 0.36, 0.38, 0.38, 0.38, 0.38, 0.38, 0.38, 0.38, 0.42, 0.36, 0.42, 0.42, 0.38, 0.36, 0.38, 0.38, 0.38, 0.36, 0.36, 0.42, 0.34, 0.42, 0.38, 0.38, 0.38, 0.38, 0.34, 0.38, 0.38, 0.36, 0.42, -0.28, 0.22, 0.38, 0.38, 0.38, 0.36, 0.4, 0.36, 0.22, 0.22, 0.4, 0.4, 0.18, 0.4, 0.38, 0.44, 0.18, 0.18, 0.4, 0.4, 0.44, 0.18, 0.44, 0.34, 0.38, 0.4, 0.34, 0.42, 0.42, 0.44, 0.38, 0.4, 0.4, 0.4, 0.18, 0.38, 0.18]\n",
      "No actions available: no response given\n",
      "No actions available: no response given\n",
      "No actions available: no response given\n",
      "No actions available: no response given\n",
      "No actions available: no response given\n",
      "No actions available: no response given\n",
      "No actions available: no response given\n"
     ]
    },
    {
     "name": "stdout",
     "output_type": "stream",
     "text": [
      "winner:  blue\n"
     ]
    },
    {
     "name": "stderr",
     "output_type": "stream",
     "text": [
      "No actions available: no response given\n"
     ]
    },
    {
     "name": "stdout",
     "output_type": "stream",
     "text": [
      "winner:  blue\n"
     ]
    },
    {
     "name": "stderr",
     "output_type": "stream",
     "text": [
      "No actions available: no response given\n",
      "No actions available: no response given\n",
      "No actions available: no response given\n",
      "No actions available: no response given\n"
     ]
    },
    {
     "name": "stdout",
     "output_type": "stream",
     "text": [
      "winner:  blue\n"
     ]
    },
    {
     "name": "stderr",
     "output_type": "stream",
     "text": [
      "No actions available: no response given\n"
     ]
    },
    {
     "name": "stdout",
     "output_type": "stream",
     "text": [
      "winner:  blue\n"
     ]
    },
    {
     "name": "stderr",
     "output_type": "stream",
     "text": [
      "No actions available: no response given\n",
      "No actions available: no response given\n",
      "No actions available: no response given\n"
     ]
    },
    {
     "name": "stdout",
     "output_type": "stream",
     "text": [
      "winner:  blue\n"
     ]
    },
    {
     "name": "stderr",
     "output_type": "stream",
     "text": [
      "No actions available: no response given\n",
      "No actions available: no response given\n"
     ]
    },
    {
     "name": "stdout",
     "output_type": "stream",
     "text": [
      "winner:  blue\n",
      "winner:  blue\n"
     ]
    },
    {
     "name": "stderr",
     "output_type": "stream",
     "text": [
      "No actions available: no response given\n"
     ]
    },
    {
     "name": "stdout",
     "output_type": "stream",
     "text": [
      "winner:  blue\n",
      "winner:  blue\n",
      "winner:  blue\n",
      "winner:  blue\n"
     ]
    },
    {
     "name": "stderr",
     "output_type": "stream",
     "text": [
      "No actions available: no response given\n"
     ]
    },
    {
     "name": "stdout",
     "output_type": "stream",
     "text": [
      "winner:  blue\n"
     ]
    },
    {
     "name": "stderr",
     "output_type": "stream",
     "text": [
      "No actions available: no response given\n",
      "No actions available: no response given\n"
     ]
    },
    {
     "name": "stdout",
     "output_type": "stream",
     "text": [
      "winner:  blue\n",
      "winner:  blue\n",
      "winner:  red\n",
      "winner:  blue\n",
      "winner:  blue\n",
      "winner:  blue\n"
     ]
    },
    {
     "name": "stderr",
     "output_type": "stream",
     "text": [
      "No actions available: no response given\n"
     ]
    },
    {
     "name": "stdout",
     "output_type": "stream",
     "text": [
      "winner:  blue\n",
      "winner:  blue\n",
      "winner:  blue\n",
      "winner:  blue\n",
      "winner:  blue\n",
      "winner:  blue\n",
      "winner:  blue\n"
     ]
    }
   ],
   "source": [
    "with Pool(64) as p:\n",
    "    p.map(play, args)"
   ]
  },
  {
   "cell_type": "markdown",
   "metadata": {},
   "source": [
    "setup_logging()\n"
   ]
  },
  {
   "cell_type": "code",
   "execution_count": null,
   "metadata": {},
   "outputs": [],
   "source": [
    "s=51"
   ]
  },
  {
   "cell_type": "code",
   "execution_count": 19,
   "metadata": {},
   "outputs": [
    {
     "name": "stdout",
     "output_type": "stream",
     "text": [
      "seed:    122340\n",
      "red  -> RandomAgent\n",
      "blue -> RegressionAgent\n",
      "winner:  blue\n"
     ]
    },
    {
     "data": {
      "image/png": "[encoded data removed]",
      "text/plain": [
       "<Figure size 1200x400 with 1 Axes>"
      ]
     },
     "metadata": {
      "needs_background": "light"
     },
     "output_type": "display_data"
    },
    {
     "data": {
      "text/plain": [
       "(                            time team      seed         action  meta_seed  \\\n",
       " count                                                                       \n",
       " 1.0   2021-03-11 21:52:28.612536  red  122340.0           Move          0   \n",
       " 2.0   2021-03-11 21:52:28.891049  red  122340.0           Move          0   \n",
       " 3.0   2021-03-11 21:52:29.096658  red  122340.0           Move          0   \n",
       " 4.0   2021-03-11 21:52:29.278655  red  122340.0         Attack          0   \n",
       " 5.0   2021-03-11 21:52:29.560483  red  122340.0         Attack          0   \n",
       " 6.0   2021-03-11 21:52:29.752926  red  122340.0  AttackRespond          0   \n",
       " 7.0   2021-03-11 21:52:29.858299  red  122340.0           Move          0   \n",
       " 8.0   2021-03-11 21:52:30.109215  red  122340.0  AttackRespond          0   \n",
       " 9.0   2021-03-11 21:52:30.338839  red  122340.0         Attack          0   \n",
       " \n",
       "       meta_scenario  turn  red_figure_0_index  red_figure_0_kind  \\\n",
       " count                                                              \n",
       " 1.0        Junction     0                   0                  2   \n",
       " 2.0        Junction     0                   0                  2   \n",
       " 3.0        Junction     0                   0                  2   \n",
       " 4.0        Junction     0                   0                  2   \n",
       " 5.0        Junction     0                   0                  2   \n",
       " 6.0        Junction     0                   0                  2   \n",
       " 7.0        Junction     1                   0                  2   \n",
       " 8.0        Junction     1                   0                  2   \n",
       " 9.0        Junction     1                   0                  2   \n",
       " \n",
       "        red_figure_0_end  ...  blue_goal_GoalEliminateOpponent_score  \\\n",
       " count                    ...                                          \n",
       " 1.0                   0  ...                                    3.0   \n",
       " 2.0                   0  ...                                    3.0   \n",
       " 3.0                   0  ...                                    3.0   \n",
       " 4.0                   0  ...                                    3.0   \n",
       " 5.0                   0  ...                                    3.0   \n",
       " 6.0                   0  ...                                    8.0   \n",
       " 7.0                   0  ...                                    8.0   \n",
       " 8.0                   0  ...                                    8.0   \n",
       " 9.0                   0  ...                                    8.0   \n",
       " \n",
       "        blue_goal_GoalEliminateOpponent_check  blue_goal_GoalDefendPoint_score  \\\n",
       " count                                                                           \n",
       " 1.0                                    False                         3.977778   \n",
       " 2.0                                    False                         4.244444   \n",
       " 3.0                                    False                         4.244444   \n",
       " 4.0                                    False                         4.133333   \n",
       " 5.0                                    False                         4.133333   \n",
       " 6.0                                    False                         5.555556   \n",
       " 7.0                                    False                         5.555556   \n",
       " 8.0                                    False                         5.644444   \n",
       " 9.0                                    False                         5.644444   \n",
       " \n",
       "        blue_goal_GoalDefendPoint_check  blue_goal_GoalMaxTurn_score  \\\n",
       " count                                                                 \n",
       " 1.0                              False                     0.909091   \n",
       " 2.0                              False                     0.909091   \n",
       " 3.0                              False                     0.909091   \n",
       " 4.0                              False                     0.909091   \n",
       " 5.0                              False                     0.909091   \n",
       " 6.0                              False                     0.909091   \n",
       " 7.0                              False                     1.000000   \n",
       " 8.0                              False                     1.000000   \n",
       " 9.0                              False                     1.000000   \n",
       " \n",
       "        blue_goal_GoalMaxTurn_check  action_move_destination_protection_level  \\\n",
       " count                                                                          \n",
       " 1.0                          False                                        -1   \n",
       " 2.0                          False                                        -1   \n",
       " 3.0                          False                                        -1   \n",
       " 4.0                          False                                        -1   \n",
       " 5.0                          False                                        -1   \n",
       " 6.0                          False                                        -1   \n",
       " 7.0                          False                                        -1   \n",
       " 8.0                          False                                        -1   \n",
       " 9.0                          False                                        -1   \n",
       " \n",
       "        action_move_destination_move_cost_infantry  \\\n",
       " count                                               \n",
       " 1.0                                            -1   \n",
       " 2.0                                            -1   \n",
       " 3.0                                            -1   \n",
       " 4.0                                            -1   \n",
       " 5.0                                            -1   \n",
       " 6.0                                            -1   \n",
       " 7.0                                            -1   \n",
       " 8.0                                            -1   \n",
       " 9.0                                            -1   \n",
       " \n",
       "        action_move_destination_move_cost_vehicle  winner  \n",
       " count                                                     \n",
       " 1.0                                           -1    blue  \n",
       " 2.0                                           -1    blue  \n",
       " 3.0                                           -1    blue  \n",
       " 4.0                                           -1    blue  \n",
       " 5.0                                           -1    blue  \n",
       " 6.0                                           -1    blue  \n",
       " 7.0                                           -1    blue  \n",
       " 8.0                                           -1    blue  \n",
       " 9.0                                           -1    blue  \n",
       " \n",
       " [9 rows x 378 columns],\n",
       "                             time  team    seed  score         action  \\\n",
       " count                                                                  \n",
       " 1     2021-03-11 21:52:28.691598  blue  122340  -0.14    PassRespond   \n",
       " 2     2021-03-11 21:52:28.884493  blue  122340   0.16           Move   \n",
       " 3     2021-03-11 21:52:28.969045  blue  122340  -0.18  AttackRespond   \n",
       " 4     2021-03-11 21:52:29.091595  blue  122340  -0.10           Move   \n",
       " 5     2021-03-11 21:52:29.171767  blue  122340  -0.26  AttackRespond   \n",
       " 6     2021-03-11 21:52:29.269146  blue  122340   0.14   MoveLoadInto   \n",
       " 7     2021-03-11 21:52:29.355635  blue  122340   0.16    PassRespond   \n",
       " 8     2021-03-11 21:52:29.553284  blue  122340   0.28           Move   \n",
       " 9     2021-03-11 21:52:29.634933  blue  122340  -0.16    PassRespond   \n",
       " 10    2021-03-11 21:52:29.751609  blue  122340   0.08         Attack   \n",
       " 11    2021-03-11 21:52:29.847314  blue  122340   0.34           Move   \n",
       " 12    2021-03-11 21:52:29.934618  blue  122340   0.08  AttackRespond   \n",
       " 13    2021-03-11 21:52:30.107080  blue  122340   0.54           Move   \n",
       " 14    2021-03-11 21:52:30.228924  blue  122340   0.32           Move   \n",
       " 15    2021-03-11 21:52:30.326294  blue  122340   0.32           Move   \n",
       " 16    2021-03-11 21:52:30.413995  blue  122340   0.48  AttackRespond   \n",
       " \n",
       "         entropy  standard_deviation  n_scores  \\\n",
       " count                                           \n",
       " 1      1.000000            0.000000         3   \n",
       " 2      0.996777            0.128318       203   \n",
       " 3      0.996389            0.065727         5   \n",
       " 4      0.998444            0.126588        82   \n",
       " 5      0.997180            0.040000         2   \n",
       " 6      0.991135            0.065572        40   \n",
       " 7      0.942660            0.055076         6   \n",
       " 8      0.967166            0.135757       213   \n",
       " 9      1.000000            0.000000         2   \n",
       " 10     0.994663            0.093998        75   \n",
       " 11     0.996446            0.051529        36   \n",
       " 12     0.998312            0.008660         4   \n",
       " 13     0.958950            0.335933       174   \n",
       " 14     0.981398            0.202984        78   \n",
       " 15     1.110679            0.153631        36   \n",
       " 16     0.999917            0.010000         2   \n",
       " \n",
       "                                                   scores  \\\n",
       " count                                                      \n",
       " 1                                  [-0.14, -0.14, -0.14]   \n",
       " 2      [-0.4, 0.0, 0.1, -0.42, -0.18, -0.36, -0.1, -0...   \n",
       " 3                      [-0.2, -0.18, -0.36, -0.2, -0.26]   \n",
       " 4      [-0.38, -0.16, -0.28, -0.54, -0.54, -0.54, -0....   \n",
       " 5                                         [-0.34, -0.26]   \n",
       " 6      [-0.28, -0.08, 0.1, 0.06, 0.08, 0.04, 0.14, 0....   \n",
       " 7                    [0.16, 0.06, 0.16, 0.02, 0.1, 0.16]   \n",
       " 8      [-0.04, 0.06, -0.16, 0.2, 0.2, -0.12, -0.16, -...   \n",
       " 9                                         [-0.16, -0.16]   \n",
       " 10     [-0.34, 0.0, 0.08, -0.08, -0.18, -0.22, -0.12,...   \n",
       " 11     [0.26, 0.18, 0.18, 0.28, 0.24, 0.18, 0.26, 0.1...   \n",
       " 12                              [0.06, 0.06, 0.06, 0.08]   \n",
       " 13     [0.06, 0.34, -0.48, 0.46, 0.28, 0.46, -0.5, 0....   \n",
       " 14     [0.02, -0.02, -0.2, -0.2, -0.26, 0.26, 0.16, -...   \n",
       " 15     [0.02, 0.1, -0.08, -0.08, -0.12, 0.32, 0.22, -...   \n",
       " 16                                          [0.46, 0.48]   \n",
       " \n",
       "                                                  actions  ...  \\\n",
       " count                                                     ...   \n",
       " 1                [PassRespond, PassRespond, PassRespond]  ...   \n",
       " 2      [PassFigure, Attack, Attack, Move, Move, Move,...  ...   \n",
       " 3      [PassRespond, AttackRespond, AttackRespond, Pa...  ...   \n",
       " 4      [PassFigure, Attack, Attack, Move, Move, Move,...  ...   \n",
       " 5                           [PassRespond, AttackRespond]  ...   \n",
       " 6      [PassFigure, Attack, Move, Move, Move, Move, M...  ...   \n",
       " 7      [PassRespond, AttackRespond, PassRespond, Atta...  ...   \n",
       " 8      [PassFigure, Attack, Move, Move, Move, Move, M...  ...   \n",
       " 9                             [PassRespond, PassRespond]  ...   \n",
       " 10     [PassFigure, Attack, Attack, Move, Move, Move,...  ...   \n",
       " 11     [PassFigure, Move, Move, Move, Move, Move, Mov...  ...   \n",
       " 12     [PassRespond, PassRespond, PassRespond, Attack...  ...   \n",
       " 13     [PassFigure, Move, Move, Move, Move, Move, Mov...  ...   \n",
       " 14     [PassFigure, Move, Move, Move, Move, Move, Mov...  ...   \n",
       " 15     [PassFigure, Move, Move, Move, Move, Move, Mov...  ...   \n",
       " 16                          [PassRespond, AttackRespond]  ...   \n",
       " \n",
       "        blue_goal_GoalEliminateOpponent_score  \\\n",
       " count                                          \n",
       " 1                                        3.0   \n",
       " 2                                        3.0   \n",
       " 3                                        3.0   \n",
       " 4                                        3.0   \n",
       " 5                                        3.0   \n",
       " 6                                        8.0   \n",
       " 7                                        8.0   \n",
       " 8                                        8.0   \n",
       " 9                                        8.0   \n",
       " 10                                       8.0   \n",
       " 11                                      13.0   \n",
       " 12                                      13.0   \n",
       " 13                                      13.0   \n",
       " 14                                      10.0   \n",
       " 15                                      10.0   \n",
       " 16                                       7.0   \n",
       " \n",
       "       blue_goal_GoalEliminateOpponent_check  blue_goal_GoalDefendPoint_score  \\\n",
       " count                                                                          \n",
       " 1                                     False                         3.977778   \n",
       " 2                                     False                         3.977778   \n",
       " 3                                     False                         4.222222   \n",
       " 4                                     False                         4.222222   \n",
       " 5                                     False                         4.100000   \n",
       " 6                                     False                         5.511111   \n",
       " 7                                     False                         5.555556   \n",
       " 8                                     False                         5.555556   \n",
       " 9                                     False                         5.644444   \n",
       " 10                                    False                         5.644444   \n",
       " 11                                    False                         7.022222   \n",
       " 12                                    False                         7.088889   \n",
       " 13                                    False                         7.088889   \n",
       " 14                                    False                         4.222222   \n",
       " 15                                    False                         4.044444   \n",
       " 16                                    False                         1.355556   \n",
       " \n",
       "        blue_goal_GoalDefendPoint_check  blue_goal_GoalMaxTurn_score  \\\n",
       " count                                                                 \n",
       " 1                                False                     0.909091   \n",
       " 2                                False                     0.909091   \n",
       " 3                                False                     0.909091   \n",
       " 4                                False                     0.909091   \n",
       " 5                                False                     0.909091   \n",
       " 6                                False                     0.909091   \n",
       " 7                                False                     1.000000   \n",
       " 8                                False                     1.000000   \n",
       " 9                                False                     1.000000   \n",
       " 10                               False                     1.000000   \n",
       " 11                               False                     1.000000   \n",
       " 12                               False                     1.111111   \n",
       " 13                               False                     1.111111   \n",
       " 14                               False                     1.111111   \n",
       " 15                               False                     1.111111   \n",
       " 16                               False                     1.250000   \n",
       " \n",
       "        blue_goal_GoalMaxTurn_check  action_move_destination_protection_level  \\\n",
       " count                                                                          \n",
       " 1                            False                                        -1   \n",
       " 2                            False                                        -1   \n",
       " 3                            False                                        -1   \n",
       " 4                            False                                        -1   \n",
       " 5                            False                                        -1   \n",
       " 6                            False                                        -1   \n",
       " 7                            False                                        -1   \n",
       " 8                            False                                        -1   \n",
       " 9                            False                                        -1   \n",
       " 10                           False                                        -1   \n",
       " 11                           False                                        -1   \n",
       " 12                           False                                        -1   \n",
       " 13                           False                                        -1   \n",
       " 14                           False                                        -1   \n",
       " 15                           False                                        -1   \n",
       " 16                           False                                        -1   \n",
       " \n",
       "        action_move_destination_move_cost_infantry  \\\n",
       " count                                               \n",
       " 1                                              -1   \n",
       " 2                                              -1   \n",
       " 3                                              -1   \n",
       " 4                                              -1   \n",
       " 5                                              -1   \n",
       " 6                                              -1   \n",
       " 7                                              -1   \n",
       " 8                                              -1   \n",
       " 9                                              -1   \n",
       " 10                                             -1   \n",
       " 11                                             -1   \n",
       " 12                                             -1   \n",
       " 13                                             -1   \n",
       " 14                                             -1   \n",
       " 15                                             -1   \n",
       " 16                                             -1   \n",
       " \n",
       "        action_move_destination_move_cost_vehicle  winner  \n",
       " count                                                     \n",
       " 1                                             -1    blue  \n",
       " 2                                             -1    blue  \n",
       " 3                                             -1    blue  \n",
       " 4                                             -1    blue  \n",
       " 5                                             -1    blue  \n",
       " 6                                             -1    blue  \n",
       " 7                                             -1    blue  \n",
       " 8                                             -1    blue  \n",
       " 9                                             -1    blue  \n",
       " 10                                            -1    blue  \n",
       " 11                                            -1    blue  \n",
       " 12                                            -1    blue  \n",
       " 13                                            -1    blue  \n",
       " 14                                            -1    blue  \n",
       " 15                                            -1    blue  \n",
       " 16                                            -1    blue  \n",
       " \n",
       " [16 rows x 384 columns])"
      ]
     },
     "execution_count": 19,
     "metadata": {},
     "output_type": "execute_result"
    }
   ],
   "source": [
    "d_r,d_b=playAndAnalyzeTime(122340, red_models[1], blue_models[3],red_models[3])\n"
   ]
  },
  {
   "cell_type": "code",
   "execution_count": null,
   "metadata": {},
   "outputs": [],
   "source": [
    "df_red,df_blue=playAndAnalyzeTime(1200, red_models[0], blue_models[1],red_models[5])\n"
   ]
  },
  {
   "cell_type": "code",
   "execution_count": null,
   "metadata": {},
   "outputs": [],
   "source": [
    "plotEntropyTime(df_r,df_b,('reg', ''),('cls', ''),mm.winner,'Junction',('reg', '../models/Junction_RandomForestRegressor_20210301.joblib'))"
   ]
  },
  {
   "cell_type": "markdown",
   "metadata": {},
   "source": [
    "## Tourney "
   ]
  },
  {
   "cell_type": "code",
   "execution_count": null,
   "metadata": {},
   "outputs": [],
   "source": [
    "dfs=[]\n",
    "for i in range(3):\n",
    "    s = random.randint(0, 1000000)\n",
    "    r = random.randint(0, len(red_models)-1)\n",
    "    b = random.randint(0, len(blue_models)-1)\n",
    "    df_red,df_blue=playAndAnalyzeTime(s, red_models[r], blue_models[b])\n",
    "    dfs.append(df_red)\n",
    "    dfs.append(df_blue)\n",
    "df=pd.concat(dfs).reset_index()"
   ]
  },
  {
   "cell_type": "markdown",
   "metadata": {},
   "source": [
    "## Entropy regressor"
   ]
  },
  {
   "cell_type": "code",
   "execution_count": null,
   "metadata": {},
   "outputs": [],
   "source": [
    "def plotgroupAgentePartita(df,value_y,kind):\n",
    "    fig, axes = plt.subplots(len(df['team'].unique()),len(df['seed'].unique()), figsize=(15,10))\n",
    "    for (joinGroup, group), ax in zip(df.groupby(['team','seed']), axes.flatten()):\n",
    "        win=group['winner'].unique()\n",
    "        title=f'{joinGroup}-> winner:{win}'\n",
    "        group.plot(x='count', y=value_y, kind=kind,style='-o' ,ax=ax,title=title,ylim=[-1,1])"
   ]
  },
  {
   "cell_type": "code",
   "execution_count": null,
   "metadata": {},
   "outputs": [],
   "source": [
    "plotgroupAgentePartita(df,'score','bar')"
   ]
  },
  {
   "cell_type": "code",
   "execution_count": null,
   "metadata": {},
   "outputs": [],
   "source": [
    "plotgroupAgentePartita(df,'entropy','bar')"
   ]
  },
  {
   "cell_type": "markdown",
   "metadata": {},
   "source": [
    "plotgroupAgentePartita(df,'Score','scatter')"
   ]
  },
  {
   "cell_type": "markdown",
   "metadata": {},
   "source": [
    "plotgroupAgentePartita(df,'Entropia','scatter')"
   ]
  },
  {
   "cell_type": "markdown",
   "metadata": {},
   "source": [
    "plotgroupAgentePartita(df,'Score','line')"
   ]
  },
  {
   "cell_type": "markdown",
   "metadata": {},
   "source": [
    "plotgroupAgentePartita(df,'Entropia','line')"
   ]
  },
  {
   "cell_type": "markdown",
   "metadata": {},
   "source": [
    "plotgroupAgentePartita(df,'Score','box')"
   ]
  },
  {
   "cell_type": "markdown",
   "metadata": {},
   "source": [
    "plotgroupAgentePartita(df,'Entropia','box')"
   ]
  },
  {
   "cell_type": "code",
   "execution_count": null,
   "metadata": {},
   "outputs": [],
   "source": [
    "def entropyAndScore(df,kind):\n",
    "    fig, axes = plt.subplots(len(df['team'].unique()),len(df['seed'].unique()), figsize=(15,10))\n",
    "    for (joinGroup, group), ax in zip(df.groupby(['team','seed']), axes.flatten()):\n",
    "        win=group['winner'].unique()\n",
    "        title=f'{joinGroup}-> winner:{win}'\n",
    "        group.plot(x='count', y=['score'], kind=kind,style='-o', ax=ax,title=title,ylim=[-1,1],color='r')\n",
    "        group.plot(x='count', y=['entropy'], kind=kind,style='-o', ax=ax,title=title,ylim=[-1,1],color='b')"
   ]
  },
  {
   "cell_type": "code",
   "execution_count": null,
   "metadata": {},
   "outputs": [],
   "source": [
    "entropyAndScore(df,'scatter')"
   ]
  },
  {
   "cell_type": "markdown",
   "metadata": {},
   "source": [
    "entropyAndScore(df,'line')"
   ]
  },
  {
   "cell_type": "markdown",
   "metadata": {},
   "source": [
    "fig, axes = plt.subplots(1,len(df['seed'].unique()), figsize=(15,5))\n",
    "for (joinGroup, group), ax in zip(df.groupby(['seed']), axes.flatten()):\n",
    "    win=group['winner'].unique()\n",
    "    title=f'{joinGroup}-> winner:{win}'\n",
    "    group.plot(x=['count'], y=['score'], kind='scatter', ax=ax,title=title,ylim=[-1,1],c='team')\n"
   ]
  },
  {
   "cell_type": "markdown",
   "metadata": {},
   "source": [
    "plot=df.groupby(['team','seed']).plot.bar(y='entropy')"
   ]
  },
  {
   "cell_type": "markdown",
   "metadata": {},
   "source": [
    "boxplot=df.boxplot(column=['score', 'entropy'],by='team')\n"
   ]
  },
  {
   "cell_type": "markdown",
   "metadata": {},
   "source": [
    "boxplot=df.boxplot(column=['score', 'entropy'],by='seed')"
   ]
  },
  {
   "cell_type": "markdown",
   "metadata": {},
   "source": [
    "boxplot=df.boxplot(column=['score', 'entropy'],by=['seed','team'])"
   ]
  },
  {
   "cell_type": "markdown",
   "metadata": {},
   "source": [
    "plot=df.groupby('team').plot.scatter(x='count',y='entropy',c='team')"
   ]
  },
  {
   "cell_type": "markdown",
   "metadata": {},
   "source": [
    "plot=df.groupby('team').plot.scatter(x='count',y='score',c='team')"
   ]
  }
 ],
 "metadata": {
  "kernelspec": {
   "display_name": "Python 3",
   "language": "python",
   "name": "python3"
  },
  "language_info": {
   "codemirror_mode": {
    "name": "ipython",
    "version": 3
   },
   "file_extension": ".py",
   "mimetype": "text/x-python",
   "name": "python",
   "nbconvert_exporter": "python",
   "pygments_lexer": "ipython3",
   "version": "3.7.6"
  }
 },
 "nbformat": 4,
 "nbformat_minor": 4
}
