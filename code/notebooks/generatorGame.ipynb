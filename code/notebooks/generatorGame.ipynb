{
 "cells": [
  {
   "cell_type": "code",
   "execution_count": 1,
   "metadata": {},
   "outputs": [],
   "source": [
    "import sys\n",
    "sys.path.append(\"../\")"
   ]
  },
  {
   "cell_type": "code",
   "execution_count": 2,
   "metadata": {},
   "outputs": [],
   "source": [
    "import os.path as op\n",
    "import random\n",
    "\n",
    "import matplotlib.pyplot as plt\n",
    "import pandas as pd\n",
    "import yaml\n",
    "\n",
    "from agents import GreedyAgent,RandomAgent\n",
    "from agents.matchmanager import MatchManager\n",
    "from agents.ml.classifier import ClassifierAgent\n",
    "from agents.ml.regression import RegressionAgent\n",
    "from core.const import RED, BLUE\n",
    "from core.game.state import vectorStateInfo, vectorState, vectorActionInfo, vectorAction\n",
    "from scenarios import scenarioJunction\n",
    "\n",
    "from multiprocessing import Pool\n",
    "\n",
    "from itertools import product\n",
    "import json\n",
    "\n",
    "import os\n",
    "\n",
    "\n",
    "%matplotlib inline\n",
    "plt.rcParams['figure.figsize'] = (12,4)"
   ]
  },
  {
   "cell_type": "code",
   "execution_count": 3,
   "metadata": {},
   "outputs": [],
   "source": [
    "with open(op.join('.', '../logger.config.yaml'), 'r') as stream:\n",
    "    config = yaml.load(stream, Loader=yaml.FullLoader)\n",
    "# logging.config.dictConfig(config)"
   ]
  },
  {
   "cell_type": "code",
   "execution_count": 4,
   "metadata": {},
   "outputs": [],
   "source": [
    "def player(team:str, data:tuple, seed:int):\n",
    "    if data[0] == 'gre':\n",
    "        print(f'{team:5}-> GreedyAgent')\n",
    "        return GreedyAgent(team, seed=seed)\n",
    "    if data[0] == 'cls':\n",
    "        print(f'{team:5}-> ClassifierAgent')\n",
    "        return ClassifierAgent(team, data[1], seed=seed)\n",
    "    if data[0] == 'reg':\n",
    "        print(f'{team:5}-> RegressionAgent')\n",
    "        return RegressionAgent(team, data[1], seed=seed)\n",
    "    if data[0]=='ran':\n",
    "        print(f'{team:5}-> RandomAgent')\n",
    "        return RandomAgent(team, seed=seed)\n",
    "        \n",
    "    \n",
    "    return None"
   ]
  },
  {
   "cell_type": "code",
   "execution_count": 5,
   "metadata": {},
   "outputs": [],
   "source": [
    "def gameJunction(seed:int, red:tuple, blue:tuple) -> MatchManager:\n",
    "    board, state = scenarioJunction()\n",
    "    \n",
    "    print('seed:   ', seed)\n",
    "    \n",
    "    playerRed = player(RED, red, seed)\n",
    "    playerBlue = player(BLUE, blue, seed)\n",
    "\n",
    "    mm = MatchManager(' ', playerRed, playerBlue, board, state, seed=seed)\n",
    "    while not mm.end:\n",
    "        mm.nextStep()\n",
    "    \n",
    "    print('winner: ', mm.winner)\n",
    "\n",
    "    return mm"
   ]
  },
  {
   "cell_type": "code",
   "execution_count": 6,
   "metadata": {},
   "outputs": [],
   "source": [
    "def game(args):\n",
    "    scenario,seed,agentRed,agentBlue=args\n",
    "\n",
    "    board, state = scenario()\n",
    "    \n",
    "    print('seed:   ', seed)\n",
    "    \n",
    "    playerRed = player(RED, agentRed, seed)\n",
    "    playerBlue = player(BLUE, agentBlue, seed)\n",
    "\n",
    "    mm = MatchManager(' ', playerRed, playerBlue, board, state, seed=seed)\n",
    "    while not mm.end:\n",
    "        mm.nextStep()\n",
    "    save={\n",
    "        'scenario':board.name,\n",
    "        'seed':seed,\n",
    "        'teamRed':playerRed.name,\n",
    "        'teamBlue':playerBlue.name,\n",
    "        'winner':mm.winner\n",
    "    }\n",
    "    file_name=f'../output/{playerRed.name}_{playerBlue.name}_{board.name}_{seed}.json'\n",
    "    #print(file_name)\n",
    "    with open(file_name, 'w') as json_file:\n",
    "        json.dump(save, json_file)\n",
    "        #salva le cose su disco!\n",
    "    \n",
    "    #print('winner: ', mm.winner)\n",
    "\n",
    "    #return mm"
   ]
  },
  {
   "cell_type": "code",
   "execution_count": 7,
   "metadata": {},
   "outputs": [],
   "source": [
    "def prepareDataFrames(mm:MatchManager):\n",
    "    df_states = pd.DataFrame(\n",
    "        columns=vectorStateInfo(),\n",
    "        data=[vectorState(x) for x in mm.states_history]\n",
    "    )\n",
    "\n",
    "    df_actions = pd.DataFrame(\n",
    "        columns=vectorActionInfo(),\n",
    "        data=[vectorAction(x) for x in mm.actions_history]\n",
    "    )\n",
    "    df_red = mm.red.createDataFrame()\n",
    "    df_blue = mm.blue.createDataFrame()\n",
    "    \n",
    "    df_red = df_red.set_index('count')\n",
    "    df_blue = df_blue.set_index('count')\n",
    "\n",
    "    return df_red, df_blue, df_states, df_actions"
   ]
  },
  {
   "cell_type": "code",
   "execution_count": 8,
   "metadata": {},
   "outputs": [],
   "source": [
    "def plotEntropy(df, color:str):\n",
    "    plt.figure()\n",
    "    df.score.plot(color=color, marker='.')\n",
    "    df.entropy.plot(color='purple')\n",
    "\n",
    "    for i, row in df[['score','action']].reset_index().iterrows():\n",
    "        dy, ha, va = (-0, 'center', 'top') if 'Respond' in row.action else (10, 'center', 'bottom')\n",
    "        plt.annotate(row.action, (row['count'], row.score), ha=ha, va=va, rotation=90, textcoords=\"offset points\", xytext=(0,dy))\n",
    "        \n",
    "    for x in df[['turn']].reset_index().groupby('turn').max().values.tolist():\n",
    "        plt.axvline(x=x[0]+0.5, color='orange')"
   ]
  },
  {
   "cell_type": "code",
   "execution_count": 9,
   "metadata": {},
   "outputs": [],
   "source": [
    "def plotContrast(df):\n",
    "    df[df['team']=='red']['entropy'].plot(color='red'), df[df['team']=='blue']['entropy'].plot(color='blue')"
   ]
  },
  {
   "cell_type": "code",
   "execution_count": 10,
   "metadata": {},
   "outputs": [],
   "source": [
    "def playAndAnalyze(seed:int, red_data, blue_data):  \n",
    "    mm = gameJunction(seed, red_data, blue_data)\n",
    "        \n",
    "    df_red, df_blue, _, _ = prepareDataFrames(mm)\n",
    "    \n",
    "    plotEntropy(df_red, 'red')\n",
    "    plotEntropy(df_blue, 'blue')\n",
    "    \n",
    "    return df_red, df_blue"
   ]
  },
  {
   "cell_type": "code",
   "execution_count": null,
   "metadata": {},
   "outputs": [],
   "source": [
    "seed=51"
   ]
  },
  {
   "cell_type": "code",
   "execution_count": 12,
   "metadata": {},
   "outputs": [],
   "source": [
    "red_models = [\n",
    "    ('gre', ''),\n",
    "    ('cls', '../models/Junction_RandomForestClassifier_red.joblib'),\n",
    "    ('cls', '../models/Junction_RandomForestClassifier.joblib'),\n",
    "    ('reg', '../models/Junction_RandomForestRegressor_red.joblib'),\n",
    "    ('reg', '../models/Junction_RandomForestRegressor.joblib'),\n",
    "    ('ran','')\n",
    "]\n",
    "blue_models = [\n",
    "    ('gre', ''),\n",
    "    ('cls', '../models/Junction_RandomForestClassifier_blue.joblib'),\n",
    "    ('cls', '../models/Junction_RandomForestClassifier.joblib'),\n",
    "    ('reg', '../models/Junction_RandomForestRegressor_blue.joblib'),\n",
    "    ('reg', '../models/Junction_RandomForestRegressor.joblib'),\n",
    "    ('ran','')\n",
    "\n",
    "]"
   ]
  },
  {
   "cell_type": "markdown",
   "metadata": {},
   "source": [
    "args=[]\n",
    "scenarios = [scenarioJunction]\n",
    "\n",
    "for i in range(0,1):\n",
    "    for scenario in scenarios:\n",
    "        s = random.randint(0, 1000000)\n",
    "        r = random.randint(0, len(red_models)-1)\n",
    "        b = random.randint(0, len(blue_models)-1)\n",
    "        args.append((scenario,s,red_models[r],blue_models[b]))"
   ]
  },
  {
   "cell_type": "markdown",
   "metadata": {},
   "source": [
    "with Pool(64,maxtasksperchild=10) as p:\n",
    "    p.map(game, args)"
   ]
  },
  {
   "cell_type": "code",
   "execution_count": null,
   "metadata": {},
   "outputs": [],
   "source": [
    "scenarios = [scenarioJunction]\n",
    "args=[]\n",
    "for i in range(0, 100):\n",
    "    for scenario in scenarios:\n",
    "        for agentRed, agentBlue in product(red_models, blue_models):\n",
    "            #s = random.randint(0, 1000000)\n",
    "            args.append((scenario,i,agentRed,agentBlue))"
   ]
  },
  {
   "cell_type": "code",
   "execution_count": null,
   "metadata": {},
   "outputs": [],
   "source": [
    "with Pool(64,maxtasksperchild=10) as p:\n",
    "    p.map(game, args)"
   ]
  },
  {
   "cell_type": "code",
   "execution_count": null,
   "metadata": {},
   "outputs": [],
   "source": []
  },
  {
   "cell_type": "code",
   "execution_count": 13,
   "metadata": {},
   "outputs": [
    {
     "name": "stdout",
     "output_type": "stream",
     "text": [
      "seed:    799406\n",
      "red  -> RandomAgent\n",
      "blue -> ClassifierAgent\n",
      "winner:  blue\n"
     ]
    },
    {
     "ename": "AttributeError",
     "evalue": "'DataFrame' object has no attribute 'score'",
     "output_type": "error",
     "traceback": [
      "\u001b[0;31m---------------------------------------------------------------------------\u001b[0m",
      "\u001b[0;31mAttributeError\u001b[0m                            Traceback (most recent call last)",
      "\u001b[0;32m<ipython-input-13-df67bdeae7a7>\u001b[0m in \u001b[0;36m<module>\u001b[0;34m\u001b[0m\n\u001b[1;32m      3\u001b[0m \u001b[0mb\u001b[0m \u001b[0;34m=\u001b[0m \u001b[0mrandom\u001b[0m\u001b[0;34m.\u001b[0m\u001b[0mrandint\u001b[0m\u001b[0;34m(\u001b[0m\u001b[0;36m0\u001b[0m\u001b[0;34m,\u001b[0m \u001b[0mlen\u001b[0m\u001b[0;34m(\u001b[0m\u001b[0mblue_models\u001b[0m\u001b[0;34m)\u001b[0m\u001b[0;34m-\u001b[0m\u001b[0;36m1\u001b[0m\u001b[0;34m)\u001b[0m\u001b[0;34m\u001b[0m\u001b[0;34m\u001b[0m\u001b[0m\n\u001b[1;32m      4\u001b[0m \u001b[0;34m\u001b[0m\u001b[0m\n\u001b[0;32m----> 5\u001b[0;31m \u001b[0mplayAndAnalyze\u001b[0m\u001b[0;34m(\u001b[0m\u001b[0ms\u001b[0m\u001b[0;34m,\u001b[0m \u001b[0mred_models\u001b[0m\u001b[0;34m[\u001b[0m\u001b[0mr\u001b[0m\u001b[0;34m]\u001b[0m\u001b[0;34m,\u001b[0m \u001b[0mblue_models\u001b[0m\u001b[0;34m[\u001b[0m\u001b[0mb\u001b[0m\u001b[0;34m]\u001b[0m\u001b[0;34m)\u001b[0m\u001b[0;34m;\u001b[0m\u001b[0;34m\u001b[0m\u001b[0;34m\u001b[0m\u001b[0m\n\u001b[0m",
      "\u001b[0;32m<ipython-input-10-5cc4f49b7852>\u001b[0m in \u001b[0;36mplayAndAnalyze\u001b[0;34m(seed, red_data, blue_data)\u001b[0m\n\u001b[1;32m      4\u001b[0m     \u001b[0mdf_red\u001b[0m\u001b[0;34m,\u001b[0m \u001b[0mdf_blue\u001b[0m\u001b[0;34m,\u001b[0m \u001b[0m_\u001b[0m\u001b[0;34m,\u001b[0m \u001b[0m_\u001b[0m \u001b[0;34m=\u001b[0m \u001b[0mprepareDataFrames\u001b[0m\u001b[0;34m(\u001b[0m\u001b[0mmm\u001b[0m\u001b[0;34m)\u001b[0m\u001b[0;34m\u001b[0m\u001b[0;34m\u001b[0m\u001b[0m\n\u001b[1;32m      5\u001b[0m \u001b[0;34m\u001b[0m\u001b[0m\n\u001b[0;32m----> 6\u001b[0;31m     \u001b[0mplotEntropy\u001b[0m\u001b[0;34m(\u001b[0m\u001b[0mdf_red\u001b[0m\u001b[0;34m,\u001b[0m \u001b[0;34m'red'\u001b[0m\u001b[0;34m)\u001b[0m\u001b[0;34m\u001b[0m\u001b[0;34m\u001b[0m\u001b[0m\n\u001b[0m\u001b[1;32m      7\u001b[0m     \u001b[0mplotEntropy\u001b[0m\u001b[0;34m(\u001b[0m\u001b[0mdf_blue\u001b[0m\u001b[0;34m,\u001b[0m \u001b[0;34m'blue'\u001b[0m\u001b[0;34m)\u001b[0m\u001b[0;34m\u001b[0m\u001b[0;34m\u001b[0m\u001b[0m\n\u001b[1;32m      8\u001b[0m \u001b[0;34m\u001b[0m\u001b[0m\n",
      "\u001b[0;32m<ipython-input-8-45b76600f28f>\u001b[0m in \u001b[0;36mplotEntropy\u001b[0;34m(df, color)\u001b[0m\n\u001b[1;32m      1\u001b[0m \u001b[0;32mdef\u001b[0m \u001b[0mplotEntropy\u001b[0m\u001b[0;34m(\u001b[0m\u001b[0mdf\u001b[0m\u001b[0;34m,\u001b[0m \u001b[0mcolor\u001b[0m\u001b[0;34m:\u001b[0m\u001b[0mstr\u001b[0m\u001b[0;34m)\u001b[0m\u001b[0;34m:\u001b[0m\u001b[0;34m\u001b[0m\u001b[0;34m\u001b[0m\u001b[0m\n\u001b[1;32m      2\u001b[0m     \u001b[0mplt\u001b[0m\u001b[0;34m.\u001b[0m\u001b[0mfigure\u001b[0m\u001b[0;34m(\u001b[0m\u001b[0;34m)\u001b[0m\u001b[0;34m\u001b[0m\u001b[0;34m\u001b[0m\u001b[0m\n\u001b[0;32m----> 3\u001b[0;31m     \u001b[0mdf\u001b[0m\u001b[0;34m.\u001b[0m\u001b[0mscore\u001b[0m\u001b[0;34m.\u001b[0m\u001b[0mplot\u001b[0m\u001b[0;34m(\u001b[0m\u001b[0mcolor\u001b[0m\u001b[0;34m=\u001b[0m\u001b[0mcolor\u001b[0m\u001b[0;34m,\u001b[0m \u001b[0mmarker\u001b[0m\u001b[0;34m=\u001b[0m\u001b[0;34m'.'\u001b[0m\u001b[0;34m)\u001b[0m\u001b[0;34m\u001b[0m\u001b[0;34m\u001b[0m\u001b[0m\n\u001b[0m\u001b[1;32m      4\u001b[0m     \u001b[0mdf\u001b[0m\u001b[0;34m.\u001b[0m\u001b[0mentropy\u001b[0m\u001b[0;34m.\u001b[0m\u001b[0mplot\u001b[0m\u001b[0;34m(\u001b[0m\u001b[0mcolor\u001b[0m\u001b[0;34m=\u001b[0m\u001b[0;34m'purple'\u001b[0m\u001b[0;34m)\u001b[0m\u001b[0;34m\u001b[0m\u001b[0;34m\u001b[0m\u001b[0m\n\u001b[1;32m      5\u001b[0m \u001b[0;34m\u001b[0m\u001b[0m\n",
      "\u001b[0;32m/opt/conda/lib/python3.7/site-packages/pandas/core/generic.py\u001b[0m in \u001b[0;36m__getattr__\u001b[0;34m(self, name)\u001b[0m\n\u001b[1;32m   5272\u001b[0m             \u001b[0;32mif\u001b[0m \u001b[0mself\u001b[0m\u001b[0;34m.\u001b[0m\u001b[0m_info_axis\u001b[0m\u001b[0;34m.\u001b[0m\u001b[0m_can_hold_identifiers_and_holds_name\u001b[0m\u001b[0;34m(\u001b[0m\u001b[0mname\u001b[0m\u001b[0;34m)\u001b[0m\u001b[0;34m:\u001b[0m\u001b[0;34m\u001b[0m\u001b[0;34m\u001b[0m\u001b[0m\n\u001b[1;32m   5273\u001b[0m                 \u001b[0;32mreturn\u001b[0m \u001b[0mself\u001b[0m\u001b[0;34m[\u001b[0m\u001b[0mname\u001b[0m\u001b[0;34m]\u001b[0m\u001b[0;34m\u001b[0m\u001b[0;34m\u001b[0m\u001b[0m\n\u001b[0;32m-> 5274\u001b[0;31m             \u001b[0;32mreturn\u001b[0m \u001b[0mobject\u001b[0m\u001b[0;34m.\u001b[0m\u001b[0m__getattribute__\u001b[0m\u001b[0;34m(\u001b[0m\u001b[0mself\u001b[0m\u001b[0;34m,\u001b[0m \u001b[0mname\u001b[0m\u001b[0;34m)\u001b[0m\u001b[0;34m\u001b[0m\u001b[0;34m\u001b[0m\u001b[0m\n\u001b[0m\u001b[1;32m   5275\u001b[0m \u001b[0;34m\u001b[0m\u001b[0m\n\u001b[1;32m   5276\u001b[0m     \u001b[0;32mdef\u001b[0m \u001b[0m__setattr__\u001b[0m\u001b[0;34m(\u001b[0m\u001b[0mself\u001b[0m\u001b[0;34m,\u001b[0m \u001b[0mname\u001b[0m\u001b[0;34m:\u001b[0m \u001b[0mstr\u001b[0m\u001b[0;34m,\u001b[0m \u001b[0mvalue\u001b[0m\u001b[0;34m)\u001b[0m \u001b[0;34m->\u001b[0m \u001b[0;32mNone\u001b[0m\u001b[0;34m:\u001b[0m\u001b[0;34m\u001b[0m\u001b[0;34m\u001b[0m\u001b[0m\n",
      "\u001b[0;31mAttributeError\u001b[0m: 'DataFrame' object has no attribute 'score'"
     ]
    },
    {
     "data": {
      "text/plain": [
       "<Figure size 864x288 with 0 Axes>"
      ]
     },
     "metadata": {},
     "output_type": "display_data"
    }
   ],
   "source": [
    "s = random.randint(0, 1000000)\n",
    "r = random.randint(0, len(red_models)-1)\n",
    "b = random.randint(0, len(blue_models)-1)\n",
    "\n",
    "playAndAnalyze(s, red_models[r], blue_models[b]);"
   ]
  },
  {
   "cell_type": "code",
   "execution_count": null,
   "metadata": {},
   "outputs": [],
   "source": [
    "s = random.randint(0, 1000000)\n",
    "r = random.randint(0, len(red_models)-1)\n",
    "b = random.randint(0, len(blue_models)-1)\n",
    "\n",
    "playAndAnalyze(s, red_models[r], blue_models[b]);"
   ]
  },
  {
   "cell_type": "code",
   "execution_count": null,
   "metadata": {},
   "outputs": [],
   "source": [
    "s = random.randint(0, 1000000)\n",
    "r = random.randint(0, len(red_models)-1)\n",
    "b = random.randint(0, len(blue_models)-1)\n",
    "\n",
    "playAndAnalyze(s, red_models[r], blue_models[b]);"
   ]
  },
  {
   "cell_type": "code",
   "execution_count": null,
   "metadata": {},
   "outputs": [],
   "source": [
    "s = random.randint(0, 1000000)\n",
    "r = random.randint(0, len(red_models)-1)\n",
    "b = random.randint(0, len(blue_models)-1)\n",
    "\n",
    "playAndAnalyze(s, red_models[r], blue_models[b]);"
   ]
  }
 ],
 "metadata": {
  "kernelspec": {
   "display_name": "Python 3",
   "language": "python",
   "name": "python3"
  },
  "language_info": {
   "codemirror_mode": {
    "name": "ipython",
    "version": 3
   },
   "file_extension": ".py",
   "mimetype": "text/x-python",
   "name": "python",
   "nbconvert_exporter": "python",
   "pygments_lexer": "ipython3",
   "version": "3.7.6"
  }
 },
 "nbformat": 4,
 "nbformat_minor": 4
}
