{
 "cells": [
  {
   "cell_type": "code",
   "execution_count": 2,
   "metadata": {},
   "outputs": [],
   "source": [
    "import sys\n",
    "sys.path.append(\"../\")"
   ]
  },
  {
   "cell_type": "code",
   "execution_count": 3,
   "metadata": {},
   "outputs": [],
   "source": [
    "import os.path as op\n",
    "import random\n",
    "\n",
    "import matplotlib.pyplot as plt\n",
    "import pandas as pd\n",
    "import yaml\n",
    "\n",
    "from agents import GreedyAgent\n",
    "from agents.matchmanager import MatchManager\n",
    "from agents.ml.classifier import ClassifierAgent\n",
    "from agents.ml.regression import RegressionAgent\n",
    "from core.const import RED, BLUE\n",
    "from core.game.state import vectorStateInfo, vectorState, vectorActionInfo, vectorAction\n",
    "from scenarios import scenarioJunction\n",
    "\n",
    "%matplotlib inline\n",
    "plt.rcParams['figure.figsize'] = (12,4)"
   ]
  },
  {
   "cell_type": "code",
   "execution_count": 5,
   "metadata": {},
   "outputs": [],
   "source": [
    "with open(op.join('.', '../logger.config.yaml'), 'r') as stream:\n",
    "    config = yaml.load(stream, Loader=yaml.FullLoader)\n",
    "# logging.config.dictConfig(config)"
   ]
  },
  {
   "cell_type": "code",
   "execution_count": 6,
   "metadata": {},
   "outputs": [],
   "source": [
    "def player(team:str, data:tuple, seed:int):\n",
    "    if data[0] == 'gre':\n",
    "        print(f'{team:5}-> GreedyAgent')\n",
    "        return GreedyAgent(team, seed=seed)\n",
    "    if data[0] == 'cls':\n",
    "        print(f'{team:5}-> ClassifierAgent')\n",
    "        return ClassifierAgent(team, data[1], seed=seed)\n",
    "    if data[0] == 'reg':\n",
    "        print(f'{team:5}-> RegressionAgent')\n",
    "        return RegressionAgent(team, data[1], seed=seed)\n",
    "    if data[0]=='ran':\n",
    "        print(f'{team:5}-> RandomAgent')\n",
    "        return RandomAgent(team, seed=seed)\n",
    "        \n",
    "    \n",
    "    return None"
   ]
  },
  {
   "cell_type": "code",
   "execution_count": 7,
   "metadata": {},
   "outputs": [],
   "source": [
    "def game(args):\n",
    "    scenario,seed,agentRed,agentBlue=args\n",
    "\n",
    "    board, state = scenario()\n",
    "    \n",
    "    print('seed:   ', seed)\n",
    "    \n",
    "    playerRed = player(RED, agentRed, seed)\n",
    "    playerBlue = player(BLUE, agentBlue, seed)\n",
    "\n",
    "    mm = MatchManager(' ', playerRed, playerBlue, board, state, seed=seed)\n",
    "    while not mm.end:\n",
    "        mm.nextStep()\n",
    "    save={\n",
    "        'scenario':board.name,\n",
    "        'seed':42+i,\n",
    "        'teamRed':playerRed.name,\n",
    "        'teamBlue':playerBlue.name,\n",
    "        'winner':mm.winner\n",
    "    }\n",
    "    file_name=f'../output/{playerRed.name}_{playerBlue.name}_{board.name}_{i}.json'\n",
    "    #print(file_name)\n",
    "    with open(file_name, 'w') as json_file:\n",
    "        json.dump(save, json_file)\n",
    "        #salva le cose su disco!\n",
    "    \n",
    "    print('winner: ', mm.winner)\n",
    "\n",
    "    return mm"
   ]
  },
  {
   "cell_type": "code",
   "execution_count": 9,
   "metadata": {},
   "outputs": [],
   "source": [
    "seed=51"
   ]
  },
  {
   "cell_type": "code",
   "execution_count": 10,
   "metadata": {},
   "outputs": [],
   "source": [
    "red_models = [\n",
    "    ('gre', ''),\n",
    "    ('cls', 'models/Junction_RandomForestClassifier_red.joblib'),\n",
    "    ('cls', 'models/Junction_RandomForestClassifier.joblib'),\n",
    "    ('reg', 'models/Junction_RandomForestRegressor_red.joblib'),\n",
    "    ('reg', 'models/Junction_RandomForestRegressor.joblib'),\n",
    "    ('ran','')\n",
    "]\n",
    "blue_models = [\n",
    "    ('gre', ''),\n",
    "    ('cls', 'models/Junction_RandomForestClassifier_blue.joblib'),\n",
    "    ('cls', 'models/Junction_RandomForestClassifier.joblib'),\n",
    "    ('reg', 'models/Junction_RandomForestRegressor_blue.joblib'),\n",
    "    ('reg', 'models/Junction_RandomForestRegressor.joblib'),\n",
    "    ('ran','')\n",
    "\n",
    "]"
   ]
  },
  {
   "cell_type": "code",
   "execution_count": 18,
   "metadata": {},
   "outputs": [],
   "source": [
    "args=[]\n",
    "scenarios = [scenarioJunction]\n",
    "\n",
    "for i in range(0,100):\n",
    "    for s in scenarios:\n",
    "        s = random.randint(0, 1000000)\n",
    "        r = random.randint(0, len(red_models)-1)\n",
    "        b = random.randint(0, len(blue_models)-1)\n",
    "        args.append((scenario,s,red_models[r],blue_models[b]))"
   ]
  },
  {
   "cell_type": "code",
   "execution_count": null,
   "metadata": {},
   "outputs": [],
   "source": [
    "with Pool(64) as p:\n",
    "    p.map(game, args)"
   ]
  }
 ],
 "metadata": {
  "kernelspec": {
   "display_name": "Python 3",
   "language": "python",
   "name": "python3"
  },
  "language_info": {
   "codemirror_mode": {
    "name": "ipython",
    "version": 3
   },
   "file_extension": ".py",
   "mimetype": "text/x-python",
   "name": "python",
   "nbconvert_exporter": "python",
   "pygments_lexer": "ipython3",
   "version": "3.7.3"
  }
 },
 "nbformat": 4,
 "nbformat_minor": 4
}
