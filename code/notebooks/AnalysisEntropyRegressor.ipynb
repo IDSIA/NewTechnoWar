{
 "cells": [
  {
   "cell_type": "code",
   "execution_count": 1,
   "metadata": {},
   "outputs": [],
   "source": [
    "from agents.matchmanager import MatchManager,buildMatchManager\n",
    "from scenarios import scenarioJunction, scenarioJunctionExo, scenarioTest1v1, scenarioTest2v2\n",
    "from core.const import RED, BLUE\n",
    "from agents.ml.regressor import RegressorAgent\n",
    "import pandas as pd\n",
    "import seaborn as sns\n",
    "import numpy as np\n",
    "import matplotlib.pyplot as plt\n",
    "import random\n",
    "import logging\n",
    "import matplotlib.pyplot as plt\n",
    "%matplotlib inline\n"
   ]
  },
  {
   "cell_type": "code",
   "execution_count": 2,
   "metadata": {},
   "outputs": [],
   "source": [
    "dfs=[]\n",
    "for i in range(3):\n",
    "    board, state = scenarioJunction()\n",
    "    playerRed = RegressorAgent(RED, {'scenario': board.name, 'model': 'RandomForestRegressor','color':'red'})\n",
    "    playerBlue = RegressorAgent(BLUE, {'scenario': board.name, 'model': 'RandomForestRegressor','color':'blue'})\n",
    "    mm = MatchManager(' ', playerRed, playerBlue, board, state, seed=50+i)\n",
    "    while not mm.end:\n",
    "        mm.nextStep()\n",
    "    df_blue=playerBlue.createDf(i)\n",
    "    df_red=playerRed.createDf(i)\n",
    "    win_blue = [mm.winner] * len(df_blue)\n",
    "    win_red = [mm.winner] * len(df_red)\n",
    "    df_blue['winner']=win_blue\n",
    "    df_red['winner']=win_red\n",
    "    dfs.append(df_blue)\n",
    "    dfs.append(df_red)\n",
    "df=pd.concat(dfs)\n",
    "    "
   ]
  },
  {
   "cell_type": "code",
   "execution_count": 12,
   "metadata": {},
   "outputs": [
    {
     "name": "stdout",
     "output_type": "stream",
     "text": [
      "BLUE : Pass in response\n",
      "BLUE : bAPC1     : Moved to (35, 39)\n",
      "BLUE : bAPC1     : Moved to (35, 39)\n",
      "BLUE : bInf1     : Moved to (39, 34)\n",
      "BLUE : bInf1     : Moved to (39, 34)\n",
      "BLUE : bInf2     : Moved to (29, 25)\n",
      "BLUE : bInf2     : Moved to (29, 25)\n",
      "BLUE : Pass in response\n",
      "BLUE : bInf2      Pass\n",
      "BLUE : bInf2      Pass\n",
      "BLUE : bInf1      Pass\n",
      "BLUE : bInf1      Pass\n",
      "BLUE : bAPC1      Pass\n",
      "BLUE : bAPC1      Pass\n",
      "BLUE : Pass in response\n",
      "BLUE : bInf2      Pass\n",
      "BLUE : bInf2      Pass\n",
      "BLUE : bInf1      Pass\n",
      "BLUE : bInf1      Pass\n",
      "BLUE : bAPC1      Pass\n",
      "BLUE : bAPC1      Pass\n",
      "BLUE : Pass in response\n",
      "BLUE : bInf2      Pass\n",
      "BLUE : bInf2      Pass\n",
      "BLUE : bInf1      Pass\n",
      "BLUE : bInf1      Pass\n",
      "BLUE : bAPC1      Pass\n",
      "BLUE : bAPC1      Pass\n",
      "BLUE : Pass in response\n",
      "BLUE : bInf2      Pass\n",
      "BLUE : bInf2      Pass\n",
      "BLUE : bInf1      Pass\n",
      "BLUE : bInf1      Pass\n",
      "BLUE : bAPC1      Pass\n",
      "BLUE : bAPC1      Pass\n",
      "BLUE : Pass in response\n",
      "BLUE : bInf2      Pass\n",
      "BLUE : bInf2      Pass\n",
      "BLUE : bInf1      Pass\n",
      "BLUE : bInf1      Pass\n",
      "BLUE : bAPC1      Pass\n",
      "BLUE : bAPC1      Pass\n",
      "BLUE : Pass in response\n",
      "BLUE : bInf2      Pass\n",
      "BLUE : bInf2      Pass\n",
      "BLUE : bInf1      Pass\n",
      "BLUE : bInf1      Pass\n",
      "BLUE : bAPC1      Pass\n",
      "BLUE : bAPC1      Pass\n",
      "BLUE : Pass in response\n",
      "BLUE : bInf2      Pass\n",
      "BLUE : bInf2      Pass\n",
      "BLUE : bInf1      Pass\n",
      "BLUE : bInf1      Pass\n",
      "BLUE : bAPC1      Pass\n",
      "BLUE : bAPC1      Pass\n",
      "BLUE : Pass in response\n",
      "BLUE : bInf2      Pass\n",
      "BLUE : bInf2      Pass\n",
      "BLUE : bInf1      Pass\n",
      "BLUE : bInf1      Pass\n",
      "BLUE : bAPC1      Pass\n",
      "BLUE : bAPC1      Pass\n",
      "RED  : rInf21    : Moved to (5, 30)\n",
      "RED  : rInf21    : Moved to (5, 30)\n",
      "RED  : Pass in response\n",
      "RED  : rInf22     Pass\n",
      "RED  : rInf22     Pass\n",
      "RED  : Pass in response\n",
      "RED  : rTank2     Pass\n",
      "RED  : rTank2     Pass\n",
      "RED  : rInf21    : Moved to (6, 32)\n",
      "RED  : rInf21    : Moved to (6, 32)\n",
      "RED  : rInf22     Pass\n",
      "RED  : rInf22     Pass\n",
      "RED  : rTank2     Pass\n",
      "RED  : rTank2     Pass\n",
      "RED  : rInf21    : Moved to (5, 30)\n",
      "RED  : rInf21    : Moved to (5, 30)\n",
      "RED  : rInf22     Pass\n",
      "RED  : rInf22     Pass\n",
      "RED  : rTank2     Pass\n",
      "RED  : rTank2     Pass\n",
      "RED  : rInf21    : Moved to (6, 32)\n",
      "RED  : rInf21    : Moved to (6, 32)\n",
      "RED  : rInf22     Pass\n",
      "RED  : rInf22     Pass\n",
      "RED  : rTank2     Pass\n",
      "RED  : rTank2     Pass\n",
      "RED  : rInf21    : Moved to (5, 30)\n",
      "RED  : rInf21    : Moved to (5, 30)\n",
      "RED  : rInf22     Pass\n",
      "RED  : rInf22     Pass\n",
      "RED  : rTank2     Pass\n",
      "RED  : rTank2     Pass\n",
      "RED  : rInf21    : Moved to (6, 32)\n",
      "RED  : rInf21    : Moved to (6, 32)\n",
      "RED  : rInf22     Pass\n",
      "RED  : rInf22     Pass\n",
      "RED  : rTank2     Pass\n",
      "RED  : rTank2     Pass\n",
      "RED  : rInf21    : Moved to (5, 30)\n",
      "RED  : rInf21    : Moved to (5, 30)\n",
      "RED  : rInf22     Pass\n",
      "RED  : rInf22     Pass\n",
      "RED  : rTank2     Pass\n",
      "RED  : rTank2     Pass\n",
      "RED  : rInf21    : Moved to (6, 32)\n",
      "RED  : rInf21    : Moved to (6, 32)\n",
      "RED  : rInf22     Pass\n",
      "RED  : rInf22     Pass\n",
      "RED  : rTank2     Pass\n",
      "RED  : rTank2     Pass\n",
      "RED  : rInf21    : Moved to (5, 30)\n",
      "RED  : rInf21    : Moved to (5, 30)\n",
      "RED  : rInf22     Pass\n",
      "RED  : rInf22     Pass\n",
      "RED  : rTank2     Pass\n",
      "RED  : rTank2     Pass\n"
     ]
    }
   ],
   "source": [
    "for i in df[df['Numero Partita']==2]['Mossa']:\n",
    "    print(i)"
   ]
  },
  {
   "cell_type": "code",
   "execution_count": 10,
   "metadata": {},
   "outputs": [
    {
     "name": "stdout",
     "output_type": "stream",
     "text": [
      "BLUE : bInf1     : Attack rTank3 with Anti-tank weapon in response\n",
      "BLUE : bAPC1     : Moved to (27, 19)\n",
      "BLUE : bAPC1     : Moved to (27, 19)\n",
      "BLUE : Pass in response\n",
      "BLUE : bInf2      Pass\n",
      "BLUE : bInf2      Pass\n",
      "BLUE : Pass in response\n",
      "BLUE : bInf2     : Moved to (35, 23)\n",
      "BLUE : bInf2     : Moved to (35, 23)\n",
      "BLUE : Pass in response\n",
      "BLUE : bAPC1      Pass\n",
      "BLUE : bAPC1      Pass\n",
      "BLUE : bInf2     : Attack rTank3 with Anti-tank weapon in response\n",
      "BLUE : bInf2      Pass\n",
      "BLUE : bInf2      Pass\n",
      "BLUE : bAPC1      Pass\n",
      "BLUE : bAPC1      Pass\n",
      "BLUE : bInf2      Pass\n",
      "BLUE : bInf2      Pass\n",
      "BLUE : bAPC1      Pass\n",
      "BLUE : bAPC1      Pass\n",
      "BLUE : bInf2      Pass\n",
      "BLUE : bInf2      Pass\n",
      "BLUE : bAPC1      Pass\n",
      "BLUE : bAPC1      Pass\n",
      "BLUE : bInf2      Pass\n",
      "BLUE : bInf2      Pass\n",
      "BLUE : bAPC1      Pass\n",
      "BLUE : bAPC1      Pass\n",
      "BLUE : bInf2      Pass\n",
      "BLUE : bInf2      Pass\n",
      "BLUE : bAPC1      Pass\n",
      "BLUE : bAPC1      Pass\n",
      "BLUE : bInf2      Pass\n",
      "BLUE : bInf2      Pass\n",
      "BLUE : bAPC1      Pass\n",
      "BLUE : bAPC1      Pass\n",
      "BLUE : bInf2      Pass\n",
      "BLUE : bInf2      Pass\n",
      "BLUE : bAPC1      Pass\n",
      "BLUE : bAPC1      Pass\n",
      "RED  : rTank3    : Moved to (22, 36)\n",
      "RED  : rTank3    : Moved to (22, 36)\n",
      "RED  : Pass in response\n",
      "RED  : rInf4     : Attack bInf1 with Mortar\n",
      "RED  : rInf4     : Attack bInf1 with Mortar\n",
      "RED  : rInf3      Pass\n",
      "RED  : rInf3      Pass\n",
      "RED  : rTank3    : Moved to (26, 32)\n",
      "RED  : rTank3    : Moved to (26, 32)\n",
      "RED  : rInf4     : Attack bInf2 with Mortar in response\n",
      "RED  : rInf3     : Moved to (18, 33)\n",
      "RED  : rInf3     : Moved to (18, 33)\n",
      "RED  : rInf4      Pass\n",
      "RED  : rInf4      Pass\n",
      "RED  : rTank3    : Moved to (25, 29)\n",
      "RED  : rTank3    : Moved to (25, 29)\n",
      "RED  : rInf4      Pass\n",
      "RED  : rInf4      Pass\n",
      "RED  : rInf3      Pass\n",
      "RED  : rInf3      Pass\n",
      "RED  : rInf4      Pass\n",
      "RED  : rInf4      Pass\n",
      "RED  : rInf3      Pass\n",
      "RED  : rInf3      Pass\n",
      "RED  : rInf4      Pass\n",
      "RED  : rInf4      Pass\n",
      "RED  : rInf3      Pass\n",
      "RED  : rInf3      Pass\n",
      "RED  : rInf4      Pass\n",
      "RED  : rInf4      Pass\n",
      "RED  : rInf3      Pass\n",
      "RED  : rInf3      Pass\n",
      "RED  : rInf4      Pass\n",
      "RED  : rInf4      Pass\n",
      "RED  : rInf3      Pass\n",
      "RED  : rInf3      Pass\n",
      "RED  : rInf4      Pass\n",
      "RED  : rInf4      Pass\n",
      "RED  : rInf3      Pass\n",
      "RED  : rInf3      Pass\n",
      "RED  : rInf4      Pass\n",
      "RED  : rInf4      Pass\n",
      "RED  : rInf3      Pass\n",
      "RED  : rInf3      Pass\n"
     ]
    }
   ],
   "source": [
    "for i in df[df['Numero Partita']==1]['Mossa']:\n",
    "    print(i)"
   ]
  },
  {
   "cell_type": "code",
   "execution_count": 4,
   "metadata": {},
   "outputs": [],
   "source": [
    "df_i=df.reset_index()"
   ]
  },
  {
   "cell_type": "code",
   "execution_count": null,
   "metadata": {},
   "outputs": [],
   "source": [
    "pd.pivot_table(df.reset_index(),\n",
    "               index='index', columns=['Agente','Numero Partita'], values='Score'\n",
    "              ).plot(subplots=True)"
   ]
  },
  {
   "cell_type": "code",
   "execution_count": 5,
   "metadata": {},
   "outputs": [],
   "source": [
    "def plotgroupAgentePartita(df,value_y,kind):\n",
    "    fig, axes = plt.subplots(len(df['Agente'].unique()),len(df['Numero Partita'].unique()), figsize=(15,10))\n",
    "    for (joinGroup, group), ax in zip(df.groupby(['Agente','Numero Partita']), axes.flatten()):\n",
    "        win=group['winner'].unique()\n",
    "        title=f'{joinGroup}-> winner:{win}'\n",
    "        group.plot(x='Count', y=value_y, kind=kind,style='-o' ,ax=ax,title=title,ylim=[-1,1])"
   ]
  },
  {
   "cell_type": "code",
   "execution_count": 6,
   "metadata": {
    "scrolled": false
   },
   "outputs": [
    {
     "data": {
      "image/png": "[encoded data removed]",
      "text/plain": [
       "<Figure size 1080x720 with 6 Axes>"
      ]
     },
     "metadata": {
      "needs_background": "light"
     },
     "output_type": "display_data"
    }
   ],
   "source": [
    "plotgroupAgentePartita(df,'Score','bar')"
   ]
  },
  {
   "cell_type": "code",
   "execution_count": null,
   "metadata": {},
   "outputs": [],
   "source": [
    "plotgroupAgentePartita(df,'Entropia','bar')"
   ]
  },
  {
   "cell_type": "code",
   "execution_count": null,
   "metadata": {},
   "outputs": [],
   "source": [
    "plotgroupAgentePartita(df,'Score','scatter')"
   ]
  },
  {
   "cell_type": "code",
   "execution_count": null,
   "metadata": {},
   "outputs": [],
   "source": [
    "plotgroupAgentePartita(df,'Entropia','scatter')"
   ]
  },
  {
   "cell_type": "code",
   "execution_count": null,
   "metadata": {},
   "outputs": [],
   "source": [
    "plotgroupAgentePartita(df,'Score','line')"
   ]
  },
  {
   "cell_type": "code",
   "execution_count": null,
   "metadata": {},
   "outputs": [],
   "source": [
    "plotgroupAgentePartita(df,'Entropia','line')"
   ]
  },
  {
   "cell_type": "code",
   "execution_count": null,
   "metadata": {},
   "outputs": [],
   "source": [
    "plotgroupAgentePartita(df,'Score','box')"
   ]
  },
  {
   "cell_type": "code",
   "execution_count": null,
   "metadata": {},
   "outputs": [],
   "source": [
    "plotgroupAgentePartita(df,'Entropia','box')"
   ]
  },
  {
   "cell_type": "code",
   "execution_count": null,
   "metadata": {},
   "outputs": [],
   "source": [
    "def entropiaEscore(df,kind):\n",
    "    fig, axes = plt.subplots(len(df['Agente'].unique()),len(df['Numero Partita'].unique()), figsize=(15,10))\n",
    "    for (joinGroup, group), ax in zip(df.groupby(['Agente','Numero Partita']), axes.flatten()):\n",
    "        win=group['winner'].unique()\n",
    "        title=f'{joinGroup}-> winner:{win}'\n",
    "        group.plot(x='Count', y=['Score'], kind=kind,style='-o', ax=ax,title=title,ylim=[-1,1],color='r')\n",
    "        group.plot(x='Count', y=['Entropia'], kind=kind,style='-o', ax=ax,title=title,ylim=[-1,1],color='b')"
   ]
  },
  {
   "cell_type": "code",
   "execution_count": null,
   "metadata": {},
   "outputs": [],
   "source": [
    "entropiaEscore(df,'scatter')"
   ]
  },
  {
   "cell_type": "code",
   "execution_count": null,
   "metadata": {},
   "outputs": [],
   "source": [
    "entropiaEscore(df,'line')"
   ]
  },
  {
   "cell_type": "code",
   "execution_count": null,
   "metadata": {},
   "outputs": [],
   "source": [
    "fig, axes = plt.subplots(1,len(df['Numero Partita'].unique()), figsize=(15,5))\n",
    "for (joinGroup, group), ax in zip(df.groupby(['Numero Partita']), axes.flatten()):\n",
    "    win=group['winner'].unique()\n",
    "    title=f'{joinGroup}-> winner:{win}'\n",
    "    group.plot(x=['Count'], y=['Score'], kind='scatter', ax=ax,title=title,ylim=[-1,1],c='Agente')\n"
   ]
  },
  {
   "cell_type": "code",
   "execution_count": null,
   "metadata": {},
   "outputs": [],
   "source": [
    "plot=df.groupby(['Agente','Numero Partita']).plot.bar(y='Entropia')"
   ]
  },
  {
   "cell_type": "code",
   "execution_count": null,
   "metadata": {},
   "outputs": [],
   "source": [
    "boxplot=df.boxplot(column=['Score', 'Entropia'],by='Agente')\n"
   ]
  },
  {
   "cell_type": "code",
   "execution_count": null,
   "metadata": {},
   "outputs": [],
   "source": [
    "boxplot=df.boxplot(column=['Score', 'Entropia'],by='Numero Partita')"
   ]
  },
  {
   "cell_type": "code",
   "execution_count": null,
   "metadata": {},
   "outputs": [],
   "source": [
    "boxplot=df.boxplot(column=['Score', 'Entropia'],by=['Numero Partita','Agente'])"
   ]
  },
  {
   "cell_type": "code",
   "execution_count": null,
   "metadata": {},
   "outputs": [],
   "source": [
    "plot=df.groupby('Agente').plot.scatter(x='Count',y='Entropia',c='Agente')"
   ]
  },
  {
   "cell_type": "code",
   "execution_count": null,
   "metadata": {},
   "outputs": [],
   "source": [
    "plot=df.groupby('Agente').plot.scatter(x='Count',y='Score',c='Agente')"
   ]
  },
  {
   "cell_type": "code",
   "execution_count": null,
   "metadata": {},
   "outputs": [],
   "source": [
    "ax = plt.gca()\n",
    "\n",
    "ax.scatter(y=df['Score'], x=df['Count'], color=\"b\")\n",
    "ax.scatter(y=df['Entropia'], x=df['Count'], color=\"r\")\n"
   ]
  },
  {
   "cell_type": "code",
   "execution_count": null,
   "metadata": {},
   "outputs": [],
   "source": [
    "desired_columns = ['Scores']\n",
    "df_long_data = []\n",
    "i=0\n",
    "for column in desired_columns:\n",
    "    for ind, cell in df_i[column].iteritems():\n",
    "        for val in cell:\n",
    "            dict = {'indice':i,'agente':df_i['Agente'][ind],'NumeroMossa': ind, 'ScoresMossa': val,'partita':df_i['Numero Partita'][ind],'ScoreScelto':df_i['Score'][ind],'winner':df_i['winner'][ind]}\n",
    "            df_long_data.append(dict)\n",
    "            i=i+1\n",
    "df_long = pd.DataFrame(df_long_data)\n",
    "#sns.scatterplot(x='timestamp', y='value', hue='column_name', data=df_long)\n",
    "#plt.show()"
   ]
  },
  {
   "cell_type": "code",
   "execution_count": null,
   "metadata": {},
   "outputs": [],
   "source": [
    "df_long"
   ]
  },
  {
   "cell_type": "code",
   "execution_count": null,
   "metadata": {},
   "outputs": [],
   "source": [
    "plot=df_long.groupby(['agente','partita']).plot.scatter(x='NumeroMossa',y='ScoresMossa',c='agente',ylim=[-1,1])"
   ]
  },
  {
   "cell_type": "code",
   "execution_count": null,
   "metadata": {},
   "outputs": [],
   "source": [
    "plot=df_long.groupby(['agente','partita','NumeroMossa']).plot.scatter(x='indice',y='ScoresMossa',c='agente',ylim=[-1,1])"
   ]
  },
  {
   "cell_type": "code",
   "execution_count": null,
   "metadata": {},
   "outputs": [],
   "source": [
    "plot=df_long.groupby(['agente','partita','NumeroMossa']).plot.bar(x='indice',y='ScoresMossa',ylim=[-1,1])"
   ]
  },
  {
   "cell_type": "code",
   "execution_count": null,
   "metadata": {},
   "outputs": [],
   "source": [
    "df_long"
   ]
  },
  {
   "cell_type": "code",
   "execution_count": null,
   "metadata": {},
   "outputs": [],
   "source": [
    "fig, axes = plt.subplots(len(df['Agente'].unique()),len(df['Numero Partita'].unique()), figsize=(15,10))\n",
    "for (joinGroup, group), ax in zip(df_long.groupby(['agente','partita']), axes.flatten()):\n",
    "    win=group['winner'].unique()\n",
    "    title=f'{joinGroup}->winner:{win}'\n",
    "    group.plot(x='NumeroMossa', y='ScoresMossa', kind='scatter',style='-o' ,ax=ax,title=title,ylim=[-1,1])"
   ]
  },
  {
   "cell_type": "code",
   "execution_count": null,
   "metadata": {},
   "outputs": [],
   "source": [
    "for (joinGroup, group) in df_long.groupby(['partita','agente']):\n",
    "    winner=group['winner'].unique()\n",
    "    agente=group['agente'].unique()\n",
    "    lastScore=group.loc[group['NumeroMossa'] ==group['NumeroMossa'].max() , 'ScoreScelto'].unique()\n",
    "    bestScore=-2\n",
    "    if(lastScore>bestScore):\n",
    "        bestScore=lastScore\n",
    "        if()"
   ]
  },
  {
   "cell_type": "code",
   "execution_count": null,
   "metadata": {},
   "outputs": [],
   "source": [
    "dd=df_long.groupby(['partita','agente'])"
   ]
  },
  {
   "cell_type": "code",
   "execution_count": null,
   "metadata": {},
   "outputs": [],
   "source": [
    "for (joinGroup, group) in df_long.groupby(['partita','agente']):\n",
    "    print(joinGroup)\n",
    "    print(group.loc[group['NumeroMossa'] ==group['NumeroMossa'].max() , 'ScoreScelto'].unique())\n"
   ]
  },
  {
   "cell_type": "code",
   "execution_count": null,
   "metadata": {},
   "outputs": [],
   "source": [
    "fig, axes = plt.subplots(len(df['Agente'].unique()),len(df['Numero Partita'].unique()), figsize=(15,10))\n",
    "for (joinGroup, group), ax in zip(df_long.groupby(['agente','partita']), axes.flatten()):\n",
    "    win=group['winner'].unique()\n",
    "    title=f'{joinGroup}->winner:{win}'\n",
    "    group.plot(x='NumeroMossa', y='ScoresMossa', kind='bar',style='-o' ,ax=ax,title=title,ylim=[-1,1])"
   ]
  },
  {
   "cell_type": "code",
   "execution_count": null,
   "metadata": {},
   "outputs": [],
   "source": [
    "df_long"
   ]
  }
 ],
 "metadata": {
  "kernelspec": {
   "display_name": "Python 3",
   "language": "python",
   "name": "python3"
  },
  "language_info": {
   "codemirror_mode": {
    "name": "ipython",
    "version": 3
   },
   "file_extension": ".py",
   "mimetype": "text/x-python",
   "name": "python",
   "nbconvert_exporter": "python",
   "pygments_lexer": "ipython3",
   "version": "3.7.3"
  }
 },
 "nbformat": 4,
 "nbformat_minor": 2
}
