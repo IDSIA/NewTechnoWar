{
 "cells": [
  {
   "cell_type": "code",
   "execution_count": null,
   "metadata": {},
   "outputs": [],
   "source": [
    "import sys\n",
    "sys.path.append(\"../\")"
   ]
  },
  {
   "cell_type": "code",
   "execution_count": null,
   "metadata": {},
   "outputs": [],
   "source": [
    "import os\n",
    "\n",
    "import numpy as np\n",
    "import pandas as pd\n",
    "import joblib\n",
    "\n",
    "from agents.matchmanager import buildMatchManager\n",
    "from core.game.state import vectorStateInfo, vectorState, vectorActionInfo, vectorAction\n",
    "\n",
    "from datetime import datetime\n",
    "from multiprocessing import Pool"
   ]
  },
  {
   "cell_type": "code",
   "execution_count": null,
   "metadata": {},
   "outputs": [],
   "source": [
    "agents = [\n",
    "#     'RandomAgent', \n",
    "#     'AlphaBetaAgent', \n",
    "    'GreedyAgent'\n",
    "]\n",
    "scenarios = [\n",
    "#     'scenarioJunctionExo', \n",
    "    'scenarioJunction', \n",
    "]"
   ]
  },
  {
   "cell_type": "code",
   "execution_count": null,
   "metadata": {},
   "outputs": [],
   "source": [
    "def game(args):\n",
    "    scenario, red, blue, seed = args\n",
    "\n",
    "    output = f'../data/{scenario}.{red}.{blue}.{seed}.pkl.gz'\n",
    "    \n",
    "    if os.path.exists(output):\n",
    "        return\n",
    "        \n",
    "    mm = buildMatchManager('', scenario, red, blue, seed=seed)\n",
    "    \n",
    "    while not mm.end:\n",
    "        mm.nextStep()\n",
    "\n",
    "    states_cols = vectorStateInfo()\n",
    "    states_data = [vectorState(x) for x in mm.states_history]\n",
    "    df_state = pd.DataFrame(columns=states_cols, data=states_data)\n",
    "\n",
    "    actions_cols = vectorActionInfo()\n",
    "    actions_data = [vectorAction(x) for x in mm.actions_history]\n",
    "    df_action = pd.DataFrame(columns=actions_cols, data=actions_data)\n",
    "\n",
    "    df = pd.concat([df_state, df_action], axis=1)\n",
    "\n",
    "    df['winner'] = mm.winner\n",
    "    df['meta_p_red'] = red\n",
    "    df['meta_p_blue'] = blue\n",
    "    \n",
    "    df.to_pickle(output, compression='gzip')\n"
   ]
  },
  {
   "cell_type": "code",
   "execution_count": null,
   "metadata": {},
   "outputs": [],
   "source": [
    "args = []\n",
    "\n",
    "np.random.seed(20210215)\n",
    "\n",
    "for _ in range(1024):\n",
    "    scenario = np.random.choice(scenarios)\n",
    "    red = np.random.choice(agents)\n",
    "    blue = np.random.choice(agents)\n",
    "    seed = np.random.randint(100000000, 999999999)\n",
    "    \n",
    "    args.append((scenario, red, blue, seed))"
   ]
  },
  {
   "cell_type": "code",
   "execution_count": null,
   "metadata": {},
   "outputs": [],
   "source": [
    "with Pool(64,maxtasksperchild=10) as p:\n",
    "    p.map(game, args)"
   ]
  },
  {
   "cell_type": "markdown",
   "metadata": {},
   "source": [
    "Compress everything in a single file, for each scenario"
   ]
  },
  {
   "cell_type": "code",
   "execution_count": null,
   "metadata": {},
   "outputs": [],
   "source": [
    "def compress(scenario):\n",
    "    today = datetime.today().strftime('%Y-%m-%d')\n",
    "    data_dir = '../data'\n",
    "    \n",
    "    files = [f for f in os.listdir(data_dir) if scenario in f]\n",
    "    \n",
    "    dfs = [\n",
    "        pd.concat([\n",
    "            pd.read_pickle(os.path.join(data_dir, f), compression='gzip') for f in files[i:i+1000]\n",
    "        ]) for i in range(0, len(files), 1000)\n",
    "    ]\n",
    "    \n",
    "    dfs = pd.concat(dfs)\n",
    "    \n",
    "    dfs.to_pickle(f'../data.{today}.{scenario}.pkl.gz', compression='gzip')\n",
    "    \n",
    "    return dfs"
   ]
  },
  {
   "cell_type": "code",
   "execution_count": null,
   "metadata": {},
   "outputs": [],
   "source": [
    "with Pool(len(scenarios)) as p:\n",
    "    p.map(compress, scenarios)"
   ]
  },
  {
   "cell_type": "markdown",
   "metadata": {},
   "source": [
    "# Data"
   ]
  },
  {
   "cell_type": "code",
   "execution_count": null,
   "metadata": {},
   "outputs": [],
   "source": [
    "raw = pd.read_pickle('../data.2021-02-17.scenarioJunction.pkl.gz')\\\n",
    "        .drop(['meta_scenario', 'meta_p_red', 'meta_p_blue', 'meta_seed'], axis=1, errors=\"ignore\")"
   ]
  },
  {
   "cell_type": "code",
   "execution_count": null,
   "metadata": {},
   "outputs": [],
   "source": [
    "raw.shape"
   ]
  },
  {
   "cell_type": "code",
   "execution_count": null,
   "metadata": {},
   "outputs": [],
   "source": [
    "df = raw.dropna(axis=1, how='all')"
   ]
  },
  {
   "cell_type": "code",
   "execution_count": null,
   "metadata": {},
   "outputs": [],
   "source": [
    "df.shape"
   ]
  },
  {
   "cell_type": "code",
   "execution_count": null,
   "metadata": {},
   "outputs": [],
   "source": [
    "df_red = df[df['action_team'] == 'red'].copy().drop('action_team', axis=1)\n",
    "df_blue = df[df['action_team'] == 'blue'].copy().drop('action_team', axis=1)"
   ]
  },
  {
   "cell_type": "code",
   "execution_count": null,
   "metadata": {},
   "outputs": [],
   "source": [
    "df_red['label'] = df_red['winner'].apply(lambda x: 1 if x == 'red' else -1)\n",
    "df_blue['label'] = df_blue['winner'].apply(lambda x: 1 if x == 'blue' else -1)"
   ]
  },
  {
   "cell_type": "code",
   "execution_count": null,
   "metadata": {},
   "outputs": [],
   "source": [
    "df_red.shape, df_blue.shape"
   ]
  },
  {
   "cell_type": "code",
   "execution_count": null,
   "metadata": {},
   "outputs": [],
   "source": [
    "X_red = df_red.drop(['winner', 'label'], axis=1)\n",
    "y_red = df_red['label']\n",
    "\n",
    "X_blue = df_blue.drop(['winner', 'label'], axis=1)\n",
    "y_blue = df_blue['label']"
   ]
  },
  {
   "cell_type": "code",
   "execution_count": null,
   "metadata": {},
   "outputs": [],
   "source": [
    "X = pd.concat([X_red, X_blue])\n",
    "y = pd.concat([y_red, y_blue])"
   ]
  },
  {
   "cell_type": "code",
   "execution_count": null,
   "metadata": {},
   "outputs": [],
   "source": [
    "X.shape, y.shape, X_red.shape, y_red.shape, X_blue.shape, y_blue.shape"
   ]
  },
  {
   "cell_type": "markdown",
   "metadata": {},
   "source": [
    "# Regressors"
   ]
  },
  {
   "cell_type": "code",
   "execution_count": null,
   "metadata": {},
   "outputs": [],
   "source": [
    "from sklearn.ensemble import RandomForestRegressor"
   ]
  },
  {
   "cell_type": "code",
   "execution_count": null,
   "metadata": {},
   "outputs": [],
   "source": [
    "rfr_red = RandomForestRegressor()\n",
    "rfr_blue = RandomForestRegressor()\n",
    "rfr = RandomForestRegressor()\n",
    "\n",
    "rfr_red.fit(X_red, y_red)\n",
    "rfr_blue.fit(X_blue, y_blue)\n",
    "rfr.fit(X, y)\n",
    "\n",
    "joblib.dump(rfr_red, '../models/Junction_RandomForestRegressor_red_20210217.joblib')\n",
    "joblib.dump(rfr_blue, '../models/Junction_RandomForestRegressor_blue_20210217.joblib')\n",
    "joblib.dump(rfr, '../models/Junction_RandomForestRegressor_20210217.joblib')"
   ]
  },
  {
   "cell_type": "markdown",
   "metadata": {},
   "source": [
    "# Classifiers"
   ]
  },
  {
   "cell_type": "code",
   "execution_count": null,
   "metadata": {},
   "outputs": [],
   "source": [
    "from sklearn.ensemble import RandomForestClassifier"
   ]
  },
  {
   "cell_type": "code",
   "execution_count": null,
   "metadata": {},
   "outputs": [],
   "source": [
    "rfc_red = RandomForestClassifier()\n",
    "rfc_blue = RandomForestClassifier()\n",
    "rfc = RandomForestClassifier()\n",
    "\n",
    "rfc_red.fit(X_red, y_red)\n",
    "rfc_blue.fit(X_blue, y_blue)\n",
    "rfc.fit(X, y)\n",
    "\n",
    "joblib.dump(rfc_red, '../models/Junction_RandomForestClassifier_red_20210217.joblib')\n",
    "joblib.dump(rfc_blue, '../models/Junction_RandomForestClassifier_blue_20210217.joblib')\n",
    "joblib.dump(rfc, '../models/Junction_RandomForestClassifier_20210217.joblib')"
   ]
  },
  {
   "cell_type": "code",
   "execution_count": null,
   "metadata": {},
   "outputs": [],
   "source": []
  }
 ],
 "metadata": {
  "kernelspec": {
   "display_name": "Python 3",
   "language": "python",
   "name": "python3"
  },
  "language_info": {
   "codemirror_mode": {
    "name": "ipython",
    "version": 3
   },
   "file_extension": ".py",
   "mimetype": "text/x-python",
   "name": "python",
   "nbconvert_exporter": "python",
   "pygments_lexer": "ipython3",
   "version": "3.7.6"
  }
 },
 "nbformat": 4,
 "nbformat_minor": 4
}
