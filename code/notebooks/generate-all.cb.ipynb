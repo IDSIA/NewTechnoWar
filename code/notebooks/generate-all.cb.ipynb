{
 "cells": [
  {
   "cell_type": "code",
   "execution_count": 1,
   "metadata": {},
   "outputs": [],
   "source": [
    "import sys\n",
    "sys.path.append(\"../\")"
   ]
  },
  {
   "cell_type": "code",
   "execution_count": 2,
   "metadata": {},
   "outputs": [],
   "source": [
    "import os\n",
    "\n",
    "import numpy as np\n",
    "import pandas as pd\n",
    "import random\n",
    "import joblib\n",
    "\n",
    "from agents.matchmanager import buildMatchManager\n",
    "from core.game.state import vectorStateInfo, vectorState\n",
    "\n",
    "from datetime import datetime\n",
    "from multiprocessing import Pool"
   ]
  },
  {
   "cell_type": "code",
   "execution_count": 3,
   "metadata": {},
   "outputs": [],
   "source": [
    "agents = [\n",
    "    'RandomAgent', \n",
    "#     'AlphaBetaAgent', \n",
    "    'GreedyAgent'\n",
    "]\n",
    "scenarios = [\n",
    "#     'scenarioJunctionExo', \n",
    "    'scenarioJunction', \n",
    "]"
   ]
  },
  {
   "cell_type": "code",
   "execution_count": 4,
   "metadata": {},
   "outputs": [],
   "source": [
    "def game(args):\n",
    "    scenario, red, blue, seed = args\n",
    "    vectors=[]\n",
    "\n",
    "    output = f'../data/{scenario}.{red}.{blue}.{seed}.pkl.gz'\n",
    "    \n",
    "    if os.path.exists(output):\n",
    "        return\n",
    "    \n",
    "    mm = buildMatchManager('', scenario, red, blue, seed=seed)\n",
    "    \n",
    "    while not mm.end:\n",
    "        mm.nextStep()\n",
    "\n",
    "    cols = vectorStateInfo()\n",
    "    data = [vectorState(x) for x in mm.states_history]\n",
    "\n",
    "    df = pd.DataFrame(columns=cols, data=data)\n",
    "    \n",
    "    df['winner'] = mm.winner\n",
    "    df['meta_p_red'] = red\n",
    "    df['meta_p_blue'] = blue\n",
    "    df['meta_seed'] = seed\n",
    "    df['meta_scenario'] = scenario\n",
    "    \n",
    "    df.to_pickle(output, compression='gzip')\n"
   ]
  },
  {
   "cell_type": "code",
   "execution_count": 5,
   "metadata": {},
   "outputs": [],
   "source": [
    "args = []\n",
    "\n",
    "np.random.seed(20210215)\n",
    "\n",
    "for _ in range(128):\n",
    "    scenario = np.random.choice(scenarios)\n",
    "    red = np.random.choice(agents)\n",
    "    blue = np.random.choice(agents)\n",
    "    seed = np.random.randint(100000000, 999999999)\n",
    "    \n",
    "    args.append((scenario, red, blue, seed))"
   ]
  },
  {
   "cell_type": "code",
   "execution_count": 6,
   "metadata": {},
   "outputs": [],
   "source": [
    "with Pool(64) as p:\n",
    "    p.map(game, args)"
   ]
  },
  {
   "cell_type": "markdown",
   "metadata": {},
   "source": [
    "Compress everything in a single file, for each scenario"
   ]
  },
  {
   "cell_type": "code",
   "execution_count": 7,
   "metadata": {},
   "outputs": [],
   "source": [
    "def compress(scenario):\n",
    "    today = datetime.today().strftime('%Y-%m-%d')\n",
    "    data_dir = '../data'\n",
    "    \n",
    "    files = [f for f in os.listdir(data_dir) if scenario in f]\n",
    "    \n",
    "    dfs = [\n",
    "        pd.concat([\n",
    "            pd.read_pickle(os.path.join(data_dir, f), compression='gzip') for f in files[i:i+1000]\n",
    "        ]) for i in range(0, len(files), 1000)\n",
    "    ]\n",
    "    \n",
    "    dfs = pd.concat(dfs)\n",
    "    \n",
    "    dfs.to_pickle(f'../data.{today}.{scenario}.pkl.gz', compression='gzip')\n",
    "    \n",
    "    return dfs"
   ]
  },
  {
   "cell_type": "code",
   "execution_count": 8,
   "metadata": {},
   "outputs": [],
   "source": [
    "with Pool(len(scenarios)) as p:\n",
    "    raw = p.map(compress, scenarios)"
   ]
  },
  {
   "cell_type": "markdown",
   "metadata": {},
   "source": [
    "# Data"
   ]
  },
  {
   "cell_type": "code",
   "execution_count": 11,
   "metadata": {},
   "outputs": [],
   "source": [
    "def dfForTeam(df: pd.DataFrame, team:str):\n",
    "    df_new = df[[c for c in df.columns if team in c] + ['winner']].copy()\n",
    "    df_new['winner'] = df['winner'].apply(lambda x: 1 if x == team else -1)\n",
    "    return df_new"
   ]
  },
  {
   "cell_type": "code",
   "execution_count": 9,
   "metadata": {},
   "outputs": [],
   "source": [
    "df = raw[0].dropna(axis=1).drop(['meta_scenario', 'meta_p_red', 'meta_p_blue', 'meta_seed'], axis=1)"
   ]
  },
  {
   "cell_type": "code",
   "execution_count": 10,
   "metadata": {},
   "outputs": [
    {
     "data": {
      "text/plain": [
       "(5457, 292)"
      ]
     },
     "execution_count": 10,
     "metadata": {},
     "output_type": "execute_result"
    }
   ],
   "source": [
    "df.shape"
   ]
  },
  {
   "cell_type": "code",
   "execution_count": 12,
   "metadata": {},
   "outputs": [],
   "source": [
    "df_red = dfForTeam(df, \"red\")\n",
    "df_blue = dfForTeam(df, \"blue\")"
   ]
  },
  {
   "cell_type": "code",
   "execution_count": 13,
   "metadata": {},
   "outputs": [
    {
     "data": {
      "text/plain": [
       "((5457, 145), (5457, 145))"
      ]
     },
     "execution_count": 13,
     "metadata": {},
     "output_type": "execute_result"
    }
   ],
   "source": [
    "df_red.shape, df_blue.shape"
   ]
  },
  {
   "cell_type": "code",
   "execution_count": 15,
   "metadata": {},
   "outputs": [],
   "source": [
    "X_red = df_red.drop(['winner'], axis=1)\n",
    "y_red = df_red['winner']"
   ]
  },
  {
   "cell_type": "code",
   "execution_count": 16,
   "metadata": {},
   "outputs": [],
   "source": [
    "X_blue = df_blue.drop(['winner'], axis=1)\n",
    "y_blue = df_blue['winner']"
   ]
  },
  {
   "cell_type": "markdown",
   "metadata": {},
   "source": [
    "# Regressors"
   ]
  },
  {
   "cell_type": "code",
   "execution_count": 14,
   "metadata": {},
   "outputs": [],
   "source": [
    "from sklearn.ensemble import RandomForestRegressor"
   ]
  },
  {
   "cell_type": "code",
   "execution_count": 17,
   "metadata": {},
   "outputs": [],
   "source": [
    "rfr_red = RandomForestRegressor()\n",
    "rfr_blue = RandomForestRegressor()\n",
    "\n",
    "rfr_red.fit(X_red, y_red)\n",
    "rfr_blue.fit(X_blue, y_blue)\n",
    "\n",
    "joblib.dump(rfr_red, '../models/Junction_RandomForestRegressor_red_20210215.joblib')\n",
    "joblib.dump(rfr_blue, '../models/Junction_RandomForestRegressor_blue_20210215.joblib')"
   ]
  },
  {
   "cell_type": "markdown",
   "metadata": {},
   "source": [
    "# Classifiers"
   ]
  },
  {
   "cell_type": "code",
   "execution_count": 28,
   "metadata": {},
   "outputs": [],
   "source": [
    "from sklearn.ensemble import RandomForestClassifier"
   ]
  },
  {
   "cell_type": "code",
   "execution_count": 29,
   "metadata": {},
   "outputs": [
    {
     "data": {
      "text/plain": [
       "['../models/Junction_RandomForestClassifier_blue_20210215.joblib']"
      ]
     },
     "execution_count": 29,
     "metadata": {},
     "output_type": "execute_result"
    }
   ],
   "source": [
    "rfc_red = RandomForestClassifier()\n",
    "rfc_blue = RandomForestClassifier()\n",
    "\n",
    "rfc_red.fit(X_red, y_red)\n",
    "rfc_blue.fit(X_blue, y_blue)\n",
    "\n",
    "joblib.dump(rfc_red, '../models/Junction_RandomForestClassifier_red_20210215.joblib')\n",
    "joblib.dump(rfc_blue, '../models/Junction_RandomForestClassifier_blue_20210215.joblib')"
   ]
  },
  {
   "cell_type": "code",
   "execution_count": null,
   "metadata": {},
   "outputs": [],
   "source": []
  }
 ],
 "metadata": {
  "kernelspec": {
   "display_name": "Python 3",
   "language": "python",
   "name": "python3"
  },
  "language_info": {
   "codemirror_mode": {
    "name": "ipython",
    "version": 3
   },
   "file_extension": ".py",
   "mimetype": "text/x-python",
   "name": "python",
   "nbconvert_exporter": "python",
   "pygments_lexer": "ipython3",
   "version": "3.7.6"
  }
 },
 "nbformat": 4,
 "nbformat_minor": 4
}
