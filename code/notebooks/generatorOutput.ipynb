{
 "cells": [
  {
   "cell_type": "code",
   "execution_count": null,
   "metadata": {},
   "outputs": [],
   "source": [
    "import sys\n",
    "sys.path.append(\"../\")"
   ]
  },
  {
   "cell_type": "code",
   "execution_count": null,
   "metadata": {},
   "outputs": [],
   "source": [
    "import os.path as op\n",
    "import random\n",
    "\n",
    "import pandas as pd\n",
    "import yaml\n",
    "\n",
    "from agents import GreedyAgent,RandomAgent\n",
    "from agents.matchmanager import MatchManager\n",
    "from agents.ml.classifier import ClassifierAgent\n",
    "from agents.ml.regression import RegressionAgent\n",
    "from agents.ml.regressionMulti import RegressionMultiAgent\n",
    "from core.const import RED, BLUE\n",
    "from scenarios import scenarioJunction\n",
    "import warnings\n",
    "\n",
    "from multiprocessing import Pool\n",
    "\n",
    "from itertools import product\n",
    "import json\n",
    "\n",
    "import os\n",
    "\n",
    "\n"
   ]
  },
  {
   "cell_type": "code",
   "execution_count": null,
   "metadata": {},
   "outputs": [],
   "source": [
    "with open(op.join('.', '../logger.config.yaml'), 'r') as stream:\n",
    "    config = yaml.load(stream, Loader=yaml.FullLoader)\n",
    "# logging.config.dictConfig(config)"
   ]
  },
  {
   "cell_type": "code",
   "execution_count": null,
   "metadata": {},
   "outputs": [],
   "source": [
    "def player(team:str, data:tuple, seed:int):\n",
    "    if data[0] == 'gre':\n",
    "        #print(f'{team:5}-> GreedyAgent')\n",
    "        return GreedyAgent(team, seed=seed)\n",
    "    if data[0] == 'cls':\n",
    "        #print(f'{team:5}-> ClassifierAgent')\n",
    "        return ClassifierAgent(team, data[1], seed=seed)\n",
    "    if data[0] == 'reg':\n",
    "        #print(f'{team:5}-> RegressionAgent')\n",
    "        return RegressionAgent(team, data[1], seed=seed)\n",
    "    if data[0]=='ran':\n",
    "        #print(f'{team:5}-> RandomAgent')\n",
    "        return RandomAgent(team, seed=seed)\n",
    "    if data[0]=='regMulti':\n",
    "        #print(f'{team:5}-> RegressionAgentMulti')\n",
    "        return RegressionMultiAgent(team,data[1],data[2],data[3],seed=seed)\n",
    "\n",
    "\n",
    "    \n",
    "    return None"
   ]
  },
  {
   "cell_type": "code",
   "execution_count": null,
   "metadata": {},
   "outputs": [],
   "source": [
    "def game(args):\n",
    "    scenario,seed,agentRed,agentBlue=args\n",
    "\n",
    "    board, state = scenario()\n",
    "    \n",
    "    #print('seed:   ', seed)\n",
    "    \n",
    "    playerRed = player(RED, agentRed, seed)\n",
    "    playerBlue = player(BLUE, agentBlue, seed)\n",
    "\n",
    "    mm = MatchManager(' ', playerRed, playerBlue, board, state, seed=seed)\n",
    "    while not mm.end:\n",
    "        mm.nextStep()\n",
    "    save={\n",
    "        'scenario':board.name,\n",
    "        'seed':seed,\n",
    "        'teamRed':playerRed.name,\n",
    "        'teamBlue':playerBlue.name,\n",
    "        'winner':mm.winner\n",
    "    }\n",
    "    file_name=f'../output/{playerRed.name}_{playerBlue.name}_{board.name}_{seed}.json'\n",
    "    #print(file_name)\n",
    "    with open(file_name, 'w') as json_file:\n",
    "        json.dump(save, json_file)\n",
    "        #salva le cose su disco!\n",
    "    \n",
    "    #print('winner: ', mm.winner)\n",
    "\n",
    "    #return mm"
   ]
  },
  {
   "cell_type": "code",
   "execution_count": null,
   "metadata": {},
   "outputs": [],
   "source": [
    "red_models = [\n",
    "    ('gre', ''),\n",
    "    ('ran', ''),\n",
    "    #('cls', '../models/Junction_RandomForestClassifier_red_20210301.joblib'),\n",
    "    ('cls', '../models/Junction_RandomForestClassifier_20210301.joblib'),\n",
    "    #('reg', '../models/Junction_RandomForestRegressor_red_20210301.joblib'),\n",
    "    ('reg', '../models/Junction_RandomForestRegressor_20210301.joblib'),\n",
    "    ('regMulti','../models/Junction_RandomForestRegressor_red_attack_20210301.joblib','../models/Junction_RandomForestRegressor_red_move_20210301.joblib','../models/Junction_RandomForestRegressor_red_pass_20210301.joblib')\n",
    "\n",
    "]\n",
    "blue_models = [\n",
    "    ('gre', ''),\n",
    "    ('ran', ''),\n",
    "    #('cls', '../models/Junction_RandomForestClassifier_blue_20210301.joblib'),\n",
    "    ('cls', '../models/Junction_RandomForestClassifier_20210301.joblib'),\n",
    "    #('reg', '../models/Junction_RandomForestRegressor_blue_20210301.joblib'),\n",
    "    ('reg', '../models/Junction_RandomForestRegressor_20210301.joblib'),\n",
    "    ('regMulti','../models/Junction_RandomForestRegressor_blue_attack_20210301.joblib','../models/Junction_RandomForestRegressor_blue_move_20210301.joblib','../models/Junction_RandomForestRegressor_blue_pass_20210301.joblib')\n",
    "\n",
    "\n",
    "]"
   ]
  },
  {
   "cell_type": "markdown",
   "metadata": {},
   "source": [
    "args=[]\n",
    "scenarios = [scenarioJunction]\n",
    "\n",
    "for i in range(0,1):\n",
    "    for scenario in scenarios:\n",
    "        s = random.randint(0, 1000000)\n",
    "        r = random.randint(0, len(red_models)-1)\n",
    "        b = random.randint(0, len(blue_models)-1)\n",
    "        args.append((scenario,s,red_models[r],blue_models[b]))"
   ]
  },
  {
   "cell_type": "markdown",
   "metadata": {},
   "source": [
    "with Pool(64,maxtasksperchild=10) as p:\n",
    "    p.map(game, args)"
   ]
  },
  {
   "cell_type": "code",
   "execution_count": null,
   "metadata": {},
   "outputs": [],
   "source": [
    "scenarios = [scenarioJunction]\n",
    "args=[]\n",
    "for i in range(0, 100):\n",
    "    for scenario in scenarios:\n",
    "        for agentRed, agentBlue in product(red_models, blue_models):\n",
    "            args.append((scenario,i,agentRed,agentBlue))"
   ]
  },
  {
   "cell_type": "code",
   "execution_count": null,
   "metadata": {},
   "outputs": [],
   "source": [
    "with Pool(64) as p:\n",
    "    p.map(game, args)"
   ]
  },
  {
   "cell_type": "code",
   "execution_count": null,
   "metadata": {},
   "outputs": [],
   "source": []
  }
 ],
 "metadata": {
  "kernelspec": {
   "display_name": "Python 3",
   "language": "python",
   "name": "python3"
  },
  "language_info": {
   "codemirror_mode": {
    "name": "ipython",
    "version": 3
   },
   "file_extension": ".py",
   "mimetype": "text/x-python",
   "name": "python",
   "nbconvert_exporter": "python",
   "pygments_lexer": "ipython3",
   "version": "3.7.0"
  }
 },
 "nbformat": 4,
 "nbformat_minor": 4
}
