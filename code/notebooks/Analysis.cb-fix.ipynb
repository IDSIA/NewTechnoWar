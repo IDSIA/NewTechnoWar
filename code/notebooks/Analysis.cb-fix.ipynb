{
 "cells": [
  {
   "cell_type": "code",
   "execution_count": null,
   "metadata": {},
   "outputs": [],
   "source": [
    "import sys\n",
    "sys.path.append(\"../\")"
   ]
  },
  {
   "cell_type": "code",
   "execution_count": null,
   "metadata": {},
   "outputs": [],
   "source": [
    "import os\n",
    "\n",
    "import numpy as np\n",
    "import pandas as pd\n",
    "import joblib\n",
    "\n",
    "from agents.matchmanager import buildMatchManager\n",
    "from core.game import GameBoard, GameState, vectorState, vectorStateInfo\n",
    "from core.vectors import vectorAction, vectorActionInfo, vectorBoard, vectorBoardInfo\n",
    "from sklearn.ensemble import RandomForestRegressor\n",
    "\n",
    "from datetime import datetime\n",
    "from multiprocessing import Pool\n",
    "\n",
    "import os.path as op\n",
    "import random\n",
    "\n",
    "import matplotlib.pyplot as plt\n",
    "import pandas as pd\n",
    "import yaml\n",
    "\n",
    "from agents import GreedyAgent,RandomAgent\n",
    "from agents.matchmanager import MatchManager\n",
    "from agents.ml.classifier import ClassifierAgent\n",
    "from agents.ml.regression import RegressionAgent\n",
    "from core.const import RED, BLUE\n",
    "from scenarios import scenarioJunction\n",
    "\n",
    "%matplotlib inline\n",
    "plt.rcParams['figure.figsize'] = (12,4)"
   ]
  },
  {
   "cell_type": "code",
   "execution_count": null,
   "metadata": {},
   "outputs": [],
   "source": [
    "with open(op.join('.', '../logger.config.yaml'), 'r') as stream:\n",
    "    config = yaml.load(stream, Loader=yaml.FullLoader)\n",
    "#logging.config.dictConfig(config)"
   ]
  },
  {
   "cell_type": "code",
   "execution_count": null,
   "metadata": {},
   "outputs": [],
   "source": [
    "import logging.config\n"
   ]
  },
  {
   "cell_type": "markdown",
   "metadata": {},
   "source": [
    "Functions definition:"
   ]
  },
  {
   "cell_type": "code",
   "execution_count": null,
   "metadata": {},
   "outputs": [],
   "source": [
    "def player(team:str, data:tuple, seed:int):\n",
    "    if data[0] == 'gre':\n",
    "        print(f'{team:5}-> GreedyAgent')\n",
    "        return GreedyAgent(team, seed=seed)\n",
    "    if data[0] == 'cls':\n",
    "        print(f'{team:5}-> ClassifierAgent')\n",
    "        return ClassifierAgent(team, data[1], seed=seed)\n",
    "    if data[0] == 'reg':\n",
    "        print(f'{team:5}-> RegressionAgent')\n",
    "        return RegressionAgent(team, data[1], seed=seed)\n",
    "    if data[0]=='ran':\n",
    "        print(f'{team:5}-> RandomAgent')\n",
    "        return RandomAgent(team, seed=seed)\n",
    "        \n",
    "    \n",
    "    return None"
   ]
  },
  {
   "cell_type": "code",
   "execution_count": null,
   "metadata": {},
   "outputs": [],
   "source": [
    "def gameJunction(seed:int, red:tuple, blue:tuple) -> MatchManager:\n",
    "    board, state = scenarioJunction()\n",
    "    \n",
    "    print('seed:   ', seed)\n",
    "    \n",
    "    playerRed = player(RED, red, seed)\n",
    "    playerBlue = player(BLUE, blue, seed)\n",
    "\n",
    "    mm = MatchManager(' ', playerRed, playerBlue, board, state, seed=seed)\n",
    "    while not mm.end:\n",
    "        mm.nextStep()\n",
    "    \n",
    "    print('winner: ', mm.winner)\n",
    "\n",
    "    return mm"
   ]
  },
  {
   "cell_type": "code",
   "execution_count": null,
   "metadata": {},
   "outputs": [],
   "source": [
    "def prepareDataFrames(mm:MatchManager):\n",
    "    df_states = pd.DataFrame(\n",
    "        columns=vectorStateInfo(),\n",
    "        data=[vectorState(x) for x in mm.states_history]\n",
    "    )\n",
    "\n",
    "    df_actions = pd.DataFrame(\n",
    "        columns=vectorActionInfo(),\n",
    "        data=[vectorAction(x) for x in mm.actions_history]\n",
    "    )\n",
    "    df_red = mm.red.createDataFrame()\n",
    "    df_blue = mm.blue.createDataFrame()\n",
    "    \n",
    "    df_red = df_red.set_index('count')\n",
    "    df_blue = df_blue.set_index('count')\n",
    "\n",
    "    return df_red, df_blue, df_states, df_actions"
   ]
  },
  {
   "cell_type": "markdown",
   "metadata": {},
   "source": [
    "Plot functions:"
   ]
  },
  {
   "cell_type": "code",
   "execution_count": null,
   "metadata": {},
   "outputs": [],
   "source": [
    "def plotEntropy(df, color:str):\n",
    "    plt.figure()\n",
    "    df.score.plot(color=color, marker='.')\n",
    "    df.entropy.plot(color='purple')\n",
    "\n",
    "    for i, row in df[['score','action']].reset_index().iterrows():\n",
    "        dy, ha, va = (-0, 'center', 'top') if 'Respond' in row.action else (10, 'center', 'bottom')\n",
    "        plt.annotate(row.action, (row['count'], row.score), ha=ha, va=va, rotation=90, textcoords=\"offset points\", xytext=(0,dy))\n",
    "        \n",
    "    for x in df[['turn']].reset_index().groupby('turn').max().values.tolist():\n",
    "        plt.axvline(x=x[0]+0.5, color='orange')"
   ]
  },
  {
   "cell_type": "code",
   "execution_count": null,
   "metadata": {},
   "outputs": [],
   "source": [
    "def plotContrast(df):\n",
    "    df[df['team']=='red']['entropy'].plot(color='red'), df[df['team']=='blue']['entropy'].plot(color='blue')"
   ]
  },
  {
   "cell_type": "markdown",
   "metadata": {},
   "source": [
    "Main analysis function:"
   ]
  },
  {
   "cell_type": "code",
   "execution_count": null,
   "metadata": {},
   "outputs": [],
   "source": [
    "def playAndAnalyze(seed:int, red_data, blue_data):  \n",
    "    mm = gameJunction(seed, red_data, blue_data)\n",
    "        \n",
    "    df_red, df_blue, _, _ = prepareDataFrames(mm)\n",
    "    \n",
    "    plotEntropy(df_red, 'red')\n",
    "    plotEntropy(df_blue, 'blue')\n",
    "    \n",
    "    return df_red, df_blue"
   ]
  },
  {
   "cell_type": "code",
   "execution_count": null,
   "metadata": {},
   "outputs": [],
   "source": [
    "red_models = [\n",
    "    ('gre', ''),\n",
    "    ('cls', '../models/Junction_RandomForestClassifier_red_20210217.joblib'),\n",
    "    ('cls', '../models/Junction_RandomForestClassifier_20210217.joblib'),\n",
    "    ('reg', '../models/Junction_RandomForestRegressor_red.joblib'),\n",
    "    ('reg', '../models/Junction_RandomForestRegressor.joblib'),\n",
    "]\n",
    "blue_models = [\n",
    "    ('gre', ''),\n",
    "    ('cls', '../models/Junction_RandomForestClassifier_blue_20210217.joblib'),\n",
    "    ('cls', '../models/Junction_RandomForestClassifier_20210217.joblib'),\n",
    "    ('reg', '../models/Junction_RandomForestRegressor_blue.joblib'),\n",
    "    ('reg', '../models/Junction_RandomForestRegressor.joblib'),\n",
    "\n",
    "]"
   ]
  },
  {
   "cell_type": "code",
   "execution_count": null,
   "metadata": {},
   "outputs": [],
   "source": [
    "seed = 51"
   ]
  },
  {
   "cell_type": "markdown",
   "metadata": {},
   "source": [
    "# Regressions"
   ]
  },
  {
   "cell_type": "code",
   "execution_count": null,
   "metadata": {},
   "outputs": [],
   "source": [
    "playAndAnalyze(seed, red_models[3], blue_models[3]);"
   ]
  },
  {
   "cell_type": "markdown",
   "metadata": {},
   "source": [
    "# Classifiers"
   ]
  },
  {
   "cell_type": "code",
   "execution_count": null,
   "metadata": {},
   "outputs": [],
   "source": [
    "playAndAnalyze(seed, red_models[1], blue_models[1]);"
   ]
  },
  {
   "cell_type": "markdown",
   "metadata": {},
   "source": [
    "# Greedy"
   ]
  },
  {
   "cell_type": "code",
   "execution_count": null,
   "metadata": {},
   "outputs": [],
   "source": [
    "playAndAnalyze(seed, red_models[0], blue_models[0]);"
   ]
  },
  {
   "cell_type": "markdown",
   "metadata": {},
   "source": [
    "# Tourney!"
   ]
  },
  {
   "cell_type": "code",
   "execution_count": null,
   "metadata": {},
   "outputs": [],
   "source": [
    "random.seed(seed)"
   ]
  },
  {
   "cell_type": "code",
   "execution_count": null,
   "metadata": {},
   "outputs": [],
   "source": [
    "s = random.randint(0, 1000000)\n",
    "r = random.randint(0, len(red_models)-1)\n",
    "b = random.randint(0, len(blue_models)-1)\n",
    "\n",
    "playAndAnalyze(s, red_models[r], blue_models[b]);"
   ]
  },
  {
   "cell_type": "code",
   "execution_count": null,
   "metadata": {},
   "outputs": [],
   "source": [
    "s = random.randint(0, 1000000)\n",
    "r = random.randint(0, len(red_models)-1)\n",
    "b = random.randint(0, len(blue_models)-1)\n",
    "\n",
    "playAndAnalyze(s, red_models[r], blue_models[b]);"
   ]
  },
  {
   "cell_type": "code",
   "execution_count": null,
   "metadata": {},
   "outputs": [],
   "source": [
    "s = random.randint(0, 1000000)\n",
    "r = random.randint(0, len(red_models)-1)\n",
    "b = random.randint(0, len(blue_models)-1)\n",
    "\n",
    "playAndAnalyze(s, red_models[r], blue_models[b]);"
   ]
  },
  {
   "cell_type": "code",
   "execution_count": null,
   "metadata": {},
   "outputs": [],
   "source": [
    "s = random.randint(0, 1000000)\n",
    "r = random.randint(0, len(red_models)-1)\n",
    "b = random.randint(0, len(blue_models)-1)\n",
    "\n",
    "playAndAnalyze(s, red_models[r], blue_models[b]);"
   ]
  },
  {
   "cell_type": "code",
   "execution_count": null,
   "metadata": {},
   "outputs": [],
   "source": [
    "s = random.randint(0, 1000000)\n",
    "r = random.randint(0, len(red_models)-1)\n",
    "b = random.randint(0, len(blue_models)-1)\n",
    "\n",
    "playAndAnalyze(s, red_models[r], blue_models[b]);"
   ]
  },
  {
   "cell_type": "code",
   "execution_count": null,
   "metadata": {},
   "outputs": [],
   "source": [
    "s = random.randint(0, 1000000)\n",
    "r = random.randint(0, len(red_models)-1)\n",
    "b = random.randint(0, len(blue_models)-1)\n",
    "\n",
    "playAndAnalyze(s, red_models[r], blue_models[b]);"
   ]
  },
  {
   "cell_type": "code",
   "execution_count": null,
   "metadata": {},
   "outputs": [],
   "source": [
    "s = random.randint(0, 1000000)\n",
    "r = random.randint(0, len(red_models)-1)\n",
    "b = random.randint(0, len(blue_models)-1)\n",
    "\n",
    "playAndAnalyze(s, red_models[r], blue_models[b]);"
   ]
  },
  {
   "cell_type": "code",
   "execution_count": null,
   "metadata": {},
   "outputs": [],
   "source": [
    "s = random.randint(0, 1000000)\n",
    "r = random.randint(0, len(red_models)-1)\n",
    "b = random.randint(0, len(blue_models)-1)\n",
    "\n",
    "playAndAnalyze(s, red_models[r], blue_models[b]);"
   ]
  },
  {
   "cell_type": "code",
   "execution_count": null,
   "metadata": {},
   "outputs": [],
   "source": [
    "s = random.randint(0, 1000000)\n",
    "r = random.randint(0, len(red_models)-1)\n",
    "b = random.randint(0, len(blue_models)-1)\n",
    "\n",
    "playAndAnalyze(s, red_models[r], blue_models[b]);"
   ]
  },
  {
   "cell_type": "code",
   "execution_count": null,
   "metadata": {},
   "outputs": [],
   "source": []
  }
 ],
 "metadata": {
  "kernelspec": {
   "display_name": "Python 3",
   "language": "python",
   "name": "python3"
  },
  "language_info": {
   "codemirror_mode": {
    "name": "ipython",
    "version": 3
   },
   "file_extension": ".py",
   "mimetype": "text/x-python",
   "name": "python",
   "nbconvert_exporter": "python",
   "pygments_lexer": "ipython3",
   "version": "3.7.6"
  }
 },
 "nbformat": 4,
 "nbformat_minor": 4
}
