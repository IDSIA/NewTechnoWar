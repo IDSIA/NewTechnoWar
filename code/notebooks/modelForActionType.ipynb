{
 "cells": [
  {
   "cell_type": "code",
   "execution_count": null,
   "metadata": {},
   "outputs": [],
   "source": [
    "import sys\n",
    "sys.path.append(\"../\")"
   ]
  },
  {
   "cell_type": "code",
   "execution_count": null,
   "metadata": {},
   "outputs": [],
   "source": [
    "import os\n",
    "\n",
    "import pandas as pd\n",
    "import joblib\n",
    "\n",
    "from sklearn.ensemble import RandomForestRegressor\n",
    "\n",
    "import os.path as op\n",
    "import random\n",
    "\n",
    "import matplotlib.pyplot as plt\n",
    "import yaml\n",
    "\n",
    "from agents.matchmanager import MatchManager\n",
    "from agents.ml.regressionMulti import RegressionMultiAgent\n",
    "from agents import GreedyAgent,RandomAgent\n",
    "from agents.matchmanager import MatchManager\n",
    "from agents.ml.classifier import ClassifierAgent\n",
    "from agents.ml.regression import RegressionAgent\n",
    "\n",
    "from core.const import RED, BLUE\n",
    "from scenarios import scenarioJunction\n",
    "\n",
    "from core.vectors import vectorAction, vectorActionInfo, vectorBoard, vectorBoardInfo\n",
    "from core.game import GameBoard, GameState, vectorState, vectorStateInfo\n",
    "\n",
    "\n",
    "import warnings\n",
    "\n",
    "%matplotlib inline\n",
    "plt.rcParams['figure.figsize'] = (12,4)"
   ]
  },
  {
   "cell_type": "code",
   "execution_count": null,
   "metadata": {},
   "outputs": [],
   "source": [
    "with open(op.join('.', '../logger.config.yaml'), 'r') as stream:\n",
    "    config = yaml.load(stream, Loader=yaml.FullLoader)\n",
    "# logging.config.dictConfig(config)"
   ]
  },
  {
   "cell_type": "code",
   "execution_count": null,
   "metadata": {},
   "outputs": [],
   "source": [
    "raw = pd.read_pickle('../data.2021-02-22.scenarioJunction.pkl.gz')\\\n",
    "        .drop(['meta_scenario', 'meta_p_red', 'meta_p_blue', 'meta_seed'], axis=1, errors=\"ignore\")"
   ]
  },
  {
   "cell_type": "code",
   "execution_count": null,
   "metadata": {},
   "outputs": [],
   "source": [
    "df = raw.dropna(axis=1, how='all')"
   ]
  },
  {
   "cell_type": "code",
   "execution_count": null,
   "metadata": {},
   "outputs": [],
   "source": [
    "df_red = df[df['action_team'] == 'red'].copy().drop('action_team', axis=1)\n",
    "df_blue = df[df['action_team'] == 'blue'].copy().drop('action_team', axis=1)"
   ]
  },
  {
   "cell_type": "code",
   "execution_count": null,
   "metadata": {},
   "outputs": [],
   "source": [
    "df_red['label'] = df_red['winner'].apply(lambda x: 1 if x == 'red' else -1)\n",
    "df_blue['label'] = df_blue['winner'].apply(lambda x: 1 if x == 'blue' else -1)"
   ]
  },
  {
   "cell_type": "code",
   "execution_count": null,
   "metadata": {},
   "outputs": [],
   "source": [
    "df_red_move=df_red.loc[((df_red['action_type_Move'] == True)|(df_red['action_type_LoadInto'] == True))].copy()\n",
    "df_red_attack=df_red.loc[((df_red['action_type_Attack'] == True)| (df_red['action_type_AttackGround'] == True) |(df_red['action_type_AttackRespond'] == True))].copy()\n",
    "df_red_pass=df_red.loc[((df_red['action_type_Pass'] == True)| (df_red['action_type_PassFigure'] == True) |(df_red['action_type_PassTeam'] == True) | (df_red['action_type_PassRespond'] == True))].copy()"
   ]
  },
  {
   "cell_type": "code",
   "execution_count": null,
   "metadata": {},
   "outputs": [],
   "source": [
    "df_blue_move=df_blue.loc[((df_blue['action_type_Move'] == True)|(df_blue['action_type_LoadInto'] == True))].copy()\n",
    "df_blue_attack=df_blue.loc[((df_blue['action_type_Attack'] == True)| (df_blue['action_type_AttackGround'] == True) |(df_blue['action_type_AttackRespond'] == True))].copy()\n",
    "df_blue_pass=df_blue.loc[((df_blue['action_type_Pass'] == True)| (df_blue['action_type_PassFigure'] == True) |(df_blue['action_type_PassTeam'] == True) | (df_blue['action_type_PassRespond'] == True))].copy()"
   ]
  },
  {
   "cell_type": "code",
   "execution_count": null,
   "metadata": {},
   "outputs": [],
   "source": [
    "X_red_move = df_red_move.drop(['winner', 'label'], axis=1)\n",
    "y_red_move = df_red_move['label']\n",
    "\n",
    "X_blue_move = df_blue_move.drop(['winner', 'label'], axis=1)\n",
    "y_blue_move = df_blue_move['label']"
   ]
  },
  {
   "cell_type": "code",
   "execution_count": null,
   "metadata": {},
   "outputs": [],
   "source": [
    "X_red_attack = df_red_attack.drop(['winner', 'label'], axis=1)\n",
    "y_red_attack  = df_red_attack['label']\n",
    "\n",
    "X_blue_attack  = df_blue_attack.drop(['winner', 'label'], axis=1)\n",
    "y_blue_attack  = df_blue_attack['label']"
   ]
  },
  {
   "cell_type": "code",
   "execution_count": null,
   "metadata": {},
   "outputs": [],
   "source": [
    "X_red_pass = df_red_pass.drop(['winner', 'label'], axis=1)\n",
    "y_red_pass  = df_red_pass['label']\n",
    "\n",
    "X_blue_pass  = df_blue_pass.drop(['winner', 'label'], axis=1)\n",
    "y_blue_pass  = df_blue_pass['label']"
   ]
  },
  {
   "cell_type": "code",
   "execution_count": null,
   "metadata": {},
   "outputs": [],
   "source": [
    "X = pd.concat([X_red_move, X_blue_move,X_red_attack,X_blue_attack,X_red_pass,X_blue_pass])\n",
    "y = pd.concat([y_red_move, y_blue_move,y_red_attack,y_blue_attack,y_red_pass,y_blue_pass])"
   ]
  },
  {
   "cell_type": "code",
   "execution_count": null,
   "metadata": {},
   "outputs": [],
   "source": [
    "rfr_red_move = RandomForestRegressor()\n",
    "rfr_blue_move = RandomForestRegressor()\n",
    "rfr_red_attack = RandomForestRegressor()\n",
    "rfr_blue_attack = RandomForestRegressor()\n",
    "rfr_red_pass = RandomForestRegressor()\n",
    "rfr_blue_pass = RandomForestRegressor()\n",
    "rfr = RandomForestRegressor()\n",
    "\n",
    "rfr_red_move.fit(X_red_move, y_red_move)\n",
    "rfr_red_attack.fit(X_red_attack, y_red_attack)\n",
    "rfr_red_pass.fit(X_red_pass, y_red_pass)\n",
    "\n",
    "rfr_blue_move.fit(X_blue_move, y_blue_move)\n",
    "rfr_blue_attack.fit(X_blue_attack, y_blue_attack)\n",
    "rfr_blue_pass.fit(X_blue_pass, y_blue_pass)\n",
    "\n",
    "\n",
    "rfr.fit(X, y)\n",
    "\n",
    "joblib.dump(rfr_red_move, '../models/Junction_RandomForestRegressor_red_move_20210221.joblib')\n",
    "joblib.dump(rfr_red_attack, '../models/Junction_RandomForestRegressor_red_attack_20210221.joblib')\n",
    "joblib.dump(rfr_red_pass, '../models/Junction_RandomForestRegressor_red_pass_20210221.joblib')\n",
    "\n",
    "\n",
    "joblib.dump(rfr_blue_move, '../models/Junction_RandomForestRegressor_blue_move_20210221.joblib')\n",
    "joblib.dump(rfr_blue_attack, '../models/Junction_RandomForestRegressor_blue_attack_20210221.joblib')\n",
    "joblib.dump(rfr_blue_pass, '../models/Junction_RandomForestRegressor_blue_pass_20210221.joblib')\n",
    "\n",
    "joblib.dump(rfr, '../models/Junction_RandomForestRegressor_20210221.joblib')"
   ]
  },
  {
   "cell_type": "code",
   "execution_count": null,
   "metadata": {},
   "outputs": [],
   "source": [
    "seed=52"
   ]
  },
  {
   "cell_type": "code",
   "execution_count": null,
   "metadata": {},
   "outputs": [],
   "source": [
    "red_models = [\n",
    "    ('../models/Junction_RandomForestRegressor_red_attack_20210221.joblib'),\n",
    "    ('../models/Junction_RandomForestRegressor_red_move_20210221.joblib'),\n",
    "    ('../models/Junction_RandomForestRegressor_red_pass_20210221.joblib'),\n",
    "\n",
    "]\n",
    "blue_models = [\n",
    "    ('../models/Junction_RandomForestRegressor_blue_attack_20210221.joblib'),\n",
    "    ('../models/Junction_RandomForestRegressor_blue_move_20210221.joblib'),\n",
    "    ('../models/Junction_RandomForestRegressor_blue_pass_20210221.joblib'),\n",
    "\n",
    "]"
   ]
  },
  {
   "cell_type": "code",
   "execution_count": null,
   "metadata": {},
   "outputs": [],
   "source": [
    "red_models = [\n",
    "    ('gre', ''),\n",
    "    ('cls', '../models/Junction_RandomForestClassifier_red.joblib'),\n",
    "    ('cls', '../models/Junction_RandomForestClassifier.joblib'),\n",
    "    ('reg', '../models/Junction_RandomForestRegressor_red.joblib'),\n",
    "    ('reg', '../models/Junction_RandomForestRegressor.joblib'),\n",
    "    ('ran',''),\n",
    "    ('regMulti','../models/Junction_RandomForestRegressor_red_attack_20210221.joblib','../models/Junction_RandomForestRegressor_red_move_20210221.joblib''../models/Junction_RandomForestRegressor_red_pass_20210221.joblib')\n",
    "]\n",
    "blue_models = [\n",
    "    ('gre', ''),\n",
    "    ('cls', '../models/Junction_RandomForestClassifier_blue.joblib'),\n",
    "    ('cls', '../models/Junction_RandomForestClassifier.joblib'),\n",
    "    ('reg', '../models/Junction_RandomForestRegressor_blue.joblib'),\n",
    "    ('reg', '../models/Junction_RandomForestRegressor.joblib'),\n",
    "    ('ran',''),\n",
    "    ('regMulti','../models/Junction_RandomForestRegressor_blue_attack_20210221.joblib','../models/Junction_RandomForestRegressor_blue_move_20210221.joblib''../models/Junction_RandomForestRegressor_blue_pass_20210221.joblib')\n",
    "\n",
    "\n",
    "]"
   ]
  },
  {
   "cell_type": "code",
   "execution_count": null,
   "metadata": {},
   "outputs": [],
   "source": [
    "def game():\n",
    "    board, state = scenarioJunction()\n",
    "    \n",
    "    print('seed:   ', seed)\n",
    "\n",
    "    playerRed = RegressionMultiAgent(RED,red_models[0],red_models[1],red_models[2],seed)\n",
    "    playerBlue = RegressionMultiAgent(BLUE,blue_models[0],blue_models[1],blue_models[2],seed)\n",
    "\n",
    "    mm = MatchManager(' ', playerRed, playerBlue, board, state, seed=seed)\n",
    "    while not mm.end:\n",
    "        mm.nextStep()\n",
    "    \n",
    "    print('winner: ', mm.winner)\n",
    "\n",
    "    return mm"
   ]
  },
  {
   "cell_type": "code",
   "execution_count": null,
   "metadata": {},
   "outputs": [],
   "source": [
    "def player(team:str, data:tuple, seed:int):\n",
    "    if data[0] == 'gre':\n",
    "        print(f'{team:5}-> GreedyAgent')\n",
    "        return GreedyAgent(team, seed=seed)\n",
    "    if data[0] == 'cls':\n",
    "        print(f'{team:5}-> ClassifierAgent')\n",
    "        return ClassifierAgent(team, data[1], seed=seed)\n",
    "    if data[0] == 'reg':\n",
    "        print(f'{team:5}-> RegressionAgent')\n",
    "        return RegressionAgent(team, data[1], seed=seed)\n",
    "    if data[0]=='ran':\n",
    "        print(f'{team:5}-> RandomAgent')\n",
    "        return RandomAgent(team, seed=seed)\n",
    "        \n",
    "    \n",
    "    return None"
   ]
  },
  {
   "cell_type": "code",
   "execution_count": null,
   "metadata": {},
   "outputs": [],
   "source": [
    "def gameJunction(seed:int, red:tuple, blue:tuple) -> MatchManager:\n",
    "    board, state = scenarioJunction()\n",
    "    \n",
    "    print('seed:   ', seed)\n",
    "    \n",
    "    playerRed = player(RED, red, seed)\n",
    "    playerBlue = player(BLUE, blue, seed)\n",
    "\n",
    "    mm = MatchManager(' ', playerRed, playerBlue, board, state, seed=seed)\n",
    "    while not mm.end:\n",
    "        mm.nextStep()\n",
    "    \n",
    "    print('winner: ', mm.winner)\n",
    "\n",
    "    return mm"
   ]
  },
  {
   "cell_type": "code",
   "execution_count": null,
   "metadata": {},
   "outputs": [],
   "source": [
    "mm=game()"
   ]
  },
  {
   "cell_type": "code",
   "execution_count": null,
   "metadata": {},
   "outputs": [],
   "source": [
    "def prepareDataFrames(mm:MatchManager):\n",
    "    df_states = pd.DataFrame(\n",
    "        columns=vectorStateInfo(),\n",
    "        data=[vectorState(x) for x in mm.states_history]\n",
    "    )\n",
    "\n",
    "    df_actions = pd.DataFrame(\n",
    "        columns=vectorActionInfo(),\n",
    "        data=[vectorAction(x) for x in mm.actions_history]\n",
    "    )\n",
    "    df_red = mm.red.createDataFrame()\n",
    "    df_blue = mm.blue.createDataFrame()\n",
    "    \n",
    "    df_red = df_red.set_index('count')\n",
    "    df_blue = df_blue.set_index('count')\n",
    "\n",
    "    return df_red, df_blue, df_states, df_actions"
   ]
  },
  {
   "cell_type": "code",
   "execution_count": null,
   "metadata": {},
   "outputs": [],
   "source": [
    "def plotEntropy(df, color:str):\n",
    "    plt.figure()\n",
    "    df.score.plot(color=color, marker='.')\n",
    "    df.entropy.plot(color='purple')\n",
    "\n",
    "    for i, row in df[['score','action']].reset_index().iterrows():\n",
    "        dy, ha, va = (-0, 'center', 'top') if 'Respond' in row.action else (10, 'center', 'bottom')\n",
    "        plt.annotate(row.action, (row['count'], row.score), ha=ha, va=va, rotation=90, textcoords=\"offset points\", xytext=(0,dy))\n",
    "        \n",
    "    for x in df[['turn']].reset_index().groupby('turn').max().values.tolist():\n",
    "        plt.axvline(x=x[0]+0.5, color='orange')"
   ]
  },
  {
   "cell_type": "code",
   "execution_count": null,
   "metadata": {},
   "outputs": [],
   "source": [
    "def plotContrast(df):\n",
    "    df[df['team']=='red']['entropy'].plot(color='red'), df[df['team']=='blue']['entropy'].plot(color='blue')"
   ]
  },
  {
   "cell_type": "code",
   "execution_count": null,
   "metadata": {},
   "outputs": [],
   "source": [
    "def playAndAnalyze(seed:int, red_data, blue_data):  \n",
    "    mm = gameJunction(seed, red_data, blue_data)\n",
    "        \n",
    "    df_red, df_blue, _, _ = prepareDataFrames(mm)\n",
    "    \n",
    "    plotEntropy(df_red, 'red')\n",
    "    plotEntropy(df_blue, 'blue')\n",
    "    \n",
    "    return df_red, df_blue"
   ]
  },
  {
   "cell_type": "code",
   "execution_count": null,
   "metadata": {},
   "outputs": [],
   "source": [
    "df_red, df_blue, _, _ = prepareDataFrames(mm)\n"
   ]
  },
  {
   "cell_type": "code",
   "execution_count": null,
   "metadata": {},
   "outputs": [],
   "source": [
    "plotEntropy(df_red, 'red')\n",
    "plotEntropy(df_blue, 'blue')"
   ]
  },
  {
   "cell_type": "code",
   "execution_count": null,
   "metadata": {},
   "outputs": [],
   "source": [
    "s = random.randint(0, 1000000)\n",
    "r = random.randint(0, len(red_models)-1)\n",
    "b = random.randint(0, len(blue_models)-1)\n",
    "\n",
    "playAndAnalyze(s, red_models[r], blue_models[b]);"
   ]
  },
  {
   "cell_type": "code",
   "execution_count": null,
   "metadata": {},
   "outputs": [],
   "source": []
  }
 ],
 "metadata": {
  "kernelspec": {
   "display_name": "Python 3",
   "language": "python",
   "name": "python3"
  },
  "language_info": {
   "codemirror_mode": {
    "name": "ipython",
    "version": 3
   },
   "file_extension": ".py",
   "mimetype": "text/x-python",
   "name": "python",
   "nbconvert_exporter": "python",
   "pygments_lexer": "ipython3",
   "version": "3.7.6"
  }
 },
 "nbformat": 4,
 "nbformat_minor": 4
}
