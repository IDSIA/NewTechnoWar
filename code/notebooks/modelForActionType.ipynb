{
 "cells": [
  {
   "cell_type": "code",
   "execution_count": 1,
   "metadata": {},
   "outputs": [],
   "source": [
    "import sys\n",
    "sys.path.append(\"../\")"
   ]
  },
  {
   "cell_type": "code",
   "execution_count": 2,
   "metadata": {},
   "outputs": [],
   "source": [
    "import os\n",
    "\n",
    "import pandas as pd\n",
    "import joblib\n",
    "\n",
    "from sklearn.ensemble import RandomForestRegressor\n",
    "\n",
    "import os.path as op\n",
    "import random\n",
    "\n",
    "import matplotlib.pyplot as plt\n",
    "import yaml\n",
    "\n",
    "from agents.matchmanager import MatchManager\n",
    "from agents.ml.regressionMulti import RegressionMultiAgent\n",
    "from agents import GreedyAgent,RandomAgent\n",
    "from agents.matchmanager import MatchManager\n",
    "from agents.ml.classifier import ClassifierAgent\n",
    "from agents.ml.regression import RegressionAgent\n",
    "from sklearn.ensemble import RandomForestClassifier,RandomForestRegressor\n",
    "\n",
    "from core.const import RED, BLUE\n",
    "from scenarios import scenarioJunction\n",
    "\n",
    "from core.vectors import vectorAction, vectorActionInfo, vectorBoard, vectorBoardInfo\n",
    "from core.game import GameBoard, GameState, vectorState, vectorStateInfo\n",
    "\n",
    "\n",
    "import warnings\n",
    "\n",
    "%matplotlib inline\n",
    "plt.rcParams['figure.figsize'] = (12,4)"
   ]
  },
  {
   "cell_type": "code",
   "execution_count": 3,
   "metadata": {},
   "outputs": [],
   "source": [
    "with open(op.join('.', '../logger.config.yaml'), 'r') as stream:\n",
    "    config = yaml.load(stream, Loader=yaml.FullLoader)\n",
    "# logging.config.dictConfig(config)"
   ]
  },
  {
   "cell_type": "code",
   "execution_count": 4,
   "metadata": {},
   "outputs": [],
   "source": [
    "raw = pd.read_pickle('../data.2021-02-27.scenarioJunction.pkl.gz')\\\n",
    "        .drop(['meta_scenario', 'meta_p_red', 'meta_p_blue', 'meta_seed'], axis=1, errors=\"ignore\")"
   ]
  },
  {
   "cell_type": "code",
   "execution_count": 5,
   "metadata": {},
   "outputs": [],
   "source": [
    "df = raw.dropna(axis=1, how='all')"
   ]
  },
  {
   "cell_type": "code",
   "execution_count": 6,
   "metadata": {},
   "outputs": [],
   "source": [
    "df_red = df[df['action_team'] == 'red'].copy().drop('action_team', axis=1)\n",
    "df_blue = df[df['action_team'] == 'blue'].copy().drop('action_team', axis=1)"
   ]
  },
  {
   "cell_type": "code",
   "execution_count": 8,
   "metadata": {},
   "outputs": [],
   "source": [
    "df_red['label'] = df_red['winner'].apply(lambda x: 1 if x == 'red' else -1)\n",
    "df_blue['label'] = df_blue['winner'].apply(lambda x: 1 if x == 'blue' else -1)"
   ]
  },
  {
   "cell_type": "code",
   "execution_count": 11,
   "metadata": {},
   "outputs": [],
   "source": [
    "df_red_move=df_red.loc[((df_red['action_type_Move'] == True)|(df_red['action_type_MoveLoadInto'] == True))].copy()\n",
    "df_red_attack=df_red.loc[((df_red['action_type_Attack'] == True)| (df_red['action_type_AttackGround'] == True) |(df_red['action_type_AttackRespond'] == True))].copy()\n",
    "df_red_pass=df_red.loc[((df_red['action_type_Pass'] == True)| (df_red['action_type_PassFigure'] == True) |(df_red['action_type_PassTeam'] == True) | (df_red['action_type_PassRespond'] == True))].copy()"
   ]
  },
  {
   "cell_type": "code",
   "execution_count": 12,
   "metadata": {},
   "outputs": [],
   "source": [
    "df_blue_move=df_blue.loc[((df_blue['action_type_Move'] == True)|(df_blue['action_type_MoveLoadInto'] == True))].copy()\n",
    "df_blue_attack=df_blue.loc[((df_blue['action_type_Attack'] == True)| (df_blue['action_type_AttackGround'] == True) |(df_blue['action_type_AttackRespond'] == True))].copy()\n",
    "df_blue_pass=df_blue.loc[((df_blue['action_type_Pass'] == True)| (df_blue['action_type_PassFigure'] == True) |(df_blue['action_type_PassTeam'] == True) | (df_blue['action_type_PassRespond'] == True))].copy()"
   ]
  },
  {
   "cell_type": "code",
   "execution_count": 13,
   "metadata": {},
   "outputs": [],
   "source": [
    "X_red = df_red.drop(['winner', 'label'], axis=1)\n",
    "y_red = df_red['label']\n",
    "\n",
    "X_blue = df_blue.drop(['winner', 'label'], axis=1)\n",
    "y_blue = df_blue['label']"
   ]
  },
  {
   "cell_type": "code",
   "execution_count": 14,
   "metadata": {},
   "outputs": [],
   "source": [
    "X_red_move = df_red_move.drop(['winner', 'label'], axis=1)\n",
    "y_red_move = df_red_move['label']\n",
    "\n",
    "X_blue_move = df_blue_move.drop(['winner', 'label'], axis=1)\n",
    "y_blue_move = df_blue_move['label']"
   ]
  },
  {
   "cell_type": "code",
   "execution_count": 15,
   "metadata": {},
   "outputs": [],
   "source": [
    "X_red_attack = df_red_attack.drop(['winner', 'label'], axis=1)\n",
    "y_red_attack  = df_red_attack['label']\n",
    "\n",
    "X_blue_attack  = df_blue_attack.drop(['winner', 'label'], axis=1)\n",
    "y_blue_attack  = df_blue_attack['label']"
   ]
  },
  {
   "cell_type": "code",
   "execution_count": 16,
   "metadata": {},
   "outputs": [],
   "source": [
    "X_red_pass = df_red_pass.drop(['winner', 'label'], axis=1)\n",
    "y_red_pass  = df_red_pass['label']\n",
    "\n",
    "X_blue_pass  = df_blue_pass.drop(['winner', 'label'], axis=1)\n",
    "y_blue_pass  = df_blue_pass['label']"
   ]
  },
  {
   "cell_type": "code",
   "execution_count": 17,
   "metadata": {},
   "outputs": [],
   "source": [
    "X = pd.concat([X_red, X_blue])\n",
    "y = pd.concat([y_red, y_blue])"
   ]
  },
  {
   "cell_type": "code",
   "execution_count": 26,
   "metadata": {},
   "outputs": [
    {
     "data": {
      "text/plain": [
       "['../models/Junction_RandomForestRegressor_20210227.joblib']"
      ]
     },
     "execution_count": 26,
     "metadata": {},
     "output_type": "execute_result"
    }
   ],
   "source": [
    "rfr_red = RandomForestRegressor()\n",
    "rfr_blue = RandomForestRegressor()\n",
    "rfr = RandomForestRegressor()\n",
    "\n",
    "rfr_red.fit(X_red, y_red)\n",
    "rfr_blue.fit(X_blue, y_blue)\n",
    "rfr.fit(X, y)\n",
    "\n",
    "joblib.dump(rfr_red, '../models/Junction_RandomForestRegressor_red_20210227.joblib')\n",
    "joblib.dump(rfr_blue, '../models/Junction_RandomForestRegressor_blue_20210227.joblib')\n",
    "joblib.dump(rfr, '../models/Junction_RandomForestRegressor_20210227.joblib')"
   ]
  },
  {
   "cell_type": "code",
   "execution_count": 27,
   "metadata": {},
   "outputs": [
    {
     "data": {
      "text/plain": [
       "['../models/Junction_RandomForestClassifier_20210227.joblib']"
      ]
     },
     "execution_count": 27,
     "metadata": {},
     "output_type": "execute_result"
    }
   ],
   "source": [
    "rfc_red = RandomForestClassifier()\n",
    "rfc_blue = RandomForestClassifier()\n",
    "rfc = RandomForestClassifier()\n",
    "\n",
    "rfc_red.fit(X_red, y_red)\n",
    "rfc_blue.fit(X_blue, y_blue)\n",
    "rfc.fit(X, y)\n",
    "\n",
    "joblib.dump(rfc_red, '../models/Junction_RandomForestClassifier_red_20210227.joblib')\n",
    "joblib.dump(rfc_blue, '../models/Junction_RandomForestClassifier_blue_20210227.joblib')\n",
    "joblib.dump(rfc, '../models/Junction_RandomForestClassifier_20210227.joblib')"
   ]
  },
  {
   "cell_type": "code",
   "execution_count": 28,
   "metadata": {},
   "outputs": [
    {
     "data": {
      "text/plain": [
       "['../models/Junction_RandomForestRegressor_blue_pass_20210227.joblib']"
      ]
     },
     "execution_count": 28,
     "metadata": {},
     "output_type": "execute_result"
    }
   ],
   "source": [
    "rfr_red_move = RandomForestRegressor()\n",
    "rfr_blue_move = RandomForestRegressor()\n",
    "rfr_red_attack = RandomForestRegressor()\n",
    "rfr_blue_attack = RandomForestRegressor()\n",
    "rfr_red_pass = RandomForestRegressor()\n",
    "rfr_blue_pass = RandomForestRegressor()\n",
    "rfr = RandomForestRegressor()\n",
    "\n",
    "rfr_red_move.fit(X_red_move, y_red_move)\n",
    "rfr_red_attack.fit(X_red_attack, y_red_attack)\n",
    "rfr_red_pass.fit(X_red_pass, y_red_pass)\n",
    "\n",
    "rfr_blue_move.fit(X_blue_move, y_blue_move)\n",
    "rfr_blue_attack.fit(X_blue_attack, y_blue_attack)\n",
    "rfr_blue_pass.fit(X_blue_pass, y_blue_pass)\n",
    "\n",
    "\n",
    "rfr.fit(X, y)\n",
    "\n",
    "joblib.dump(rfr_red_move, '../models/Junction_RandomForestRegressor_red_move_20210227.joblib')\n",
    "joblib.dump(rfr_red_attack, '../models/Junction_RandomForestRegressor_red_attack_20210227.joblib')\n",
    "joblib.dump(rfr_red_pass, '../models/Junction_RandomForestRegressor_red_pass_20210227.joblib')\n",
    "\n",
    "\n",
    "joblib.dump(rfr_blue_move, '../models/Junction_RandomForestRegressor_blue_move_20210227.joblib')\n",
    "joblib.dump(rfr_blue_attack, '../models/Junction_RandomForestRegressor_blue_attack_20210227.joblib')\n",
    "joblib.dump(rfr_blue_pass, '../models/Junction_RandomForestRegressor_blue_pass_20210227.joblib')\n",
    "\n"
   ]
  }
 ],
 "metadata": {
  "kernelspec": {
   "display_name": "Python 3",
   "language": "python",
   "name": "python3"
  },
  "language_info": {
   "codemirror_mode": {
    "name": "ipython",
    "version": 3
   },
   "file_extension": ".py",
   "mimetype": "text/x-python",
   "name": "python",
   "nbconvert_exporter": "python",
   "pygments_lexer": "ipython3",
   "version": "3.7.6"
  }
 },
 "nbformat": 4,
 "nbformat_minor": 4
}
