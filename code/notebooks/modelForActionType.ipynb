{
 "cells": [
  {
   "cell_type": "code",
   "execution_count": 1,
   "metadata": {},
   "outputs": [],
   "source": [
    "import sys\n",
    "sys.path.append(\"../\")"
   ]
  },
  {
   "cell_type": "code",
   "execution_count": 20,
   "metadata": {},
   "outputs": [],
   "source": [
    "import os\n",
    "\n",
    "import numpy as np\n",
    "import pandas as pd\n",
    "import joblib\n",
    "\n",
    "from agents.matchmanager import buildMatchManager\n",
    "from core.game.state import vectorStateInfo, vectorState, vectorActionInfo, vectorAction\n",
    "\n",
    "from sklearn.ensemble import RandomForestRegressor\n",
    "\n",
    "from datetime import datetime\n",
    "from multiprocessing import Pool"
   ]
  },
  {
   "cell_type": "code",
   "execution_count": 3,
   "metadata": {},
   "outputs": [],
   "source": [
    "raw = pd.read_pickle('../data.2021-02-21.scenarioJunction.pkl.gz')\\\n",
    "        .drop(['meta_scenario', 'meta_p_red', 'meta_p_blue', 'meta_seed'], axis=1, errors=\"ignore\")"
   ]
  },
  {
   "cell_type": "code",
   "execution_count": 4,
   "metadata": {},
   "outputs": [],
   "source": [
    "df = raw.dropna(axis=1, how='all')"
   ]
  },
  {
   "cell_type": "code",
   "execution_count": 7,
   "metadata": {},
   "outputs": [],
   "source": [
    "df_red = df[df['action_team'] == 'red'].copy().drop('action_team', axis=1)\n",
    "df_blue = df[df['action_team'] == 'blue'].copy().drop('action_team', axis=1)"
   ]
  },
  {
   "cell_type": "code",
   "execution_count": 8,
   "metadata": {},
   "outputs": [],
   "source": [
    "df_red['label'] = df_red['winner'].apply(lambda x: 1 if x == 'red' else -1)\n",
    "df_blue['label'] = df_blue['winner'].apply(lambda x: 1 if x == 'blue' else -1)"
   ]
  },
  {
   "cell_type": "code",
   "execution_count": 10,
   "metadata": {},
   "outputs": [],
   "source": [
    "df_red_move=df_red.loc[((df_red['action_type_Move'] == True)|(df_red['action_type_LoadInto'] == True))].copy()\n",
    "df_red_attack=df_red.loc[((df_red['action_type_Attack'] == True)| (df_red['action_type_AttackGround'] == True) |(df_red['action_type_AttackRespond'] == True))].copy()\n",
    "df_red_pass=df_red.loc[((df_red['action_type_Pass'] == True)| (df_red['action_type_PassFigure'] == True) |(df_red['action_type_PassTeam'] == True) | (df_red['action_type_PassRespond'] == True))].copy()"
   ]
  },
  {
   "cell_type": "code",
   "execution_count": 14,
   "metadata": {},
   "outputs": [],
   "source": [
    "df_blue_move=df_blue.loc[((df_blue['action_type_Move'] == True)|(df_blue['action_type_LoadInto'] == True))].copy()\n",
    "df_blue_attack=df_blue.loc[((df_blue['action_type_Attack'] == True)| (df_blue['action_type_AttackGround'] == True) |(df_blue['action_type_AttackRespond'] == True))].copy()\n",
    "df_blue_pass=df_blue.loc[((df_blue['action_type_Pass'] == True)| (df_blue['action_type_PassFigure'] == True) |(df_blue['action_type_PassTeam'] == True) | (df_blue['action_type_PassRespond'] == True))].copy()"
   ]
  },
  {
   "cell_type": "code",
   "execution_count": 16,
   "metadata": {},
   "outputs": [],
   "source": [
    "X_red_move = df_red_move.drop(['winner', 'label'], axis=1)\n",
    "y_red_move = df_red_move['label']\n",
    "\n",
    "X_blue_move = df_blue_move.drop(['winner', 'label'], axis=1)\n",
    "y_blue_move = df_blue_move['label']"
   ]
  },
  {
   "cell_type": "code",
   "execution_count": 17,
   "metadata": {},
   "outputs": [],
   "source": [
    "X_red_attack = df_red_attack.drop(['winner', 'label'], axis=1)\n",
    "y_red_attack  = df_red_attack['label']\n",
    "\n",
    "X_blue_attack  = df_blue_attack.drop(['winner', 'label'], axis=1)\n",
    "y_blue_attack  = df_blue_attack['label']"
   ]
  },
  {
   "cell_type": "code",
   "execution_count": 18,
   "metadata": {},
   "outputs": [],
   "source": [
    "X_red_pass = df_red_pass.drop(['winner', 'label'], axis=1)\n",
    "y_red_pass  = df_red_pass['label']\n",
    "\n",
    "X_blue_pass  = df_blue_pass.drop(['winner', 'label'], axis=1)\n",
    "y_blue_pass  = df_blue_pass['label']"
   ]
  },
  {
   "cell_type": "code",
   "execution_count": 19,
   "metadata": {},
   "outputs": [],
   "source": [
    "X = pd.concat([X_red_move, X_blue_move,X_red_attack,X_blue_attack,X_red_pass,X_blue_pass])\n",
    "y = pd.concat([y_red_move, y_blue_move,y_red_attack,y_blue_attack,y_red_pass,y_blue_pass])"
   ]
  },
  {
   "cell_type": "code",
   "execution_count": 21,
   "metadata": {},
   "outputs": [
    {
     "data": {
      "text/plain": [
       "['../models/Junction_RandomForestRegressor_20210221.joblib']"
      ]
     },
     "execution_count": 21,
     "metadata": {},
     "output_type": "execute_result"
    }
   ],
   "source": [
    "rfr_red_move = RandomForestRegressor()\n",
    "rfr_blue_move = RandomForestRegressor()\n",
    "rfr_red_attack = RandomForestRegressor()\n",
    "rfr_blue_attack = RandomForestRegressor()\n",
    "rfr_red_pass = RandomForestRegressor()\n",
    "rfr_blue_pass = RandomForestRegressor()\n",
    "rfr = RandomForestRegressor()\n",
    "\n",
    "rfr_red_move.fit(X_red_move, y_red_move)\n",
    "rfr_red_attack.fit(X_red_attack, y_red_attack)\n",
    "rfr_red_pass.fit(X_red_pass, y_red_pass)\n",
    "\n",
    "rfr_blue_move.fit(X_blue_move, y_blue_move)\n",
    "rfr_blue_attack.fit(X_blue_attack, y_blue_attack)\n",
    "rfr_blue_pass.fit(X_blue_pass, y_blue_pass)\n",
    "\n",
    "\n",
    "rfr.fit(X, y)\n",
    "\n",
    "joblib.dump(rfr_red_move, '../models/Junction_RandomForestRegressor_red_move_20210221.joblib')\n",
    "joblib.dump(rfr_red_attack, '../models/Junction_RandomForestRegressor_red_attack_20210221.joblib')\n",
    "joblib.dump(rfr_red_pass, '../models/Junction_RandomForestRegressor_red_pass_20210221.joblib')\n",
    "\n",
    "\n",
    "joblib.dump(rfr_blue_move, '../models/Junction_RandomForestRegressor_blue_move_20210221.joblib')\n",
    "joblib.dump(rfr_blue_attack, '../models/Junction_RandomForestRegressor_blue_attack_20210221.joblib')\n",
    "joblib.dump(rfr_blue_pass, '../models/Junction_RandomForestRegressor_blue_pass_20210221.joblib')\n",
    "\n",
    "joblib.dump(rfr, '../models/Junction_RandomForestRegressor_20210221.joblib')"
   ]
  }
 ],
 "metadata": {
  "kernelspec": {
   "display_name": "Python 3",
   "language": "python",
   "name": "python3"
  },
  "language_info": {
   "codemirror_mode": {
    "name": "ipython",
    "version": 3
   },
   "file_extension": ".py",
   "mimetype": "text/x-python",
   "name": "python",
   "nbconvert_exporter": "python",
   "pygments_lexer": "ipython3",
   "version": "3.7.6"
  }
 },
 "nbformat": 4,
 "nbformat_minor": 4
}
