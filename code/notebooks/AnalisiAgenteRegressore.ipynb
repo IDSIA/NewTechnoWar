{
 "cells": [
  {
   "cell_type": "code",
   "execution_count": 2,
   "metadata": {},
   "outputs": [],
   "source": [
    "import sys\n",
    "sys.path.append(\"../\")"
   ]
  },
  {
   "cell_type": "code",
   "execution_count": 3,
   "metadata": {
    "slideshow": {
     "slide_type": "skip"
    }
   },
   "outputs": [],
   "source": [
    "from agents.matchmanager import MatchManager\n",
    "\n",
    "from itertools import product\n",
    "\n",
    "from agents import GreedyAgent, AlphaBetaAgent, RandomAgent\n",
    "from scenarios import scenarioJunction, scenarioJunctionExo, scenarioTest1v1, scenarioTest2v2\n",
    "from core.const import RED, BLUE\n",
    "import json\n",
    "import pandas as pd\n",
    "import matplotlib\n",
    "from matplotlib import pyplot as plt\n",
    "import seaborn as sns\n"
   ]
  },
  {
   "cell_type": "code",
   "execution_count": null,
   "metadata": {},
   "outputs": [],
   "source": []
  },
  {
   "cell_type": "code",
   "execution_count": 23,
   "metadata": {
    "slideshow": {
     "slide_type": "skip"
    }
   },
   "outputs": [],
   "source": [
    "def createDf(output):\n",
    "    agents = ['RandomAgent','RegressorAgent','ClassifierAgent','GreedyAgent']\n",
    "    scenarios = ['Junction','JunctionExo']\n",
    "    all_json=[]\n",
    "    for i in range(0, 100):\n",
    "        for s in scenarios:\n",
    "            for agentRed, agentBlue in product(agents, agents):\n",
    "                file_name=f'{output}/{agentRed}_{agentBlue}_{s}_{i}.json'\n",
    "                data=json.load(open(file_name))\n",
    "                all_json.append(data)  \n",
    "    df=pd.DataFrame(all_json)\n",
    "    return df"
   ]
  },
  {
   "cell_type": "code",
   "execution_count": 6,
   "metadata": {
    "slideshow": {
     "slide_type": "skip"
    }
   },
   "outputs": [],
   "source": [
    "def addWinnerColumn(df):\n",
    "    winner_agent=[]\n",
    "    for i in range(len(df)):\n",
    "        if ((df[\"teamRed\"][i] == \"Regressor\") & (df[\"winner\"][i]==\"red\")) | ((df[\"teamBlue\"][i] == \"Regressor\") & (df[\"winner\"][i]==\"blue\")):\n",
    "            winner_agent.append(\"Regressor\")\n",
    "        elif ((df[\"teamRed\"][i] == \"RandomAgent\") & (df[\"winner\"][i]==\"red\")) | ((df[\"teamBlue\"][i] == \"RandomAgent\") & (df[\"winner\"][i]==\"blue\")):\n",
    "            winner_agent.append(\"RandomAgent\")\n",
    "        elif ((df[\"teamRed\"][i] == \"GreedyAgent\") & (df[\"winner\"][i]==\"red\")) | ((df[\"teamBlue\"][i] == \"GreedyAgent\") & (df[\"winner\"][i]==\"blue\")):\n",
    "            winner_agent.append(\"GreedyAgent\")\n",
    "    return winner_agent\n"
   ]
  },
  {
   "cell_type": "code",
   "execution_count": 7,
   "metadata": {
    "slideshow": {
     "slide_type": "skip"
    }
   },
   "outputs": [],
   "source": [
    "def matchesWonForEachAgent(df):\n",
    "    print(\"PERCENTUALI GENERALI\")\n",
    "    df['winnerAgent'].value_counts().plot.bar(title='games won for each agent')\n",
    "    print('Percentuale vincita Regressor:',len(df[df['winnerAgent']==\"Regressor\"])/len(df))\n",
    "    print('Percentuale vincita RandomAgent:',len(df[df['winnerAgent']==\"RandomAgent\"])/len(df))\n",
    "    print('Percentuale vincita GreedyAgent:',len(df[df['winnerAgent']==\"GreedyAgent\"])/len(df))"
   ]
  },
  {
   "cell_type": "code",
   "execution_count": 8,
   "metadata": {
    "slideshow": {
     "slide_type": "skip"
    }
   },
   "outputs": [],
   "source": [
    "def agentVSagent(df,agent1,agent2):\n",
    "    print(\"AGENTE VS AGENTE\")\n",
    "    mask=df.loc[((df.teamRed == agent1) & (df.teamBlue == agent2))|((df.teamRed == agent2) & (df.teamBlue == agent1))]\n",
    "    #mask['winnerAgent'].value_counts().plot.bar(title=f'Vincita {agent1} su {agent2}')\n",
    "    print(f'Percentuale vincita {agent1} su {agent2}:',len(mask[mask['winnerAgent']==agent1])/len(mask))\n",
    "    departments=mask['scenario'].unique()\n",
    "\n",
    "    fig, ax = plt.subplots(ncols=len(departments),nrows=1, figsize=(16,8))\n",
    "    for i,name in enumerate(departments):\n",
    "        dd=mask[(mask.scenario == name)]\n",
    "        #devi fare groupby su colonna winner, poi fai il count e dividi sul totale\n",
    "        sns.barplot(y=((dd['winnerAgent'].value_counts())/len(dd))*100,x=dd['winnerAgent'].unique() ,ax=ax[i])\n",
    "        ax[i].set_ylabel('Percentuale vittoria')\n",
    "        ax[i].set(ylim=(0, 100))\n",
    "        ax[i].set_title('scenario - {}'.format(name), fontsize=10)\n",
    "        print(f'Percentuale vincita {agent1} su {agent2} su scenario {name}:',len(dd[dd['winnerAgent']==agent1])/len(dd))\n",
    "\n",
    "    plt.plot() \n",
    "    #plotta percentuali-> fai solo scenario junction (nel caso junctionexo)\n"
   ]
  },
  {
   "cell_type": "code",
   "execution_count": 9,
   "metadata": {
    "slideshow": {
     "slide_type": "skip"
    }
   },
   "outputs": [],
   "source": [
    "def agentVSagentColor(df,agent1,agent2,coloragent1):\n",
    "    print(\"AGENTE VS AGENTE PER COLORE\")\n",
    "    if (coloragent1==\"red\"):\n",
    "        mask=df.loc[((df.teamRed == agent1) & (df.teamBlue == agent2))]\n",
    "        print(f'Percentuale vincita {agent1} Red su {agent2} Blue:',len(mask[mask['winner']==coloragent1])/len(mask))\n",
    "        title=f'Percentuale vincita {agent1} Red su {agent2} Blue su scenario '\n",
    "    else:\n",
    "        mask=df.loc[((df.teamRed == agent2) & (df.teamBlue == agent1))]\n",
    "        print(f'Percentuale vincita {agent1} Blue su {agent2} Red:',len(mask[mask['winner']==coloragent1])/len(mask))\n",
    "        title=f'Percentuale vincita {agent1} Blue su {agent2} Red su scenario '\n",
    "\n",
    "        \n",
    "    departments=mask['scenario'].unique()\n",
    "\n",
    "    fig, ax = plt.subplots(ncols=len(departments),nrows=1, figsize=(16,8))\n",
    "    for i,name in enumerate(departments):\n",
    "        dd=mask[(mask.scenario == name)]\n",
    "        sns.barplot(y=((dd['winner'].value_counts())/len(dd))*100,x=dd['winner'].unique() ,ax=ax[i])\n",
    "        ax[i].set_ylabel('Percentuale vittoria')\n",
    "        ax[i].set(ylim=(0, 100))\n",
    "        ax[i].set_title('scenario - {}'.format(name), fontsize=10)\n",
    "        print(title,name,len(dd[dd['winner']==coloragent1])/len(dd))\n",
    "\n",
    "    plt.plot() \n",
    "    #metti perncetuale per ogni scenario\n",
    "\n"
   ]
  },
  {
   "cell_type": "code",
   "execution_count": 24,
   "metadata": {
    "slideshow": {
     "slide_type": "skip"
    }
   },
   "outputs": [
    {
     "ename": "FileNotFoundError",
     "evalue": "[Errno 2] No such file or directory: 'home/nallegra/newtechnowar-webui/code/output/RandomAgent_RandomAgent_Junction_0.json'",
     "output_type": "error",
     "traceback": [
      "\u001b[0;31m---------------------------------------------------------------------------\u001b[0m",
      "\u001b[0;31mFileNotFoundError\u001b[0m                         Traceback (most recent call last)",
      "\u001b[0;32m<ipython-input-24-80426ab80211>\u001b[0m in \u001b[0;36m<module>\u001b[0;34m\u001b[0m\n\u001b[0;32m----> 1\u001b[0;31m \u001b[0mdfAll\u001b[0m\u001b[0;34m=\u001b[0m\u001b[0mcreateDf\u001b[0m\u001b[0;34m(\u001b[0m\u001b[0;34m)\u001b[0m\u001b[0;34m\u001b[0m\u001b[0;34m\u001b[0m\u001b[0m\n\u001b[0m\u001b[1;32m      2\u001b[0m \u001b[0mdfAll\u001b[0m\u001b[0;34m[\u001b[0m\u001b[0;34m\"winnerAgent\"\u001b[0m\u001b[0;34m]\u001b[0m\u001b[0;34m=\u001b[0m\u001b[0maddWinnerColumn\u001b[0m\u001b[0;34m(\u001b[0m\u001b[0mdfAll\u001b[0m\u001b[0;34m)\u001b[0m\u001b[0;34m\u001b[0m\u001b[0;34m\u001b[0m\u001b[0m\n",
      "\u001b[0;32m<ipython-input-23-2684f677e9a2>\u001b[0m in \u001b[0;36mcreateDf\u001b[0;34m()\u001b[0m\n\u001b[1;32m      7\u001b[0m             \u001b[0;32mfor\u001b[0m \u001b[0magentRed\u001b[0m\u001b[0;34m,\u001b[0m \u001b[0magentBlue\u001b[0m \u001b[0;32min\u001b[0m \u001b[0mproduct\u001b[0m\u001b[0;34m(\u001b[0m\u001b[0magents\u001b[0m\u001b[0;34m,\u001b[0m \u001b[0magents\u001b[0m\u001b[0;34m)\u001b[0m\u001b[0;34m:\u001b[0m\u001b[0;34m\u001b[0m\u001b[0;34m\u001b[0m\u001b[0m\n\u001b[1;32m      8\u001b[0m                 \u001b[0mfile_name\u001b[0m\u001b[0;34m=\u001b[0m\u001b[0;34mf'home/nallegra/newtechnowar-webui/code/output/{agentRed}_{agentBlue}_{s}_{i}.json'\u001b[0m\u001b[0;34m\u001b[0m\u001b[0;34m\u001b[0m\u001b[0m\n\u001b[0;32m----> 9\u001b[0;31m                 \u001b[0mdata\u001b[0m\u001b[0;34m=\u001b[0m\u001b[0mjson\u001b[0m\u001b[0;34m.\u001b[0m\u001b[0mload\u001b[0m\u001b[0;34m(\u001b[0m\u001b[0mopen\u001b[0m\u001b[0;34m(\u001b[0m\u001b[0mfile_name\u001b[0m\u001b[0;34m)\u001b[0m\u001b[0;34m)\u001b[0m\u001b[0;34m\u001b[0m\u001b[0;34m\u001b[0m\u001b[0m\n\u001b[0m\u001b[1;32m     10\u001b[0m                 \u001b[0mall_json\u001b[0m\u001b[0;34m.\u001b[0m\u001b[0mappend\u001b[0m\u001b[0;34m(\u001b[0m\u001b[0mdata\u001b[0m\u001b[0;34m)\u001b[0m\u001b[0;34m\u001b[0m\u001b[0;34m\u001b[0m\u001b[0m\n\u001b[1;32m     11\u001b[0m     \u001b[0mdf\u001b[0m\u001b[0;34m=\u001b[0m\u001b[0mpd\u001b[0m\u001b[0;34m.\u001b[0m\u001b[0mDataFrame\u001b[0m\u001b[0;34m(\u001b[0m\u001b[0mall_json\u001b[0m\u001b[0;34m)\u001b[0m\u001b[0;34m\u001b[0m\u001b[0;34m\u001b[0m\u001b[0m\n",
      "\u001b[0;31mFileNotFoundError\u001b[0m: [Errno 2] No such file or directory: 'home/nallegra/newtechnowar-webui/code/output/RandomAgent_RandomAgent_Junction_0.json'"
     ]
    }
   ],
   "source": [
    "dfAll=createDf(\"output\")\n",
    "dfAll[\"winnerAgent\"]=addWinnerColumn(dfAll)"
   ]
  },
  {
   "cell_type": "code",
   "execution_count": null,
   "metadata": {
    "slideshow": {
     "slide_type": "skip"
    }
   },
   "outputs": [],
   "source": [
    "dfGreedy=createDf(\"outputRegressorAllData\")\n",
    "dfGreedy[\"winnerAgent\"]=addWinnerColumn(dfGreedy)"
   ]
  },
  {
   "cell_type": "code",
   "execution_count": null,
   "metadata": {
    "slideshow": {
     "slide_type": "skip"
    }
   },
   "outputs": [],
   "source": [
    "dfGreedyRandom=createDf(\"outputRegressorRandomGreedy\")\n",
    "dfGreedyRandom[\"winnerAgent\"]=addWinnerColumn(dfGreedyRandom)"
   ]
  },
  {
   "cell_type": "code",
   "execution_count": null,
   "metadata": {
    "slideshow": {
     "slide_type": "slide"
    }
   },
   "outputs": [],
   "source": [
    "matchesWonForEachAgent(dfAll)\n",
    "agentVSagent(dfAll,\"Regressor\",\"RandomAgent\")\n",
    "agentVSagent(dfAll,\"Regressor\",\"GreedyAgent\")\n",
    "agentVSagentColor(dfAll,\"Regressor\",\"RandomAgent\",\"red\")\n",
    "agentVSagentColor(dfAll,\"Regressor\",\"RandomAgent\",\"blue\")\n",
    "agentVSagentColor(dfAll,\"Regressor\",\"GreedyAgent\",\"red\")\n",
    "agentVSagentColor(dfAll,\"Regressor\",\"GreedyAgent\",\"blue\")\n",
    "\n",
    "\n"
   ]
  },
  {
   "cell_type": "code",
   "execution_count": null,
   "metadata": {
    "slideshow": {
     "slide_type": "slide"
    }
   },
   "outputs": [],
   "source": [
    "matchesWonForEachAgent(dfGreedy)\n",
    "agentVSagent(dfGreedy,\"Regressor\",\"RandomAgent\")\n",
    "agentVSagentColor(dfGreedy,\"Regressor\",\"RandomAgent\",\"red\")\n",
    "agentVSagentColor(dfGreedy,\"Regressor\",\"RandomAgent\",\"blue\")\n",
    "agentVSagent(dfGreedy,\"Regressor\",\"GreedyAgent\")\n",
    "agentVSagentColor(dfGreedy,\"Regressor\",\"GreedyAgent\",\"red\")\n",
    "agentVSagentColor(dfGreedy,\"Regressor\",\"GreedyAgent\",\"blue\")\n"
   ]
  },
  {
   "cell_type": "code",
   "execution_count": null,
   "metadata": {
    "slideshow": {
     "slide_type": "slide"
    }
   },
   "outputs": [],
   "source": [
    "matchesWonForEachAgent(dfGreedyRandom)\n",
    "agentVSagent(dfGreedyRandom,\"Regressor\",\"RandomAgent\")\n",
    "agentVSagent(dfGreedyRandom,\"Regressor\",\"GreedyAgent\")\n",
    "agentVSagentColor(dfGreedyRandom,\"Regressor\",\"RandomAgent\",\"red\")\n",
    "agentVSagentColor(dfGreedyRandom,\"Regressor\",\"RandomAgent\",\"blue\")\n",
    "agentVSagentColor(dfGreedyRandom,\"Regressor\",\"GreedyAgent\",\"red\")\n",
    "agentVSagentColor(dfGreedyRandom,\"Regressor\",\"GreedyAgent\",\"blue\")\n"
   ]
  },
  {
   "cell_type": "code",
   "execution_count": null,
   "metadata": {},
   "outputs": [],
   "source": [
    "#spiegazione del lavoro\n"
   ]
  }
 ],
 "metadata": {
  "celltoolbar": "Slideshow",
  "kernelspec": {
   "display_name": "Python 3",
   "language": "python",
   "name": "python3"
  },
  "language_info": {
   "codemirror_mode": {
    "name": "ipython",
    "version": 3
   },
   "file_extension": ".py",
   "mimetype": "text/x-python",
   "name": "python",
   "nbconvert_exporter": "python",
   "pygments_lexer": "ipython3",
   "version": "3.7.6"
  }
 },
 "nbformat": 4,
 "nbformat_minor": 4
}
