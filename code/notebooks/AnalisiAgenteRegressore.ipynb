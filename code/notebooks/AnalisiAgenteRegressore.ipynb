{
 "cells": [
  {
   "cell_type": "code",
   "execution_count": null,
   "metadata": {},
   "outputs": [],
   "source": [
    "import sys\n",
    "sys.path.append(\"../\")"
   ]
  },
  {
   "cell_type": "code",
   "execution_count": null,
   "metadata": {
    "slideshow": {
     "slide_type": "skip"
    }
   },
   "outputs": [],
   "source": [
    "from agents.matchmanager import MatchManager\n",
    "\n",
    "from itertools import product\n",
    "\n",
    "from agents import GreedyAgent, AlphaBetaAgent, RandomAgent\n",
    "from scenarios import scenarioJunction, scenarioJunctionExo, scenarioTest1v1, scenarioTest2v2\n",
    "from core.const import RED, BLUE\n",
    "import json\n",
    "import pandas as pd\n",
    "import matplotlib\n",
    "from matplotlib import pyplot as plt\n",
    "import seaborn as sns\n"
   ]
  },
  {
   "cell_type": "code",
   "execution_count": null,
   "metadata": {},
   "outputs": [],
   "source": []
  },
  {
   "cell_type": "code",
   "execution_count": null,
   "metadata": {
    "slideshow": {
     "slide_type": "skip"
    }
   },
   "outputs": [],
   "source": [
    "def createDf(output):\n",
    "    agents = ['RandomAgent','RegressorAgent','ClassifierAgent','GreedyAgent']\n",
    "    scenarios = ['Junction']\n",
    "    all_json=[]\n",
    "    for i in range(0, 100):\n",
    "        for s in scenarios:\n",
    "            for agentRed, agentBlue in product(agents, agents):\n",
    "                file_name=f'../{output}/{agentRed}_{agentBlue}_{s}_{i}.json'\n",
    "                data=json.load(open(file_name))\n",
    "                all_json.append(data)  \n",
    "    df=pd.DataFrame(all_json)\n",
    "    return df"
   ]
  },
  {
   "cell_type": "code",
   "execution_count": null,
   "metadata": {
    "slideshow": {
     "slide_type": "skip"
    }
   },
   "outputs": [],
   "source": [
    "def addWinnerColumn(df):\n",
    "    winner_agent=[]\n",
    "    for i in range(len(df)):\n",
    "        if ((df[\"teamRed\"][i] == \"RegressorAgent\") & (df[\"winner\"][i]==\"red\")) | ((df[\"teamBlue\"][i] == \"RegressorAgent\") & (df[\"winner\"][i]==\"blue\")):\n",
    "            winner_agent.append(\"RegressorAgent\")\n",
    "        elif ((df[\"teamRed\"][i] == \"ClassifierAgent\") & (df[\"winner\"][i]==\"red\")) | ((df[\"teamBlue\"][i] == \"ClassifierAgent\") & (df[\"winner\"][i]==\"blue\")):\n",
    "            winner_agent.append(\"ClassifierAgent\")\n",
    "        elif ((df[\"teamRed\"][i] == \"RandomAgent\") & (df[\"winner\"][i]==\"red\")) | ((df[\"teamBlue\"][i] == \"RandomAgent\") & (df[\"winner\"][i]==\"blue\")):\n",
    "            winner_agent.append(\"RandomAgent\")\n",
    "        elif ((df[\"teamRed\"][i] == \"GreedyAgent\") & (df[\"winner\"][i]==\"red\")) | ((df[\"teamBlue\"][i] == \"GreedyAgent\") & (df[\"winner\"][i]==\"blue\")):\n",
    "            winner_agent.append(\"GreedyAgent\")\n",
    "    return winner_agent\n"
   ]
  },
  {
   "cell_type": "code",
   "execution_count": null,
   "metadata": {
    "slideshow": {
     "slide_type": "skip"
    }
   },
   "outputs": [],
   "source": [
    "def matchesWonForEachAgent(df):\n",
    "    print(\"PERCENTUALI GENERALI\")\n",
    "    df['winnerAgent'].value_counts().plot.bar(title='games won for each agent')\n",
    "    print('Percentuale vincita Regressor:',len(df[df['winnerAgent']==\"RegressorAgent\"])/len(df))\n",
    "    print('Percentuale vincita Classifier:',len(df[df['winnerAgent']==\"ClassifierAgent\"])/len(df))\n",
    "    print('Percentuale vincita RandomAgent:',len(df[df['winnerAgent']==\"RandomAgent\"])/len(df))\n",
    "    print('Percentuale vincita GreedyAgent:',len(df[df['winnerAgent']==\"GreedyAgent\"])/len(df))"
   ]
  },
  {
   "cell_type": "code",
   "execution_count": null,
   "metadata": {},
   "outputs": [],
   "source": [
    "def agentVSagent(df,agent1,agent2):\n",
    "    print(\"AGENTE VS AGENTE\")\n",
    "    mask=df.loc[((df.teamRed == agent1) & (df.teamBlue == agent2))|((df.teamRed == agent2) & (df.teamBlue == agent1))]\n",
    "    #mask['winnerAgent'].value_counts().plot.bar(title=f'Vincita {agent1} su {agent2}')\n",
    "    print(f'Percentuale vincita {agent1} su {agent2}:',len(mask[mask['winnerAgent']==agent1])/len(mask))\n",
    "    departments=mask['scenario'].unique()\n",
    "\n",
    "    fig, ax = plt.subplots(ncols=len(departments),nrows=1, figsize=(16,8))\n",
    "    for i,name in enumerate(departments):\n",
    "        dd=mask[(mask.scenario == name)]\n",
    "        #devi fare groupby su colonna winner, poi fai il count e dividi sul totale\n",
    "        sns.barplot(y=((dd['winnerAgent'].value_counts())/len(dd))*100,x=dd['winnerAgent'].unique() ,ax=ax)\n",
    "        ax.set_ylabel('Percentuale vittoria')\n",
    "        ax.set(ylim=(0, 100))\n",
    "        ax.set_title('scenario - {}'.format(name), fontsize=10)\n",
    "        #print(f'Percentuale vincita {agent1} su {agent2} su scenario {name}:',len(dd[dd['winnerAgent']==agent1])/len(dd))\n",
    "\n",
    "    plt.plot() \n",
    "    #plotta percentuali-> fai solo scenario junction (nel caso junctionexo)\n"
   ]
  },
  {
   "cell_type": "code",
   "execution_count": null,
   "metadata": {},
   "outputs": [],
   "source": [
    "def agentVSagentColor(df,agent1,agent2,coloragent1):\n",
    "    print(\"AGENTE VS AGENTE PER COLORE\")\n",
    "    if (coloragent1==\"red\"):\n",
    "        mask=df.loc[((df.teamRed == agent1) & (df.teamBlue == agent2))]\n",
    "        print(f'Percentuale vincita {agent1} Red su {agent2} Blue:',len(mask[mask['winner']==coloragent1])/len(mask))\n",
    "        title=f'Percentuale vincita {agent1} Red su {agent2} Blue su scenario '\n",
    "    else:\n",
    "        mask=df.loc[((df.teamRed == agent2) & (df.teamBlue == agent1))]\n",
    "        print(f'Percentuale vincita {agent1} Blue su {agent2} Red:',len(mask[mask['winner']==coloragent1])/len(mask))\n",
    "        title=f'Percentuale vincita {agent1} Blue su {agent2} Red su scenario '\n",
    "\n",
    "        \n",
    "    departments=mask['scenario'].unique()\n",
    "\n",
    "    fig, ax = plt.subplots(ncols=len(departments),nrows=1, figsize=(16,8))\n",
    "    for i,name in enumerate(departments):\n",
    "        dd=mask[(mask.scenario == name)]\n",
    "        sns.barplot(y=((dd['winner'].value_counts())/len(dd))*100,x=dd['winner'].unique() ,ax=ax)\n",
    "        ax.set_ylabel('Percentuale vittoria')\n",
    "        ax.set(ylim=(0, 100))\n",
    "        ax.set_title('scenario - {}'.format(name), fontsize=10)\n",
    "        #print(title,name,len(dd[dd['winner']==coloragent1])/len(dd))\n",
    "\n",
    "    plt.plot() \n",
    "    #metti perncetuale per ogni scenario\n",
    "\n"
   ]
  },
  {
   "cell_type": "code",
   "execution_count": null,
   "metadata": {
    "slideshow": {
     "slide_type": "skip"
    }
   },
   "outputs": [],
   "source": [
    "def agentVSagentMoreScenario(df,agent1,agent2):\n",
    "    print(\"AGENTE VS AGENTE\")\n",
    "    mask=df.loc[((df.teamRed == agent1) & (df.teamBlue == agent2))|((df.teamRed == agent2) & (df.teamBlue == agent1))]\n",
    "    #mask['winnerAgent'].value_counts().plot.bar(title=f'Vincita {agent1} su {agent2}')\n",
    "    print(f'Percentuale vincita {agent1} su {agent2}:',len(mask[mask['winnerAgent']==agent1])/len(mask))\n",
    "    departments=mask['scenario'].unique()\n",
    "\n",
    "    fig, ax = plt.subplots(ncols=len(departments),nrows=1, figsize=(16,8))\n",
    "    for i,name in enumerate(departments):\n",
    "        dd=mask[(mask.scenario == name)]\n",
    "        #devi fare groupby su colonna winner, poi fai il count e dividi sul totale\n",
    "        sns.barplot(y=((dd['winnerAgent'].value_counts())/len(dd))*100,x=dd['winnerAgent'].unique() ,ax=ax[i])\n",
    "        ax[i].set_ylabel('Percentuale vittoria')\n",
    "        ax[i].set(ylim=(0, 100))\n",
    "        ax[i].set_title('scenario - {}'.format(name), fontsize=10)\n",
    "        print(f'Percentuale vincita {agent1} su {agent2} su scenario {name}:',len(dd[dd['winnerAgent']==agent1])/len(dd))\n",
    "\n",
    "    plt.plot() \n",
    "    #plotta percentuali-> fai solo scenario junction (nel caso junctionexo)\n"
   ]
  },
  {
   "cell_type": "code",
   "execution_count": null,
   "metadata": {
    "slideshow": {
     "slide_type": "skip"
    }
   },
   "outputs": [],
   "source": [
    "def agentVSagentColorMoreScenario(df,agent1,agent2,coloragent1):\n",
    "    print(\"AGENTE VS AGENTE PER COLORE\")\n",
    "    if (coloragent1==\"red\"):\n",
    "        mask=df.loc[((df.teamRed == agent1) & (df.teamBlue == agent2))]\n",
    "        print(f'Percentuale vincita {agent1} Red su {agent2} Blue:',len(mask[mask['winner']==coloragent1])/len(mask))\n",
    "        title=f'Percentuale vincita {agent1} Red su {agent2} Blue su scenario '\n",
    "    else:\n",
    "        mask=df.loc[((df.teamRed == agent2) & (df.teamBlue == agent1))]\n",
    "        print(f'Percentuale vincita {agent1} Blue su {agent2} Red:',len(mask[mask['winner']==coloragent1])/len(mask))\n",
    "        title=f'Percentuale vincita {agent1} Blue su {agent2} Red su scenario '\n",
    "\n",
    "        \n",
    "    departments=mask['scenario'].unique()\n",
    "\n",
    "    fig, ax = plt.subplots(ncols=len(departments),nrows=1, figsize=(16,8))\n",
    "    for i,name in enumerate(departments):\n",
    "        dd=mask[(mask.scenario == name)]\n",
    "        sns.barplot(y=((dd['winner'].value_counts())/len(dd))*100,x=dd['winner'].unique() ,ax=ax[i])\n",
    "        ax[i].set_ylabel('Percentuale vittoria')\n",
    "        ax[i].set(ylim=(0, 100))\n",
    "        ax[i].set_title('scenario - {}'.format(name), fontsize=10)\n",
    "        print(title,name,len(dd[dd['winner']==coloragent1])/len(dd))\n",
    "\n",
    "    plt.plot() \n",
    "    #metti perncetuale per ogni scenario\n",
    "\n"
   ]
  },
  {
   "cell_type": "code",
   "execution_count": null,
   "metadata": {
    "slideshow": {
     "slide_type": "skip"
    }
   },
   "outputs": [],
   "source": [
    "dfAll=createDf(\"output\")\n",
    "dfAll[\"winnerAgent\"]=addWinnerColumn(dfAll)"
   ]
  },
  {
   "cell_type": "code",
   "execution_count": null,
   "metadata": {
    "slideshow": {
     "slide_type": "slide"
    }
   },
   "outputs": [],
   "source": [
    "matchesWonForEachAgent(dfAll)\n",
    "agentVSagent(dfAll,\"RegressorAgent\",\"RandomAgent\")\n",
    "agentVSagent(dfAll,\"RegressorAgent\",\"GreedyAgent\")\n",
    "agentVSagentColor(dfAll,\"RegressorAgent\",\"RandomAgent\",\"red\")\n",
    "agentVSagentColor(dfAll,\"RegressorAgent\",\"RandomAgent\",\"blue\")\n",
    "agentVSagentColor(dfAll,\"RegressorAgent\",\"GreedyAgent\",\"red\")\n",
    "agentVSagentColor(dfAll,\"RegressorAgent\",\"GreedyAgent\",\"blue\")\n",
    "\n",
    "\n"
   ]
  },
  {
   "cell_type": "code",
   "execution_count": null,
   "metadata": {},
   "outputs": [],
   "source": []
  },
  {
   "cell_type": "code",
   "execution_count": null,
   "metadata": {},
   "outputs": [],
   "source": [
    "#spiegazione del lavoro\n"
   ]
  }
 ],
 "metadata": {
  "celltoolbar": "Slideshow",
  "kernelspec": {
   "display_name": "Python 3",
   "language": "python",
   "name": "python3"
  },
  "language_info": {
   "codemirror_mode": {
    "name": "ipython",
    "version": 3
   },
   "file_extension": ".py",
   "mimetype": "text/x-python",
   "name": "python",
   "nbconvert_exporter": "python",
   "pygments_lexer": "ipython3",
   "version": "3.7.6"
  }
 },
 "nbformat": 4,
 "nbformat_minor": 4
}
