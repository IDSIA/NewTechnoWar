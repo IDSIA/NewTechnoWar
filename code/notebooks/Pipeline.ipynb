{
 "cells": [
  {
   "cell_type": "code",
   "execution_count": null,
   "metadata": {},
   "outputs": [],
   "source": [
    "from sklearn.model_selection import train_test_split\n",
    "import pandas as pd\n",
    "from sklearn import preprocessing\n",
    "from sklearn.ensemble import RandomForestRegressor\n",
    "from sklearn.naive_bayes import GaussianNB\n",
    "from sklearn.pipeline import Pipeline\n",
    "from sklearn.preprocessing import StandardScaler, OneHotEncoder\n",
    "from sklearn.compose import ColumnTransformer\n",
    "from sklearn.neighbors import KNeighborsClassifier\n",
    "from sklearn.svm import SVC, LinearSVC, NuSVC\n",
    "from sklearn.tree import DecisionTreeClassifier\n",
    "from sklearn.ensemble import RandomForestClassifier, AdaBoostClassifier, GradientBoostingClassifier\n",
    "from sklearn.discriminant_analysis import LinearDiscriminantAnalysis\n",
    "from sklearn.discriminant_analysis import QuadraticDiscriminantAnalysis\n",
    "import joblib\n",
    "from sklearn import metrics\n",
    "from numpy import mean\n",
    "from numpy import std\n",
    "from sklearn.datasets import make_classification\n",
    "from sklearn.model_selection import KFold\n",
    "from sklearn.model_selection import cross_val_score\n",
    "from sklearn.linear_model import LogisticRegression"
   ]
  },
  {
   "cell_type": "code",
   "execution_count": null,
   "metadata": {},
   "outputs": [],
   "source": [
    "df = pd.read_pickle('../data.2020-11-09.scenarioJunction.pkl.gz')"
   ]
  },
  {
   "cell_type": "code",
   "execution_count": null,
   "metadata": {},
   "outputs": [],
   "source": [
    "df.head(5)"
   ]
  },
  {
   "cell_type": "code",
   "execution_count": null,
   "metadata": {},
   "outputs": [],
   "source": [
    "def pipeline_save(df):\n",
    "    X = df.drop('winner', axis=1)\n",
    "    y = df['winner']    \n",
    "    #categorical_transformer = Pipeline(steps=[('onehot', OneHotEncoder(handle_unknown='ignore'))])\n",
    "    c=df.select_dtypes(include=['object']).drop(['winner'], axis=1).columns\n",
    "    preprocessor = ColumnTransformer(transformers=[('cat', OneHotEncoder(handle_unknown='ignore'), c)])\n",
    "    rf = Pipeline(steps=[('preprocessor', preprocessor),('classifier', RandomForestClassifier())])\n",
    "    rf.fit(X, y)\n",
    "    return(rf)\n"
   ]
  },
  {
   "cell_type": "code",
   "execution_count": null,
   "metadata": {},
   "outputs": [],
   "source": [
    "def pipelineClassifier(df):   \n",
    "    X = df.drop('winner', axis=1)\n",
    "    y = df['winner']\n",
    "    X_train, X_test, y_train, y_test = train_test_split(X, y, test_size=0.2)\n",
    "\n",
    "    categorical_transformer = Pipeline(steps=[('onehot', OneHotEncoder(handle_unknown='ignore'))])\n",
    "    c=df.select_dtypes(include=['object']).drop([['winner', 'meta_scenario', 'meta_p_red', 'meta_p_blue', 'meta_seed']], axis=1,errors=\"ignore\").columns\n",
    "    preprocessor = ColumnTransformer(transformers=[('cat', categorical_transformer, c)])\n",
    "    classifiers = [\n",
    "        KNeighborsClassifier(3),\n",
    "        SVC(kernel=\"rbf\", C=0.025, probability=True),\n",
    "        NuSVC(probability=True),\n",
    "        DecisionTreeClassifier(),\n",
    "        RandomForestClassifier(),\n",
    "        AdaBoostClassifier(),\n",
    "        GradientBoostingClassifier()\n",
    "        ]\n",
    "    for classifier in classifiers:\n",
    "        pipe = Pipeline(steps=[('preprocessor', preprocessor),\n",
    "                          ('classifier', classifier)])\n",
    "        pipe.fit(X_train, y_train)\n",
    "        y_pred=pipe.predict(X_test)\n",
    "        print(classifier)\n",
    "        print(\"model score: %.3f\" % pipe.score(X_test, y_test))\n",
    "        print(\"model accuracy:\",metrics.accuracy_score(y_test,y_pred))\n",
    "        #print(\"model f1 score:\",metrics.f1_score(y_test,y_pred))"
   ]
  },
  {
   "cell_type": "code",
   "execution_count": null,
   "metadata": {},
   "outputs": [],
   "source": [
    "def pipelineClassifierCross(df):   \n",
    "    X = df.drop('winner', axis=1)\n",
    "    y = df['winner']\n",
    "    cv = KFold(n_splits=10, random_state=1, shuffle=True)\n",
    "    categorical_transformer = Pipeline(steps=[('onehot', OneHotEncoder(handle_unknown='ignore'))])\n",
    "    c=df.select_dtypes(include=['object']).drop(['winner'], axis=1).columns\n",
    "    preprocessor = ColumnTransformer(transformers=[('cat', categorical_transformer, c)])\n",
    "    classifiers = [\n",
    "        KNeighborsClassifier(3),\n",
    "        #SVC(kernel=\"rbf\", C=0.025, probability=True),\n",
    "        NuSVC(probability=True),\n",
    "        DecisionTreeClassifier(),\n",
    "        RandomForestClassifier(),\n",
    "        AdaBoostClassifier(),\n",
    "        GradientBoostingClassifier()\n",
    "        ]\n",
    "    for classifier in classifiers:\n",
    "        pipe = Pipeline(steps=[('preprocessor', preprocessor),\n",
    "                          ('classifier', classifier)])\n",
    "        scores = cross_val_score(pipe, X, y, scoring='accuracy', cv=cv, n_jobs=-1)\n",
    "        print(classifier.__class__.__name__)\n",
    "        print('Accuracy: %.3f (%.3f)' % (mean(scores), std(scores)))\n",
    "     \n",
    "\n",
    "\n",
    "\n",
    "\n",
    "\n"
   ]
  },
  {
   "cell_type": "code",
   "execution_count": null,
   "metadata": {},
   "outputs": [],
   "source": [
    "pipelineClassifierCross(df)"
   ]
  },
  {
   "cell_type": "code",
   "execution_count": null,
   "metadata": {},
   "outputs": [],
   "source": [
    "model=joblib.load('model.joblib')"
   ]
  },
  {
   "cell_type": "code",
   "execution_count": null,
   "metadata": {},
   "outputs": [],
   "source": []
  },
  {
   "cell_type": "code",
   "execution_count": null,
   "metadata": {},
   "outputs": [],
   "source": [
    "from sklearn.pipeline import Pipeline\n",
    "from sklearn.preprocessing import OneHotEncoder\n",
    "from sklearn.compose import ColumnTransformer\n",
    "from sklearn.neighbors import KNeighborsClassifier\n",
    "from sklearn.tree import DecisionTreeClassifier\n",
    "from sklearn.ensemble import RandomForestClassifier, AdaBoostClassifier, GradientBoostingClassifier\n",
    "import pandas as pd\n",
    "from sklearn.naive_bayes import GaussianNB\n",
    "\n",
    "import joblib"
   ]
  },
  {
   "cell_type": "code",
   "execution_count": null,
   "metadata": {},
   "outputs": [],
   "source": [
    "dataframes = {\n",
    "    \"Test1v1\": \"../data.2020-11-09.scenarioTest1v1.pkl.gz\",\n",
    "    \"Test2v2\": \"../data.2020-11-09.scenarioTest2v2.pkl.gz\",\n",
    "    \"Junction\": \"../data.2020-11-09.scenarioJunction.pkl.gz\",\n",
    "    \"JunctionExo\": \"../data.2020-11-09.scenarioJunctionExo.pkl.gz\",\n",
    "}"
   ]
  },
  {
   "cell_type": "code",
   "execution_count": null,
   "metadata": {},
   "outputs": [],
   "source": [
    "classifiers = [\n",
    "#     KNeighborsClassifier(3),\n",
    "    # SVC(kernel=\"rbf\", C=0.025, probability=True),\n",
    "    # NuSVC(probability=True),\n",
    "#     DecisionTreeClassifier(),\n",
    "    RandomForestClassifier(),\n",
    "#     AdaBoostClassifier(),\n",
    "    GradientBoostingClassifier(),\n",
    "    GaussianNB(),\n",
    "]"
   ]
  },
  {
   "cell_type": "code",
   "execution_count": null,
   "metadata": {},
   "outputs": [],
   "source": [
    "args = []\n",
    "\n",
    "for k, v in dataframes.items():\n",
    "    for c in classifiers:\n",
    "        args.append((k, v, c))\n"
   ]
  },
  {
   "cell_type": "code",
   "execution_count": null,
   "metadata": {},
   "outputs": [],
   "source": [
    "len(args)"
   ]
  },
  {
   "cell_type": "code",
   "execution_count": null,
   "metadata": {},
   "outputs": [],
   "source": [
    "def pipelineClassifier(args):\n",
    "    name, v, classifier = args\n",
    "    file_name = f'{name}_{classifier.__class__.__name__}.joblib'\n",
    "    \n",
    "    print('starting...', file_name)\n",
    "\n",
    "    df = pd.read_pickle(v, compression='gzip')\n",
    "    \n",
    "    print('...read', v, 'completed...')\n",
    "    \n",
    "    X = df.drop(['winner', 'meta_scenario', 'meta_p_red', 'meta_p_blue', 'meta_seed'], axis=1, errors=\"ignore\")\n",
    "    y = df['winner']\n",
    "    categorical_transformer = Pipeline(steps=[('onehot', OneHotEncoder(handle_unknown='ignore'))])\n",
    "    c = df.select_dtypes(include=['object']).drop(['winner', 'meta_scenario', 'meta_p_red', 'meta_p_blue', 'meta_seed'],\n",
    "                                                  axis=1, errors=\"ignore\").columns\n",
    "    preprocessor = ColumnTransformer(transformers=[('cat', categorical_transformer, c)])\n",
    "    \n",
    "    pipe = Pipeline(steps=[('preprocessor', preprocessor),\n",
    "                           ('classifier', classifier)])\n",
    "    pipe.fit(X, y)\n",
    "    joblib.dump(pipe, file_name)\n",
    "    \n",
    "    print(file_name, '...completed!')"
   ]
  },
  {
   "cell_type": "code",
   "execution_count": null,
   "metadata": {},
   "outputs": [],
   "source": [
    "from multiprocessing import Pool"
   ]
  },
  {
   "cell_type": "code",
   "execution_count": null,
   "metadata": {},
   "outputs": [],
   "source": [
    "with Pool(3) as p:\n",
    "    p.map(pipelineClassifier, args)"
   ]
  },
  {
   "cell_type": "code",
   "execution_count": null,
   "metadata": {},
   "outputs": [],
   "source": []
  },
  {
   "cell_type": "code",
   "execution_count": null,
   "metadata": {},
   "outputs": [],
   "source": [
    "\n",
    "if __name__ == '__main__':\n",
    "    '''dataframes = {\"BridgeHead\": \"../../../data.scenarioBridgeHead.pkl.gz\",\n",
    "                  \"CrossingTheCity\": \"../../../data.scenarioCrossingTheCity.pkl.gz\",\n",
    "                  \"Junction\": \"../../../data.scenarioJunction.pkl.gz\",\n",
    "                  \"JunctionExo\": \"../../../data.scenarioJunctionExo.pkl.gz\",\n",
    "                  \"Roadblock\": \"../../../data.scenarioRoadblock.pkl.gz\",\n",
    "                  \"Test1v1\": \"../../../data.scenarioTest1v1.pkl.gz\", \"Test2v2\": \"../../../data.scenarioTest2v2.pkl.gz\"}'''\n",
    "    dataframes = {\"Junction\": \"../data.2020-11-09.scenarioJunction.pkl.gz\",\n",
    "                  \"JunctionExo\": \"../data.2020-11-09.scenarioJunctionExo.pkl.gz\",\n",
    "                  \"Test1v1\": \"../data.2020-11-09.scenarioTest1v1.pkl.gz\",\n",
    "                  \"Test2v2\": \"../data.2020-11-09.scenarioTest2v2.pkl.gz\"}\n",
    "    # pilots = [\"BridgeHead\", \"CrossingTheCity\", \"Junction\", \"JunctionExo\", \"Roadblock\", \"Test1v1\", \"Test2v2\"]\n",
    "    pilots = [\n",
    "        \"Test1v1\",\n",
    "#         \"Test2v2\",\n",
    "#         \"Junction\",\n",
    "#         \"JunctionExo\"\n",
    "    ]\n",
    "\n",
    "    for p in pilots:\n",
    "        df = pd.read_pickle(dataframes[p])\n",
    "        '''df = df.loc[(((df.meta_p_red == \"GreedyAgent\") & (df.meta_p_blue == \"GreedyAgent\")) | (\n",
    "                    (df.meta_p_red == \"GreedyAgent\") & (df.meta_p_blue == \"RandomAgent\")) | (\n",
    "                                 (df.meta_p_red == \"RandomAgent\") & (df.meta_p_blue == \"GreedyAgent\")))]'''\n",
    "\n",
    "        pipelineClassifier(df, p)\n"
   ]
  },
  {
   "cell_type": "code",
   "execution_count": null,
   "metadata": {},
   "outputs": [],
   "source": [
    "import os.path as op"
   ]
  },
  {
   "cell_type": "code",
   "execution_count": null,
   "metadata": {},
   "outputs": [],
   "source": [
    "dir_path = op.dirname(op.realpath(\"ciao\"))\n"
   ]
  },
  {
   "cell_type": "code",
   "execution_count": null,
   "metadata": {},
   "outputs": [],
   "source": [
    "file=\"ciao\""
   ]
  },
  {
   "cell_type": "code",
   "execution_count": null,
   "metadata": {},
   "outputs": [],
   "source": [
    "op.join(dir_path, '..', '..', 'models', file)"
   ]
  }
 ],
 "metadata": {
  "kernelspec": {
   "display_name": "Python 3",
   "language": "python",
   "name": "python3"
  },
  "language_info": {
   "codemirror_mode": {
    "name": "ipython",
    "version": 3
   },
   "file_extension": ".py",
   "mimetype": "text/x-python",
   "name": "python",
   "nbconvert_exporter": "python",
   "pygments_lexer": "ipython3",
   "version": "3.7.6"
  }
 },
 "nbformat": 4,
 "nbformat_minor": 4
}
