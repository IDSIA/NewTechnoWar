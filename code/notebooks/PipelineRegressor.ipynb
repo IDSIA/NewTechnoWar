{
 "cells": [
  {
   "cell_type": "code",
   "execution_count": 1,
   "metadata": {},
   "outputs": [],
   "source": [
    "from sklearn.pipeline import Pipeline\n",
    "from sklearn.preprocessing import OneHotEncoder\n",
    "from sklearn.compose import ColumnTransformer\n",
    "\n",
    "from sklearn.ensemble import RandomForestClassifier\n",
    "import pandas as pd\n",
    "\n",
    "from sklearn.ensemble import RandomForestRegressor\n",
    "import pickle"
   ]
  },
  {
   "cell_type": "code",
   "execution_count": 2,
   "metadata": {},
   "outputs": [],
   "source": [
    "def pipelineRegressor(df, name, team):\n",
    "    X = df.dropna(axis=1).drop(['winner', 'meta_scenario', 'meta_p_red', 'meta_p_blue', 'meta_seed'], axis=1, errors=\"ignore\")\n",
    "    y = df['winner']\n",
    "\n",
    "    categorical_transformer = Pipeline(steps=[('onehot', OneHotEncoder(handle_unknown='ignore'))])\n",
    "    c = df.select_dtypes(include=['object'])\\\n",
    "            .drop(['winner', 'meta_scenario', 'meta_p_red', 'meta_p_blue', 'meta_seed'], axis=1, errors=\"ignore\").columns\n",
    "    preprocessor = ColumnTransformer(transformers=[('cat', categorical_transformer, c)])\n",
    "    \n",
    "    regressors = [\n",
    "        RandomForestRegressor(n_estimators=1000, random_state=42),\n",
    "    ]\n",
    "\n",
    "    for regressor in regressors:\n",
    "        pipe = Pipeline(steps=[('preprocessor', preprocessor), ('classifier', regressor)])\n",
    "        pipe.fit(X, y)\n",
    "        file_name = f'{name}_{regressor.__class__.__name__}_{color}.joblib'\n",
    "        joblib.dump(pipe, file_name)"
   ]
  },
  {
   "cell_type": "code",
   "execution_count": 11,
   "metadata": {},
   "outputs": [],
   "source": [
    "def dfForTeam(df: pd.DataFrame, team:str):\n",
    "    df_new = df[[c for c in df.columns if team in c] + ['winner']]\n",
    "    df_new = df['winner'].apply(lambda x: 1 if x == team else -1)\n",
    "    return df_new\n",
    "\n",
    "def dfRegressor(dataframes):\n",
    "    for k, v in dataframes.items():\n",
    "        df = pd.read_pickle(v)\n",
    "        df_red = dfForTeam(df, \"red\")\n",
    "        df_blue = dfForTeam(df, \"blue\")\n",
    "        pipelineRegressor(df_red, k, \"red\")\n",
    "        pipelineRegressor(df_blue, k, \"blue\")"
   ]
  },
  {
   "cell_type": "code",
   "execution_count": 12,
   "metadata": {},
   "outputs": [
    {
     "ename": "ValueError",
     "evalue": "No axis named 1 for object type <class 'pandas.core.series.Series'>",
     "output_type": "error",
     "traceback": [
      "\u001b[0;31m---------------------------------------------------------------------------\u001b[0m",
      "\u001b[0;31mValueError\u001b[0m                                Traceback (most recent call last)",
      "\u001b[0;32m<ipython-input-12-84af25646689>\u001b[0m in \u001b[0;36m<module>\u001b[0;34m\u001b[0m\n\u001b[1;32m      7\u001b[0m \u001b[0;31m# pilots = [\"BridgeHead\", \"CrossingTheCity\", \"Junction\", \"JunctionExo\", \"Roadblock\", \"Test1v1\", \"Test2v2\"]\u001b[0m\u001b[0;34m\u001b[0m\u001b[0;34m\u001b[0m\u001b[0;34m\u001b[0m\u001b[0m\n\u001b[1;32m      8\u001b[0m \u001b[0;34m\u001b[0m\u001b[0m\n\u001b[0;32m----> 9\u001b[0;31m \u001b[0mdfRegressor\u001b[0m\u001b[0;34m(\u001b[0m\u001b[0mdataframes\u001b[0m\u001b[0;34m)\u001b[0m\u001b[0;34m\u001b[0m\u001b[0;34m\u001b[0m\u001b[0m\n\u001b[0m",
      "\u001b[0;32m<ipython-input-11-e49c9b18cf5f>\u001b[0m in \u001b[0;36mdfRegressor\u001b[0;34m(dataframes)\u001b[0m\n\u001b[1;32m      9\u001b[0m         \u001b[0mdf_red\u001b[0m \u001b[0;34m=\u001b[0m \u001b[0mdfForTeam\u001b[0m\u001b[0;34m(\u001b[0m\u001b[0mdf\u001b[0m\u001b[0;34m,\u001b[0m \u001b[0;34m\"red\"\u001b[0m\u001b[0;34m)\u001b[0m\u001b[0;34m\u001b[0m\u001b[0;34m\u001b[0m\u001b[0m\n\u001b[1;32m     10\u001b[0m         \u001b[0mdf_blue\u001b[0m \u001b[0;34m=\u001b[0m \u001b[0mdfForTeam\u001b[0m\u001b[0;34m(\u001b[0m\u001b[0mdf\u001b[0m\u001b[0;34m,\u001b[0m \u001b[0;34m\"blue\"\u001b[0m\u001b[0;34m)\u001b[0m\u001b[0;34m\u001b[0m\u001b[0;34m\u001b[0m\u001b[0m\n\u001b[0;32m---> 11\u001b[0;31m         \u001b[0mpipelineRegressor\u001b[0m\u001b[0;34m(\u001b[0m\u001b[0mdf_red\u001b[0m\u001b[0;34m,\u001b[0m \u001b[0mk\u001b[0m\u001b[0;34m,\u001b[0m \u001b[0;34m\"red\"\u001b[0m\u001b[0;34m)\u001b[0m\u001b[0;34m\u001b[0m\u001b[0;34m\u001b[0m\u001b[0m\n\u001b[0m\u001b[1;32m     12\u001b[0m         \u001b[0mpipelineRegressor\u001b[0m\u001b[0;34m(\u001b[0m\u001b[0mdf_blue\u001b[0m\u001b[0;34m,\u001b[0m \u001b[0mk\u001b[0m\u001b[0;34m,\u001b[0m \u001b[0;34m\"blue\"\u001b[0m\u001b[0;34m)\u001b[0m\u001b[0;34m\u001b[0m\u001b[0;34m\u001b[0m\u001b[0m\n",
      "\u001b[0;32m<ipython-input-2-49b8536525ce>\u001b[0m in \u001b[0;36mpipelineRegressor\u001b[0;34m(df, name, color)\u001b[0m\n\u001b[1;32m      1\u001b[0m \u001b[0;32mdef\u001b[0m \u001b[0mpipelineRegressor\u001b[0m\u001b[0;34m(\u001b[0m\u001b[0mdf\u001b[0m\u001b[0;34m,\u001b[0m \u001b[0mname\u001b[0m\u001b[0;34m,\u001b[0m \u001b[0mcolor\u001b[0m\u001b[0;34m)\u001b[0m\u001b[0;34m:\u001b[0m\u001b[0;34m\u001b[0m\u001b[0;34m\u001b[0m\u001b[0m\n\u001b[0;32m----> 2\u001b[0;31m     \u001b[0mX\u001b[0m \u001b[0;34m=\u001b[0m \u001b[0mdf\u001b[0m\u001b[0;34m.\u001b[0m\u001b[0mdropna\u001b[0m\u001b[0;34m(\u001b[0m\u001b[0maxis\u001b[0m\u001b[0;34m=\u001b[0m\u001b[0;36m1\u001b[0m\u001b[0;34m)\u001b[0m\u001b[0;34m.\u001b[0m\u001b[0mdrop\u001b[0m\u001b[0;34m(\u001b[0m\u001b[0;34m[\u001b[0m\u001b[0;34m'winner'\u001b[0m\u001b[0;34m,\u001b[0m \u001b[0;34m'meta_scenario'\u001b[0m\u001b[0;34m,\u001b[0m \u001b[0;34m'meta_p_red'\u001b[0m\u001b[0;34m,\u001b[0m \u001b[0;34m'meta_p_blue'\u001b[0m\u001b[0;34m,\u001b[0m \u001b[0;34m'meta_seed'\u001b[0m\u001b[0;34m]\u001b[0m\u001b[0;34m,\u001b[0m \u001b[0maxis\u001b[0m\u001b[0;34m=\u001b[0m\u001b[0;36m1\u001b[0m\u001b[0;34m,\u001b[0m \u001b[0merrors\u001b[0m\u001b[0;34m=\u001b[0m\u001b[0;34m\"ignore\"\u001b[0m\u001b[0;34m)\u001b[0m\u001b[0;34m\u001b[0m\u001b[0;34m\u001b[0m\u001b[0m\n\u001b[0m\u001b[1;32m      3\u001b[0m     \u001b[0my\u001b[0m \u001b[0;34m=\u001b[0m \u001b[0mdf\u001b[0m\u001b[0;34m[\u001b[0m\u001b[0;34m'winner'\u001b[0m\u001b[0;34m]\u001b[0m\u001b[0;34m\u001b[0m\u001b[0;34m\u001b[0m\u001b[0m\n\u001b[1;32m      4\u001b[0m \u001b[0;34m\u001b[0m\u001b[0m\n\u001b[1;32m      5\u001b[0m     \u001b[0mcategorical_transformer\u001b[0m \u001b[0;34m=\u001b[0m \u001b[0mPipeline\u001b[0m\u001b[0;34m(\u001b[0m\u001b[0msteps\u001b[0m\u001b[0;34m=\u001b[0m\u001b[0;34m[\u001b[0m\u001b[0;34m(\u001b[0m\u001b[0;34m'onehot'\u001b[0m\u001b[0;34m,\u001b[0m \u001b[0mOneHotEncoder\u001b[0m\u001b[0;34m(\u001b[0m\u001b[0mhandle_unknown\u001b[0m\u001b[0;34m=\u001b[0m\u001b[0;34m'ignore'\u001b[0m\u001b[0;34m)\u001b[0m\u001b[0;34m)\u001b[0m\u001b[0;34m]\u001b[0m\u001b[0;34m)\u001b[0m\u001b[0;34m\u001b[0m\u001b[0;34m\u001b[0m\u001b[0m\n",
      "\u001b[0;32m/opt/conda/lib/python3.7/site-packages/pandas/core/series.py\u001b[0m in \u001b[0;36mdropna\u001b[0;34m(self, axis, inplace, how)\u001b[0m\n\u001b[1;32m   4487\u001b[0m         \u001b[0minplace\u001b[0m \u001b[0;34m=\u001b[0m \u001b[0mvalidate_bool_kwarg\u001b[0m\u001b[0;34m(\u001b[0m\u001b[0minplace\u001b[0m\u001b[0;34m,\u001b[0m \u001b[0;34m\"inplace\"\u001b[0m\u001b[0;34m)\u001b[0m\u001b[0;34m\u001b[0m\u001b[0;34m\u001b[0m\u001b[0m\n\u001b[1;32m   4488\u001b[0m         \u001b[0;31m# Validate the axis parameter\u001b[0m\u001b[0;34m\u001b[0m\u001b[0;34m\u001b[0m\u001b[0;34m\u001b[0m\u001b[0m\n\u001b[0;32m-> 4489\u001b[0;31m         \u001b[0mself\u001b[0m\u001b[0;34m.\u001b[0m\u001b[0m_get_axis_number\u001b[0m\u001b[0;34m(\u001b[0m\u001b[0maxis\u001b[0m \u001b[0;32mor\u001b[0m \u001b[0;36m0\u001b[0m\u001b[0;34m)\u001b[0m\u001b[0;34m\u001b[0m\u001b[0;34m\u001b[0m\u001b[0m\n\u001b[0m\u001b[1;32m   4490\u001b[0m \u001b[0;34m\u001b[0m\u001b[0m\n\u001b[1;32m   4491\u001b[0m         \u001b[0;32mif\u001b[0m \u001b[0mself\u001b[0m\u001b[0;34m.\u001b[0m\u001b[0m_can_hold_na\u001b[0m\u001b[0;34m:\u001b[0m\u001b[0;34m\u001b[0m\u001b[0;34m\u001b[0m\u001b[0m\n",
      "\u001b[0;32m/opt/conda/lib/python3.7/site-packages/pandas/core/generic.py\u001b[0m in \u001b[0;36m_get_axis_number\u001b[0;34m(cls, axis)\u001b[0m\n\u001b[1;32m    405\u001b[0m             \u001b[0;32mexcept\u001b[0m \u001b[0mKeyError\u001b[0m\u001b[0;34m:\u001b[0m\u001b[0;34m\u001b[0m\u001b[0;34m\u001b[0m\u001b[0m\n\u001b[1;32m    406\u001b[0m                 \u001b[0;32mpass\u001b[0m\u001b[0;34m\u001b[0m\u001b[0;34m\u001b[0m\u001b[0m\n\u001b[0;32m--> 407\u001b[0;31m         \u001b[0;32mraise\u001b[0m \u001b[0mValueError\u001b[0m\u001b[0;34m(\u001b[0m\u001b[0;34mf\"No axis named {axis} for object type {cls}\"\u001b[0m\u001b[0;34m)\u001b[0m\u001b[0;34m\u001b[0m\u001b[0;34m\u001b[0m\u001b[0m\n\u001b[0m\u001b[1;32m    408\u001b[0m \u001b[0;34m\u001b[0m\u001b[0m\n\u001b[1;32m    409\u001b[0m     \u001b[0;34m@\u001b[0m\u001b[0mclassmethod\u001b[0m\u001b[0;34m\u001b[0m\u001b[0;34m\u001b[0m\u001b[0m\n",
      "\u001b[0;31mValueError\u001b[0m: No axis named 1 for object type <class 'pandas.core.series.Series'>"
     ]
    }
   ],
   "source": [
    "dataframes = {\n",
    "    \"Junction\": \"../data.2021-02-15.scenarioJunction.pkl.gz\",\n",
    "#     \"JunctionExo\": \"../../../data.scenarioJunctionExo.pkl.gz\",\n",
    "#     \"Test1v1\": \"../../../data.2020-11-09.scenarioTest1v1.pkl.gz\",\n",
    "#     \"Test2v2\": \"../../../data.2020-11-09.scenarioTest2v2.pkl.gz\"\n",
    "}\n",
    "# pilots = [\"BridgeHead\", \"CrossingTheCity\", \"Junction\", \"JunctionExo\", \"Roadblock\", \"Test1v1\", \"Test2v2\"]\n",
    "\n",
    "dfRegressor(dataframes)"
   ]
  },
  {
   "cell_type": "code",
   "execution_count": null,
   "metadata": {},
   "outputs": [],
   "source": [
    "model=joblib.load('C:\\\\Users\\\\Nicol\\\\Documents\\\\Master\\\\SecondoProgetto\\\\newtechnowar-webui\\\\code\\\\modelsRegressor\\\\Junction_RandomForestRegressor_red.joblib')"
   ]
  },
  {
   "cell_type": "code",
   "execution_count": null,
   "metadata": {},
   "outputs": [],
   "source": [
    "df=pd.read_pickle(\"../../../data.scenarioJunction.pkl.gz\")"
   ]
  },
  {
   "cell_type": "code",
   "execution_count": null,
   "metadata": {},
   "outputs": [],
   "source": [
    "df_red=dfColor(df,\"red\")"
   ]
  },
  {
   "cell_type": "code",
   "execution_count": null,
   "metadata": {},
   "outputs": [],
   "source": [
    "df_red.drop('winner')"
   ]
  },
  {
   "cell_type": "code",
   "execution_count": null,
   "metadata": {},
   "outputs": [],
   "source": [
    "df_red.sample(1).drop('winner',axis=1)"
   ]
  },
  {
   "cell_type": "code",
   "execution_count": null,
   "metadata": {},
   "outputs": [],
   "source": [
    "model.predict(df_red.sample(1).drop('winner',axis=1))"
   ]
  },
  {
   "cell_type": "code",
   "execution_count": null,
   "metadata": {},
   "outputs": [],
   "source": []
  },
  {
   "cell_type": "code",
   "execution_count": null,
   "metadata": {},
   "outputs": [],
   "source": [
    "from sklearn.pipeline import Pipeline\n",
    "from sklearn.preprocessing import OneHotEncoder\n",
    "from sklearn.compose import ColumnTransformer\n",
    "\n",
    "from sklearn.ensemble import RandomForestClassifier\n",
    "import pandas as pd\n",
    "\n",
    "from sklearn.ensemble import RandomForestRegressor\n",
    "import joblib\n",
    "\n",
    "\n",
    "def pipelineClassifier(df, name):\n",
    "    X = df.drop(['winner', 'meta_scenario', 'meta_p_red', 'meta_p_blue', 'meta_seed'], axis=1, errors=\"ignore\")\n",
    "    y = df['winner']\n",
    "    categorical_transformer = Pipeline(steps=[('onehot', OneHotEncoder(handle_unknown='ignore'))])\n",
    "    c = df.select_dtypes(include=['object']).drop(['winner', 'meta_scenario', 'meta_p_red', 'meta_p_blue', 'meta_seed'],\n",
    "                                                  axis=1, errors=\"ignore\").columns\n",
    "    preprocessor = ColumnTransformer(transformers=[('cat', categorical_transformer, c)])\n",
    "    classifiers = [\n",
    "        RandomForestClassifier(),\n",
    "    ]\n",
    "\n",
    "    for classifier in classifiers:\n",
    "        pipe = Pipeline(steps=[('preprocessor', preprocessor),\n",
    "                               ('classifier', classifier)])\n",
    "        pipe.fit(X, y)\n",
    "        file_name = f'{name}_{classifier.__class__.__name__}.joblib'\n",
    "        joblib.dump(pipe, file_name)\n",
    "\n",
    "\n",
    "def pipelineRegressor(df, name, color):\n",
    "    X = df.drop(['winner', 'meta_scenario', 'meta_p_red', 'meta_p_blue', 'meta_seed'], axis=1, errors=\"ignore\")\n",
    "    y = df['winner']\n",
    "    categorical_transformer = Pipeline(steps=[('onehot', OneHotEncoder(handle_unknown='ignore'))])\n",
    "    c = df.select_dtypes(include=['object']).drop(['winner', 'meta_scenario', 'meta_p_red', 'meta_p_blue', 'meta_seed'],\n",
    "                                                  axis=1, errors=\"ignore\").columns\n",
    "    print(X.columns)\n",
    "    preprocessor = ColumnTransformer(transformers=[('cat', categorical_transformer, c)])\n",
    "    regressors = [\n",
    "        RandomForestRegressor(n_estimators=1000, random_state=42),\n",
    "    ]\n",
    "\n",
    "    for regressor in regressors:\n",
    "        pipe = Pipeline(steps=[('preprocessor', preprocessor),\n",
    "                               ('regressor', regressor)])\n",
    "        pipe.fit(X, y)\n",
    "        file_name = f'{name}_{regressor.__class__.__name__}_{color}.joblib'\n",
    "        joblib.dump(pipe, file_name)\n",
    "\n",
    "\n",
    "def dfClassifier(dataframes, pilots):\n",
    "    for p in pilots:\n",
    "        df = pd.read_pickle(dataframes[p])\n",
    "        df = df.loc[((df.meta_p_red == \"GreedyAgent\") & (df.meta_p_blue == \"GreedyAgent\"))]\n",
    "        '''df = df.loc[(((df.meta_p_red == \"GreedyAgent\") & (df.meta_p_blue == \"GreedyAgent\")) | (\n",
    "                    (df.meta_p_red == \"GreedyAgent\") & (df.meta_p_blue == \"RandomAgent\")) | (\n",
    "                                 (df.meta_p_red == \"RandomAgent\") & (df.meta_p_blue == \"GreedyAgent\")))]'''\n",
    "\n",
    "        pipelineClassifier(df, p)\n",
    "\n",
    "\n",
    "def dfColor(df, color):\n",
    "    df_new = pd.concat([df[[c for c in df.columns if color in c]], df['winner']], axis=1)\n",
    "    df_new.loc[df.winner == color, \"winner\"] = +1\n",
    "    df_new.loc[df.winner != color, \"winner\"] = -1\n",
    "    return df_new\n",
    "\n",
    "\n",
    "def dfRegressor(dataframes, pilots):\n",
    "    for p in pilots:\n",
    "        df = pd.read_pickle(dataframes[p])\n",
    "        df_red = dfColor(df, \"red\")\n",
    "        df_blue = dfColor(df, \"blue\")\n",
    "        pipelineRegressor(df_red, p, \"red\")\n",
    "        print(\"red\")\n",
    "        pipelineRegressor(df_blue, p, \"blue\")\n",
    "        print(\"blue\")\n",
    "\n",
    "\n",
    "if __name__ == '__main__':\n",
    "    dataframes = {\"Junction\": \"../../../data.scenarioJunction.pkl.gz\",\n",
    "                  \"JunctionExo\": \"../../../data.2020-11-09.scenarioJunctionExo.pkl.gz\",\n",
    "                  \"Test1v1\": \"../../../data.2020-11-09.scenarioTest1v1.pkl.gz\",\n",
    "                  \"Test2v2\": \"../../../data.2020-11-09.scenarioTest2v2.pkl.gz\"}\n",
    "    # pilots = [\"BridgeHead\", \"CrossingTheCity\", \"Junction\", \"JunctionExo\", \"Roadblock\", \"Test1v1\", \"Test2v2\"]\n",
    "    pilots = [\"Junction\"]\n",
    "\n",
    "    #dfClassifier(dataframes, pilots)\n",
    "    dfRegressor(dataframes, pilots)\n"
   ]
  },
  {
   "cell_type": "code",
   "execution_count": null,
   "metadata": {},
   "outputs": [],
   "source": [
    "df=pd.read_pickle(\"../../../data.scenarioJunction.pkl.gz\")"
   ]
  },
  {
   "cell_type": "code",
   "execution_count": null,
   "metadata": {},
   "outputs": [],
   "source": [
    "def dfColor(df, color):\n",
    "    df_new = pd.concat([df[[c for c in df.columns if color in c]], df['winner']], axis=1)\n",
    "    df_new.loc[df.winner == color, \"winner\"] = +1\n",
    "    df_new.loc[df.winner != color, \"winner\"] = -1\n",
    "    return df_new"
   ]
  },
  {
   "cell_type": "code",
   "execution_count": null,
   "metadata": {},
   "outputs": [],
   "source": [
    "df_blue = dfColor(df, \"blue\")\n"
   ]
  },
  {
   "cell_type": "code",
   "execution_count": null,
   "metadata": {},
   "outputs": [],
   "source": [
    "X = df_blue.drop(['winner', 'meta_scenario', 'meta_p_red', 'meta_p_blue', 'meta_seed'], axis=1, errors=\"ignore\")\n"
   ]
  },
  {
   "cell_type": "code",
   "execution_count": null,
   "metadata": {},
   "outputs": [],
   "source": [
    "X.columns"
   ]
  }
 ],
 "metadata": {
  "kernelspec": {
   "display_name": "Python 3",
   "language": "python",
   "name": "python3"
  },
  "language_info": {
   "codemirror_mode": {
    "name": "ipython",
    "version": 3
   },
   "file_extension": ".py",
   "mimetype": "text/x-python",
   "name": "python",
   "nbconvert_exporter": "python",
   "pygments_lexer": "ipython3",
   "version": "3.7.6"
  }
 },
 "nbformat": 4,
 "nbformat_minor": 4
}
