{
 "cells": [
  {
   "cell_type": "code",
   "execution_count": 2,
   "metadata": {},
   "outputs": [],
   "source": [
    "from sklearn.pipeline import Pipeline\n",
    "from sklearn.preprocessing import OneHotEncoder\n",
    "from sklearn.compose import ColumnTransformer\n",
    "\n",
    "from sklearn.ensemble import RandomForestClassifier\n",
    "import pandas as pd\n",
    "\n",
    "from sklearn.ensemble import RandomForestRegressor\n",
    "import joblib"
   ]
  },
  {
   "cell_type": "code",
   "execution_count": 2,
   "metadata": {},
   "outputs": [],
   "source": [
    "def pipelineRegressor(df, name, color):\n",
    "    X = df.drop(['winner', 'meta_scenario', 'meta_p_red', 'meta_p_blue', 'meta_seed'], axis=1, errors=\"ignore\")\n",
    "    y = df['winner']\n",
    "    categorical_transformer = Pipeline(steps=[('onehot', OneHotEncoder(handle_unknown='ignore'))])\n",
    "    c = df.select_dtypes(include=['object']).drop(['winner', 'meta_scenario', 'meta_p_red', 'meta_p_blue', 'meta_seed'],\n",
    "                                                  axis=1, errors=\"ignore\").columns\n",
    "    preprocessor = ColumnTransformer(transformers=[('cat', categorical_transformer, c)])\n",
    "    regressors = [\n",
    "        RandomForestRegressor(n_estimators=1000, random_state=42),\n",
    "    ]\n",
    "\n",
    "    for regressor in regressors:\n",
    "        pipe = Pipeline(steps=[('preprocessor', preprocessor),\n",
    "                               ('classifier', regressor)])\n",
    "        pipe.fit(X, y)\n",
    "        file_name = f'{name}_{regressor.__class__.__name__}_{color}.joblib'\n",
    "        joblib.dump(pipe, file_name)"
   ]
  },
  {
   "cell_type": "code",
   "execution_count": 4,
   "metadata": {},
   "outputs": [],
   "source": [
    "def dfColor(df, color):\n",
    "    df_new = pd.concat([df[[c for c in df.columns if color in c]], df['winner']], axis=1)\n",
    "    df_new.loc[df.winner == color, \"winner\"] = +1\n",
    "    df_new.loc[df.winner != color, \"winner\"] = -1\n",
    "    return df_new\n",
    "\n",
    "\n",
    "def dfRegressor(dataframes, pilots):\n",
    "    for p in pilots:\n",
    "        df = pd.read_pickle(dataframes[p])\n",
    "        df_red = dfColor(df, \"red\")\n",
    "        df_blue = dfColor(df, \"blue\")\n",
    "        pipelineRegressor(df_red, p, \"red\")\n",
    "        pipelineRegressor(df_blue, p, \"blue\")"
   ]
  },
  {
   "cell_type": "code",
   "execution_count": 4,
   "metadata": {},
   "outputs": [],
   "source": [
    "dataframes = {\"Junction\": \"../../../data.scenarioJunction.pkl.gz\",\n",
    "              \"JunctionExo\": \"../../../data.scenarioJunctionExo.pkl.gz\",\n",
    "              \"Test1v1\": \"../../../data.2020-11-09.scenarioTest1v1.pkl.gz\",\n",
    "              \"Test2v2\": \"../../../data.2020-11-09.scenarioTest2v2.pkl.gz\"}\n",
    "# pilots = [\"BridgeHead\", \"CrossingTheCity\", \"Junction\", \"JunctionExo\", \"Roadblock\", \"Test1v1\", \"Test2v2\"]\n",
    "pilots = [\"Junction\",\"JunctionExo\"]\n",
    "\n",
    "dfRegressor(dataframes, pilots)\n",
    "\n",
    "\n"
   ]
  },
  {
   "cell_type": "code",
   "execution_count": 14,
   "metadata": {},
   "outputs": [],
   "source": [
    "model=joblib.load('C:\\\\Users\\\\Nicol\\\\Documents\\\\Master\\\\SecondoProgetto\\\\newtechnowar-webui\\\\code\\\\modelsRegressor\\\\Junction_RandomForestRegressor_red.joblib')"
   ]
  },
  {
   "cell_type": "code",
   "execution_count": 5,
   "metadata": {},
   "outputs": [],
   "source": [
    "df=pd.read_pickle(\"../../../data.scenarioJunction.pkl.gz\")"
   ]
  },
  {
   "cell_type": "code",
   "execution_count": 6,
   "metadata": {},
   "outputs": [],
   "source": [
    "df_red=dfColor(df,\"red\")"
   ]
  },
  {
   "cell_type": "code",
   "execution_count": null,
   "metadata": {},
   "outputs": [],
   "source": [
    "df_red.drop('winner')"
   ]
  },
  {
   "cell_type": "code",
   "execution_count": 13,
   "metadata": {},
   "outputs": [
    {
     "data": {
      "text/html": [
       "<div>\n",
       "<style scoped>\n",
       "    .dataframe tbody tr th:only-of-type {\n",
       "        vertical-align: middle;\n",
       "    }\n",
       "\n",
       "    .dataframe tbody tr th {\n",
       "        vertical-align: top;\n",
       "    }\n",
       "\n",
       "    .dataframe thead th {\n",
       "        text-align: right;\n",
       "    }\n",
       "</style>\n",
       "<table border=\"1\" class=\"dataframe\">\n",
       "  <thead>\n",
       "    <tr style=\"text-align: right;\">\n",
       "      <th></th>\n",
       "      <th>team_red_2_0</th>\n",
       "      <th>name_red_2_0</th>\n",
       "      <th>index_red_2_0</th>\n",
       "      <th>kind_red_2_0</th>\n",
       "      <th>move_red_2_0</th>\n",
       "      <th>load_red_2_0</th>\n",
       "      <th>hp_red_2_0</th>\n",
       "      <th>hp_max_red_2_0</th>\n",
       "      <th>int_atk_red_2_0</th>\n",
       "      <th>int-def_red_2_0</th>\n",
       "      <th>...</th>\n",
       "      <th>defense_antitank_red_1_2</th>\n",
       "      <th>weapon_CA_red_1_2</th>\n",
       "      <th>weapon_AR_red_1_2</th>\n",
       "      <th>weapon_MG_red_1_2</th>\n",
       "      <th>weapon_AT_red_1_2</th>\n",
       "      <th>weapon_MT_red_1_2</th>\n",
       "      <th>weapon_GR_red_1_2</th>\n",
       "      <th>weapon_SM_red_1_2</th>\n",
       "      <th>weapon_SR_red_1_2</th>\n",
       "      <th>meta_p_red</th>\n",
       "    </tr>\n",
       "  </thead>\n",
       "  <tbody>\n",
       "    <tr>\n",
       "      <th>17</th>\n",
       "      <td>red</td>\n",
       "      <td>rTank3</td>\n",
       "      <td>0</td>\n",
       "      <td>2</td>\n",
       "      <td>7</td>\n",
       "      <td>1</td>\n",
       "      <td>0</td>\n",
       "      <td>1</td>\n",
       "      <td>6</td>\n",
       "      <td>1</td>\n",
       "      <td>...</td>\n",
       "      <td>0</td>\n",
       "      <td>0</td>\n",
       "      <td>1000000000</td>\n",
       "      <td>5</td>\n",
       "      <td>4</td>\n",
       "      <td>2</td>\n",
       "      <td>2</td>\n",
       "      <td>0</td>\n",
       "      <td>0</td>\n",
       "      <td>GreedyAgent</td>\n",
       "    </tr>\n",
       "  </tbody>\n",
       "</table>\n",
       "<p>1 rows × 121 columns</p>\n",
       "</div>"
      ],
      "text/plain": [
       "   team_red_2_0 name_red_2_0  index_red_2_0  kind_red_2_0  move_red_2_0  \\\n",
       "17          red       rTank3              0             2             7   \n",
       "\n",
       "    load_red_2_0  hp_red_2_0  hp_max_red_2_0  int_atk_red_2_0  \\\n",
       "17             1           0               1                6   \n",
       "\n",
       "    int-def_red_2_0  ...  defense_antitank_red_1_2 weapon_CA_red_1_2  \\\n",
       "17                1  ...                         0                 0   \n",
       "\n",
       "    weapon_AR_red_1_2  weapon_MG_red_1_2  weapon_AT_red_1_2  \\\n",
       "17         1000000000                  5                  4   \n",
       "\n",
       "    weapon_MT_red_1_2  weapon_GR_red_1_2  weapon_SM_red_1_2  \\\n",
       "17                  2                  2                  0   \n",
       "\n",
       "    weapon_SR_red_1_2   meta_p_red  \n",
       "17                  0  GreedyAgent  \n",
       "\n",
       "[1 rows x 121 columns]"
      ]
     },
     "execution_count": 13,
     "metadata": {},
     "output_type": "execute_result"
    }
   ],
   "source": [
    "df_red.sample(1).drop('winner',axis=1)"
   ]
  },
  {
   "cell_type": "code",
   "execution_count": 15,
   "metadata": {},
   "outputs": [
    {
     "name": "stderr",
     "output_type": "stream",
     "text": [
      "C:\\Users\\Nicol\\Anaconda3\\lib\\site-packages\\sklearn\\compose\\_column_transformer.py:440: FutureWarning: Given feature/column names or counts do not match the ones for the data given during fit. This will fail from v0.24.\n",
      "  FutureWarning)\n"
     ]
    },
    {
     "data": {
      "text/plain": [
       "array([0.01527824])"
      ]
     },
     "execution_count": 15,
     "metadata": {},
     "output_type": "execute_result"
    }
   ],
   "source": [
    "model.predict(df_red.sample(1).drop('winner',axis=1))"
   ]
  },
  {
   "cell_type": "code",
   "execution_count": null,
   "metadata": {},
   "outputs": [],
   "source": []
  },
  {
   "cell_type": "code",
   "execution_count": null,
   "metadata": {},
   "outputs": [],
   "source": [
    "from sklearn.pipeline import Pipeline\n",
    "from sklearn.preprocessing import OneHotEncoder\n",
    "from sklearn.compose import ColumnTransformer\n",
    "\n",
    "from sklearn.ensemble import RandomForestClassifier\n",
    "import pandas as pd\n",
    "\n",
    "from sklearn.ensemble import RandomForestRegressor\n",
    "import joblib\n",
    "\n",
    "\n",
    "def pipelineClassifier(df, name):\n",
    "    X = df.drop(['winner', 'meta_scenario', 'meta_p_red', 'meta_p_blue', 'meta_seed'], axis=1, errors=\"ignore\")\n",
    "    y = df['winner']\n",
    "    categorical_transformer = Pipeline(steps=[('onehot', OneHotEncoder(handle_unknown='ignore'))])\n",
    "    c = df.select_dtypes(include=['object']).drop(['winner', 'meta_scenario', 'meta_p_red', 'meta_p_blue', 'meta_seed'],\n",
    "                                                  axis=1, errors=\"ignore\").columns\n",
    "    preprocessor = ColumnTransformer(transformers=[('cat', categorical_transformer, c)])\n",
    "    classifiers = [\n",
    "        RandomForestClassifier(),\n",
    "    ]\n",
    "\n",
    "    for classifier in classifiers:\n",
    "        pipe = Pipeline(steps=[('preprocessor', preprocessor),\n",
    "                               ('classifier', classifier)])\n",
    "        pipe.fit(X, y)\n",
    "        file_name = f'{name}_{classifier.__class__.__name__}.joblib'\n",
    "        joblib.dump(pipe, file_name)\n",
    "\n",
    "\n",
    "def pipelineRegressor(df, name, color):\n",
    "    X = df.drop(['winner', 'meta_scenario', 'meta_p_red', 'meta_p_blue', 'meta_seed'], axis=1, errors=\"ignore\")\n",
    "    y = df['winner']\n",
    "    categorical_transformer = Pipeline(steps=[('onehot', OneHotEncoder(handle_unknown='ignore'))])\n",
    "    c = df.select_dtypes(include=['object']).drop(['winner', 'meta_scenario', 'meta_p_red', 'meta_p_blue', 'meta_seed'],\n",
    "                                                  axis=1, errors=\"ignore\").columns\n",
    "    print(X.columns)\n",
    "    preprocessor = ColumnTransformer(transformers=[('cat', categorical_transformer, c)])\n",
    "    regressors = [\n",
    "        RandomForestRegressor(n_estimators=1000, random_state=42),\n",
    "    ]\n",
    "\n",
    "    for regressor in regressors:\n",
    "        pipe = Pipeline(steps=[('preprocessor', preprocessor),\n",
    "                               ('regressor', regressor)])\n",
    "        pipe.fit(X, y)\n",
    "        file_name = f'{name}_{regressor.__class__.__name__}_{color}.joblib'\n",
    "        joblib.dump(pipe, file_name)\n",
    "\n",
    "\n",
    "def dfClassifier(dataframes, pilots):\n",
    "    for p in pilots:\n",
    "        df = pd.read_pickle(dataframes[p])\n",
    "        df = df.loc[((df.meta_p_red == \"GreedyAgent\") & (df.meta_p_blue == \"GreedyAgent\"))]\n",
    "        '''df = df.loc[(((df.meta_p_red == \"GreedyAgent\") & (df.meta_p_blue == \"GreedyAgent\")) | (\n",
    "                    (df.meta_p_red == \"GreedyAgent\") & (df.meta_p_blue == \"RandomAgent\")) | (\n",
    "                                 (df.meta_p_red == \"RandomAgent\") & (df.meta_p_blue == \"GreedyAgent\")))]'''\n",
    "\n",
    "        pipelineClassifier(df, p)\n",
    "\n",
    "\n",
    "def dfColor(df, color):\n",
    "    df_new = pd.concat([df[[c for c in df.columns if color in c]], df['winner']], axis=1)\n",
    "    df_new.loc[df.winner == color, \"winner\"] = +1\n",
    "    df_new.loc[df.winner != color, \"winner\"] = -1\n",
    "    return df_new\n",
    "\n",
    "\n",
    "def dfRegressor(dataframes, pilots):\n",
    "    for p in pilots:\n",
    "        df = pd.read_pickle(dataframes[p])\n",
    "        df_red = dfColor(df, \"red\")\n",
    "        df_blue = dfColor(df, \"blue\")\n",
    "        pipelineRegressor(df_red, p, \"red\")\n",
    "        print(\"red\")\n",
    "        pipelineRegressor(df_blue, p, \"blue\")\n",
    "        print(\"blue\")\n",
    "\n",
    "\n",
    "if __name__ == '__main__':\n",
    "    dataframes = {\"Junction\": \"../../../data.scenarioJunction.pkl.gz\",\n",
    "                  \"JunctionExo\": \"../../../data.2020-11-09.scenarioJunctionExo.pkl.gz\",\n",
    "                  \"Test1v1\": \"../../../data.2020-11-09.scenarioTest1v1.pkl.gz\",\n",
    "                  \"Test2v2\": \"../../../data.2020-11-09.scenarioTest2v2.pkl.gz\"}\n",
    "    # pilots = [\"BridgeHead\", \"CrossingTheCity\", \"Junction\", \"JunctionExo\", \"Roadblock\", \"Test1v1\", \"Test2v2\"]\n",
    "    pilots = [\"Junction\"]\n",
    "\n",
    "    #dfClassifier(dataframes, pilots)\n",
    "    dfRegressor(dataframes, pilots)\n"
   ]
  },
  {
   "cell_type": "code",
   "execution_count": 3,
   "metadata": {},
   "outputs": [],
   "source": [
    "df=pd.read_pickle(\"../../../data.scenarioJunction.pkl.gz\")"
   ]
  },
  {
   "cell_type": "code",
   "execution_count": 5,
   "metadata": {},
   "outputs": [],
   "source": [
    "def dfColor(df, color):\n",
    "    df_new = pd.concat([df[[c for c in df.columns if color in c]], df['winner']], axis=1)\n",
    "    df_new.loc[df.winner == color, \"winner\"] = +1\n",
    "    df_new.loc[df.winner != color, \"winner\"] = -1\n",
    "    return df_new"
   ]
  },
  {
   "cell_type": "code",
   "execution_count": 6,
   "metadata": {},
   "outputs": [],
   "source": [
    "df_blue = dfColor(df, \"blue\")\n"
   ]
  },
  {
   "cell_type": "code",
   "execution_count": 7,
   "metadata": {},
   "outputs": [],
   "source": [
    "X = df_blue.drop(['winner', 'meta_scenario', 'meta_p_red', 'meta_p_blue', 'meta_seed'], axis=1, errors=\"ignore\")\n"
   ]
  },
  {
   "cell_type": "code",
   "execution_count": 8,
   "metadata": {},
   "outputs": [
    {
     "data": {
      "text/plain": [
       "Index(['team_blue_2_0', 'name_blue_2_0', 'index_blue_2_0', 'kind_blue_2_0',\n",
       "       'move_blue_2_0', 'load_blue_2_0', 'hp_blue_2_0', 'hp_max_blue_2_0',\n",
       "       'int_atk_blue_2_0', 'int-def_blue_2_0',\n",
       "       ...\n",
       "       'defense_smoke_blue_1_2', 'defense_antitank_blue_1_2',\n",
       "       'weapon_CA_blue_1_2', 'weapon_AR_blue_1_2', 'weapon_MG_blue_1_2',\n",
       "       'weapon_AT_blue_1_2', 'weapon_MT_blue_1_2', 'weapon_GR_blue_1_2',\n",
       "       'weapon_SM_blue_1_2', 'weapon_SR_blue_1_2'],\n",
       "      dtype='object', length=120)"
      ]
     },
     "execution_count": 8,
     "metadata": {},
     "output_type": "execute_result"
    }
   ],
   "source": [
    "X.columns"
   ]
  }
 ],
 "metadata": {
  "kernelspec": {
   "display_name": "Python 3",
   "language": "python",
   "name": "python3"
  },
  "language_info": {
   "codemirror_mode": {
    "name": "ipython",
    "version": 3
   },
   "file_extension": ".py",
   "mimetype": "text/x-python",
   "name": "python",
   "nbconvert_exporter": "python",
   "pygments_lexer": "ipython3",
   "version": "3.7.3"
  }
 },
 "nbformat": 4,
 "nbformat_minor": 2
}
