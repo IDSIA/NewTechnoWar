{
 "cells": [
  {
   "cell_type": "code",
   "execution_count": 30,
   "metadata": {},
   "outputs": [],
   "source": [
    "from sklearn.model_selection import train_test_split\n",
    "import pandas as pd\n",
    "from sklearn import metrics,preprocessing\n",
    "import seaborn as sns\n",
    "import numpy as np\n",
    "from sklearn import \n",
    "import matplotlib.pyplot as plt\n",
    "from boruta import BorutaPy\n",
    "from sklearn.naive_bayes import GaussianNB\n",
    "from sklearn_pandas import DataFrameMapper\n",
    "from sklearn.preprocessing import \n",
    "from sklearn.pipeline import Pipeline\n",
    "from sklearn.preprocessing import StandardScaler, OneHotEncoder,LabelEncoder\n",
    "from sklearn.compose import ColumnTransformer\n",
    "from sklearn.metrics import accuracy_score,classification_report, confusion_matrix\n",
    "from sklearn.neighbors import KNeighborsClassifier\n",
    "from sklearn.svm import SVC, LinearSVC, NuSVC\n",
    "from sklearn.tree import DecisionTreeClassifier\n",
    "from sklearn.ensemble import RandomForestClassifier, AdaBoostClassifier, GradientBoostingClassifier,RandomForestRegressor\n",
    "import joblib\n",
    "from sklearn.model_selection import GridSearchCV\n",
    "\n",
    "import warnings\n",
    "warnings.filterwarnings(\"ignore\")\n"
   ]
  },
  {
   "cell_type": "code",
   "execution_count": 2,
   "metadata": {},
   "outputs": [],
   "source": [
    "df = pd.read_pickle('C:\\\\Users\\\\Nicol\\\\Documents\\\\Master\\\\SecondoProgetto\\\\data.2021-01-29.scenarioJunction.pkl.gz')"
   ]
  },
  {
   "cell_type": "code",
   "execution_count": 25,
   "metadata": {},
   "outputs": [],
   "source": [
    "def dfColor(df, color):\n",
    "    df_new = pd.concat([df[[c for c in df.columns if color in c]], df['winner']], axis=1)\n",
    "    df_new.loc[df.winner == color, \"winner\"] = +1\n",
    "    df_new.loc[df.winner != color, \"winner\"] = -1\n",
    "    return df_new\n",
    "\n",
    "\n",
    "def dfRegressor(df):\n",
    "    df_red = dfColor(df, \"red\")\n",
    "    df_blue = dfColor(df, \"blue\")\n",
    "    random_regressor(df_red, \"red\")\n",
    "    random_regressor(df_blue, \"blue\")\n",
    "def dfCross(df):\n",
    "    df_red = dfColor(df, \"red\")\n",
    "    df_blue = dfColor(df, \"blue\")\n",
    "    regression_cross(df_red, \"red\")\n",
    "    regression_cross(df_blue, \"blue\")"
   ]
  },
  {
   "cell_type": "code",
   "execution_count": 27,
   "metadata": {},
   "outputs": [],
   "source": [
    "def random_regressor(df,color):\n",
    "    X = df.drop(['winner', 'meta_scenario', 'meta_p_red', 'meta_p_blue', 'meta_seed'], axis=1, errors=\"ignore\")\n",
    "    y = df['winner']\n",
    "    train_features, test_features, train_labels, test_labels = train_test_split(X, y, test_size = 0.25, random_state = 42)\n",
    "    categorical_transformer = Pipeline(steps=[('onehot', OneHotEncoder(handle_unknown='ignore'))])\n",
    "    c = df.select_dtypes(include=['object']).drop(['winner', 'meta_scenario', 'meta_p_red', 'meta_p_blue', 'meta_seed'],\n",
    "                                                  axis=1, errors=\"ignore\").columns\n",
    "    preprocessor = ColumnTransformer(transformers=[('cat', categorical_transformer, c)])\n",
    "    regressors = [\n",
    "        RandomForestRegressor(n_estimators=1000, random_state=42),\n",
    "    ]\n",
    "\n",
    "    for regressor in regressors:\n",
    "        pipe = Pipeline(steps=[('preprocessor', preprocessor),\n",
    "                               ('scale',StandardScaler()),\n",
    "                               ('regressor', regressor)])\n",
    "        pipe.fit(train_features, train_labels)\n",
    "        \n",
    "        # Use the forest's predict method on the test data\n",
    "        predictions = pipe.predict(test_features)\n",
    "        # Calculate the absolute errors\n",
    "        errors = abs(predictions - test_labels)\n",
    "        # Print out the mean absolute error (mae)\n",
    "        print('COLOR',color)\n",
    "        print('Mean Absolute Error:', round(np.mean(errors), 2), 'degrees.')\n",
    "        # Calculate mean absolute percentage error (MAPE)\n",
    "        mape = 100 * (errors / test_labels)\n",
    "        # Calculate and display accuracy\n",
    "        accuracy = 100 - np.mean(mape)\n",
    "        #print('Accuracy:', round(accuracy, 2), '%.')\n",
    "        print('Mean Absolute Error:', metrics.mean_absolute_error(test_labels, predictions))\n",
    "        print('Mean Squared Error:', metrics.mean_squared_error(test_labels, predictions))\n",
    "        print('Root Mean Squared Error:', np.sqrt(metrics.mean_squared_error(test_labels, predictions)))\n",
    "        \n",
    "        '''\n",
    "        importance = pipe['regressor'].feature_importances_\n",
    "        # summarize feature importance\n",
    "        for i,v in enumerate(importance):\n",
    "            print('Feature: %0d, Score: %.5f' % (i,v))\n",
    "        # plot feature importance\n",
    "        pyplot.bar([x for x in range(len(importance))], importance)\n",
    "        pyplot.show()\n",
    "        '''"
   ]
  },
  {
   "cell_type": "code",
   "execution_count": 59,
   "metadata": {},
   "outputs": [],
   "source": [
    "def regression_cross(df,color):\n",
    "    X = df.drop(['winner', 'meta_scenario', 'meta_p_red', 'meta_p_blue', 'meta_seed'], axis=1, errors=\"ignore\")\n",
    "    y = df['winner']\n",
    "\n",
    "    categorical_transformer = Pipeline(steps=[('onehot', OneHotEncoder(handle_unknown='ignore'))])\n",
    "    c = df.select_dtypes(include=['object']).drop(['winner', 'meta_scenario', 'meta_p_red', 'meta_p_blue', 'meta_seed'],\n",
    "                                                  axis=1, errors=\"ignore\").columns\n",
    "    preprocessor = ColumnTransformer(transformers=[('cat', categorical_transformer, c)])\n",
    "    regressor =  RandomForestRegressor(random_state = 10)\n",
    "    \n",
    "    param_grid = {\n",
    "       'regressor__n_estimators': [100, 200, 500],\n",
    "       'regressor__max_features': ['auto', 'sqrt', 'log2'],\n",
    "       'regressor__max_depth' : [4,5,6,7,8],\n",
    "       'regressor__criterion' :['mse', 'mae']\n",
    "    }\n",
    "    pipe = Pipeline(steps=[('preprocessor', preprocessor),\n",
    "                           ('scale',StandardScaler()),\n",
    "                           ('regressor', regressor)])\n",
    "        \n",
    "   \n",
    "    GSCV = GridSearchCV(pipe, param_grid=param_grid, cv=5)\n",
    "\n",
    "    GSCV.fit(X, y)\n",
    "    #GSCV.best_params_ \n",
    "    print(\"Best cross-validation score: {:.2f}\".format(GSCV.best_score_))\n",
    "\n",
    "\n",
    "    print('COLOR',color)\n",
    "    \n",
    "   "
   ]
  },
  {
   "cell_type": "code",
   "execution_count": 28,
   "metadata": {},
   "outputs": [
    {
     "name": "stdout",
     "output_type": "stream",
     "text": [
      "COLOR red\n",
      "Mean Absolute Error: 1.3 degrees.\n",
      "Mean Absolute Error: 1.3007682539682544\n",
      "Mean Squared Error: 1.8090541445200312\n",
      "Root Mean Squared Error: 1.3450108343504268\n",
      "COLOR blue\n",
      "Mean Absolute Error: 1.63 degrees.\n",
      "Mean Absolute Error: 1.6326761904761906\n",
      "Mean Squared Error: 2.7113903653665914\n",
      "Root Mean Squared Error: 1.6466300025708847\n"
     ]
    }
   ],
   "source": [
    "dfRegressor(df.sample(10))"
   ]
  },
  {
   "cell_type": "code",
   "execution_count": 60,
   "metadata": {},
   "outputs": [
    {
     "name": "stdout",
     "output_type": "stream",
     "text": [
      "Best cross-validation score: -0.25\n",
      "COLOR red\n",
      "Best cross-validation score: -0.35\n",
      "COLOR blue\n"
     ]
    }
   ],
   "source": [
    "dfCross(df.sample(10))"
   ]
  },
  {
   "cell_type": "code",
   "execution_count": null,
   "metadata": {},
   "outputs": [],
   "source": [
    "def random_forest(df):\n",
    "    f_select=[]\n",
    "   \n",
    "    X = df.drop('winner',1)\n",
    "    y = df['winner'].values\n",
    "\n",
    "    X_train, X_test, y_train, y_test = train_test_split(X, y, test_size=0.3)\n",
    "\n",
    "    clf = RandomForestClassifier(n_estimators=100)\n",
    "\n",
    "    clf.fit(X_train, y_train)\n",
    "\n",
    "    y_pred = clf.predict(X_test)\n",
    "    proba = clf.predict_proba(X_test)\n",
    "    proba = np.around(proba, decimals=2)\n",
    "    print(y_train)\n",
    "\n",
    "\n",
    "    print(confusion_matrix(y_test, y_pred))\n",
    "    print(classification_report(y_test, y_pred))\n",
    "    print(\"Accuracy:\", metrics.accuracy_score(y_test, y_pred))\n",
    "\n",
    "    # feature importanti per determinarlo\n",
    "    feature_imp = pd.Series(clf.feature_importances_, index=X.columns).sort_values(ascending=False)\n",
    "    print('Feature importance:\\n', feature_imp)\n",
    "    f_selection=feature_imp[(feature_imp>0)]\n",
    "    print('Feature selection:\\n',f_selection)\n",
    "            \n",
    "        \n",
    "    # Creating a bar plot\n",
    "    sns.barplot(x=f_selection, y=f_selection.index)\n",
    "    # Add labels to your graph\n",
    "    plt.xlabel('Feature Importance Score')\n",
    "    plt.ylabel('Features')\n",
    "    plt.title(\"Visualizing Important Features\")\n",
    "    plt.legend()\n",
    "    plt.show()\n",
    "    #return X_test, y_test, y_pred, proba\n"
   ]
  },
  {
   "cell_type": "code",
   "execution_count": null,
   "metadata": {},
   "outputs": [],
   "source": [
    "def linear_svm(df):\n",
    "    X = df.drop('winner',1)\n",
    "    y = df['winner'].values\n",
    "\n",
    "\n",
    "    X_train, X_test, y_train, y_test = train_test_split(X, y, test_size=0.30)\n",
    "    svclassifier = SVC(kernel='linear', probability=True)\n",
    "    svclassifier.fit(X_train, y_train)\n",
    "    proba = svclassifier.predict_proba(X_test)\n",
    "    proba = np.around(proba, decimals=2)\n",
    "    y_pred = svclassifier.predict(X_test)\n",
    "\n",
    "    print('Confusion matrix:\\n', confusion_matrix(y_test, y_pred))\n",
    "    print('Report:\\n', classification_report(y_test, y_pred))\n",
    "    print('Accuracy:', metrics.accuracy_score(y_test, y_pred))\n",
    "    print('Proba',proba)\n",
    "\n",
    "    "
   ]
  },
  {
   "cell_type": "code",
   "execution_count": null,
   "metadata": {},
   "outputs": [],
   "source": [
    "def linear_svm1(df):\n",
    "    X = df.drop('winner',1)\n",
    "    y = df['winner'].values\n",
    "\n",
    "\n",
    "    X_train, X_test, y_train, y_test = train_test_split(X, y, test_size=0.30)\n",
    "\n",
    "    svclassifier =LinearSVC()\n",
    "    svclassifier.fit(X_train, y_train)\n",
    "    #proba = svclassifier.predict_proba(X_test)\n",
    "    #proba = np.around(proba, decimals=2)\n",
    "    y_pred = svclassifier.predict(X_test)\n",
    "\n",
    "    print('Confusion matrix:\\n', confusion_matrix(y_test, y_pred))\n",
    "    print('Report:\\n', classification_report(y_test, y_pred))\n",
    "    print('Accuracy:', metrics.accuracy_score(y_test, y_pred))\n",
    "    #print('Proba',proba)"
   ]
  },
  {
   "cell_type": "code",
   "execution_count": null,
   "metadata": {},
   "outputs": [],
   "source": [
    "def boruta(df):\n",
    "    X = df.drop('winner',1)\n",
    "    y = df['winner'].values\n",
    "    ###initialize Boruta\n",
    "    forest = RandomForestRegressor(\n",
    "       n_jobs = -1, \n",
    "       max_depth = 5\n",
    "    )\n",
    "    boruta = BorutaPy(\n",
    "       estimator = forest, \n",
    "       n_estimators = 'auto',\n",
    "       max_iter = 100 # number of trials to perform\n",
    "    )\n",
    "    ### fit Boruta (it accepts np.array, not pd.DataFrame)\n",
    "    boruta.fit(np.array(X), np.array(y))\n",
    "    ### print results\n",
    "    green_area = X.columns[boruta.support_].to_list()\n",
    "    blue_area = X.columns[boruta.support_weak_].to_list()\n",
    "    print('features in the green area:', green_area)\n",
    "    print('features in the blue area:', blue_area)"
   ]
  },
  {
   "cell_type": "code",
   "execution_count": null,
   "metadata": {},
   "outputs": [],
   "source": [
    "def naive_bayes(df):\n",
    "    X = df.drop('winner',1)\n",
    "    y = df['winner'].values\n",
    "\n",
    "    X_train, X_test, y_train, y_test = train_test_split(X, y, test_size=0.5, random_state=0)\n",
    "    gnb = GaussianNB()\n",
    "    y_pred = gnb.fit(X_train, y_train).predict(X_test)\n",
    "    print(\"Number of mislabeled points out of a total %d points : %d\" % (X_test.shape[0], (y_test != y_pred).sum()))\n",
    "    print('Confusion matrix:\\n', confusion_matrix(y_test, y_pred))\n",
    "    print('Report:\\n', classification_report(y_test, y_pred))\n",
    "    print('Accuracy:', metrics.accuracy_score(y_test, y_pred))"
   ]
  },
  {
   "cell_type": "code",
   "execution_count": null,
   "metadata": {},
   "outputs": [],
   "source": [
    "df = pd.read_csv('C:\\\\Users\\\\Nicol\\\\Documents\\\\Master\\\\SecondoProgetto\\\\newtechnowar-webui\\\\docs\\\\csv\\\\csvscenarioJunction.csv',index_col=0)\n",
    "#df=pd.read_csv('../docs/csv/csvscenarioJunction.csv')"
   ]
  },
  {
   "cell_type": "code",
   "execution_count": null,
   "metadata": {},
   "outputs": [],
   "source": [
    "c=df.select_dtypes(include=['object']).drop(['winner'], axis=1).columns\n"
   ]
  },
  {
   "cell_type": "code",
   "execution_count": null,
   "metadata": {},
   "outputs": [],
   "source": [
    "c"
   ]
  },
  {
   "cell_type": "markdown",
   "metadata": {},
   "source": [
    "# Label Encoder\n"
   ]
  },
  {
   "cell_type": "code",
   "execution_count": null,
   "metadata": {},
   "outputs": [],
   "source": [
    "le_df=df\n",
    "le = preprocessing.LabelEncoder()\n",
    "le_df[c] = df[c].apply(lambda col: le.fit_transform(col))"
   ]
  },
  {
   "cell_type": "code",
   "execution_count": null,
   "metadata": {},
   "outputs": [],
   "source": [
    "le_df"
   ]
  },
  {
   "cell_type": "markdown",
   "metadata": {},
   "source": [
    "# One Hot Encoder"
   ]
  },
  {
   "cell_type": "code",
   "execution_count": null,
   "metadata": {},
   "outputs": [],
   "source": [
    "ohe_df=df\n",
    "enc = OneHotEncoder(handle_unknown='ignore')\n",
    "# passing bridge-types-cat column (label encoded values of bridge_types)\n",
    "enc_df = pd.DataFrame(enc.fit_transform(ohe_df[c]).toarray())\n",
    "# merge with main df bridge_df on key values\n",
    "ohe_df = ohe_df.join(enc_df)\n",
    "ohe_df"
   ]
  },
  {
   "cell_type": "code",
   "execution_count": null,
   "metadata": {},
   "outputs": [],
   "source": []
  },
  {
   "cell_type": "code",
   "execution_count": null,
   "metadata": {},
   "outputs": [],
   "source": [
    "lb = preprocessing.LabelBinarizer()\n",
    "print (\"Label Binarizer:\", lb.fit_transform(df['team_red_2_0']))"
   ]
  },
  {
   "cell_type": "code",
   "execution_count": null,
   "metadata": {},
   "outputs": [],
   "source": [
    "lb_df=df\n",
    "lb = preprocessing.LabelBinarizer()\n",
    "lb_df[c] = df[c].apply(lambda col: lb.fit_transform(col))\n"
   ]
  },
  {
   "cell_type": "markdown",
   "metadata": {},
   "source": [
    "# Dummies"
   ]
  },
  {
   "cell_type": "code",
   "execution_count": null,
   "metadata": {},
   "outputs": [],
   "source": [
    "bridge_df=df\n",
    "X = pd.get_dummies(bridge_df, prefix_sep='_', drop_first=True)\n",
    "bridge_df = bridge_df.merge(X)\n",
    "bridge_df"
   ]
  },
  {
   "cell_type": "code",
   "execution_count": null,
   "metadata": {},
   "outputs": [],
   "source": [
    "X"
   ]
  },
  {
   "cell_type": "code",
   "execution_count": null,
   "metadata": {},
   "outputs": [],
   "source": [
    "plt.scatter(df.index,df['kind_red_Tank1'])"
   ]
  },
  {
   "cell_type": "code",
   "execution_count": null,
   "metadata": {},
   "outputs": [],
   "source": [
    "random_forest(le_df)"
   ]
  },
  {
   "cell_type": "code",
   "execution_count": null,
   "metadata": {},
   "outputs": [],
   "source": [
    "boruta(df)"
   ]
  },
  {
   "cell_type": "markdown",
   "metadata": {},
   "source": [
    "linear_svm(df)"
   ]
  },
  {
   "cell_type": "code",
   "execution_count": null,
   "metadata": {},
   "outputs": [],
   "source": [
    "linear_svm1(le_df)"
   ]
  },
  {
   "cell_type": "code",
   "execution_count": null,
   "metadata": {},
   "outputs": [],
   "source": [
    "naive_bayes(le_df)"
   ]
  },
  {
   "cell_type": "code",
   "execution_count": null,
   "metadata": {},
   "outputs": [],
   "source": [
    "linear_svm(df)"
   ]
  }
 ],
 "metadata": {
  "kernelspec": {
   "display_name": "Python 3",
   "language": "python",
   "name": "python3"
  },
  "language_info": {
   "codemirror_mode": {
    "name": "ipython",
    "version": 3
   },
   "file_extension": ".py",
   "mimetype": "text/x-python",
   "name": "python",
   "nbconvert_exporter": "python",
   "pygments_lexer": "ipython3",
   "version": "3.7.3"
  }
 },
 "nbformat": 4,
 "nbformat_minor": 2
}
