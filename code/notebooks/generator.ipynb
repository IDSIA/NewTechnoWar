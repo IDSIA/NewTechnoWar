{
 "cells": [
  {
   "cell_type": "code",
   "execution_count": null,
   "metadata": {},
   "outputs": [],
   "source": [
    "import sys\n",
    "sys.path.append(\"../\")"
   ]
  },
  {
   "cell_type": "code",
   "execution_count": null,
   "metadata": {},
   "outputs": [],
   "source": [
    "import os\n",
    "\n",
    "import numpy as np\n",
    "import pandas as pd\n",
    "import random\n",
    "\n",
    "from agents.matchmanager import buildMatchManager\n",
    "\n",
    "from datetime import datetime\n",
    "from multiprocessing import Pool"
   ]
  },
  {
   "cell_type": "code",
   "execution_count": null,
   "metadata": {},
   "outputs": [],
   "source": [
    "agents = [\n",
    "    'RandomAgent', \n",
    "#     'AlphaBetaAgent', \n",
    "    'GreedyAgent'\n",
    "]\n",
    "scenarios = [\n",
    "    'scenarioTest1v1', \n",
    "    'scenarioTest2v2', \n",
    "    'scenarioJunctionExo', \n",
    "    'scenarioJunction', \n",
    "#     'scenarioRoadblock', \n",
    "#     'scenarioBridgeHead', \n",
    "#     'scenarioCrossingTheCity'\n",
    "]"
   ]
  },
  {
   "cell_type": "code",
   "execution_count": null,
   "metadata": {},
   "outputs": [],
   "source": [
    "def game(args):\n",
    "    scenario, red, blue, seed = args\n",
    "    vectors=[]\n",
    "\n",
    "    output = f'../data/{scenario}.{red}.{blue}.{seed}.pkl.gz'\n",
    "    \n",
    "    if os.path.exists(output):\n",
    "        return\n",
    "    \n",
    "    mm = buildMatchManager('', scenario, red, blue, seed=seed)\n",
    "    \n",
    "    while not mm.end:\n",
    "        mm.nextStep()\n",
    "        v = list(mm.state.vector())\n",
    "        #mm.states_history in lista di vettori\n",
    "        #mm.actions_history in lista di vettori\n",
    "\n",
    "        vectors.append(v)\n",
    "    \n",
    "    for v in vectors:\n",
    "        v += [mm.winner, scenario, red, blue, seed]\n",
    "    \n",
    "    cols = list(mm.state.vectorInfo()) + ['winner', 'meta_scenario', 'meta_p_red', 'meta_p_blue', 'meta_seed']\n",
    "        \n",
    "    df = pd.DataFrame(data=vectors, columns=cols)\n",
    "    df.to_pickle(output, compression='gzip')\n"
   ]
  },
  {
   "cell_type": "raw",
   "metadata": {},
   "source": [
    "game(('scenarioTest1v1', 'GreedyAgent', 'GreedyAgent', 1))"
   ]
  },
  {
   "cell_type": "code",
   "execution_count": null,
   "metadata": {},
   "outputs": [],
   "source": [
    "args = []\n",
    "\n",
    "np.random.seed(20201109)\n",
    "\n",
    "for _ in range(1000000):\n",
    "    scenario = np.random.choice(scenarios)\n",
    "    red = np.random.choice(agents)\n",
    "    blue = np.random.choice(agents)\n",
    "    seed = np.random.randint(100000000, 999999999)\n",
    "    \n",
    "    args.append((scenario, red, blue, seed))"
   ]
  },
  {
   "cell_type": "code",
   "execution_count": null,
   "metadata": {},
   "outputs": [],
   "source": [
    "with Pool(64) as p:\n",
    "    p.map(game, args)"
   ]
  },
  {
   "cell_type": "code",
   "execution_count": null,
   "metadata": {},
   "outputs": [],
   "source": []
  },
  {
   "cell_type": "code",
   "execution_count": null,
   "metadata": {},
   "outputs": [],
   "source": [
    "def compress(scenario):\n",
    "    today = datetime.today().strftime('%Y-%m-%d')\n",
    "    data_dir = '../data'\n",
    "    \n",
    "    files = [f for f in os.listdir(data_dir) if scenario in f]\n",
    "    \n",
    "    dfs = [\n",
    "        pd.concat([\n",
    "            pd.read_pickle(os.path.join(data_dir, f), compression='gzip') for f in files[i:i+1000]\n",
    "        ]) for i in range(0, len(files), 1000)\n",
    "    ]\n",
    "    \n",
    "    dfs = pd.concat(dfs)\n",
    "    \n",
    "    dfs.to_pickle(f'../data.{today}.{scenario}.pkl.gz', compression='gzip')"
   ]
  },
  {
   "cell_type": "code",
   "execution_count": null,
   "metadata": {},
   "outputs": [],
   "source": [
    "with Pool(len(scenarios)) as p:\n",
    "    p.map(compress, scenarios)"
   ]
  },
  {
   "cell_type": "code",
   "execution_count": null,
   "metadata": {},
   "outputs": [],
   "source": []
  },
  {
   "cell_type": "code",
   "execution_count": null,
   "metadata": {},
   "outputs": [],
   "source": [
    "df = pd.read_pickle('../data.scenarioJunction.pkl.gz', compression='gzip')"
   ]
  },
  {
   "cell_type": "code",
   "execution_count": null,
   "metadata": {},
   "outputs": [],
   "source": [
    "len(sorted(list(df.columns)))"
   ]
  },
  {
   "cell_type": "code",
   "execution_count": null,
   "metadata": {},
   "outputs": [],
   "source": [
    "for c in df.columns:\n",
    "    print(c)"
   ]
  },
  {
   "cell_type": "code",
   "execution_count": null,
   "metadata": {},
   "outputs": [],
   "source": []
  }
 ],
 "metadata": {
  "kernelspec": {
   "display_name": "Python 3",
   "language": "python",
   "name": "python3"
  },
  "language_info": {
   "codemirror_mode": {
    "name": "ipython",
    "version": 3
   },
   "file_extension": ".py",
   "mimetype": "text/x-python",
   "name": "python",
   "nbconvert_exporter": "python",
   "pygments_lexer": "ipython3",
   "version": "3.7.3"
  }
 },
 "nbformat": 4,
 "nbformat_minor": 4
}
