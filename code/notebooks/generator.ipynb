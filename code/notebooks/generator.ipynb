{
 "cells": [
  {
   "cell_type": "code",
   "execution_count": 1,
   "metadata": {},
   "outputs": [],
   "source": [
    "import sys\n",
    "sys.path.append(\"../\")"
   ]
  },
  {
   "cell_type": "code",
   "execution_count": 2,
   "metadata": {},
   "outputs": [],
   "source": [
    "import os\n",
    "\n",
    "import numpy as np\n",
    "import pandas as pd\n",
    "import random\n",
    "\n",
    "from agents.matchmanager import buildMatchManager\n",
    "from core.game.state import vectorStateInfo, vectorState\n",
    "\n",
    "from datetime import datetime\n",
    "from multiprocessing import Pool"
   ]
  },
  {
   "cell_type": "code",
   "execution_count": 3,
   "metadata": {},
   "outputs": [],
   "source": [
    "agents = [\n",
    "    'RandomAgent', \n",
    "#     'AlphaBetaAgent', \n",
    "    'GreedyAgent'\n",
    "]\n",
    "scenarios = [\n",
    "#     'scenarioJunctionExo', \n",
    "    'scenarioJunction', \n",
    "#     'scenarioRoadblock', \n",
    "#     'scenarioBridgeHead', \n",
    "#     'scenarioCrossingTheCity'\n",
    "]"
   ]
  },
  {
   "cell_type": "code",
   "execution_count": 4,
   "metadata": {},
   "outputs": [],
   "source": [
    "def game(args):\n",
    "    scenario, red, blue, seed = args\n",
    "    vectors=[]\n",
    "\n",
    "    output = f'../data/{scenario}.{red}.{blue}.{seed}.pkl.gz'\n",
    "    \n",
    "    if os.path.exists(output):\n",
    "        return\n",
    "    \n",
    "    mm = buildMatchManager('', scenario, red, blue, seed=seed)\n",
    "    \n",
    "    while not mm.end:\n",
    "        mm.nextStep()\n",
    "\n",
    "    cols = vectorStateInfo()\n",
    "    data = [vectorState(x) for x in mm.states_history]\n",
    "\n",
    "    df = pd.DataFrame(columns=cols, data=data)\n",
    "    \n",
    "    df['winner'] = mm.winner\n",
    "    df['meta_p_red'] = red\n",
    "    df['meta_p_blue'] = blue\n",
    "    df['meta_seed'] = seed\n",
    "    df['meta_scenario'] = scenario\n",
    "    \n",
    "    df.to_pickle(output, compression='gzip')\n"
   ]
  },
  {
   "cell_type": "code",
   "execution_count": 5,
   "metadata": {},
   "outputs": [],
   "source": [
    "args = []\n",
    "\n",
    "np.random.seed(20210215)\n",
    "\n",
    "for _ in range(128):\n",
    "    scenario = np.random.choice(scenarios)\n",
    "    red = np.random.choice(agents)\n",
    "    blue = np.random.choice(agents)\n",
    "    seed = np.random.randint(100000000, 999999999)\n",
    "    \n",
    "    args.append((scenario, red, blue, seed))"
   ]
  },
  {
   "cell_type": "code",
   "execution_count": 6,
   "metadata": {},
   "outputs": [],
   "source": [
    "with Pool(64) as p:\n",
    "    p.map(game, args)"
   ]
  },
  {
   "cell_type": "markdown",
   "metadata": {},
   "source": [
    "Compress everything in a single file, for each scenario"
   ]
  },
  {
   "cell_type": "code",
   "execution_count": 7,
   "metadata": {},
   "outputs": [],
   "source": [
    "def compress(scenario):\n",
    "    today = datetime.today().strftime('%Y-%m-%d')\n",
    "    data_dir = '../data'\n",
    "    \n",
    "    files = [f for f in os.listdir(data_dir) if scenario in f]\n",
    "    \n",
    "    dfs = [\n",
    "        pd.concat([\n",
    "            pd.read_pickle(os.path.join(data_dir, f), compression='gzip') for f in files[i:i+1000]\n",
    "        ]) for i in range(0, len(files), 1000)\n",
    "    ]\n",
    "    \n",
    "    dfs = pd.concat(dfs)\n",
    "    \n",
    "    dfs.to_pickle(f'../data.{today}.{scenario}.pkl.gz', compression='gzip')"
   ]
  },
  {
   "cell_type": "code",
   "execution_count": 8,
   "metadata": {},
   "outputs": [],
   "source": [
    "with Pool(len(scenarios)) as p:\n",
    "    p.map(compress, scenarios)"
   ]
  },
  {
   "cell_type": "code",
   "execution_count": null,
   "metadata": {},
   "outputs": [],
   "source": []
  }
 ],
 "metadata": {
  "kernelspec": {
   "display_name": "Python 3",
   "language": "python",
   "name": "python3"
  },
  "language_info": {
   "codemirror_mode": {
    "name": "ipython",
    "version": 3
   },
   "file_extension": ".py",
   "mimetype": "text/x-python",
   "name": "python",
   "nbconvert_exporter": "python",
   "pygments_lexer": "ipython3",
   "version": "3.7.6"
  }
 },
 "nbformat": 4,
 "nbformat_minor": 4
}
