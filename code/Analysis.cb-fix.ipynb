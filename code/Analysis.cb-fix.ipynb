{
 "cells": [
  {
   "cell_type": "code",
   "execution_count": 1,
   "metadata": {},
   "outputs": [],
   "source": [
    "import logging.config\n",
    "import os.path as op\n",
    "\n",
    "import yaml\n",
    "\n",
    "from agents.matchmanager import MatchManager\n",
    "from agents.ml.regressor import RegressorAgent\n",
    "from agents import GreedyAgent\n",
    "from core.game.state import vectorStateInfo, vectorState, vectorActionInfo, vectorAction\n",
    "from core.const import RED, BLUE\n",
    "from scenarios import scenarioJunction\n",
    "\n",
    "import pandas as pd\n",
    "import seaborn as sns\n",
    "import matplotlib.pyplot as plt\n",
    "\n",
    "import pickle\n",
    "\n",
    "%matplotlib inline"
   ]
  },
  {
   "cell_type": "code",
   "execution_count": 2,
   "metadata": {},
   "outputs": [],
   "source": [
    "with open(op.join('.', 'logger.config.yaml'), 'r') as stream:\n",
    "    config = yaml.load(stream, Loader=yaml.FullLoader)\n",
    "logging.config.dictConfig(config)"
   ]
  },
  {
   "cell_type": "code",
   "execution_count": 3,
   "metadata": {},
   "outputs": [],
   "source": [
    "def gameJunctionRegressorRegressor(seed:int) -> MatchManager:\n",
    "    board, state = scenarioJunction()\n",
    "    playerRed = GreedyAgent(RED, seed)\n",
    "    playerBlue = GreedyAgent(BLUE, seed)\n",
    "    mm = MatchManager(' ', playerRed, playerBlue, board, state, seed=seed)\n",
    "    while not mm.end:\n",
    "        mm.nextStep()\n",
    "    \n",
    "    return mm"
   ]
  },
  {
   "cell_type": "code",
   "execution_count": 4,
   "metadata": {},
   "outputs": [],
   "source": [
    "seed = 51"
   ]
  },
  {
   "cell_type": "code",
   "execution_count": 5,
   "metadata": {},
   "outputs": [
    {
     "name": "stdout",
     "output_type": "stream",
     "text": [
      "2021-02-15 14:56:22 INFO SCENARIO: Junction\n",
      "2021-02-15 14:56:22 INFO SEED:     51\n",
      "2021-02-15 14:56:22 INFO red  : choose positions color darkred\n",
      "2021-02-15 14:56:23 INFO blue : placed his troops in [ 39 147  99] (7.855555555555553)\n",
      "2021-02-15 14:56:23 INFO ====================================================================================================\n",
      "2021-02-15 14:56:23 INFO Turn 0\n",
      "2021-02-15 14:56:23 INFO red   action   : RED  : rTank3    : Moved to (25, 33) \n",
      "2021-02-15 14:56:23 INFO blue  response : BLUE :: Pass \n",
      "2021-02-15 14:56:24 INFO blue  action   : BLUE : bInf1     : Attack rTank3 with Anti-tank weapon success=(1 [9]/16) target=(0/1) KILLED!\n",
      "2021-02-15 14:56:24 INFO red   response : RED  :: Pass \n",
      "2021-02-15 14:56:24 INFO red   action   : RED  : rInf3     : Moved to (20, 35) \n",
      "2021-02-15 14:56:24 INFO blue  response : BLUE :: Pass \n",
      "2021-02-15 14:56:25 INFO blue  action   : BLUE : bInf2     : Attack rInf3 with Mortar success=(1 [17]/17) target=(0/4) KILLED!\n",
      "2021-02-15 14:56:25 INFO red   response : RED  :: Pass \n",
      "2021-02-15 14:56:25 INFO red   action   : RED  : rInf4     : Moved to (28, 37) \n",
      "2021-02-15 14:56:25 INFO blue  response : BLUE :: Pass \n",
      "2021-02-15 14:56:26 INFO blue  action   : BLUE : bAPC1     : Moved to (30, 26) \n",
      "2021-02-15 14:56:26 INFO red   response : RED  :: Pass \n",
      "2021-02-15 14:56:26 INFO ====================================================================================================\n",
      "2021-02-15 14:56:26 INFO Turn 1\n",
      "2021-02-15 14:56:26 INFO red   action   : RED  : rInf4     : Attack bAPC1 with Anti-tank weapon success=(1 [8]/16) target=(0/1) KILLED!\n",
      "2021-02-15 14:56:26 INFO blue  response : BLUE :: Pass \n",
      "2021-02-15 14:56:26 INFO blue  action   : BLUE : bInf1     : Moved to (32, 34) \n",
      "2021-02-15 14:56:26 INFO red   response : RED  :: Pass \n",
      "2021-02-15 14:56:26 INFO blue  action   : BLUE : bInf2     : Attack rInf4 with Mortar success=(1 [9]/13) target=(0/4) KILLED!\n",
      "2021-02-15 14:56:26 INFO End game! Winner is blue\n"
     ]
    }
   ],
   "source": [
    "MM = gameJunctionRegressorRegressor(seed)"
   ]
  },
  {
   "cell_type": "code",
   "execution_count": 13,
   "metadata": {},
   "outputs": [
    {
     "data": {
      "text/plain": [
       "'blue'"
      ]
     },
     "execution_count": 13,
     "metadata": {},
     "output_type": "execute_result"
    }
   ],
   "source": [
    "MM.winner"
   ]
  },
  {
   "cell_type": "code",
   "execution_count": 6,
   "metadata": {},
   "outputs": [],
   "source": [
    "df_states = pd.DataFrame(\n",
    "    columns=vectorStateInfo(),\n",
    "    data=[vectorState(x) for x in MM.states_history]\n",
    ")\n",
    "\n",
    "df_actions = pd.DataFrame(\n",
    "    columns=vectorActionInfo(),\n",
    "    data=[vectorAction(x) for x in MM.actions_history]\n",
    ")\n",
    "df_red = MM.red.createDataFrame()\n",
    "df_blue = MM.blue.createDataFrame()"
   ]
  },
  {
   "cell_type": "code",
   "execution_count": 7,
   "metadata": {},
   "outputs": [],
   "source": [
    "def categoryAction(a):\n",
    "    return {\n",
    "        'PassTeam': 0.5,\n",
    "        'PassFigure': 0.5,\n",
    "        'Move': 0.75,\n",
    "        'Attack': 1.0,\n",
    "        'AttackRespond': 0.25,\n",
    "        'PassRespond': 0.0,\n",
    "    }[a]\n",
    "    \n",
    "    if a == 'Move':\n",
    "        return 1.0\n",
    "    if a == 'Attack':\n",
    "        return 0.5\n",
    "    if a == 'Attack':\n",
    "        return 0.5\n",
    "    return 0\n",
    "\n",
    "df_red = df_red.set_index('time')\n",
    "df_blue = df_blue.set_index('time')\n",
    "\n",
    "df_red['category_action'] = df_red['action'].apply(categoryAction)\n",
    "df_blue['category_action'] = df_blue['action'].apply(categoryAction)"
   ]
  },
  {
   "cell_type": "code",
   "execution_count": 8,
   "metadata": {},
   "outputs": [],
   "source": [
    "dx = pd.concat([\n",
    "    df_red,\n",
    "    df_blue\n",
    "]).sort_index()"
   ]
  },
  {
   "cell_type": "code",
   "execution_count": 9,
   "metadata": {},
   "outputs": [
    {
     "data": {
      "text/html": [
       "<div>\n",
       "<style scoped>\n",
       "    .dataframe tbody tr th:only-of-type {\n",
       "        vertical-align: middle;\n",
       "    }\n",
       "\n",
       "    .dataframe tbody tr th {\n",
       "        vertical-align: top;\n",
       "    }\n",
       "\n",
       "    .dataframe thead th {\n",
       "        text-align: right;\n",
       "    }\n",
       "</style>\n",
       "<table border=\"1\" class=\"dataframe\">\n",
       "  <thead>\n",
       "    <tr style=\"text-align: right;\">\n",
       "      <th></th>\n",
       "      <th>team</th>\n",
       "      <th>count</th>\n",
       "      <th>action</th>\n",
       "      <th>category_action</th>\n",
       "    </tr>\n",
       "    <tr>\n",
       "      <th>time</th>\n",
       "      <th></th>\n",
       "      <th></th>\n",
       "      <th></th>\n",
       "      <th></th>\n",
       "    </tr>\n",
       "  </thead>\n",
       "  <tbody>\n",
       "    <tr>\n",
       "      <th>2021-02-15 14:56:23.697397</th>\n",
       "      <td>red</td>\n",
       "      <td>1</td>\n",
       "      <td>Move</td>\n",
       "      <td>0.75</td>\n",
       "    </tr>\n",
       "    <tr>\n",
       "      <th>2021-02-15 14:56:23.716385</th>\n",
       "      <td>blue</td>\n",
       "      <td>1</td>\n",
       "      <td>PassTeam</td>\n",
       "      <td>0.50</td>\n",
       "    </tr>\n",
       "    <tr>\n",
       "      <th>2021-02-15 14:56:24.453381</th>\n",
       "      <td>blue</td>\n",
       "      <td>2</td>\n",
       "      <td>Attack</td>\n",
       "      <td>1.00</td>\n",
       "    </tr>\n",
       "    <tr>\n",
       "      <th>2021-02-15 14:56:24.467376</th>\n",
       "      <td>red</td>\n",
       "      <td>2</td>\n",
       "      <td>PassTeam</td>\n",
       "      <td>0.50</td>\n",
       "    </tr>\n",
       "    <tr>\n",
       "      <th>2021-02-15 14:56:24.720374</th>\n",
       "      <td>red</td>\n",
       "      <td>3</td>\n",
       "      <td>Move</td>\n",
       "      <td>0.75</td>\n",
       "    </tr>\n",
       "    <tr>\n",
       "      <th>2021-02-15 14:56:24.739379</th>\n",
       "      <td>blue</td>\n",
       "      <td>3</td>\n",
       "      <td>PassTeam</td>\n",
       "      <td>0.50</td>\n",
       "    </tr>\n",
       "    <tr>\n",
       "      <th>2021-02-15 14:56:25.378382</th>\n",
       "      <td>blue</td>\n",
       "      <td>4</td>\n",
       "      <td>Attack</td>\n",
       "      <td>1.00</td>\n",
       "    </tr>\n",
       "    <tr>\n",
       "      <th>2021-02-15 14:56:25.389377</th>\n",
       "      <td>red</td>\n",
       "      <td>4</td>\n",
       "      <td>PassTeam</td>\n",
       "      <td>0.50</td>\n",
       "    </tr>\n",
       "    <tr>\n",
       "      <th>2021-02-15 14:56:25.565376</th>\n",
       "      <td>red</td>\n",
       "      <td>5</td>\n",
       "      <td>Move</td>\n",
       "      <td>0.75</td>\n",
       "    </tr>\n",
       "    <tr>\n",
       "      <th>2021-02-15 14:56:25.582375</th>\n",
       "      <td>blue</td>\n",
       "      <td>5</td>\n",
       "      <td>PassTeam</td>\n",
       "      <td>0.50</td>\n",
       "    </tr>\n",
       "    <tr>\n",
       "      <th>2021-02-15 14:56:26.012377</th>\n",
       "      <td>blue</td>\n",
       "      <td>6</td>\n",
       "      <td>Move</td>\n",
       "      <td>0.75</td>\n",
       "    </tr>\n",
       "    <tr>\n",
       "      <th>2021-02-15 14:56:26.018379</th>\n",
       "      <td>red</td>\n",
       "      <td>6</td>\n",
       "      <td>PassTeam</td>\n",
       "      <td>0.50</td>\n",
       "    </tr>\n",
       "    <tr>\n",
       "      <th>2021-02-15 14:56:26.164400</th>\n",
       "      <td>red</td>\n",
       "      <td>7</td>\n",
       "      <td>Attack</td>\n",
       "      <td>1.00</td>\n",
       "    </tr>\n",
       "    <tr>\n",
       "      <th>2021-02-15 14:56:26.171402</th>\n",
       "      <td>blue</td>\n",
       "      <td>7</td>\n",
       "      <td>PassTeam</td>\n",
       "      <td>0.50</td>\n",
       "    </tr>\n",
       "    <tr>\n",
       "      <th>2021-02-15 14:56:26.520391</th>\n",
       "      <td>blue</td>\n",
       "      <td>8</td>\n",
       "      <td>Move</td>\n",
       "      <td>0.75</td>\n",
       "    </tr>\n",
       "    <tr>\n",
       "      <th>2021-02-15 14:56:26.529378</th>\n",
       "      <td>red</td>\n",
       "      <td>8</td>\n",
       "      <td>PassTeam</td>\n",
       "      <td>0.50</td>\n",
       "    </tr>\n",
       "    <tr>\n",
       "      <th>2021-02-15 14:56:26.716375</th>\n",
       "      <td>blue</td>\n",
       "      <td>9</td>\n",
       "      <td>Attack</td>\n",
       "      <td>1.00</td>\n",
       "    </tr>\n",
       "  </tbody>\n",
       "</table>\n",
       "</div>"
      ],
      "text/plain": [
       "                            team  count    action  category_action\n",
       "time                                                              \n",
       "2021-02-15 14:56:23.697397   red      1      Move             0.75\n",
       "2021-02-15 14:56:23.716385  blue      1  PassTeam             0.50\n",
       "2021-02-15 14:56:24.453381  blue      2    Attack             1.00\n",
       "2021-02-15 14:56:24.467376   red      2  PassTeam             0.50\n",
       "2021-02-15 14:56:24.720374   red      3      Move             0.75\n",
       "2021-02-15 14:56:24.739379  blue      3  PassTeam             0.50\n",
       "2021-02-15 14:56:25.378382  blue      4    Attack             1.00\n",
       "2021-02-15 14:56:25.389377   red      4  PassTeam             0.50\n",
       "2021-02-15 14:56:25.565376   red      5      Move             0.75\n",
       "2021-02-15 14:56:25.582375  blue      5  PassTeam             0.50\n",
       "2021-02-15 14:56:26.012377  blue      6      Move             0.75\n",
       "2021-02-15 14:56:26.018379   red      6  PassTeam             0.50\n",
       "2021-02-15 14:56:26.164400   red      7    Attack             1.00\n",
       "2021-02-15 14:56:26.171402  blue      7  PassTeam             0.50\n",
       "2021-02-15 14:56:26.520391  blue      8      Move             0.75\n",
       "2021-02-15 14:56:26.529378   red      8  PassTeam             0.50\n",
       "2021-02-15 14:56:26.716375  blue      9    Attack             1.00"
      ]
     },
     "execution_count": 9,
     "metadata": {},
     "output_type": "execute_result"
    }
   ],
   "source": [
    "dx[['team', 'count', 'action', 'category_action']]"
   ]
  },
  {
   "cell_type": "code",
   "execution_count": 10,
   "metadata": {},
   "outputs": [
    {
     "data": {
      "text/plain": [
       "{'PassFigure': 0.5,\n",
       " 'Move': 0.75,\n",
       " 'Attack': 1.0,\n",
       " 'AttackRespond': 0.25,\n",
       " 'PassRespond': 0.0}"
      ]
     },
     "execution_count": 10,
     "metadata": {},
     "output_type": "execute_result"
    }
   ],
   "source": [
    "{\n",
    "    'PassFigure': 0.5,\n",
    "    'Move': 0.75,\n",
    "    'Attack': 1.0,\n",
    "    'AttackRespond': 0.25,\n",
    "    'PassRespond': 0.0,\n",
    "}"
   ]
  },
  {
   "cell_type": "code",
   "execution_count": 11,
   "metadata": {},
   "outputs": [
    {
     "data": {
      "text/plain": [
       "(<AxesSubplot:xlabel='time'>,\n",
       " <AxesSubplot:xlabel='time'>,\n",
       " <AxesSubplot:xlabel='time'>)"
      ]
     },
     "execution_count": 11,
     "metadata": {},
     "output_type": "execute_result"
    },
    {
     "data": {
      "image/png": "[encoded data removed]",
      "text/plain": [
       "<Figure size 432x288 with 1 Axes>"
      ]
     },
     "metadata": {
      "needs_background": "light"
     },
     "output_type": "display_data"
    }
   ],
   "source": [
    "(\n",
    "    df_red.score.plot(color='red', marker='o'),\n",
    "    df_red.category_action.plot(color='orange', marker='o'), \n",
    "    df_red.entropy.plot(color='purple')\n",
    ")"
   ]
  },
  {
   "cell_type": "code",
   "execution_count": 12,
   "metadata": {},
   "outputs": [
    {
     "data": {
      "text/plain": [
       "(<AxesSubplot:xlabel='time'>,\n",
       " <AxesSubplot:xlabel='time'>,\n",
       " <AxesSubplot:xlabel='time'>)"
      ]
     },
     "execution_count": 12,
     "metadata": {},
     "output_type": "execute_result"
    },
    {
     "data": {
      "image/png": "[encoded data removed]",
      "text/plain": [
       "<Figure size 432x288 with 1 Axes>"
      ]
     },
     "metadata": {
      "needs_background": "light"
     },
     "output_type": "display_data"
    }
   ],
   "source": [
    "(\n",
    "    df_blue.score.plot(color='blue', marker='o'),\n",
    "    df_blue.category_action.plot(color='green', marker='o'), \n",
    "    df_blue.entropy.plot(color='purple')\n",
    ")"
   ]
  },
  {
   "cell_type": "code",
   "execution_count": 14,
   "metadata": {},
   "outputs": [
    {
     "data": {
      "text/plain": [
       "(<AxesSubplot:xlabel='time'>, <AxesSubplot:xlabel='time'>)"
      ]
     },
     "execution_count": 14,
     "metadata": {},
     "output_type": "execute_result"
    },
    {
     "data": {
      "image/png": "[encoded data removed]",
      "text/plain": [
       "<Figure size 432x288 with 1 Axes>"
      ]
     },
     "metadata": {
      "needs_background": "light"
     },
     "output_type": "display_data"
    }
   ],
   "source": [
    "dx[dx['team']=='red']['entropy'].plot(color='red'), dx[dx['team']=='blue']['entropy'].plot(color='blue')"
   ]
  },
  {
   "cell_type": "code",
   "execution_count": null,
   "metadata": {},
   "outputs": [],
   "source": []
  }
 ],
 "metadata": {
  "kernelspec": {
   "display_name": "Python 3",
   "language": "python",
   "name": "python3"
  },
  "language_info": {
   "codemirror_mode": {
    "name": "ipython",
    "version": 3
   },
   "file_extension": ".py",
   "mimetype": "text/x-python",
   "name": "python",
   "nbconvert_exporter": "python",
   "pygments_lexer": "ipython3",
   "version": "3.8.5"
  }
 },
 "nbformat": 4,
 "nbformat_minor": 4
}
