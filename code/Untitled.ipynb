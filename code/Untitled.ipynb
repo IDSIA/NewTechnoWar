{
 "cells": [
  {
   "cell_type": "code",
   "execution_count": 26,
   "metadata": {},
   "outputs": [
    {
     "name": "stdout",
     "output_type": "stream",
     "text": [
      "2020-09-23 18:50:48 INFO SCENARIO: 1Rv1B\n",
      "2020-09-23 18:50:48 INFO SEED:     3\n",
      "2020-09-23 18:50:48 INFO ====================================================================================================\n",
      "2020-09-23 18:50:48 INFO Turn 0\n",
      "2020-09-23 18:50:48 INFO        AB1: Max RED  : Tank1     : Pass [2.666666666666667]\n",
      "2020-09-23 18:50:48 INFO        AB1: Max RED  : Tank1     : Moved to (5, 8) [3.5]\n",
      "2020-09-23 18:50:48 INFO        AB1: Max RED  : Tank1     : Moved to (6, 8) [3.666666666666667]\n",
      "2020-09-23 18:50:48 INFO RED  : Tank1     : Moved to (6, 8)\n",
      "2020-09-23 18:50:48 INFO blue : no response available\n",
      "2020-09-23 18:50:48 INFO BLUE : Tank2     : Pass\n",
      "2020-09-23 18:50:48 INFO ====================================================================================================\n",
      "2020-09-23 18:50:48 INFO Turn 1\n",
      "2020-09-23 18:50:48 INFO        AB1: Max RED  : Tank1     : Pass [3.666666666666667]\n",
      "2020-09-23 18:50:48 INFO        AB1: Max RED  : Tank1     : Moved to (8, 8) [12.0]\n",
      "2020-09-23 18:50:48 INFO RED  : Tank1     : Moved to (8, 8)\n",
      "2020-09-23 18:50:48 INFO blue : no response given\n",
      "2020-09-23 18:50:48 INFO BLUE : Tank2     : Moved to (13, 13)\n",
      "2020-09-23 18:50:48 INFO red  : no response given\n",
      "2020-09-23 18:50:48 INFO ====================================================================================================\n",
      "2020-09-23 18:50:48 INFO Turn 2\n"
     ]
    }
   ],
   "source": [
    "\n",
    "\n",
    "\n",
    "import logging.config\n",
    "import os.path as op\n",
    "\n",
    "import yaml\n",
    "\n",
    "from agents.matchmanager import buildMatchManager\n",
    "\n",
    "        \n",
    "dir_path = op.dirname(op.realpath(\"ciao\"))\n",
    "\n",
    "with open(op.join(dir_path, 'logger.config.yaml'), 'r') as stream:\n",
    "    config = yaml.load(stream, Loader=yaml.FullLoader)\n",
    "logging.config.dictConfig(config)\n",
    "\n",
    "if __name__ == '__main__':\n",
    "    mm = buildMatchManager('', 'scenarioTest1v1', 'AlphaBetaAgent', 'PlayerDummy', seed=3)\n",
    "\n",
    "    while not mm.end:\n",
    "        mm.nextStep()"
   ]
  },
  {
   "cell_type": "code",
   "execution_count": 14,
   "metadata": {},
   "outputs": [
    {
     "data": {
      "text/plain": [
       "('823217f3-6ef1-484b-8f6b-4c54ac0c8855',\n",
       " 'red',\n",
       " 'Tank1',\n",
       " 0,\n",
       " 2,\n",
       " 7,\n",
       " 1,\n",
       " 1,\n",
       " 1,\n",
       " 6,\n",
       " 1,\n",
       " 0,\n",
       " FigureStatus(name='No effect', value=0),\n",
       " 0,\n",
       " True,\n",
       " True,\n",
       " False,\n",
       " True,\n",
       " False,\n",
       " False,\n",
       " False,\n",
       " -1,\n",
       " True,\n",
       " 2,\n",
       " 0,\n",
       " -1,\n",
       " 8,\n",
       " -12,\n",
       " 4,\n",
       " 5,\n",
       " 18,\n",
       " 0,\n",
       " 6,\n",
       " 0,\n",
       " 1000000000,\n",
       " 0,\n",
       " 0,\n",
       " 0,\n",
       " 2,\n",
       " 0,\n",
       " '71e29151-e457-4c7b-ad1c-b45834e2777f',\n",
       " 'blue',\n",
       " 'Tank2',\n",
       " 0,\n",
       " 2,\n",
       " 7,\n",
       " 1,\n",
       " 0,\n",
       " 1,\n",
       " 6,\n",
       " 1,\n",
       " 0,\n",
       " FigureStatus(name='Under fire', value=-1),\n",
       " 0,\n",
       " True,\n",
       " False,\n",
       " False,\n",
       " True,\n",
       " False,\n",
       " True,\n",
       " True,\n",
       " 0,\n",
       " True,\n",
       " 2,\n",
       " 0,\n",
       " -1,\n",
       " 14,\n",
       " -12,\n",
       " -2,\n",
       " 5,\n",
       " 18,\n",
       " 0,\n",
       " 8,\n",
       " 0,\n",
       " 1000000000,\n",
       " 0,\n",
       " 0,\n",
       " 0,\n",
       " 2,\n",
       " 0)"
      ]
     },
     "execution_count": 14,
     "metadata": {},
     "output_type": "execute_result"
    }
   ],
   "source": [
    "mm.state.vector()"
   ]
  },
  {
   "cell_type": "code",
   "execution_count": 7,
   "metadata": {},
   "outputs": [
    {
     "name": "stdout",
     "output_type": "stream",
     "text": [
      "Collecting sklearn\n",
      "  Downloading sklearn-0.0.tar.gz (1.1 kB)\n",
      "Collecting scikit-learn\n",
      "  Downloading scikit_learn-0.23.2-cp37-cp37m-win_amd64.whl (6.8 MB)\n",
      "Collecting joblib>=0.11\n",
      "  Downloading joblib-0.16.0-py3-none-any.whl (300 kB)\n",
      "Requirement already satisfied: numpy>=1.13.3 in c:\\users\\nicol\\anaconda3\\envs\\project\\lib\\site-packages (from scikit-learn->sklearn) (1.18.3)\n",
      "Requirement already satisfied: scipy>=0.19.1 in c:\\users\\nicol\\anaconda3\\envs\\project\\lib\\site-packages (from scikit-learn->sklearn) (1.5.2)\n",
      "Collecting threadpoolctl>=2.0.0\n",
      "  Downloading threadpoolctl-2.1.0-py3-none-any.whl (12 kB)\n",
      "Building wheels for collected packages: sklearn\n",
      "  Building wheel for sklearn (setup.py): started\n",
      "  Building wheel for sklearn (setup.py): finished with status 'done'\n",
      "  Created wheel for sklearn: filename=sklearn-0.0-py2.py3-none-any.whl size=1320 sha256=85abda6f9b652983d0ec8cc6c0dac73ea30e369d1076943a969b58bdd8e18341\n",
      "  Stored in directory: c:\\users\\nicol\\appdata\\local\\pip\\cache\\wheels\\46\\ef\\c3\\157e41f5ee1372d1be90b09f74f82b10e391eaacca8f22d33e\n",
      "Successfully built sklearn\n",
      "Installing collected packages: joblib, threadpoolctl, scikit-learn, sklearn\n",
      "Successfully installed joblib-0.16.0 scikit-learn-0.23.2 sklearn-0.0 threadpoolctl-2.1.0\n"
     ]
    }
   ],
   "source": [
    "! pip install sklearn"
   ]
  },
  {
   "cell_type": "code",
   "execution_count": null,
   "metadata": {},
   "outputs": [],
   "source": []
  }
 ],
 "metadata": {
  "kernelspec": {
   "display_name": "Python 3",
   "language": "python",
   "name": "python3"
  },
  "language_info": {
   "codemirror_mode": {
    "name": "ipython",
    "version": 3
   },
   "file_extension": ".py",
   "mimetype": "text/x-python",
   "name": "python",
   "nbconvert_exporter": "python",
   "pygments_lexer": "ipython3",
   "version": "3.7.7"
  }
 },
 "nbformat": 4,
 "nbformat_minor": 4
}
