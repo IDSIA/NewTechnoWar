{
 "cells": [
  {
   "cell_type": "code",
   "execution_count": 4,
   "metadata": {},
   "outputs": [],
   "source": [
    "import logging\n",
    "\n",
    "import pandas as pd\n",
    "\n",
    "from agents import RegressionMultiAgent, ClassifierAgent, RegressionAgent, GreedyAgent\n",
    "from agents.adversarial.alphabetafast1 import AlphaBetaFast1Agent\n",
    "from agents.matchmanager import MatchManager\n",
    "from core.const import RED, BLUE\n",
    "from core.game import vectorStateInfo, vectorState, GoalReachPoint, GoalParams,Goal\n",
    "from core.scenarios import buildScenario\n",
    "from core.vectors import vectorActionInfo, vectorAction, vectorBoardInfo, vectorBoard\n",
    "from utils.images import drawState\n",
    "from utils.setup_logging import setup_logging"
   ]
  },
  {
   "cell_type": "code",
   "execution_count": 75,
   "metadata": {},
   "outputs": [],
   "source": [
    "import sys\n",
    "sys.path.append(\"../\")\n"
   ]
  },
  {
   "cell_type": "code",
   "execution_count": 76,
   "metadata": {},
   "outputs": [],
   "source": [
    "import iyer_saliency\n",
    "import sarfa_saliency"
   ]
  },
  {
   "cell_type": "code",
   "execution_count": null,
   "metadata": {},
   "outputs": [],
   "source": [
    "import sarfa_saliency\n",
    "\n",
    "\n",
    "dict_q_vals_before_perturbation, original_action = RL_agent.q_values(state) # this is a dictionary, where the key is an action, and the value is the q-value of that action for this state \n",
    "\n",
    "# now perturb the state, this step depends on your domain \n",
    "# if you are using images or chess boards, you can use the perturbtations provided in our examples \n",
    "perturbed_state = perturb(state)\n",
    "\n",
    "dict_q_vals_after_perturbation = RL_agent.q_values(perturbed_state)\n",
    "\n",
    "saliency = sarfa_saliency.computeSaliencyUsingSarfa(original_action, dict_q_vals_before_perturbation, dict_q_vals_after_perturbation)\n",
    "\n",
    "# that's all folks \n"
   ]
  },
  {
   "cell_type": "code",
   "execution_count": null,
   "metadata": {},
   "outputs": [],
   "source": [
    "\n",
    "\n",
    "logger = logging.getLogger(__name__)\n",
    "\n",
    "setup_logging()\n",
    "seed=2\n",
    "red = GreedyAgent(RED, seed=seed)\n",
    "blue = GreedyAgent(BLUE, seed=seed)\n",
    "board, state = buildScenario('Test2v2')\n",
    "mm = MatchManager('', red, blue, board, state, seed=seed)\n",
    "mm.nextStep()\n",
    "drawState(mm.board, mm.state, True)\n",
    "\n",
    "\n",
    "\n"
   ]
  },
  {
   "cell_type": "code",
   "execution_count": 1,
   "metadata": {},
   "outputs": [],
   "source": [
    "from typing import Tuple, List\n",
    "from core.game import GameBoard, GameState, GoalParams\n",
    "import numpy as np\n",
    "from core.utils.coordinates import Hex\n",
    "from core.game.goals import Goal, GoalEliminateOpponent, GoalReachPoint, GoalDefendPoint, GoalMaxTurn, goalAchieved, GoalParams\n",
    "from core.templates.builders import buildFigure, setupWeapons\n",
    "\n"
   ]
  },
  {
   "cell_type": "code",
   "execution_count": 23,
   "metadata": {},
   "outputs": [],
   "source": [
    "def scenario10x10() -> Tuple[GameBoard, GameState]:\n",
    "    shape = (10, 10)\n",
    "    board = GameBoard(shape)\n",
    "    state = GameState(shape)\n",
    " \n",
    "    terrain = np.zeros(shape, 'uint8')\n",
    "    terrain[:, 2] = 3  # forest\n",
    "    terrain[:, 7] = 3  # forest\n",
    "    terrain[5, :] = 1  # road\n",
    "    board.addTerrain(terrain)\n",
    " \n",
    "    goal = [Hex(5, 5)]\n",
    "    board.addObjectives(\n",
    "        GoalReachPoint(RED, shape, goal),\n",
    "        GoalDefendPoint(BLUE, RED, shape, goal),\n",
    "        GoalMaxTurn(BLUE, 6),\n",
    "        GoalEliminateOpponent(RED, BLUE),\n",
    "        GoalEliminateOpponent(BLUE, RED),\n",
    "    )\n",
    " \n",
    "    state.addFigure(\n",
    "        buildFigure('Infantry', (4, 0), RED, 'r_inf_1'),\n",
    "        buildFigure('Infantry', (6, 0), RED, 'r_inf_2'),\n",
    "        buildFigure('Infantry', (4, 9), BLUE, 'b_inf_1'),\n",
    "        buildFigure('Infantry', (6, 9), BLUE, 'b_inf_2'),\n",
    "    )\n",
    " \n",
    "    return board, state"
   ]
  },
  {
   "cell_type": "code",
   "execution_count": 24,
   "metadata": {},
   "outputs": [],
   "source": [
    "board,state=scenario10x10()"
   ]
  },
  {
   "cell_type": "code",
   "execution_count": 57,
   "metadata": {},
   "outputs": [],
   "source": [
    "gg=board.getObjectives(BLUE)"
   ]
  },
  {
   "cell_type": "code",
   "execution_count": 71,
   "metadata": {},
   "outputs": [
    {
     "data": {
      "text/plain": [
       "0.8571428571428572"
      ]
     },
     "execution_count": 71,
     "metadata": {},
     "output_type": "execute_result"
    }
   ],
   "source": [
    "gg[0].score(state,p)"
   ]
  },
  {
   "cell_type": "code",
   "execution_count": 62,
   "metadata": {},
   "outputs": [],
   "source": [
    "g2=board.getObjectives(RED)"
   ]
  },
  {
   "cell_type": "code",
   "execution_count": 67,
   "metadata": {},
   "outputs": [
    {
     "data": {
      "text/plain": [
       "2.0"
      ]
     },
     "execution_count": 67,
     "metadata": {},
     "output_type": "execute_result"
    }
   ],
   "source": [
    "g2[1].score(state,p)"
   ]
  },
  {
   "cell_type": "code",
   "execution_count": 72,
   "metadata": {},
   "outputs": [
    {
     "data": {
      "text/plain": [
       "<bound method GameState.getFigure of GameState(): -1:\n",
       "{'red': [r_inf_1(4, 0), r_inf_2(6, 0)], 'blue': [b_inf_1(4, 9), b_inf_2(6, 9)]}\n",
       "{'red': {(4, -2, -2): [0], (6, -3, -3): [1]}, 'blue': {(4, -11, 7): [0], (6, -12, 6): [1]}}>"
      ]
     },
     "execution_count": 72,
     "metadata": {},
     "output_type": "execute_result"
    }
   ],
   "source": [
    "state.getFigure"
   ]
  }
 ],
 "metadata": {
  "kernelspec": {
   "display_name": "Python 3",
   "language": "python",
   "name": "python3"
  },
  "language_info": {
   "codemirror_mode": {
    "name": "ipython",
    "version": 3
   },
   "file_extension": ".py",
   "mimetype": "text/x-python",
   "name": "python",
   "nbconvert_exporter": "python",
   "pygments_lexer": "ipython3",
   "version": "3.7.6"
  }
 },
 "nbformat": 4,
 "nbformat_minor": 4
}
