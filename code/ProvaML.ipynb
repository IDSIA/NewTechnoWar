{
 "cells": [
  {
   "cell_type": "code",
   "execution_count": 1,
   "metadata": {},
   "outputs": [
    {
     "name": "stdout",
     "output_type": "stream",
     "text": [
      "oh 0.6658089104700773\n",
      "ehi BLUE : Tank2      Pass\n",
      "SCHOOSEresponse BLUE : Tank2      Pass\n",
      "oh 0.6658089104700773\n",
      "ehi BLUE : Tank2      Pass\n",
      "SCHOOSEresponse BLUE : Tank2      Pass\n",
      "oh 0.3341910895299223\n",
      "ehi RED  : Tank1      Pass\n",
      "SCHOOSEACTION RED  : Tank1      Pass\n"
     ]
    },
    {
     "ename": "UnboundLocalError",
     "evalue": "local variable 'score' referenced before assignment",
     "output_type": "error",
     "traceback": [
      "\u001b[1;31m---------------------------------------------------------------------------\u001b[0m",
      "\u001b[1;31mUnboundLocalError\u001b[0m                         Traceback (most recent call last)",
      "\u001b[1;32m<ipython-input-1-7b4c97067de7>\u001b[0m in \u001b[0;36m<module>\u001b[1;34m\u001b[0m\n\u001b[0;32m     29\u001b[0m                 \u001b[0mmm\u001b[0m \u001b[1;33m=\u001b[0m \u001b[0mMatchManager\u001b[0m\u001b[1;33m(\u001b[0m\u001b[1;34m' '\u001b[0m\u001b[1;33m,\u001b[0m \u001b[0mplayerRed\u001b[0m\u001b[1;33m,\u001b[0m \u001b[0mplayerBlue\u001b[0m\u001b[1;33m,\u001b[0m \u001b[0mboard\u001b[0m\u001b[1;33m,\u001b[0m \u001b[0mstate\u001b[0m\u001b[1;33m,\u001b[0m \u001b[0mseed\u001b[0m\u001b[1;33m=\u001b[0m\u001b[1;36m42\u001b[0m \u001b[1;33m+\u001b[0m \u001b[0mi\u001b[0m\u001b[1;33m)\u001b[0m\u001b[1;33m\u001b[0m\u001b[1;33m\u001b[0m\u001b[0m\n\u001b[0;32m     30\u001b[0m                 \u001b[1;32mwhile\u001b[0m \u001b[1;32mnot\u001b[0m \u001b[0mmm\u001b[0m\u001b[1;33m.\u001b[0m\u001b[0mend\u001b[0m\u001b[1;33m:\u001b[0m\u001b[1;33m\u001b[0m\u001b[1;33m\u001b[0m\u001b[0m\n\u001b[1;32m---> 31\u001b[1;33m                     \u001b[0mmm\u001b[0m\u001b[1;33m.\u001b[0m\u001b[0mnextStep\u001b[0m\u001b[1;33m(\u001b[0m\u001b[1;33m)\u001b[0m\u001b[1;33m\u001b[0m\u001b[1;33m\u001b[0m\u001b[0m\n\u001b[0m",
      "\u001b[1;32m~\\Documents\\Master\\SecondoProgetto\\newtechnowar-webui\\code\\agents\\matchmanager.py\u001b[0m in \u001b[0;36mnextStep\u001b[1;34m(self)\u001b[0m\n\u001b[0;32m    211\u001b[0m         \u001b[1;34m\"\"\"Go to the next step\"\"\"\u001b[0m\u001b[1;33m\u001b[0m\u001b[1;33m\u001b[0m\u001b[0m\n\u001b[0;32m    212\u001b[0m         \u001b[0mlogging\u001b[0m\u001b[1;33m.\u001b[0m\u001b[0mdebug\u001b[0m\u001b[1;33m(\u001b[0m\u001b[1;34m'next: step'\u001b[0m\u001b[1;33m)\u001b[0m\u001b[1;33m\u001b[0m\u001b[1;33m\u001b[0m\u001b[0m\n\u001b[1;32m--> 213\u001b[1;33m         \u001b[0mself\u001b[0m\u001b[1;33m.\u001b[0m\u001b[0mstep\u001b[0m\u001b[1;33m(\u001b[0m\u001b[1;33m)\u001b[0m\u001b[1;33m\u001b[0m\u001b[1;33m\u001b[0m\u001b[0m\n\u001b[0m\u001b[0;32m    214\u001b[0m \u001b[1;33m\u001b[0m\u001b[0m\n\u001b[0;32m    215\u001b[0m     \u001b[1;32mdef\u001b[0m \u001b[0mnextTurn\u001b[0m\u001b[1;33m(\u001b[0m\u001b[0mself\u001b[0m\u001b[1;33m)\u001b[0m\u001b[1;33m:\u001b[0m\u001b[1;33m\u001b[0m\u001b[1;33m\u001b[0m\u001b[0m\n",
      "\u001b[1;32m~\\Documents\\Master\\SecondoProgetto\\newtechnowar-webui\\code\\agents\\matchmanager.py\u001b[0m in \u001b[0;36m_goResponse\u001b[1;34m(self)\u001b[0m\n\u001b[0;32m    136\u001b[0m \u001b[1;33m\u001b[0m\u001b[0m\n\u001b[0;32m    137\u001b[0m         \u001b[1;32mtry\u001b[0m\u001b[1;33m:\u001b[0m\u001b[1;33m\u001b[0m\u001b[1;33m\u001b[0m\u001b[0m\n\u001b[1;32m--> 138\u001b[1;33m             \u001b[0mresponse\u001b[0m \u001b[1;33m=\u001b[0m \u001b[0mself\u001b[0m\u001b[1;33m.\u001b[0m\u001b[0msecond\u001b[0m\u001b[1;33m.\u001b[0m\u001b[0mchooseResponse\u001b[0m\u001b[1;33m(\u001b[0m\u001b[0mself\u001b[0m\u001b[1;33m.\u001b[0m\u001b[0mboard\u001b[0m\u001b[1;33m,\u001b[0m \u001b[0mself\u001b[0m\u001b[1;33m.\u001b[0m\u001b[0mstate\u001b[0m\u001b[1;33m)\u001b[0m\u001b[1;33m\u001b[0m\u001b[1;33m\u001b[0m\u001b[0m\n\u001b[0m\u001b[0;32m    139\u001b[0m             \u001b[0moutcome\u001b[0m \u001b[1;33m=\u001b[0m \u001b[0mGM\u001b[0m\u001b[1;33m.\u001b[0m\u001b[0mstep\u001b[0m\u001b[1;33m(\u001b[0m\u001b[0mself\u001b[0m\u001b[1;33m.\u001b[0m\u001b[0mboard\u001b[0m\u001b[1;33m,\u001b[0m \u001b[0mself\u001b[0m\u001b[1;33m.\u001b[0m\u001b[0mstate\u001b[0m\u001b[1;33m,\u001b[0m \u001b[0mresponse\u001b[0m\u001b[1;33m)\u001b[0m\u001b[1;33m\u001b[0m\u001b[1;33m\u001b[0m\u001b[0m\n\u001b[0;32m    140\u001b[0m \u001b[1;33m\u001b[0m\u001b[0m\n",
      "\u001b[1;32m~\\Documents\\Master\\SecondoProgetto\\newtechnowar-webui\\code\\agents\\ml\\simple.py\u001b[0m in \u001b[0;36mchooseResponse\u001b[1;34m(self, board, state)\u001b[0m\n\u001b[0;32m     83\u001b[0m                 \u001b[0mscores\u001b[0m\u001b[1;33m.\u001b[0m\u001b[0mappend\u001b[0m\u001b[1;33m(\u001b[0m\u001b[1;33m(\u001b[0m\u001b[0mscore\u001b[0m\u001b[1;33m,\u001b[0m \u001b[0maction\u001b[0m\u001b[1;33m)\u001b[0m\u001b[1;33m)\u001b[0m\u001b[1;33m\u001b[0m\u001b[1;33m\u001b[0m\u001b[0m\n\u001b[0;32m     84\u001b[0m                 \u001b[1;31m# in scores avrò tutte le probabilità legata a quella specifica azione\u001b[0m\u001b[1;33m\u001b[0m\u001b[1;33m\u001b[0m\u001b[1;33m\u001b[0m\u001b[0m\n\u001b[1;32m---> 85\u001b[1;33m         \u001b[0mbestaction\u001b[0m \u001b[1;33m=\u001b[0m \u001b[0mself\u001b[0m\u001b[1;33m.\u001b[0m\u001b[0mbestAction\u001b[0m\u001b[1;33m(\u001b[0m\u001b[0mscores\u001b[0m\u001b[1;33m)\u001b[0m\u001b[1;33m\u001b[0m\u001b[1;33m\u001b[0m\u001b[0m\n\u001b[0m\u001b[0;32m     86\u001b[0m         \u001b[0mprint\u001b[0m\u001b[1;33m(\u001b[0m\u001b[1;34m\"SCHOOSEresponse\"\u001b[0m\u001b[1;33m,\u001b[0m \u001b[0mbestaction\u001b[0m\u001b[1;33m)\u001b[0m\u001b[1;33m\u001b[0m\u001b[1;33m\u001b[0m\u001b[0m\n\u001b[0;32m     87\u001b[0m \u001b[1;33m\u001b[0m\u001b[0m\n",
      "\u001b[1;32m~\\Documents\\Master\\SecondoProgetto\\newtechnowar-webui\\code\\agents\\ml\\simple.py\u001b[0m in \u001b[0;36mbestAction\u001b[1;34m(self, scores)\u001b[0m\n\u001b[0;32m     34\u001b[0m \u001b[1;33m\u001b[0m\u001b[0m\n\u001b[0;32m     35\u001b[0m                 \u001b[1;31m# devo usare team? stile if self.team== red allora else altro?\u001b[0m\u001b[1;33m\u001b[0m\u001b[1;33m\u001b[0m\u001b[1;33m\u001b[0m\u001b[0m\n\u001b[1;32m---> 36\u001b[1;33m         \u001b[0mprint\u001b[0m\u001b[1;33m(\u001b[0m\u001b[1;34m\"oh\"\u001b[0m\u001b[1;33m,\u001b[0m \u001b[0mscore\u001b[0m\u001b[1;33m)\u001b[0m\u001b[1;33m\u001b[0m\u001b[1;33m\u001b[0m\u001b[0m\n\u001b[0m\u001b[0;32m     37\u001b[0m         \u001b[0mprint\u001b[0m\u001b[1;33m(\u001b[0m\u001b[1;34m\"ehi\"\u001b[0m\u001b[1;33m,\u001b[0m \u001b[0mbestAction\u001b[0m\u001b[1;33m)\u001b[0m\u001b[1;33m\u001b[0m\u001b[1;33m\u001b[0m\u001b[0m\n\u001b[0;32m     38\u001b[0m         \u001b[1;32mreturn\u001b[0m \u001b[0mbestAction\u001b[0m\u001b[1;33m\u001b[0m\u001b[1;33m\u001b[0m\u001b[0m\n",
      "\u001b[1;31mUnboundLocalError\u001b[0m: local variable 'score' referenced before assignment"
     ]
    }
   ],
   "source": [
    "from agents.matchmanager import MatchManager\n",
    "\n",
    "from itertools import product\n",
    "\n",
    "from agents import GreedyAgent, AlphaBetaAgent\n",
    "from scenarios import scenarioJunction, scenarioJunctionExo, scenarioTest1v1, scenarioTest2v2\n",
    "from core.const import RED, BLUE\n",
    "from agents.ml.simple import SimpleMLAgent\n",
    "\n",
    "if __name__ == '__main__':\n",
    "    agents = [GreedyAgent,SimpleMLAgent]\n",
    "    scenarios = [scenarioTest1v1]\n",
    "    for i in range(0, 1):\n",
    "        for s in scenarios:\n",
    "            for agentRed, agentBlue in product(agents, agents):\n",
    "                board, state = s()\n",
    "                if agentRed == SimpleMLAgent and agentBlue==SimpleMLAgent:\n",
    "                    playerRed = agentRed(RED, {'scenario': board.name, 'model': 'RandomForestClassifier'})\n",
    "                    playerBlue = agentBlue(BLUE, {'scenario': board.name, 'model': 'RandomForestClassifier'})\n",
    "                elif agentRed== SimpleMLAgent and agentBlue!=SimpleMLAgent:\n",
    "                    playerRed = agentRed(RED, {'scenario': board.name, 'model': 'RandomForestClassifier'})\n",
    "                    playerBlue = agentBlue(BLUE)\n",
    "                elif agentBlue == SimpleMLAgent and agentRed!=SimpleMLAgent:\n",
    "                    playerBlue = agentBlue(BLUE, {'scenario': board.name, 'model': 'RandomForestClassifier'})\n",
    "                    playerRed = agentRed(RED)\n",
    "                else:\n",
    "                    playerBlue = agentBlue(BLUE)\n",
    "                    playerRed = agentRed(RED)\n",
    "                mm = MatchManager(' ', playerRed, playerBlue, board, state, seed=42 + i)\n",
    "                while not mm.end:\n",
    "                    mm.nextStep()\n"
   ]
  },
  {
   "cell_type": "code",
   "execution_count": null,
   "metadata": {},
   "outputs": [],
   "source": []
  }
 ],
 "metadata": {
  "kernelspec": {
   "display_name": "Python 3",
   "language": "python",
   "name": "python3"
  },
  "language_info": {
   "codemirror_mode": {
    "name": "ipython",
    "version": 3
   },
   "file_extension": ".py",
   "mimetype": "text/x-python",
   "name": "python",
   "nbconvert_exporter": "python",
   "pygments_lexer": "ipython3",
   "version": "3.7.3"
  }
 },
 "nbformat": 4,
 "nbformat_minor": 2
}
