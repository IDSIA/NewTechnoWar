{
 "cells": [
  {
   "cell_type": "code",
   "execution_count": 15,
   "metadata": {},
   "outputs": [],
   "source": [
    "from agents.matchmanager import MatchManager\n",
    "\n",
    "from itertools import product\n",
    "\n",
    "from agents import GreedyAgent, AlphaBetaAgent\n",
    "from scenarios import scenarioJunction, scenarioJunctionExo, scenarioTest1v1, scenarioTest2v2\n",
    "from core.const import RED, BLUE\n",
    "from agents.ml.simple import SimpleMLAgent\n",
    "import json\n",
    "\n",
    "\n",
    "if __name__ == '__main__':\n",
    "    agents = [GreedyAgent,SimpleMLAgent]\n",
    "    scenarios = [scenarioTest1v1]\n",
    "    for i in range(0, 1):\n",
    "        for s in scenarios:\n",
    "            for agentRed, agentBlue in product(agents, agents):\n",
    "                board, state = s()\n",
    "                if agentRed == SimpleMLAgent and agentBlue==SimpleMLAgent:\n",
    "                    playerRed = agentRed(RED, {'scenario': board.name, 'model': 'RandomForestClassifier'})\n",
    "                    playerBlue = agentBlue(BLUE, {'scenario': board.name, 'model': 'RandomForestClassifier'})\n",
    "                elif agentRed== SimpleMLAgent and agentBlue!=SimpleMLAgent:\n",
    "                    playerRed = agentRed(RED, {'scenario': board.name, 'model': 'RandomForestClassifier'})\n",
    "                    playerBlue = agentBlue(BLUE)\n",
    "                elif agentBlue == SimpleMLAgent and agentRed!=SimpleMLAgent:\n",
    "                    playerBlue = agentBlue(BLUE, {'scenario': board.name, 'model': 'RandomForestClassifier'})\n",
    "                    playerRed = agentRed(RED)\n",
    "                else:\n",
    "                    playerBlue = agentBlue(BLUE)\n",
    "                    playerRed = agentRed(RED)\n",
    "                mm = MatchManager(' ', playerRed, playerBlue, board, state, seed=42 + i)\n",
    "                while not mm.end:\n",
    "                    mm.nextStep()\n",
    "                save={\n",
    "                    'scenario':board.name,\n",
    "                    'seed':42+i,\n",
    "                    'teamRed':playerRed.name,\n",
    "                    'teamBlue':playerBlue.name,\n",
    "                    'winner':mm.winner\n",
    "                }\n",
    "                file_name=f'output/{playerRed.name}_{playerBlue.name}_{board.name}_{i}.json'\n",
    "                with open(file_name, 'w') as json_file:\n",
    "                    json.dump(save, json_file)\n"
   ]
  },
  {
   "cell_type": "code",
   "execution_count": 2,
   "metadata": {},
   "outputs": [
    {
     "data": {
      "text/plain": [
       "Pipeline(steps=[('preprocessor',\n",
       "                 ColumnTransformer(transformers=[('cat',\n",
       "                                                  Pipeline(steps=[('onehot',\n",
       "                                                                   OneHotEncoder(handle_unknown='ignore'))]),\n",
       "                                                  Index(['team_red_2_0', 'name_red_2_0', 'stat-name_red_2_0', 'team_blue_2_0',\n",
       "       'name_blue_2_0', 'stat-name_blue_2_0'],\n",
       "      dtype='object'))])),\n",
       "                ('classifier', RandomForestClassifier())])"
      ]
     },
     "execution_count": 2,
     "metadata": {},
     "output_type": "execute_result"
    }
   ],
   "source": [
    "playerBlue.model"
   ]
  },
  {
   "cell_type": "code",
   "execution_count": null,
   "metadata": {},
   "outputs": [],
   "source": []
  },
  {
   "cell_type": "code",
   "execution_count": 10,
   "metadata": {},
   "outputs": [
    {
     "data": {
      "text/plain": [
       "'SimpleML'"
      ]
     },
     "execution_count": 10,
     "metadata": {},
     "output_type": "execute_result"
    }
   ],
   "source": [
    "playerBlue.name"
   ]
  }
 ],
 "metadata": {
  "kernelspec": {
   "display_name": "Python 3",
   "language": "python",
   "name": "python3"
  },
  "language_info": {
   "codemirror_mode": {
    "name": "ipython",
    "version": 3
   },
   "file_extension": ".py",
   "mimetype": "text/x-python",
   "name": "python",
   "nbconvert_exporter": "python",
   "pygments_lexer": "ipython3",
   "version": "3.7.3"
  }
 },
 "nbformat": 4,
 "nbformat_minor": 2
}
