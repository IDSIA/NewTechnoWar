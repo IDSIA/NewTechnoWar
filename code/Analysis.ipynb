{
 "cells": [
  {
   "cell_type": "markdown",
   "metadata": {},
   "source": [
    "# Analisi univariata e bivariata\n"
   ]
  },
  {
   "cell_type": "code",
   "execution_count": null,
   "metadata": {},
   "outputs": [],
   "source": [
    "from sklearn.model_selection import train_test_split\n",
    "from sklearn.ensemble import RandomForestClassifier\n",
    "import pandas as pd\n",
    "from sklearn.metrics import classification_report, confusion_matrix\n",
    "from sklearn import metrics\n",
    "import seaborn as sns\n",
    "import numpy as np\n",
    "from sklearn import preprocessing\n",
    "import matplotlib.pyplot as plt\n",
    "from boruta import BorutaPy\n",
    "from sklearn.ensemble import RandomForestRegressor\n",
    "from sklearn.svm import SVC\n",
    "from sklearn.svm import LinearSVC\n",
    "from sklearn.naive_bayes import GaussianNB\n",
    "from sklearn.preprocessing import OneHotEncoder\n",
    "\n"
   ]
  },
  {
   "cell_type": "code",
   "execution_count": null,
   "metadata": {},
   "outputs": [],
   "source": [
    "df=pd.read_csv('../docs/csv/csvscenarioJunctionExo.csv',index_col=0)"
   ]
  },
  {
   "cell_type": "code",
   "execution_count": null,
   "metadata": {},
   "outputs": [],
   "source": [
    "c=df.select_dtypes(include='object').columns.tolist()\n"
   ]
  },
  {
   "cell_type": "code",
   "execution_count": null,
   "metadata": {},
   "outputs": [],
   "source": [
    "le_df=df\n",
    "le = preprocessing.LabelEncoder()\n",
    "le_df[c] = df[c].apply(lambda col: le.fit_transform(col))"
   ]
  },
  {
   "cell_type": "code",
   "execution_count": null,
   "metadata": {},
   "outputs": [],
   "source": [
    "x=le_df.columns\n",
    "y=le_df['win']"
   ]
  },
  {
   "cell_type": "code",
   "execution_count": null,
   "metadata": {},
   "outputs": [],
   "source": [
    "for i in x:\n",
    "    sns.FacetGrid(le_df,hue='win',size=5).map(sns.distplot,i).add_legend()"
   ]
  },
  {
   "cell_type": "code",
   "execution_count": null,
   "metadata": {},
   "outputs": [],
   "source": [
    "for i in range(len(x)):\n",
    "    plt.figure()\n",
    "    plt.plot(df[x[i]],y)\n",
    "    # Show/save figure as desired.\n",
    "    plt.show()"
   ]
  },
  {
   "cell_type": "code",
   "execution_count": null,
   "metadata": {},
   "outputs": [],
   "source": [
    "x=le_df.columns\n",
    "y=le_df['win']\n",
    "for i in range(len(x)):\n",
    "    plt.scatter(df.index,df[x[i]])\n",
    "    plt.show()"
   ]
  },
  {
   "cell_type": "code",
   "execution_count": null,
   "metadata": {},
   "outputs": [],
   "source": [
    "x=le_df.columns\n",
    "y=le_df['win']\n",
    "for i in range(len(x)):\n",
    "    plt.hist(le_df[x[i]])\n",
    "    plt.show()"
   ]
  },
  {
   "cell_type": "code",
   "execution_count": null,
   "metadata": {},
   "outputs": [],
   "source": [
    "df['stat-name_red_Tank1'].value_counts().plot.bar()\n"
   ]
  },
  {
   "cell_type": "code",
   "execution_count": null,
   "metadata": {},
   "outputs": [],
   "source": [
    "df['hp_red_Tank1'].value_counts().sort_index().plot.line()"
   ]
  },
  {
   "cell_type": "code",
   "execution_count": null,
   "metadata": {},
   "outputs": [],
   "source": [
    "\n",
    "df['hp_red_Tank1'].plot.hist()"
   ]
  },
  {
   "cell_type": "code",
   "execution_count": null,
   "metadata": {},
   "outputs": [],
   "source": [
    "le_df.plot.scatter(x='move_red_Tank1', y='win')"
   ]
  },
  {
   "cell_type": "code",
   "execution_count": null,
   "metadata": {},
   "outputs": [],
   "source": [
    "for i in range(len(x)):\n",
    "    sns.boxplot(x=x[i],y='win',data=le_df)\n",
    "    plt.show()"
   ]
  },
  {
   "cell_type": "markdown",
   "metadata": {},
   "source": [
    "# Analisi game\n"
   ]
  },
  {
   "cell_type": "code",
   "execution_count": 1,
   "metadata": {},
   "outputs": [],
   "source": [
    "from agents.matchmanager import MatchManager\n",
    "\n",
    "from itertools import product\n",
    "\n",
    "from agents import GreedyAgent, AlphaBetaAgent, RandomAgent\n",
    "from scenarios import scenarioJunction, scenarioJunctionExo, scenarioTest1v1, scenarioTest2v2\n",
    "from core.const import RED, BLUE\n",
    "from agents.ml.simple import SimpleMLAgent\n",
    "import json"
   ]
  },
  {
   "cell_type": "code",
   "execution_count": 2,
   "metadata": {},
   "outputs": [],
   "source": [
    "agents = ['RandomAgent','SimpleML','GreedyAgent']\n",
    "scenarios = ['Test1v1', 'Test2v2', 'Junction']"
   ]
  },
  {
   "cell_type": "code",
   "execution_count": 3,
   "metadata": {},
   "outputs": [],
   "source": [
    "info=[]\n",
    "match_random=0\n",
    "win_random=0\n",
    "match_greedy=0\n",
    "win_greedy=0\n",
    "for i in range(0, 100):\n",
    "    for s in scenarios:\n",
    "        for agentRed, agentBlue in product(agents, agents):\n",
    "            file_name=f'output/{agentRed}_{agentBlue}_{s}_{i}.json'\n",
    "            data=json.load(open(file_name))\n",
    "            if (data['teamRed']=='SimpleML' and data['teamBlue']=='RandomAgent') or (data['teamRed']=='RandomAgent' and data['teamBlue']=='SimpleML'):\n",
    "                match_random+=1\n",
    "                if (data['teamRed']=='SimpleML' and data['winner']=='red') or (data['teamBlue']=='SimpleML' and data['winner']=='blue'):\n",
    "                    win_random+=1\n",
    "            elif (data['teamRed']=='SimpleML' and data['teamBlue']=='GreedyAgent') or (data['teamRed']=='GreedyAgent' and data['teamBlue']=='SimpleML'):\n",
    "                match_greedy+=1\n",
    "                if (data['teamRed']=='SimpleML' and data['winner']=='red') or (data['teamBlue']=='SimpleML' and data['winner']=='blue'):\n",
    "                    win_greedy+=1\n",
    "            \n",
    "            '''if data['teamRed']=='SimpleML' or data['teamBlue']=='SimpleML':\n",
    "                info.append(data)'''\n",
    "\n",
    "            "
   ]
  },
  {
   "cell_type": "code",
   "execution_count": 4,
   "metadata": {},
   "outputs": [
    {
     "name": "stdout",
     "output_type": "stream",
     "text": [
      "Percentuale vittoria contro agente Random 63.83333333333333\n",
      "Percentuale vittoria contro agente Greedy 21.5\n",
      "Percentuale vittoria totale 42.66666666666667\n"
     ]
    }
   ],
   "source": [
    "print('Percentuale vittoria contro agente Random',win_random/match_random*100)\n",
    "print('Percentuale vittoria contro agente Greedy',win_greedy/match_greedy*100)\n",
    "print('Percentuale vittoria totale',((win_greedy+win_random)/(match_greedy+match_random))*100)"
   ]
  },
  {
   "cell_type": "markdown",
   "metadata": {},
   "source": [
    "info=[]\n",
    "for i in range(len(info)):\n",
    "    if (info[i]['teamRed']=='SimpleML' and info[i]['teamBlue']=='RandomAgent') or (info[i]['teamRed']=='RandomAgent' and info[i]['teamBlue']=='SimpleML'):\n",
    "        match_random+=1\n",
    "        if (info[i]['teamRed']=='SimpleML' and info[i]['winner']=='red') or (info[i]['teamBlue']=='SimpleML' and info[i]['winner']=='blue'):\n",
    "            win_random+=1\n",
    "    elif (info[i]['teamRed']=='SimpleML' and info[i]['teamBlue']=='GreedyAgent') or (info[i]['teamRed']=='GreedyAgent' and info[i]['teamBlue']=='SimpleML'):\n",
    "        match_greedy+=1\n",
    "        if (info[i]['teamRed']=='SimpleML' and info[i]['winner']=='red') or (info[i]['teamBlue']=='SimpleML' and info[i]['winner']=='blue'):\n",
    "            win_greedy+=1\n",
    "    \n",
    "        \n",
    "        "
   ]
  }
 ],
 "metadata": {
  "kernelspec": {
   "display_name": "Python 3",
   "language": "python",
   "name": "python3"
  },
  "language_info": {
   "codemirror_mode": {
    "name": "ipython",
    "version": 3
   },
   "file_extension": ".py",
   "mimetype": "text/x-python",
   "name": "python",
   "nbconvert_exporter": "python",
   "pygments_lexer": "ipython3",
   "version": "3.7.3"
  }
 },
 "nbformat": 4,
 "nbformat_minor": 2
}
