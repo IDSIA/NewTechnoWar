{
 "cells": [
  {
   "cell_type": "code",
   "execution_count": 1,
   "metadata": {},
   "outputs": [],
   "source": [
    "from sklearn.model_selection import train_test_split\n",
    "import pandas as pd\n",
    "from sklearn import preprocessing\n",
    "from sklearn.ensemble import RandomForestRegressor\n",
    "from sklearn.naive_bayes import GaussianNB\n",
    "from sklearn.pipeline import Pipeline\n",
    "from sklearn.preprocessing import StandardScaler, OneHotEncoder\n",
    "from sklearn.compose import ColumnTransformer\n",
    "from sklearn.neighbors import KNeighborsClassifier\n",
    "from sklearn.svm import SVC, LinearSVC, NuSVC\n",
    "from sklearn.tree import DecisionTreeClassifier\n",
    "from sklearn.ensemble import RandomForestClassifier, AdaBoostClassifier, GradientBoostingClassifier\n",
    "from sklearn.discriminant_analysis import LinearDiscriminantAnalysis\n",
    "from sklearn.discriminant_analysis import QuadraticDiscriminantAnalysis\n",
    "import joblib\n"
   ]
  },
  {
   "cell_type": "code",
   "execution_count": 2,
   "metadata": {},
   "outputs": [],
   "source": [
    "df = pd.read_pickle('../../data.scenarioTest2v2.pkl.gz')\n"
   ]
  },
  {
   "cell_type": "code",
   "execution_count": 3,
   "metadata": {},
   "outputs": [],
   "source": [
    "def pipeline(df):\n",
    "    X = df.drop('winner', axis=1)\n",
    "    y = df['winner']\n",
    "    X_train, X_test, y_train, y_test = train_test_split(X, y, test_size=0.2)\n",
    "    \n",
    "    categorical_transformer = Pipeline(steps=[('onehot', OneHotEncoder(handle_unknown='ignore'))])\n",
    "    c=df.select_dtypes(include=['object']).drop(['winner'], axis=1).columns\n",
    "    preprocessor = ColumnTransformer(transformers=[('cat', categorical_transformer, c)])\n",
    "    rf = Pipeline(steps=[('preprocessor', preprocessor),('classifier', RandomForestClassifier())])\n",
    "    rf.fit(X_train, y_train)\n",
    "    y_pred = rf.predict(X_test)\n",
    "    print(y_pred)\n"
   ]
  },
  {
   "cell_type": "code",
   "execution_count": 4,
   "metadata": {},
   "outputs": [],
   "source": [
    "def pipeline_save(df):\n",
    "    X = df.drop('winner', axis=1)\n",
    "    y = df['winner']    \n",
    "    categorical_transformer = Pipeline(steps=[('onehot', OneHotEncoder(handle_unknown='ignore'))])\n",
    "    c=df.select_dtypes(include=['object']).drop(['winner'], axis=1).columns\n",
    "    preprocessor = ColumnTransformer(transformers=[('cat', categorical_transformer, c)])\n",
    "    rf = Pipeline(steps=[('preprocessor', preprocessor),('classifier', RandomForestClassifier())])\n",
    "    rf.fit(X, y)\n",
    "    return(rf)\n"
   ]
  },
  {
   "cell_type": "code",
   "execution_count": 5,
   "metadata": {},
   "outputs": [],
   "source": [
    "def pipelineClassifier(df):   \n",
    "    X = df.drop('winner', axis=1)\n",
    "    y = df['winner']\n",
    "    X_train, X_test, y_train, y_test = train_test_split(X, y, test_size=0.2)\n",
    "\n",
    "    categorical_transformer = Pipeline(steps=[('onehot', OneHotEncoder(handle_unknown='ignore'))])\n",
    "    c=df.select_dtypes(include=['object']).drop(['winner'], axis=1).columns\n",
    "    preprocessor = ColumnTransformer(transformers=[('cat', categorical_transformer, c)])\n",
    "    classifiers = [\n",
    "        KNeighborsClassifier(3),\n",
    "        SVC(kernel=\"rbf\", C=0.025, probability=True),\n",
    "        NuSVC(probability=True),\n",
    "        DecisionTreeClassifier(),\n",
    "        RandomForestClassifier(),\n",
    "        AdaBoostClassifier(),\n",
    "        GradientBoostingClassifier()\n",
    "        ]\n",
    "    for classifier in classifiers:\n",
    "        pipe = Pipeline(steps=[('preprocessor', preprocessor),\n",
    "                          ('classifier', classifier)])\n",
    "        pipe.fit(X_train, y_train)   \n",
    "        print(classifier)\n",
    "        print(\"model score: %.3f\" % pipe.score(X_test, y_test))"
   ]
  },
  {
   "cell_type": "code",
   "execution_count": 6,
   "metadata": {},
   "outputs": [
    {
     "name": "stdout",
     "output_type": "stream",
     "text": [
      "KNeighborsClassifier(n_neighbors=3)\n",
      "model score: 0.696\n",
      "SVC(C=0.025, probability=True)\n",
      "model score: 0.721\n",
      "NuSVC(probability=True)\n",
      "model score: 0.722\n",
      "DecisionTreeClassifier()\n",
      "model score: 0.745\n",
      "RandomForestClassifier()\n",
      "model score: 0.744\n",
      "AdaBoostClassifier()\n",
      "model score: 0.728\n",
      "GradientBoostingClassifier()\n",
      "model score: 0.739\n"
     ]
    }
   ],
   "source": [
    "pipelineClassifier(df)"
   ]
  },
  {
   "cell_type": "code",
   "execution_count": 7,
   "metadata": {},
   "outputs": [
    {
     "data": {
      "text/plain": [
       "['model.joblib']"
      ]
     },
     "execution_count": 7,
     "metadata": {},
     "output_type": "execute_result"
    }
   ],
   "source": [
    "joblib.dump(pipeline_save(df), 'model.joblib')\n"
   ]
  }
 ],
 "metadata": {
  "kernelspec": {
   "display_name": "Python 3",
   "language": "python",
   "name": "python3"
  },
  "language_info": {
   "codemirror_mode": {
    "name": "ipython",
    "version": 3
   },
   "file_extension": ".py",
   "mimetype": "text/x-python",
   "name": "python",
   "nbconvert_exporter": "python",
   "pygments_lexer": "ipython3",
   "version": "3.7.3"
  }
 },
 "nbformat": 4,
 "nbformat_minor": 2
}
