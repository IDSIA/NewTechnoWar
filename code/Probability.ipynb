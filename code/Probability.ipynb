{
 "cells": [
  {
   "cell_type": "code",
   "execution_count": 3,
   "metadata": {},
   "outputs": [],
   "source": [
    "from agents.matchmanager import MatchManager,buildMatchManager\n",
    "from itertools import product\n",
    "from agents import GreedyAgent, AlphaBetaAgent, RandomAgent\n",
    "from scenarios import scenarioJunction, scenarioJunctionExo, scenarioTest1v1, scenarioTest2v2\n",
    "from core.const import RED, BLUE\n",
    "from agents.ml.simple import SimpleMLAgent\n",
    "from agents.ml.regressor import RegressorAgent\n",
    "import json\n",
    "import pandas as pd\n",
    "from sklearn.model_selection import train_test_split\n",
    "from sklearn.ensemble import RandomForestClassifier\n",
    "from sklearn import metrics\n",
    "import seaborn as sns\n",
    "from sklearn.metrics import classification_report, confusion_matrix\n",
    "import warnings\n",
    "import numpy as np\n",
    "from sklearn.feature_selection import VarianceThreshold\n",
    "from sklearn import preprocessing\n",
    "import matplotlib.pyplot as plt\n",
    "from sklearn.svm import SVC\n",
    "from sklearn.model_selection import StratifiedKFold\n",
    "from sklearn.feature_selection import RFECV\n",
    "from sklearn.datasets import make_classification\n",
    "from sklearn.feature_selection import SelectFromModel\n",
    "from sklearn.linear_model import LassoCV\n",
    "from sklearn.feature_selection import RFE\n",
    "import random\n",
    "from sklearn.ensemble import ExtraTreesClassifier\n"
   ]
  },
  {
   "cell_type": "code",
   "execution_count": 4,
   "metadata": {},
   "outputs": [
    {
     "name": "stdout",
     "output_type": "stream",
     "text": [
      "BEST ACTION RED  : rTank3    : Moved to (22, 36)\n",
      "ENTRO IN RESPONSE\n"
     ]
    },
    {
     "name": "stderr",
     "output_type": "stream",
     "text": [
      "C:\\Users\\Nicol\\Documents\\Master\\SecondoProgetto\\newtechnowar-webui\\code\\agents\\ml\\regressor.py:38: RuntimeWarning: invalid value encountered in true_divide\n",
      "  return -(norm * np.log(norm) / np.log(len(res))).sum()\n"
     ]
    },
    {
     "name": "stdout",
     "output_type": "stream",
     "text": [
      "BEST RESPONSE BLUE : bInf1     : Attack rTank3 with Anti-tank weapon in response\n",
      "BEST ACTION RED  : rInf4     : Attack bInf1 with Mortar\n",
      "ENTRO IN RESPONSE\n",
      "BEST RESPONSE BLUE : Pass in response\n",
      "BEST ACTION RED  : rInf3      Pass\n"
     ]
    },
    {
     "ename": "KeyboardInterrupt",
     "evalue": "",
     "output_type": "error",
     "traceback": [
      "\u001b[1;31m---------------------------------------------------------------------------\u001b[0m",
      "\u001b[1;31mKeyboardInterrupt\u001b[0m                         Traceback (most recent call last)",
      "\u001b[1;32m<ipython-input-4-5586587c1ff8>\u001b[0m in \u001b[0;36m<module>\u001b[1;34m\u001b[0m\n\u001b[0;32m      6\u001b[0m     \u001b[0mmm\u001b[0m \u001b[1;33m=\u001b[0m \u001b[0mMatchManager\u001b[0m\u001b[1;33m(\u001b[0m\u001b[1;34m' '\u001b[0m\u001b[1;33m,\u001b[0m \u001b[0mplayerRed\u001b[0m\u001b[1;33m,\u001b[0m \u001b[0mplayerBlue\u001b[0m\u001b[1;33m,\u001b[0m \u001b[0mboard\u001b[0m\u001b[1;33m,\u001b[0m \u001b[0mstate\u001b[0m\u001b[1;33m,\u001b[0m \u001b[0mseed\u001b[0m\u001b[1;33m=\u001b[0m\u001b[1;36m42\u001b[0m\u001b[1;33m)\u001b[0m\u001b[1;33m\u001b[0m\u001b[1;33m\u001b[0m\u001b[0m\n\u001b[0;32m      7\u001b[0m     \u001b[1;32mwhile\u001b[0m \u001b[1;32mnot\u001b[0m \u001b[0mmm\u001b[0m\u001b[1;33m.\u001b[0m\u001b[0mend\u001b[0m\u001b[1;33m:\u001b[0m\u001b[1;33m\u001b[0m\u001b[1;33m\u001b[0m\u001b[0m\n\u001b[1;32m----> 8\u001b[1;33m         \u001b[0mmm\u001b[0m\u001b[1;33m.\u001b[0m\u001b[0mnextStep\u001b[0m\u001b[1;33m(\u001b[0m\u001b[1;33m)\u001b[0m\u001b[1;33m\u001b[0m\u001b[1;33m\u001b[0m\u001b[0m\n\u001b[0m\u001b[0;32m      9\u001b[0m     \u001b[0mdfs\u001b[0m\u001b[1;33m.\u001b[0m\u001b[0mappend\u001b[0m\u001b[1;33m(\u001b[0m\u001b[0mplayerBlue\u001b[0m\u001b[1;33m.\u001b[0m\u001b[0mcreateDf\u001b[0m\u001b[1;33m(\u001b[0m\u001b[0mi\u001b[0m\u001b[1;33m)\u001b[0m\u001b[1;33m)\u001b[0m\u001b[1;33m\u001b[0m\u001b[1;33m\u001b[0m\u001b[0m\n\u001b[0;32m     10\u001b[0m     \u001b[0mdfs\u001b[0m\u001b[1;33m.\u001b[0m\u001b[0mappend\u001b[0m\u001b[1;33m(\u001b[0m\u001b[0mplayerRed\u001b[0m\u001b[1;33m.\u001b[0m\u001b[0mcreateDf\u001b[0m\u001b[1;33m(\u001b[0m\u001b[0mi\u001b[0m\u001b[1;33m)\u001b[0m\u001b[1;33m)\u001b[0m\u001b[1;33m\u001b[0m\u001b[1;33m\u001b[0m\u001b[0m\n",
      "\u001b[1;32m~\\Documents\\Master\\SecondoProgetto\\newtechnowar-webui\\code\\agents\\matchmanager.py\u001b[0m in \u001b[0;36mnextStep\u001b[1;34m(self)\u001b[0m\n\u001b[0;32m    211\u001b[0m         \u001b[1;34m\"\"\"Go to the next step\"\"\"\u001b[0m\u001b[1;33m\u001b[0m\u001b[1;33m\u001b[0m\u001b[0m\n\u001b[0;32m    212\u001b[0m         \u001b[0mlogging\u001b[0m\u001b[1;33m.\u001b[0m\u001b[0mdebug\u001b[0m\u001b[1;33m(\u001b[0m\u001b[1;34m'next: step'\u001b[0m\u001b[1;33m)\u001b[0m\u001b[1;33m\u001b[0m\u001b[1;33m\u001b[0m\u001b[0m\n\u001b[1;32m--> 213\u001b[1;33m         \u001b[0mself\u001b[0m\u001b[1;33m.\u001b[0m\u001b[0mstep\u001b[0m\u001b[1;33m(\u001b[0m\u001b[1;33m)\u001b[0m\u001b[1;33m\u001b[0m\u001b[1;33m\u001b[0m\u001b[0m\n\u001b[0m\u001b[0;32m    214\u001b[0m \u001b[1;33m\u001b[0m\u001b[0m\n\u001b[0;32m    215\u001b[0m     \u001b[1;32mdef\u001b[0m \u001b[0mnextTurn\u001b[0m\u001b[1;33m(\u001b[0m\u001b[0mself\u001b[0m\u001b[1;33m)\u001b[0m\u001b[1;33m:\u001b[0m\u001b[1;33m\u001b[0m\u001b[1;33m\u001b[0m\u001b[0m\n",
      "\u001b[1;32m~\\Documents\\Master\\SecondoProgetto\\newtechnowar-webui\\code\\agents\\matchmanager.py\u001b[0m in \u001b[0;36m_goRound\u001b[1;34m(self)\u001b[0m\n\u001b[0;32m    119\u001b[0m \u001b[1;33m\u001b[0m\u001b[0m\n\u001b[0;32m    120\u001b[0m         \u001b[1;32mtry\u001b[0m\u001b[1;33m:\u001b[0m\u001b[1;33m\u001b[0m\u001b[1;33m\u001b[0m\u001b[0m\n\u001b[1;32m--> 121\u001b[1;33m             \u001b[0maction\u001b[0m \u001b[1;33m=\u001b[0m \u001b[0mself\u001b[0m\u001b[1;33m.\u001b[0m\u001b[0mfirst\u001b[0m\u001b[1;33m.\u001b[0m\u001b[0mchooseAction\u001b[0m\u001b[1;33m(\u001b[0m\u001b[0mself\u001b[0m\u001b[1;33m.\u001b[0m\u001b[0mboard\u001b[0m\u001b[1;33m,\u001b[0m \u001b[0mself\u001b[0m\u001b[1;33m.\u001b[0m\u001b[0mstate\u001b[0m\u001b[1;33m)\u001b[0m\u001b[1;33m\u001b[0m\u001b[1;33m\u001b[0m\u001b[0m\n\u001b[0m\u001b[0;32m    122\u001b[0m             \u001b[0moutcome\u001b[0m \u001b[1;33m=\u001b[0m \u001b[0mGM\u001b[0m\u001b[1;33m.\u001b[0m\u001b[0mstep\u001b[0m\u001b[1;33m(\u001b[0m\u001b[0mself\u001b[0m\u001b[1;33m.\u001b[0m\u001b[0mboard\u001b[0m\u001b[1;33m,\u001b[0m \u001b[0mself\u001b[0m\u001b[1;33m.\u001b[0m\u001b[0mstate\u001b[0m\u001b[1;33m,\u001b[0m \u001b[0maction\u001b[0m\u001b[1;33m)\u001b[0m\u001b[1;33m\u001b[0m\u001b[1;33m\u001b[0m\u001b[0m\n\u001b[0;32m    123\u001b[0m \u001b[1;33m\u001b[0m\u001b[0m\n",
      "\u001b[1;32m~\\Documents\\Master\\SecondoProgetto\\newtechnowar-webui\\code\\agents\\ml\\regressor.py\u001b[0m in \u001b[0;36mchooseAction\u001b[1;34m(self, board, state)\u001b[0m\n\u001b[0;32m     98\u001b[0m             \u001b[0mactions\u001b[0m \u001b[1;33m=\u001b[0m \u001b[1;33m[\u001b[0m\u001b[0mGM\u001b[0m\u001b[1;33m.\u001b[0m\u001b[0mactionPassFigure\u001b[0m\u001b[1;33m(\u001b[0m\u001b[0mfigure\u001b[0m\u001b[1;33m)\u001b[0m\u001b[1;33m]\u001b[0m \u001b[1;33m+\u001b[0m\u001b[0;31m \u001b[0m\u001b[0;31m\\\u001b[0m\u001b[1;33m\u001b[0m\u001b[1;33m\u001b[0m\u001b[0m\n\u001b[0;32m     99\u001b[0m                       \u001b[0mGM\u001b[0m\u001b[1;33m.\u001b[0m\u001b[0mbuildAttacks\u001b[0m\u001b[1;33m(\u001b[0m\u001b[0mboard\u001b[0m\u001b[1;33m,\u001b[0m \u001b[0mstate\u001b[0m\u001b[1;33m,\u001b[0m \u001b[0mfigure\u001b[0m\u001b[1;33m)\u001b[0m \u001b[1;33m+\u001b[0m\u001b[0;31m \u001b[0m\u001b[0;31m\\\u001b[0m\u001b[1;33m\u001b[0m\u001b[1;33m\u001b[0m\u001b[0m\n\u001b[1;32m--> 100\u001b[1;33m                       \u001b[0mGM\u001b[0m\u001b[1;33m.\u001b[0m\u001b[0mbuildMovements\u001b[0m\u001b[1;33m(\u001b[0m\u001b[0mboard\u001b[0m\u001b[1;33m,\u001b[0m \u001b[0mstate\u001b[0m\u001b[1;33m,\u001b[0m \u001b[0mfigure\u001b[0m\u001b[1;33m)\u001b[0m\u001b[1;33m\u001b[0m\u001b[1;33m\u001b[0m\u001b[0m\n\u001b[0m\u001b[0;32m    101\u001b[0m             \u001b[1;32mfor\u001b[0m \u001b[0maction\u001b[0m \u001b[1;32min\u001b[0m \u001b[0mactions\u001b[0m\u001b[1;33m:\u001b[0m\u001b[1;33m\u001b[0m\u001b[1;33m\u001b[0m\u001b[0m\n\u001b[0;32m    102\u001b[0m                 \u001b[0mnewState\u001b[0m\u001b[1;33m,\u001b[0m \u001b[0moutcome\u001b[0m \u001b[1;33m=\u001b[0m \u001b[0mGM\u001b[0m\u001b[1;33m.\u001b[0m\u001b[0mactivate\u001b[0m\u001b[1;33m(\u001b[0m\u001b[0mboard\u001b[0m\u001b[1;33m,\u001b[0m \u001b[0mstate\u001b[0m\u001b[1;33m,\u001b[0m \u001b[0maction\u001b[0m\u001b[1;33m)\u001b[0m\u001b[1;33m\u001b[0m\u001b[1;33m\u001b[0m\u001b[0m\n",
      "\u001b[1;32m~\\Documents\\Master\\SecondoProgetto\\newtechnowar-webui\\code\\core\\game\\manager.py\u001b[0m in \u001b[0;36mbuildMovements\u001b[1;34m(self, board, state, figure)\u001b[0m\n\u001b[0;32m     77\u001b[0m         \u001b[0mdistance\u001b[0m \u001b[1;33m=\u001b[0m \u001b[0mfigure\u001b[0m\u001b[1;33m.\u001b[0m\u001b[0mmove\u001b[0m \u001b[1;33m-\u001b[0m \u001b[0mfigure\u001b[0m\u001b[1;33m.\u001b[0m\u001b[0mload\u001b[0m\u001b[1;33m\u001b[0m\u001b[1;33m\u001b[0m\u001b[0m\n\u001b[0;32m     78\u001b[0m \u001b[1;33m\u001b[0m\u001b[0m\n\u001b[1;32m---> 79\u001b[1;33m         \u001b[0m_\u001b[0m\u001b[1;33m,\u001b[0m \u001b[0mmovements\u001b[0m \u001b[1;33m=\u001b[0m \u001b[0mreachablePath\u001b[0m\u001b[1;33m(\u001b[0m\u001b[0mfigure\u001b[0m\u001b[1;33m,\u001b[0m \u001b[0mboard\u001b[0m\u001b[1;33m,\u001b[0m \u001b[0mstate\u001b[0m\u001b[1;33m,\u001b[0m \u001b[0mdistance\u001b[0m\u001b[1;33m)\u001b[0m\u001b[1;33m\u001b[0m\u001b[1;33m\u001b[0m\u001b[0m\n\u001b[0m\u001b[0;32m     80\u001b[0m \u001b[1;33m\u001b[0m\u001b[0m\n\u001b[0;32m     81\u001b[0m         \u001b[0mmoves\u001b[0m \u001b[1;33m=\u001b[0m \u001b[1;33m[\u001b[0m\u001b[1;33m]\u001b[0m\u001b[1;33m\u001b[0m\u001b[1;33m\u001b[0m\u001b[0m\n",
      "\u001b[1;32m~\\Documents\\Master\\SecondoProgetto\\newtechnowar-webui\\code\\core\\game\\pathfinding.py\u001b[0m in \u001b[0;36mreachablePath\u001b[1;34m(figure, board, state, max_cost)\u001b[0m\n\u001b[0;32m     30\u001b[0m         \u001b[0mvisited\u001b[0m\u001b[1;33m.\u001b[0m\u001b[0madd\u001b[0m\u001b[1;33m(\u001b[0m\u001b[0mcurrent\u001b[0m\u001b[1;33m)\u001b[0m\u001b[1;33m\u001b[0m\u001b[1;33m\u001b[0m\u001b[0m\n\u001b[0;32m     31\u001b[0m \u001b[1;33m\u001b[0m\u001b[0m\n\u001b[1;32m---> 32\u001b[1;33m         \u001b[1;32mfor\u001b[0m \u001b[0mnext\u001b[0m \u001b[1;32min\u001b[0m \u001b[0mboard\u001b[0m\u001b[1;33m.\u001b[0m\u001b[0mgetNeighbors\u001b[0m\u001b[1;33m(\u001b[0m\u001b[0mcurrent\u001b[0m\u001b[1;33m)\u001b[0m\u001b[1;33m:\u001b[0m\u001b[1;33m\u001b[0m\u001b[1;33m\u001b[0m\u001b[0m\n\u001b[0m\u001b[0;32m     33\u001b[0m             \u001b[0mnew_cost\u001b[0m \u001b[1;33m=\u001b[0m \u001b[0mcost_so_far\u001b[0m\u001b[1;33m[\u001b[0m\u001b[0mcurrent\u001b[0m\u001b[1;33m]\u001b[0m \u001b[1;33m+\u001b[0m \u001b[0mboard\u001b[0m\u001b[1;33m.\u001b[0m\u001b[0mgetMovementCost\u001b[0m\u001b[1;33m(\u001b[0m\u001b[0mnext\u001b[0m\u001b[1;33m,\u001b[0m \u001b[0mfigure\u001b[0m\u001b[1;33m.\u001b[0m\u001b[0mkind\u001b[0m\u001b[1;33m)\u001b[0m \u001b[1;33m+\u001b[0m \u001b[0mstate\u001b[0m\u001b[1;33m.\u001b[0m\u001b[0mgetMovementCost\u001b[0m\u001b[1;33m(\u001b[0m\u001b[0mnext\u001b[0m\u001b[1;33m)\u001b[0m\u001b[1;33m\u001b[0m\u001b[1;33m\u001b[0m\u001b[0m\n\u001b[0;32m     34\u001b[0m \u001b[1;33m\u001b[0m\u001b[0m\n",
      "\u001b[1;32m~\\Documents\\Master\\SecondoProgetto\\newtechnowar-webui\\code\\core\\game\\board.py\u001b[0m in \u001b[0;36mgetNeighbors\u001b[1;34m(self, position)\u001b[0m\n\u001b[0;32m    104\u001b[0m     \u001b[1;32mdef\u001b[0m \u001b[0mgetNeighbors\u001b[0m\u001b[1;33m(\u001b[0m\u001b[0mself\u001b[0m\u001b[1;33m,\u001b[0m \u001b[0mposition\u001b[0m\u001b[1;33m:\u001b[0m \u001b[0mCube\u001b[0m\u001b[1;33m)\u001b[0m\u001b[1;33m:\u001b[0m\u001b[1;33m\u001b[0m\u001b[1;33m\u001b[0m\u001b[0m\n\u001b[0;32m    105\u001b[0m         \u001b[1;34m\"\"\"Returns all the neighbors of the given position.\"\"\"\u001b[0m\u001b[1;33m\u001b[0m\u001b[1;33m\u001b[0m\u001b[0m\n\u001b[1;32m--> 106\u001b[1;33m         \u001b[1;32mreturn\u001b[0m \u001b[1;33m[\u001b[0m\u001b[0mn\u001b[0m \u001b[1;32mfor\u001b[0m \u001b[0mn\u001b[0m \u001b[1;32min\u001b[0m \u001b[0mcube_neighbor\u001b[0m\u001b[1;33m(\u001b[0m\u001b[0mposition\u001b[0m\u001b[1;33m)\u001b[0m \u001b[1;32mif\u001b[0m \u001b[0mn\u001b[0m \u001b[1;32mnot\u001b[0m \u001b[1;32min\u001b[0m \u001b[0mself\u001b[0m\u001b[1;33m.\u001b[0m\u001b[0mlimits\u001b[0m\u001b[1;33m]\u001b[0m\u001b[1;33m\u001b[0m\u001b[1;33m\u001b[0m\u001b[0m\n\u001b[0m\u001b[0;32m    107\u001b[0m \u001b[1;33m\u001b[0m\u001b[0m\n\u001b[0;32m    108\u001b[0m     \u001b[1;32mdef\u001b[0m \u001b[0mgetMovementCost\u001b[0m\u001b[1;33m(\u001b[0m\u001b[0mself\u001b[0m\u001b[1;33m,\u001b[0m \u001b[0mpos\u001b[0m\u001b[1;33m:\u001b[0m \u001b[0mCube\u001b[0m\u001b[1;33m,\u001b[0m \u001b[0mkind\u001b[0m\u001b[1;33m:\u001b[0m \u001b[0mint\u001b[0m\u001b[1;33m)\u001b[0m\u001b[1;33m:\u001b[0m\u001b[1;33m\u001b[0m\u001b[1;33m\u001b[0m\u001b[0m\n",
      "\u001b[1;32m~\\Documents\\Master\\SecondoProgetto\\newtechnowar-webui\\code\\utils\\coordinates.py\u001b[0m in \u001b[0;36mcube_neighbor\u001b[1;34m(cube)\u001b[0m\n\u001b[0;32m    112\u001b[0m \u001b[1;33m\u001b[0m\u001b[0m\n\u001b[0;32m    113\u001b[0m \u001b[1;32mdef\u001b[0m \u001b[0mcube_neighbor\u001b[0m\u001b[1;33m(\u001b[0m\u001b[0mcube\u001b[0m\u001b[1;33m:\u001b[0m \u001b[0mCube\u001b[0m\u001b[1;33m)\u001b[0m \u001b[1;33m->\u001b[0m \u001b[0mlist\u001b[0m\u001b[1;33m:\u001b[0m\u001b[1;33m\u001b[0m\u001b[1;33m\u001b[0m\u001b[0m\n\u001b[1;32m--> 114\u001b[1;33m     \u001b[1;32mreturn\u001b[0m \u001b[1;33m[\u001b[0m\u001b[0mcube_add\u001b[0m\u001b[1;33m(\u001b[0m\u001b[0mcube\u001b[0m\u001b[1;33m,\u001b[0m \u001b[0mdirection\u001b[0m\u001b[1;33m)\u001b[0m \u001b[1;32mfor\u001b[0m \u001b[0mdirection\u001b[0m \u001b[1;32min\u001b[0m \u001b[0mcube_directions\u001b[0m\u001b[1;33m]\u001b[0m\u001b[1;33m\u001b[0m\u001b[1;33m\u001b[0m\u001b[0m\n\u001b[0m\u001b[0;32m    115\u001b[0m \u001b[1;33m\u001b[0m\u001b[0m\n\u001b[0;32m    116\u001b[0m \u001b[1;33m\u001b[0m\u001b[0m\n",
      "\u001b[1;32m~\\Documents\\Master\\SecondoProgetto\\newtechnowar-webui\\code\\utils\\coordinates.py\u001b[0m in \u001b[0;36m<listcomp>\u001b[1;34m(.0)\u001b[0m\n\u001b[0;32m    112\u001b[0m \u001b[1;33m\u001b[0m\u001b[0m\n\u001b[0;32m    113\u001b[0m \u001b[1;32mdef\u001b[0m \u001b[0mcube_neighbor\u001b[0m\u001b[1;33m(\u001b[0m\u001b[0mcube\u001b[0m\u001b[1;33m:\u001b[0m \u001b[0mCube\u001b[0m\u001b[1;33m)\u001b[0m \u001b[1;33m->\u001b[0m \u001b[0mlist\u001b[0m\u001b[1;33m:\u001b[0m\u001b[1;33m\u001b[0m\u001b[1;33m\u001b[0m\u001b[0m\n\u001b[1;32m--> 114\u001b[1;33m     \u001b[1;32mreturn\u001b[0m \u001b[1;33m[\u001b[0m\u001b[0mcube_add\u001b[0m\u001b[1;33m(\u001b[0m\u001b[0mcube\u001b[0m\u001b[1;33m,\u001b[0m \u001b[0mdirection\u001b[0m\u001b[1;33m)\u001b[0m \u001b[1;32mfor\u001b[0m \u001b[0mdirection\u001b[0m \u001b[1;32min\u001b[0m \u001b[0mcube_directions\u001b[0m\u001b[1;33m]\u001b[0m\u001b[1;33m\u001b[0m\u001b[1;33m\u001b[0m\u001b[0m\n\u001b[0m\u001b[0;32m    115\u001b[0m \u001b[1;33m\u001b[0m\u001b[0m\n\u001b[0;32m    116\u001b[0m \u001b[1;33m\u001b[0m\u001b[0m\n",
      "\u001b[1;32m~\\Documents\\Master\\SecondoProgetto\\newtechnowar-webui\\code\\utils\\coordinates.py\u001b[0m in \u001b[0;36mcube_add\u001b[1;34m(a, b)\u001b[0m\n\u001b[0;32m     61\u001b[0m     \u001b[0my\u001b[0m \u001b[1;33m=\u001b[0m \u001b[0ma\u001b[0m\u001b[1;33m.\u001b[0m\u001b[0my\u001b[0m \u001b[1;33m+\u001b[0m \u001b[0mb\u001b[0m\u001b[1;33m.\u001b[0m\u001b[0my\u001b[0m\u001b[1;33m\u001b[0m\u001b[1;33m\u001b[0m\u001b[0m\n\u001b[0;32m     62\u001b[0m     \u001b[0mz\u001b[0m \u001b[1;33m=\u001b[0m \u001b[0ma\u001b[0m\u001b[1;33m.\u001b[0m\u001b[0mz\u001b[0m \u001b[1;33m+\u001b[0m \u001b[0mb\u001b[0m\u001b[1;33m.\u001b[0m\u001b[0mz\u001b[0m\u001b[1;33m\u001b[0m\u001b[1;33m\u001b[0m\u001b[0m\n\u001b[1;32m---> 63\u001b[1;33m     \u001b[1;32mreturn\u001b[0m \u001b[0mCube\u001b[0m\u001b[1;33m(\u001b[0m\u001b[0mx\u001b[0m\u001b[1;33m,\u001b[0m \u001b[0my\u001b[0m\u001b[1;33m,\u001b[0m \u001b[0mz\u001b[0m\u001b[1;33m)\u001b[0m\u001b[1;33m\u001b[0m\u001b[1;33m\u001b[0m\u001b[0m\n\u001b[0m\u001b[0;32m     64\u001b[0m \u001b[1;33m\u001b[0m\u001b[0m\n\u001b[0;32m     65\u001b[0m \u001b[1;33m\u001b[0m\u001b[0m\n",
      "\u001b[1;31mKeyboardInterrupt\u001b[0m: "
     ]
    }
   ],
   "source": [
    "dfs=[]\n",
    "for i in range(1):\n",
    "    board, state = scenarioJunction()\n",
    "    playerRed = RegressorAgent(RED, {'scenario': board.name, 'model': 'RandomForestRegressor','color':'red'})\n",
    "    playerBlue = RegressorAgent(BLUE, {'scenario': board.name, 'model': 'RandomForestRegressor','color':'blue'})\n",
    "    mm = MatchManager(' ', playerRed, playerBlue, board, state, seed=42)\n",
    "    while not mm.end:\n",
    "        mm.nextStep()\n",
    "    dfs.append(playerBlue.createDf(i))\n",
    "    dfs.append(playerRed.createDf(i))\n",
    "df=pd.concat(dfs)"
   ]
  },
  {
   "cell_type": "code",
   "execution_count": null,
   "metadata": {},
   "outputs": [],
   "source": [
    "df"
   ]
  },
  {
   "cell_type": "code",
   "execution_count": 5,
   "metadata": {},
   "outputs": [
    {
     "name": "stdout",
     "output_type": "stream",
     "text": [
      "BEST ACTION RED  : rTank3    : Moved to (22, 36)\n",
      "BEST RESPONSE BLUE : bInf1     : Attack rTank3 with Anti-tank weapon in response\n",
      "BEST ACTION BLUE : bInf2     : Attack rInf3 with Mortar\n",
      "BEST RESPONSE RED  : Pass in response\n"
     ]
    },
    {
     "name": "stderr",
     "output_type": "stream",
     "text": [
      "C:\\Users\\Nicol\\Documents\\Master\\SecondoProgetto\\newtechnowar-webui\\code\\agents\\ml\\simple.py:47: RuntimeWarning: invalid value encountered in true_divide\n",
      "  return -(norm * np.log(norm) / np.log(len(scores))).sum()\n"
     ]
    },
    {
     "name": "stdout",
     "output_type": "stream",
     "text": [
      "BEST ACTION RED  : rInf4     : Attack bInf1 with Mortar\n",
      "BEST RESPONSE BLUE : Pass in response\n",
      "BEST ACTION BLUE : bInf1     : Attack rInf4 with Mortar\n"
     ]
    }
   ],
   "source": [
    "dfs=[]\n",
    "for i in range(1):\n",
    "    board, state = scenarioJunction()\n",
    "    playerRed = SimpleMLAgent(RED, {'scenario': board.name, 'model': 'RandomForestClassifier'})\n",
    "    playerBlue = SimpleMLAgent(BLUE, {'scenario': board.name, 'model': 'RandomForestClassifier'})\n",
    "    mm = MatchManager(' ', playerRed, playerBlue, board, state, seed=42)\n",
    "    while not mm.end:\n",
    "        mm.nextStep()\n",
    "    dfs.append(playerBlue.createDf(i))\n",
    "    dfs.append(playerRed.createDf(i))\n",
    "df=pd.concat(dfs)"
   ]
  },
  {
   "cell_type": "code",
   "execution_count": null,
   "metadata": {},
   "outputs": [],
   "source": [
    "df"
   ]
  },
  {
   "cell_type": "markdown",
   "metadata": {},
   "source": [
    "# Traiettoria probabilità"
   ]
  },
  {
   "cell_type": "code",
   "execution_count": null,
   "metadata": {
    "scrolled": false
   },
   "outputs": [],
   "source": [
    "boxplot=df.boxplot(column=['Probabilità', 'Entropia'],by='Agente')"
   ]
  },
  {
   "cell_type": "code",
   "execution_count": null,
   "metadata": {},
   "outputs": [],
   "source": [
    "boxplot=df.boxplot(column=['Probabilità', 'Entropia'],by='Numero Partita')"
   ]
  },
  {
   "cell_type": "code",
   "execution_count": null,
   "metadata": {},
   "outputs": [],
   "source": [
    "boxplot=df.boxplot(column=['Probabilità', 'Entropia'],by=['Numero Partita','Agente'])"
   ]
  },
  {
   "cell_type": "code",
   "execution_count": null,
   "metadata": {},
   "outputs": [],
   "source": []
  },
  {
   "cell_type": "code",
   "execution_count": null,
   "metadata": {},
   "outputs": [],
   "source": [
    "boxplot=df[df['Numero Partita']==0].boxplot(column=['Entropia'],by=['Agente'])"
   ]
  },
  {
   "cell_type": "code",
   "execution_count": null,
   "metadata": {},
   "outputs": [],
   "source": [
    "df"
   ]
  },
  {
   "cell_type": "code",
   "execution_count": null,
   "metadata": {},
   "outputs": [],
   "source": [
    "df['index']=df.index"
   ]
  },
  {
   "cell_type": "code",
   "execution_count": null,
   "metadata": {},
   "outputs": [],
   "source": [
    "plot=df.groupby('Agente').plot.scatter(x='Count',y='Entropia')"
   ]
  },
  {
   "cell_type": "code",
   "execution_count": null,
   "metadata": {},
   "outputs": [],
   "source": [
    "plot=df.plot.scatter(x='Count',y='Entropia',c='Agente')"
   ]
  },
  {
   "cell_type": "code",
   "execution_count": null,
   "metadata": {},
   "outputs": [],
   "source": [
    "plot=df.groupby('Agente').plot.line(x='Count',y='Entropia',style='-o')"
   ]
  },
  {
   "cell_type": "markdown",
   "metadata": {},
   "source": [
    "# Analisi features dataframe"
   ]
  },
  {
   "cell_type": "code",
   "execution_count": null,
   "metadata": {},
   "outputs": [],
   "source": [
    "def random_forest(df):\n",
    "    f_select=[]\n",
    "   \n",
    "    X = df.drop('winner',1)\n",
    "    y = df['winner'].values\n",
    "\n",
    "    X_train, X_test, y_train, y_test = train_test_split(X, y, test_size=0.3)\n",
    "\n",
    "    clf = RandomForestClassifier(n_estimators=100)\n",
    "\n",
    "    clf.fit(X_train, y_train)\n",
    "\n",
    "    y_pred = clf.predict(X_test)\n",
    "    proba = clf.predict_proba(X_test)\n",
    "    proba = np.around(proba, decimals=2)\n",
    "\n",
    "\n",
    "    print(confusion_matrix(y_test, y_pred))\n",
    "    print(classification_report(y_test, y_pred))\n",
    "    print(\"Accuracy:\", metrics.accuracy_score(y_test, y_pred))\n",
    "\n",
    "    # feature importanti per determinarlo\n",
    "    feature_imp = pd.Series(clf.feature_importances_, index=X.columns).sort_values(ascending=False)\n",
    "    print('Feature importance:\\n', feature_imp)\n",
    "    f_selection=feature_imp[(feature_imp>0.005)]\n",
    "    print('Feature selection:\\n',f_selection)\n",
    "            \n",
    "        \n",
    "    # Creating a bar plot\n",
    "    sns.barplot(x=f_selection, y=f_selection.index)\n",
    "    # Add labels to your graph\n",
    "    plt.xlabel('Feature Importance Score')\n",
    "    plt.ylabel('Features')\n",
    "    plt.title(\"Visualizing Important Features\")\n",
    "    plt.legend()\n",
    "    plt.show()\n",
    "    #return X_test, y_test, y_pred, proba\n"
   ]
  },
  {
   "cell_type": "code",
   "execution_count": null,
   "metadata": {},
   "outputs": [],
   "source": [
    "def feature_importance(df):\n",
    "    X = df.drop('winner',1)\n",
    "    y = df['winner'].values    \n",
    "\n",
    "    model = ExtraTreesClassifier()\n",
    "    model.fit(X,y)\n",
    "    #print(model.feature_importances_) #use inbuilt class feature_importances of tree based classifiers\n",
    "    #plot graph of feature importances for better visualization\n",
    "    feat_importances = pd.Series(model.feature_importances_, index=X.columns)\n",
    "    feat_importances.nlargest(10).plot(kind='barh')\n",
    "    plt.show()"
   ]
  },
  {
   "cell_type": "code",
   "execution_count": null,
   "metadata": {},
   "outputs": [],
   "source": [
    "def selectfrommodel(df):\n",
    "    X = df.drop('winner',1)\n",
    "    y = df['winner'].values\n",
    "\n",
    "    feature_names = X.columns\n",
    "    #print(feature_names)\n",
    "    clf = LassoCV().fit(X, y)\n",
    "    importance = np.abs(clf.coef_)\n",
    "    #print(importance)\n",
    "    idx_third = importance.argsort()[-3]\n",
    "    threshold = importance[idx_third] + 0.01\n",
    "\n",
    "    idx_features = (-importance).argsort()[:5]\n",
    "    name_features = np.array(feature_names)[idx_features]\n",
    "    print('Selected features: {}'.format(name_features))\n"
   ]
  },
  {
   "cell_type": "code",
   "execution_count": null,
   "metadata": {
    "scrolled": false
   },
   "outputs": [],
   "source": [
    "dataframes = {\"Junction\": \"../../data.scenarioJunction.pkl.gz\",\n",
    "              \"JunctionExo\": \"../../data.scenarioJunctionExo.pkl.gz\",\n",
    "              \"Test1v1\": \"../../../data.2020-11-09.scenarioTest1v1.pkl.gz\",\n",
    "              \"Test2v2\": \"../../../data.2020-11-09.scenarioTest2v2.pkl.gz\"}\n",
    "pilots = [\"Junction\", \"JunctionExo\"]\n",
    "\n",
    "for p in pilots:\n",
    "    df = pd.read_pickle(dataframes[p])\n",
    "    df = df.loc[((df.meta_p_red == \"GreedyAgent\") & (df.meta_p_blue == \"GreedyAgent\"))]\n",
    "    c=df.select_dtypes(include='object').columns.tolist()\n",
    "    le = preprocessing.LabelEncoder()\n",
    "    df[c] = df[c].apply(lambda col: le.fit_transform(col))\n",
    "    random_forest(df)"
   ]
  },
  {
   "cell_type": "code",
   "execution_count": null,
   "metadata": {},
   "outputs": [],
   "source": []
  },
  {
   "cell_type": "code",
   "execution_count": null,
   "metadata": {},
   "outputs": [],
   "source": []
  },
  {
   "cell_type": "code",
   "execution_count": null,
   "metadata": {},
   "outputs": [],
   "source": [
    "from core import GM\n",
    "from core.actions import Action\n",
    "from core.game.board import GameBoard\n",
    "from core.game.state import GameState\n",
    "from agents import Agent, GreedyAgent\n",
    "import numpy as np\n",
    "from core.const import RED, BLUE\n",
    "import pandas as pd\n",
    "import os.path as op\n",
    "\n",
    "import joblib"
   ]
  },
  {
   "cell_type": "code",
   "execution_count": null,
   "metadata": {},
   "outputs": [],
   "source": [
    "vectors=[]\n",
    "v = list(createDf(bs,ba,scores))\n",
    "vectors.append(v)\n",
    "\n",
    "\n",
    "\n",
    "cols = list(createDf_info()) \n",
    "\n",
    "df = pd.DataFrame(data=vectors, columns=cols)\n"
   ]
  },
  {
   "cell_type": "code",
   "execution_count": null,
   "metadata": {},
   "outputs": [],
   "source": [
    "bs,ba=bestAction(scores)"
   ]
  },
  {
   "cell_type": "code",
   "execution_count": null,
   "metadata": {},
   "outputs": [],
   "source": [
    "model=joblib.load('C:\\\\Users\\\\Nicol\\\\Documents\\\\Master\\\\SecondoProgetto\\\\newtechnowar-webui\\\\code\\\\modelsRegressor\\\\Junction_RandomForestRegressor_blue.joblib')"
   ]
  },
  {
   "cell_type": "code",
   "execution_count": null,
   "metadata": {},
   "outputs": [],
   "source": [
    "    def dfColor(df, color):\n",
    "        df_new = df[[c for c in df.columns if color in c]]\n",
    "        return df_new"
   ]
  },
  {
   "cell_type": "code",
   "execution_count": null,
   "metadata": {},
   "outputs": [],
   "source": [
    "scores = []\n",
    "\n",
    "for figure in state.getFiguresCanBeActivated(BLUE):\n",
    "    actions = [GM.actionPassFigure(figure)] + \\\n",
    "              GM.buildAttacks(board, state, figure) + \\\n",
    "              GM.buildMovements(board, state, figure)\n",
    "    for action in actions:\n",
    "        newState, outcome = GM.activate(board, state, action)\n",
    "\n",
    "        X = np.array(newState.vector()).reshape(1, -1)\n",
    "        cols = newState.vectorInfo()\n",
    "        df = pd.DataFrame(data=X, columns=cols)\n",
    "        df = dfColor(df,BLUE)\n",
    "\n",
    "\n",
    "        # score = self.model.predict_proba(df)\n",
    "        score = model.predict(df)\n",
    "\n",
    "        scores.append((score, action))"
   ]
  },
  {
   "cell_type": "code",
   "execution_count": null,
   "metadata": {},
   "outputs": [],
   "source": [
    "scores[0][1]"
   ]
  },
  {
   "cell_type": "code",
   "execution_count": null,
   "metadata": {},
   "outputs": [],
   "source": [
    "def bestScore(scores: list):\n",
    "        bestScore, bestAction = 0.0, None\n",
    "\n",
    "        for probs, action in scores:\n",
    "            if probs >= bestScore:\n",
    "                bestScore, bestAction = probs, action\n",
    "\n",
    "        return bestScore, bestAction"
   ]
  },
  {
   "cell_type": "code",
   "execution_count": null,
   "metadata": {},
   "outputs": [],
   "source": [
    "sorted_multi_list = sorted(scores, key=lambda x: x[0][0])\n"
   ]
  },
  {
   "cell_type": "code",
   "execution_count": null,
   "metadata": {},
   "outputs": [],
   "source": [
    "sorted_multi_list"
   ]
  },
  {
   "cell_type": "code",
   "execution_count": null,
   "metadata": {},
   "outputs": [],
   "source": [
    "choice = random.choice(sorted_multi_list[:10])\n"
   ]
  },
  {
   "cell_type": "code",
   "execution_count": null,
   "metadata": {},
   "outputs": [],
   "source": [
    "choice[1]"
   ]
  },
  {
   "cell_type": "code",
   "execution_count": null,
   "metadata": {},
   "outputs": [],
   "source": [
    "    def bestScoreRandom(scores: list) -> Action:\n",
    "        set1 = 10\n",
    "        bestScore, bestAction = 0.0, None\n",
    "        if len(scores) != 0:\n",
    "            sorted_multi_list = sorted(scores, key=lambda x: x[0][0])\n",
    "            # questo sorted mi occupa moooolto tempo, si può fare altro modo?\n",
    "            choice = random.choice(sorted_multi_list[:set1])\n",
    "            bestScore = choice[0][0]\n",
    "            bestAction = choice[1]\n",
    "        return bestScore, bestAction"
   ]
  },
  {
   "cell_type": "code",
   "execution_count": null,
   "metadata": {},
   "outputs": [],
   "source": [
    "bestscore, bestaction = bestScore(scores)"
   ]
  },
  {
   "cell_type": "code",
   "execution_count": null,
   "metadata": {},
   "outputs": [],
   "source": [
    "bestscore1, bestaction1 = bestScoreRandom(scores)"
   ]
  },
  {
   "cell_type": "code",
   "execution_count": null,
   "metadata": {},
   "outputs": [],
   "source": [
    "bestscore1"
   ]
  },
  {
   "cell_type": "code",
   "execution_count": null,
   "metadata": {},
   "outputs": [],
   "source": [
    "def entropyRegressor(scores: list):\n",
    "    probs=[i[0][0] for i in scores]\n",
    "    res = [ele for ele in probs if ele > 0]\n",
    "    if any(res):\n",
    "        norm = [float(i) / sum(res) for i in res]\n",
    "        return -(norm * np.log(norm) / np.log(len(res))).sum()\n",
    "    else:\n",
    "        return 0\n",
    "    # ritorna il valore di entropia di tutte le probabilità"
   ]
  },
  {
   "cell_type": "code",
   "execution_count": null,
   "metadata": {},
   "outputs": [],
   "source": [
    "scores = []\n",
    "\n",
    "for figure in state.getFiguresCanBeActivated(BLUE):\n",
    "    actions = [GM.actionPassResponse(BLUE)] + \\\n",
    "              GM.buildResponses(board, state, figure)\n",
    "    for action in actions:\n",
    "\n",
    "        newState, outcome = GM.activate(board, state, action)\n",
    "\n",
    "        X = np.array(newState.vector()).reshape(1, -1)\n",
    "        cols = newState.vectorInfo()\n",
    "        df = pd.DataFrame(data=X, columns=cols)\n",
    "        df = dfColor(df,BLUE)\n",
    "\n",
    "\n",
    "        # score = self.model.predict_proba(df)\n",
    "        score = model.predict(df)\n",
    "\n",
    "        scores.append((score, action))\n"
   ]
  },
  {
   "cell_type": "code",
   "execution_count": null,
   "metadata": {},
   "outputs": [],
   "source": [
    "scores"
   ]
  },
  {
   "cell_type": "code",
   "execution_count": null,
   "metadata": {},
   "outputs": [],
   "source": [
    "entropyRegressor(scores)"
   ]
  },
  {
   "cell_type": "code",
   "execution_count": null,
   "metadata": {},
   "outputs": [],
   "source": [
    "scores=[]\n",
    "for figure in state.getFiguresCanBeActivated(BLUE):\n",
    "    actions = [GM.actionPassFigure(figure)] + \\\n",
    "              GM.buildAttacks(board, state, figure) + \\\n",
    "              GM.buildMovements(board, state, figure)\n",
    "    for action in actions:\n",
    "        newState, outcome = GM.activate(board, state, action)\n",
    "\n",
    "        X = np.array(newState.vector()).reshape(1, -1)\n",
    "        cols = newState.vectorInfo()\n",
    "        df = pd.DataFrame(data=X, columns=cols)\n",
    "        score = model.predict_proba(df)\n",
    "\n",
    "        scores.append((score, action))"
   ]
  },
  {
   "cell_type": "code",
   "execution_count": null,
   "metadata": {
    "scrolled": false
   },
   "outputs": [],
   "source": [
    "scores"
   ]
  },
  {
   "cell_type": "code",
   "execution_count": null,
   "metadata": {},
   "outputs": [],
   "source": [
    "    def bestAction(scores: list) :\n",
    "        bestScore, bestAction = 0.0, None\n",
    "\n",
    "        for probs, action in scores:\n",
    "            if (BLUE):\n",
    "                #print(\"ok\")\n",
    "                score = probs[0, 0]\n",
    "            else:\n",
    "                #print(\"no\")\n",
    "                score = probs[0, 1]\n",
    "            if score >= bestScore:\n",
    "                bestScore, bestAction = score, action\n",
    "\n",
    "        return bestScore,bestAction"
   ]
  },
  {
   "cell_type": "code",
   "execution_count": null,
   "metadata": {},
   "outputs": [],
   "source": [
    "import random"
   ]
  },
  {
   "cell_type": "code",
   "execution_count": null,
   "metadata": {},
   "outputs": [],
   "source": [
    "    def bestActionRandom(scores: list) -> Action:\n",
    "        bestScore,bestAction = 0.0,None\n",
    "        if (len(scores) != 0):\n",
    "            sorted_multi_list = sorted(scores, key=lambda x: x[0][0][0])\n",
    "            # questo sorted mi occupa moooolto tempo, si può fare altro modo?\n",
    "            if (BLUE):\n",
    "                choice=random.choice(sorted_multi_list[-10:])\n",
    "                bestScore=choice[0][0][0]\n",
    "                bestAction = choice[1]\n",
    "            else:\n",
    "                choice = random.choice(sorted_multi_list[:10])\n",
    "                bestScore = choice[0][0][1]\n",
    "                bestAction = choice[1]\n",
    "        return bestScore,bestAction\n",
    "        \n",
    "    "
   ]
  },
  {
   "cell_type": "code",
   "execution_count": null,
   "metadata": {},
   "outputs": [],
   "source": [
    "    def entropy2(scores: list, prob):\n",
    "        probs = takeProbs(scores)\n",
    "        normprobs = prob / sum(probs)\n",
    "        return -(normprobs * np.log(normprobs) / np.log(len(scores)))\n",
    "    #ritorna valore di entropia della sola probabilità che passo"
   ]
  },
  {
   "cell_type": "code",
   "execution_count": null,
   "metadata": {},
   "outputs": [],
   "source": [
    "    def createDf_info():\n",
    "        info=[\"Agente\",\"Probabilità\",\"Mossa\",\"Entropia\",\"Mosse disponibili\"]\n",
    "        return tuple(info)"
   ]
  },
  {
   "cell_type": "code",
   "execution_count": null,
   "metadata": {},
   "outputs": [],
   "source": [
    "    def createDf(bestscore,bestaction,scores):\n",
    "\n",
    "        data=[\"BLUE\",bestscore,bestaction,entropy2(scores,bestscore),len(scores)]\n",
    "        return tuple(data)"
   ]
  },
  {
   "cell_type": "code",
   "execution_count": null,
   "metadata": {},
   "outputs": [],
   "source": [
    "bestScore, bestAction = 0.0, None\n",
    "#print(sorted(scores, reverse=True))\n",
    "\n",
    "for probs, action in scores:\n",
    "    print(probs)\n",
    "    if (BLUE):\n",
    "        score = probs[0, 0]\n",
    "        print(\"ehi\",score)\n",
    "        print(action)\n",
    "    else:\n",
    "        score = probs[0, 1]\n",
    "        print(score)\n",
    "    if score >= bestScore:\n",
    "        bestScore, bestAction = score, action"
   ]
  },
  {
   "cell_type": "code",
   "execution_count": null,
   "metadata": {},
   "outputs": [],
   "source": []
  },
  {
   "cell_type": "code",
   "execution_count": null,
   "metadata": {},
   "outputs": [],
   "source": [
    "for probs, action in scores:\n",
    "    print(probs[0]) "
   ]
  },
  {
   "cell_type": "code",
   "execution_count": null,
   "metadata": {},
   "outputs": [],
   "source": [
    "    probabilieties=[]\n",
    "    for probs, action in scores:\n",
    "        probabilieties.append(probs[0])  \n",
    "    arr=np.array(probabilieties)\n",
    "    blue_prob=arr[:,0]\n",
    "    norm = [float(i)/sum(blue_prob) for i in blue_prob]\n",
    "    -(norm*np.log(norm)/np.log(len(scores)))\n"
   ]
  },
  {
   "cell_type": "code",
   "execution_count": null,
   "metadata": {},
   "outputs": [],
   "source": [
    "arr[:,1]"
   ]
  },
  {
   "cell_type": "code",
   "execution_count": null,
   "metadata": {},
   "outputs": [],
   "source": [
    "entropy1(scores)"
   ]
  },
  {
   "cell_type": "code",
   "execution_count": null,
   "metadata": {},
   "outputs": [],
   "source": [
    "    def takeProbs(scores: list):\n",
    "        probabilieties = []\n",
    "        if (BLUE):\n",
    "            i = 0\n",
    "        else:\n",
    "            i = 1\n",
    "        for probs, action in scores:\n",
    "            probabilieties.append(probs[0])\n",
    "        arr = np.array(probabilieties)\n",
    "        return arr[:, i]\n",
    "\n",
    "    def entropy1(scores: list):\n",
    "        probs = takeProbs(scores)\n",
    "        norm = [float(i) / sum(probs) for i in probs]\n",
    "        return -(norm * np.log(norm) / np.log(len(scores)))"
   ]
  },
  {
   "cell_type": "code",
   "execution_count": null,
   "metadata": {},
   "outputs": [],
   "source": [
    "entropy1(scores)"
   ]
  },
  {
   "cell_type": "code",
   "execution_count": null,
   "metadata": {},
   "outputs": [],
   "source": [
    "    def entropy2(scores: list, prob):\n",
    "        probs = takeProbs(scores)\n",
    "        print(probs)\n",
    "        normprobs = prob / sum(probs)\n",
    "        return -(normprobs * np.log(normprobs) / np.log(len(scores)))"
   ]
  },
  {
   "cell_type": "code",
   "execution_count": null,
   "metadata": {},
   "outputs": [],
   "source": [
    "entropy2(scores,probs[0][0])"
   ]
  }
 ],
 "metadata": {
  "kernelspec": {
   "display_name": "Python 3",
   "language": "python",
   "name": "python3"
  },
  "language_info": {
   "codemirror_mode": {
    "name": "ipython",
    "version": 3
   },
   "file_extension": ".py",
   "mimetype": "text/x-python",
   "name": "python",
   "nbconvert_exporter": "python",
   "pygments_lexer": "ipython3",
   "version": "3.7.3"
  }
 },
 "nbformat": 4,
 "nbformat_minor": 2
}
