{
 "cells": [
  {
   "cell_type": "code",
   "execution_count": null,
   "metadata": {},
   "outputs": [],
   "source": [
    "import os\n",
    "\n",
    "import numpy as np\n",
    "import pandas as pd\n",
    "import random\n",
    "\n",
    "from agents.matchmanager import buildMatchManager\n",
    "\n",
    "from multiprocessing import Pool\n",
    "from agents.matchmanager import MatchManager\n",
    "\n",
    "from itertools import product\n",
    "\n",
    "from agents import GreedyAgent, AlphaBetaAgent, RandomAgent\n",
    "from scenarios import scenarioJunction, scenarioJunctionExo, scenarioTest1v1, scenarioTest2v2\n",
    "from core.const import RED, BLUE\n",
    "from agents.ml.simple import SimpleMLAgent\n",
    "import json"
   ]
  },
  {
   "cell_type": "code",
   "execution_count": null,
   "metadata": {},
   "outputs": [],
   "source": [
    "def game(args):\n",
    "    i,s,agentRed,agentBlue=args\n",
    "    board, state = s()\n",
    "    if agentRed == SimpleMLAgent and agentBlue == SimpleMLAgent:\n",
    "        playerRed = agentRed(RED, {'scenario': board.name, 'model': 'RandomForestClassifier'})\n",
    "        playerBlue = agentBlue(BLUE, {'scenario': board.name, 'model': 'RandomForestClassifier'})\n",
    "    elif agentRed == SimpleMLAgent and agentBlue != SimpleMLAgent:\n",
    "        playerRed = agentRed(RED, {'scenario': board.name, 'model': 'RandomForestClassifier'})\n",
    "        playerBlue = agentBlue(BLUE)\n",
    "    elif agentBlue == SimpleMLAgent and agentRed != SimpleMLAgent:\n",
    "        playerBlue = agentBlue(BLUE, {'scenario': board.name, 'model': 'RandomForestClassifier'})\n",
    "        playerRed = agentRed(RED)\n",
    "    else:\n",
    "        playerBlue = agentBlue(BLUE)\n",
    "        playerRed = agentRed(RED)\n",
    "    print(playerRed.name)\n",
    "    print(playerBlue.name)\n",
    "    print(board.name)\n",
    "    mm = MatchManager(' ', playerRed, playerBlue, board, state, seed=42 + i)\n",
    "    while not mm.end:\n",
    "        mm.nextStep()\n",
    "    save={\n",
    "        'scenario':board.name,\n",
    "        'seed':42+i,\n",
    "        'teamRed':playerRed.name,\n",
    "        'teamBlue':playerBlue.name,\n",
    "        'winner':mm.winner\n",
    "    }\n",
    "    file_name=f'output/{playerRed.name}_{playerBlue.name}_{board.name}_{i}.json'\n",
    "    print(file_name)\n",
    "    with open(file_name, 'w') as json_file:\n",
    "        json.dump(save, json_file)\n",
    "        #salva le cose su disco!"
   ]
  },
  {
   "cell_type": "code",
   "execution_count": null,
   "metadata": {},
   "outputs": [],
   "source": [
    "agents = [GreedyAgent, SimpleMLAgent, RandomAgent]\n",
    "scenarios = [scenarioTest1v1, scenarioTest2v2, scenarioJunction]\n",
    "args=[]\n",
    "for i in range(0, 100):\n",
    "    for s in scenarios:\n",
    "        for agentRed, agentBlue in product(agents, agents):\n",
    "            args.append((i,s,agentRed,agentBlue))"
   ]
  },
  {
   "cell_type": "code",
   "execution_count": null,
   "metadata": {},
   "outputs": [],
   "source": [
    "with Pool(3) as p:\n",
    "    p.map(game, args)"
   ]
  }
 ],
 "metadata": {
  "kernelspec": {
   "display_name": "Python 3",
   "language": "python",
   "name": "python3"
  },
  "language_info": {
   "codemirror_mode": {
    "name": "ipython",
    "version": 3
   },
   "file_extension": ".py",
   "mimetype": "text/x-python",
   "name": "python",
   "nbconvert_exporter": "python",
   "pygments_lexer": "ipython3",
   "version": "3.7.3"
  }
 },
 "nbformat": 4,
 "nbformat_minor": 2
}
